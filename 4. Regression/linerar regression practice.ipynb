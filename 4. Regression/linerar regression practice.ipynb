{
 "cells": [
  {
   "cell_type": "code",
   "execution_count": 31,
   "metadata": {},
   "outputs": [],
   "source": [
    "import pandas as pd\n",
    "import numpy as np\n",
    "import matplotlib.pyplot as plt\n",
    "import seaborn as sns\n",
    "%matplotlib inline\n",
    "# np.set_printoptions(suppress= True, precision=2)"
   ]
  },
  {
   "cell_type": "code",
   "execution_count": 76,
   "metadata": {},
   "outputs": [
    {
     "data": {
      "text/html": [
       "<div>\n",
       "<style scoped>\n",
       "    .dataframe tbody tr th:only-of-type {\n",
       "        vertical-align: middle;\n",
       "    }\n",
       "\n",
       "    .dataframe tbody tr th {\n",
       "        vertical-align: top;\n",
       "    }\n",
       "\n",
       "    .dataframe thead th {\n",
       "        text-align: right;\n",
       "    }\n",
       "</style>\n",
       "<table border=\"1\" class=\"dataframe\">\n",
       "  <thead>\n",
       "    <tr style=\"text-align: right;\">\n",
       "      <th></th>\n",
       "      <th>Avg. Area Income</th>\n",
       "      <th>Avg. Area House Age</th>\n",
       "      <th>Avg. Area Number of Rooms</th>\n",
       "      <th>Avg. Area Number of Bedrooms</th>\n",
       "      <th>Area Population</th>\n",
       "      <th>Price</th>\n",
       "      <th>Address</th>\n",
       "    </tr>\n",
       "  </thead>\n",
       "  <tbody>\n",
       "    <tr>\n",
       "      <th>0</th>\n",
       "      <td>79545.458574</td>\n",
       "      <td>5.682861</td>\n",
       "      <td>7.009188</td>\n",
       "      <td>4.09</td>\n",
       "      <td>23086.800503</td>\n",
       "      <td>1.059034e+06</td>\n",
       "      <td>208 Michael Ferry Apt. 674\\nLaurabury, NE 3701...</td>\n",
       "    </tr>\n",
       "    <tr>\n",
       "      <th>1</th>\n",
       "      <td>79248.642455</td>\n",
       "      <td>6.002900</td>\n",
       "      <td>6.730821</td>\n",
       "      <td>3.09</td>\n",
       "      <td>40173.072174</td>\n",
       "      <td>1.505891e+06</td>\n",
       "      <td>188 Johnson Views Suite 079\\nLake Kathleen, CA...</td>\n",
       "    </tr>\n",
       "    <tr>\n",
       "      <th>2</th>\n",
       "      <td>61287.067179</td>\n",
       "      <td>5.865890</td>\n",
       "      <td>8.512727</td>\n",
       "      <td>5.13</td>\n",
       "      <td>36882.159400</td>\n",
       "      <td>1.058988e+06</td>\n",
       "      <td>9127 Elizabeth Stravenue\\nDanieltown, WI 06482...</td>\n",
       "    </tr>\n",
       "    <tr>\n",
       "      <th>3</th>\n",
       "      <td>63345.240046</td>\n",
       "      <td>7.188236</td>\n",
       "      <td>5.586729</td>\n",
       "      <td>3.26</td>\n",
       "      <td>34310.242831</td>\n",
       "      <td>1.260617e+06</td>\n",
       "      <td>USS Barnett\\nFPO AP 44820</td>\n",
       "    </tr>\n",
       "    <tr>\n",
       "      <th>4</th>\n",
       "      <td>59982.197226</td>\n",
       "      <td>5.040555</td>\n",
       "      <td>7.839388</td>\n",
       "      <td>4.23</td>\n",
       "      <td>26354.109472</td>\n",
       "      <td>6.309435e+05</td>\n",
       "      <td>USNS Raymond\\nFPO AE 09386</td>\n",
       "    </tr>\n",
       "  </tbody>\n",
       "</table>\n",
       "</div>"
      ],
      "text/plain": [
       "   Avg. Area Income  Avg. Area House Age  Avg. Area Number of Rooms  \\\n",
       "0      79545.458574             5.682861                   7.009188   \n",
       "1      79248.642455             6.002900                   6.730821   \n",
       "2      61287.067179             5.865890                   8.512727   \n",
       "3      63345.240046             7.188236                   5.586729   \n",
       "4      59982.197226             5.040555                   7.839388   \n",
       "\n",
       "   Avg. Area Number of Bedrooms  Area Population         Price  \\\n",
       "0                          4.09     23086.800503  1.059034e+06   \n",
       "1                          3.09     40173.072174  1.505891e+06   \n",
       "2                          5.13     36882.159400  1.058988e+06   \n",
       "3                          3.26     34310.242831  1.260617e+06   \n",
       "4                          4.23     26354.109472  6.309435e+05   \n",
       "\n",
       "                                             Address  \n",
       "0  208 Michael Ferry Apt. 674\\nLaurabury, NE 3701...  \n",
       "1  188 Johnson Views Suite 079\\nLake Kathleen, CA...  \n",
       "2  9127 Elizabeth Stravenue\\nDanieltown, WI 06482...  \n",
       "3                          USS Barnett\\nFPO AP 44820  \n",
       "4                         USNS Raymond\\nFPO AE 09386  "
      ]
     },
     "execution_count": 76,
     "metadata": {},
     "output_type": "execute_result"
    }
   ],
   "source": [
    "USAhousing = pd.read_csv('USA_Housing.csv')\n",
    "# USAhousing = USAhousing.drop('Address',axis = 1).round(2).head()\n",
    "USAhousing.head()"
   ]
  },
  {
   "cell_type": "code",
   "execution_count": 39,
   "metadata": {},
   "outputs": [
    {
     "name": "stdout",
     "output_type": "stream",
     "text": [
      "<class 'pandas.core.frame.DataFrame'>\n",
      "RangeIndex: 5 entries, 0 to 4\n",
      "Data columns (total 6 columns):\n",
      " #   Column                        Non-Null Count  Dtype  \n",
      "---  ------                        --------------  -----  \n",
      " 0   Avg. Area Income              5 non-null      float64\n",
      " 1   Avg. Area House Age           5 non-null      float64\n",
      " 2   Avg. Area Number of Rooms     5 non-null      float64\n",
      " 3   Avg. Area Number of Bedrooms  5 non-null      float64\n",
      " 4   Area Population               5 non-null      float64\n",
      " 5   Price                         5 non-null      float64\n",
      "dtypes: float64(6)\n",
      "memory usage: 368.0 bytes\n"
     ]
    }
   ],
   "source": [
    "USAhousing.info()"
   ]
  },
  {
   "cell_type": "code",
   "execution_count": 41,
   "metadata": {},
   "outputs": [
    {
     "data": {
      "text/html": [
       "<div>\n",
       "<style scoped>\n",
       "    .dataframe tbody tr th:only-of-type {\n",
       "        vertical-align: middle;\n",
       "    }\n",
       "\n",
       "    .dataframe tbody tr th {\n",
       "        vertical-align: top;\n",
       "    }\n",
       "\n",
       "    .dataframe thead th {\n",
       "        text-align: right;\n",
       "    }\n",
       "</style>\n",
       "<table border=\"1\" class=\"dataframe\">\n",
       "  <thead>\n",
       "    <tr style=\"text-align: right;\">\n",
       "      <th></th>\n",
       "      <th>Avg. Area Income</th>\n",
       "      <th>Avg. Area House Age</th>\n",
       "      <th>Avg. Area Number of Rooms</th>\n",
       "      <th>Avg. Area Number of Bedrooms</th>\n",
       "      <th>Area Population</th>\n",
       "      <th>Price</th>\n",
       "    </tr>\n",
       "  </thead>\n",
       "  <tbody>\n",
       "    <tr>\n",
       "      <th>count</th>\n",
       "      <td>5.000000</td>\n",
       "      <td>5.000000</td>\n",
       "      <td>5.000000</td>\n",
       "      <td>5.000000</td>\n",
       "      <td>5.000000</td>\n",
       "      <td>5.000000e+00</td>\n",
       "    </tr>\n",
       "    <tr>\n",
       "      <th>mean</th>\n",
       "      <td>68681.722000</td>\n",
       "      <td>5.956000</td>\n",
       "      <td>7.136000</td>\n",
       "      <td>3.960000</td>\n",
       "      <td>32161.276000</td>\n",
       "      <td>1.103095e+06</td>\n",
       "    </tr>\n",
       "    <tr>\n",
       "      <th>std</th>\n",
       "      <td>9855.470064</td>\n",
       "      <td>0.782196</td>\n",
       "      <td>1.112915</td>\n",
       "      <td>0.822435</td>\n",
       "      <td>7196.577776</td>\n",
       "      <td>3.216642e+05</td>\n",
       "    </tr>\n",
       "    <tr>\n",
       "      <th>min</th>\n",
       "      <td>59982.200000</td>\n",
       "      <td>5.040000</td>\n",
       "      <td>5.590000</td>\n",
       "      <td>3.090000</td>\n",
       "      <td>23086.800000</td>\n",
       "      <td>6.309435e+05</td>\n",
       "    </tr>\n",
       "    <tr>\n",
       "      <th>25%</th>\n",
       "      <td>61287.070000</td>\n",
       "      <td>5.680000</td>\n",
       "      <td>6.730000</td>\n",
       "      <td>3.260000</td>\n",
       "      <td>26354.110000</td>\n",
       "      <td>1.058988e+06</td>\n",
       "    </tr>\n",
       "    <tr>\n",
       "      <th>50%</th>\n",
       "      <td>63345.240000</td>\n",
       "      <td>5.870000</td>\n",
       "      <td>7.010000</td>\n",
       "      <td>4.090000</td>\n",
       "      <td>34310.240000</td>\n",
       "      <td>1.059034e+06</td>\n",
       "    </tr>\n",
       "    <tr>\n",
       "      <th>75%</th>\n",
       "      <td>79248.640000</td>\n",
       "      <td>6.000000</td>\n",
       "      <td>7.840000</td>\n",
       "      <td>4.230000</td>\n",
       "      <td>36882.160000</td>\n",
       "      <td>1.260617e+06</td>\n",
       "    </tr>\n",
       "    <tr>\n",
       "      <th>max</th>\n",
       "      <td>79545.460000</td>\n",
       "      <td>7.190000</td>\n",
       "      <td>8.510000</td>\n",
       "      <td>5.130000</td>\n",
       "      <td>40173.070000</td>\n",
       "      <td>1.505891e+06</td>\n",
       "    </tr>\n",
       "  </tbody>\n",
       "</table>\n",
       "</div>"
      ],
      "text/plain": [
       "       Avg. Area Income  Avg. Area House Age  Avg. Area Number of Rooms  \\\n",
       "count          5.000000             5.000000                   5.000000   \n",
       "mean       68681.722000             5.956000                   7.136000   \n",
       "std         9855.470064             0.782196                   1.112915   \n",
       "min        59982.200000             5.040000                   5.590000   \n",
       "25%        61287.070000             5.680000                   6.730000   \n",
       "50%        63345.240000             5.870000                   7.010000   \n",
       "75%        79248.640000             6.000000                   7.840000   \n",
       "max        79545.460000             7.190000                   8.510000   \n",
       "\n",
       "       Avg. Area Number of Bedrooms  Area Population         Price  \n",
       "count                      5.000000         5.000000  5.000000e+00  \n",
       "mean                       3.960000     32161.276000  1.103095e+06  \n",
       "std                        0.822435      7196.577776  3.216642e+05  \n",
       "min                        3.090000     23086.800000  6.309435e+05  \n",
       "25%                        3.260000     26354.110000  1.058988e+06  \n",
       "50%                        4.090000     34310.240000  1.059034e+06  \n",
       "75%                        4.230000     36882.160000  1.260617e+06  \n",
       "max                        5.130000     40173.070000  1.505891e+06  "
      ]
     },
     "execution_count": 41,
     "metadata": {},
     "output_type": "execute_result"
    }
   ],
   "source": [
    "USAhousing.describe()"
   ]
  },
  {
   "cell_type": "code",
   "execution_count": 15,
   "metadata": {},
   "outputs": [],
   "source": [
    "# upper cap outlier - big values == q3+(1.5*IQR) < bigger outlier\n",
    "# lower cap outliers - lower values == q1-(1.5*IQR) > lower outlier  \n",
    "# IQR - Inter Quartile Range - Q3-Q1   (75%-25%)\n"
   ]
  },
  {
   "cell_type": "code",
   "execution_count": 43,
   "metadata": {},
   "outputs": [
    {
     "data": {
      "text/plain": [
       "Index(['Avg. Area Income', 'Avg. Area House Age', 'Avg. Area Number of Rooms',\n",
       "       'Avg. Area Number of Bedrooms', 'Area Population', 'Price'],\n",
       "      dtype='object')"
      ]
     },
     "execution_count": 43,
     "metadata": {},
     "output_type": "execute_result"
    }
   ],
   "source": [
    "USAhousing.columns"
   ]
  },
  {
   "cell_type": "code",
   "execution_count": 25,
   "metadata": {},
   "outputs": [
    {
     "data": {
      "text/plain": [
       "(5000, 7)"
      ]
     },
     "execution_count": 25,
     "metadata": {},
     "output_type": "execute_result"
    }
   ],
   "source": [
    "USAhousing.shape"
   ]
  },
  {
   "cell_type": "code",
   "execution_count": 51,
   "metadata": {},
   "outputs": [],
   "source": [
    "# sns.pairplot(USAhousing)"
   ]
  },
  {
   "cell_type": "code",
   "execution_count": 78,
   "metadata": {},
   "outputs": [],
   "source": [
    " # upper cap outlier - big values == q3+(1.5*IQR) < bigger outlier\n",
    "# lower cap outliers - lower values == q1-(1.5*IQR) > lower outlier  \n",
    "# IQR - Inter Quartile Range - Q3-Q1   (75%-25%)\n",
    "\n",
    "# def del_outlier(col_name,data):\n",
    "#     for i in col_name:\n",
    "#         fig = plt.figure(figsize=(8,8))\n",
    "#         sns.boxplot(x = data[col_name])\n",
    "#         plt.show()\n",
    "        \n",
    "#         q1 = data[col_name].quantile(0.25)\n",
    "#         q2 = data[col_name].quantile(0.50)\n",
    "#         q3 = data[col_name].quantile(0.75)\n",
    "#         iqr = q3-q1\n",
    "#         lower_cap = q1-(1.5*iqr)\n",
    "#         upper_cap = q3+(1.5*iqr)\n",
    "#         data[column_name] = np.where(data[column_name]  > max_val, q2, data[column_name] )\n",
    "#         data[column_name] = np.where(data[column_name]  < min_val, q2, data[column_name] )  \n",
    "#     return data  \n",
    "# new_data =  del_outlier(USAhousing.drop(['Price','Address'], axis=1).columns, USAhousing)\n",
    "#         data[column_name] = data[column_name].apply(lambda x: q2 if ((x < lower_cap)|( x > upper_cap)) else data[column_name])\n",
    "#     return data\n",
    "\n",
    " \n",
    "# new_data =  del_outlier(USAhousing.columns, USAhousing)"
   ]
  },
  {
   "cell_type": "code",
   "execution_count": 79,
   "metadata": {},
   "outputs": [
    {
     "data": {
      "image/png": "[encoded data removed]",
      "text/plain": [
       "<Figure size 1152x288 with 1 Axes>"
      ]
     },
     "metadata": {
      "needs_background": "light"
     },
     "output_type": "display_data"
    },
    {
     "data": {
      "image/png": "[encoded data removed]",
      "text/plain": [
       "<Figure size 1152x288 with 1 Axes>"
      ]
     },
     "metadata": {
      "needs_background": "light"
     },
     "output_type": "display_data"
    },
    {
     "data": {
      "image/png": "[encoded data removed]",
      "text/plain": [
       "<Figure size 1152x288 with 1 Axes>"
      ]
     },
     "metadata": {
      "needs_background": "light"
     },
     "output_type": "display_data"
    },
    {
     "data": {
      "image/png": "[encoded data removed]",
      "text/plain": [
       "<Figure size 1152x288 with 1 Axes>"
      ]
     },
     "metadata": {
      "needs_background": "light"
     },
     "output_type": "display_data"
    },
    {
     "data": {
      "image/png": "[encoded data removed]",
      "text/plain": [
       "<Figure size 1152x288 with 1 Axes>"
      ]
     },
     "metadata": {
      "needs_background": "light"
     },
     "output_type": "display_data"
    }
   ],
   "source": [
    "def del_outlier(columns, data):\n",
    "  for column_name in columns:\n",
    "    fig=plt.figure(figsize=(16,4))\n",
    "    sns.boxplot(x = data[column_name])\n",
    "    plt.show()\n",
    "    \n",
    "    q1 = data[column_name].quantile(0.25)\n",
    "    q2 = data[column_name].quantile(0.50)\n",
    "    q3 = data[column_name].quantile(0.75)\n",
    "    iqr = q3 - q1\n",
    "    \n",
    "    min_val = q1 - 1.5 * iqr\n",
    "    max_val = q3 + 1.5 * iqr\n",
    "    data[column_name] = np.where(data[column_name]  > max_val, q2, data[column_name] )\n",
    "    data[column_name] = np.where(data[column_name]  < min_val, q2, data[column_name] )  \n",
    "  return data  \n",
    "new_data =  del_outlier(USAhousing.drop(['Price','Address'], axis=1).columns, USAhousing)"
   ]
  }
 ],
 "metadata": {
  "kernelspec": {
   "display_name": "Python 3",
   "language": "python",
   "name": "python3"
  },
  "language_info": {
   "codemirror_mode": {
    "name": "ipython",
    "version": 3
   },
   "file_extension": ".py",
   "mimetype": "text/x-python",
   "name": "python",
   "nbconvert_exporter": "python",
   "pygments_lexer": "ipython3",
   "version": "3.8.5"
  }
 },
 "nbformat": 4,
 "nbformat_minor": 4
}
