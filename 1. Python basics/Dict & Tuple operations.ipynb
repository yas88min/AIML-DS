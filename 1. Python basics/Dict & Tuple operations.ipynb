{
 "cells": [
  {
   "cell_type": "markdown",
   "metadata": {
    "id": "dBGX5pqkv9_J"
   },
   "source": [
    "# Dictionaries"
   ]
  },
  {
   "cell_type": "markdown",
   "metadata": {
    "id": "frBgdRfKv9_N"
   },
   "source": [
    "Recognized by curly brackets { }\n",
    "\n",
    "They are mutable and can be nested like list and tuples\n",
    "\n",
    "They have a key and value pair , so they are also called associative pair\n",
    "\n",
    "A given key can oly appear once in a dictionary and both key and value can be any data type - str,int,float,tuple,list\n",
    "\n",
    "Each and value is seperated by a colon( : )\n",
    "\n",
    "Dictionary are unordered so indexing does not work on it. Instead keys are treated as index. whereas list and tuples are ordered\n",
    "\n",
    "when we convert a dictionary to list or a tuple by list() then only keys come in list and tuple not the values\n",
    "\n",
    "concatenation cannot be done on dictionary"
   ]
  },
  {
   "cell_type": "code",
   "execution_count": null,
   "metadata": {
    "id": "v83ddA-7v9_P",
    "outputId": "d8193b32-c226-4125-8179-0ee34bdfe3bf"
   },
   "outputs": [
    {
     "data": {
      "text/plain": [
       "dict"
      ]
     },
     "execution_count": 1,
     "metadata": {
      "tags": []
     },
     "output_type": "execute_result"
    }
   ],
   "source": [
    "dict1 = {'key':'value',\n",
    "        'key2':'value2',\n",
    "        'key3':'value3'}\n",
    "\n",
    "type(dict1)"
   ]
  },
  {
   "cell_type": "code",
   "execution_count": null,
   "metadata": {
    "id": "q3qLM0ajv9_Q",
    "outputId": "32f2ef46-1d7d-4354-ca12-a15c8b8ff75f"
   },
   "outputs": [
    {
     "data": {
      "text/plain": [
       "['key', 'key2', 'key3']"
      ]
     },
     "execution_count": 8,
     "metadata": {
      "tags": []
     },
     "output_type": "execute_result"
    }
   ],
   "source": [
    "list(dict1)"
   ]
  },
  {
   "cell_type": "code",
   "execution_count": null,
   "metadata": {
    "id": "n55GZ6Zyv9_R",
    "outputId": "45f1b9e6-ea7d-49c8-938e-6432f1286be1"
   },
   "outputs": [
    {
     "data": {
      "text/plain": [
       "1.0"
      ]
     },
     "execution_count": 3,
     "metadata": {
      "tags": []
     },
     "output_type": "execute_result"
    }
   ],
   "source": [
    "d = {'name':'sam', \n",
    "     'age' : 23 , \n",
    "     'hair' : 'black' , \n",
    "     'id' : 1.0}\n",
    "\n",
    "d.get('id')"
   ]
  },
  {
   "cell_type": "code",
   "execution_count": null,
   "metadata": {
    "id": "KyGqoa4Vv9_R",
    "outputId": "cda1a945-8360-4fed-d706-0b7c6933185a"
   },
   "outputs": [
    {
     "data": {
      "text/plain": [
       "'sam'"
      ]
     },
     "execution_count": 57,
     "metadata": {
      "tags": []
     },
     "output_type": "execute_result"
    }
   ],
   "source": [
    "d['name']"
   ]
  },
  {
   "cell_type": "code",
   "execution_count": null,
   "metadata": {
    "id": "TCqyk6vIv9_R",
    "outputId": "65deaa87-f689-42e9-b519-83abb71ed16c"
   },
   "outputs": [
    {
     "data": {
      "text/plain": [
       "'black'"
      ]
     },
     "execution_count": 4,
     "metadata": {
      "tags": []
     },
     "output_type": "execute_result"
    }
   ],
   "source": [
    "d['hair']  "
   ]
  },
  {
   "cell_type": "code",
   "execution_count": 2,
   "metadata": {
    "colab": {
     "base_uri": "https://localhost:8080/"
    },
    "executionInfo": {
     "elapsed": 358,
     "status": "ok",
     "timestamp": 1622386793646,
     "user": {
      "displayName": "sujata drall",
      "photoUrl": "",
      "userId": "07858160099359690614"
     },
     "user_tz": -330
    },
    "id": "OKPkqFPcyaPH",
    "outputId": "cb79de5d-a8f0-4223-ddd6-01188bbc7dc6"
   },
   "outputs": [
    {
     "name": "stdout",
     "output_type": "stream",
     "text": [
      "<class 'dict'>\n"
     ]
    }
   ],
   "source": [
    "d3={}\n",
    "\n",
    "print(type(d3))"
   ]
  },
  {
   "cell_type": "code",
   "execution_count": 1,
   "metadata": {
    "colab": {
     "base_uri": "https://localhost:8080/"
    },
    "executionInfo": {
     "elapsed": 5,
     "status": "ok",
     "timestamp": 1622386550241,
     "user": {
      "displayName": "sujata drall",
      "photoUrl": "",
      "userId": "07858160099359690614"
     },
     "user_tz": -330
    },
    "id": "hrceeg7VxU_L",
    "outputId": "a0a697bc-6640-4154-c52a-6deb985e8619"
   },
   "outputs": [
    {
     "name": "stdout",
     "output_type": "stream",
     "text": [
      "{'name': ['sam', 'bam', 'ham'], 'age': [23, 30, 30], 'hair': ['black', 'brown', 'red'], 'id': [1, 2, 3]}\n"
     ]
    }
   ],
   "source": [
    "d2={'name' :['sam','bam','ham'], \n",
    "     'age' : [23,30,30] ,   \n",
    "     'hair' : ['black','brown','red'] ,\n",
    "     'id' :[1,2,3]}\n",
    "print(d2)\n",
    "\n",
    "# dict() , {}"
   ]
  },
  {
   "cell_type": "code",
   "execution_count": 20,
   "metadata": {
    "colab": {
     "base_uri": "https://localhost:8080/"
    },
    "executionInfo": {
     "elapsed": 446,
     "status": "ok",
     "timestamp": 1622387765373,
     "user": {
      "displayName": "sujata drall",
      "photoUrl": "",
      "userId": "07858160099359690614"
     },
     "user_tz": -330
    },
    "id": "QcKAYJ7P2Du1",
    "outputId": "ef40e40b-9614-4dab-decb-a1af8506f5a3"
   },
   "outputs": [
    {
     "data": {
      "text/plain": [
       "{'age': [23, 30, 30],\n",
       " 'hair': ['black', 'brown', 'red'],\n",
       " 'id': [1, 2, 3],\n",
       " 'month': {'a': 55, 'b': 56, 'c': 57},\n",
       " 'name': ['sam', 'ham'],\n",
       " 'new entry': ['May', 'June', 'July']}"
      ]
     },
     "execution_count": 20,
     "metadata": {
      "tags": []
     },
     "output_type": "execute_result"
    }
   ],
   "source": [
    "d2['name'].remove('bam')\n",
    "d2"
   ]
  },
  {
   "cell_type": "code",
   "execution_count": 4,
   "metadata": {
    "colab": {
     "base_uri": "https://localhost:8080/"
    },
    "executionInfo": {
     "elapsed": 2,
     "status": "ok",
     "timestamp": 1622386849459,
     "user": {
      "displayName": "sujata drall",
      "photoUrl": "",
      "userId": "07858160099359690614"
     },
     "user_tz": -330
    },
    "id": "jGpeZjcKyiqD",
    "outputId": "300e717a-aa47-4cec-89fe-618b9a20c503"
   },
   "outputs": [
    {
     "data": {
      "text/plain": [
       "[23, 30, 30]"
      ]
     },
     "execution_count": 4,
     "metadata": {
      "tags": []
     },
     "output_type": "execute_result"
    }
   ],
   "source": [
    "d2.get('age') # acces values give a key names"
   ]
  },
  {
   "cell_type": "code",
   "execution_count": 5,
   "metadata": {
    "colab": {
     "base_uri": "https://localhost:8080/"
    },
    "executionInfo": {
     "elapsed": 373,
     "status": "ok",
     "timestamp": 1622386861198,
     "user": {
      "displayName": "sujata drall",
      "photoUrl": "",
      "userId": "07858160099359690614"
     },
     "user_tz": -330
    },
    "id": "LNBBOaEoysk1",
    "outputId": "d02d2b99-72f4-477f-8c42-eb3f02668720"
   },
   "outputs": [
    {
     "data": {
      "text/plain": [
       "[23, 30, 30]"
      ]
     },
     "execution_count": 5,
     "metadata": {
      "tags": []
     },
     "output_type": "execute_result"
    }
   ],
   "source": [
    "d2['age'] # acces values give a key names"
   ]
  },
  {
   "cell_type": "code",
   "execution_count": 12,
   "metadata": {
    "colab": {
     "base_uri": "https://localhost:8080/"
    },
    "executionInfo": {
     "elapsed": 502,
     "status": "ok",
     "timestamp": 1622387154482,
     "user": {
      "displayName": "sujata drall",
      "photoUrl": "",
      "userId": "07858160099359690614"
     },
     "user_tz": -330
    },
    "id": "sqmr0f98ysoK",
    "outputId": "f8d3cd22-3d9e-41a0-a9e1-771c450afb54"
   },
   "outputs": [
    {
     "name": "stdout",
     "output_type": "stream",
     "text": [
      "['May', 'June', 'July']\n"
     ]
    }
   ],
   "source": [
    "d2.update({'new entry':[2021,2022, 2023], 'month':['May','June','July']})\n",
    "d2.update({'new entry':['May','June','July']})\n",
    "print(d2['month'])"
   ]
  },
  {
   "cell_type": "code",
   "execution_count": 15,
   "metadata": {
    "colab": {
     "base_uri": "https://localhost:8080/"
    },
    "executionInfo": {
     "elapsed": 336,
     "status": "ok",
     "timestamp": 1622387317079,
     "user": {
      "displayName": "sujata drall",
      "photoUrl": "",
      "userId": "07858160099359690614"
     },
     "user_tz": -330
    },
    "id": "z6LH_wuN0GFU",
    "outputId": "c66cfc37-2e56-40b9-88e7-ac54b6b26380"
   },
   "outputs": [
    {
     "name": "stdout",
     "output_type": "stream",
     "text": [
      "{'name': ['sam', 'bam', 'ham'], 'age': [23, 30, 30], 'hair': ['black', 'brown', 'red'], 'id': [1, 2, 3], 'new entry': ['May', 'June', 'July'], 'month': {'a': 55, 'b': 56, 'c': 57}}\n"
     ]
    }
   ],
   "source": [
    "d2['month']={'a':55,'b':56,'c':57}\n",
    "print(d2)"
   ]
  },
  {
   "cell_type": "code",
   "execution_count": 16,
   "metadata": {
    "colab": {
     "base_uri": "https://localhost:8080/"
    },
    "executionInfo": {
     "elapsed": 11,
     "status": "ok",
     "timestamp": 1622387427255,
     "user": {
      "displayName": "sujata drall",
      "photoUrl": "",
      "userId": "07858160099359690614"
     },
     "user_tz": -330
    },
    "id": "om-EGN4p0vZm",
    "outputId": "e6c2516f-0404-49b2-89b7-0eee237199d0"
   },
   "outputs": [
    {
     "name": "stdout",
     "output_type": "stream",
     "text": [
      "{'name': ['sam', 'bam', 'ham'], 'age': [23, 30, 30], 'hair': ['black', 'brown', 'red'], 'id': [1, 2, 3], 'new entry': ['May', 'June', 'July'], 'month': {'a': 55, 'b': 56, 'c': 57}, 'this is new': ['python', 'DS', 'ML']}\n"
     ]
    }
   ],
   "source": [
    "d2['this is new'] = ['python','DS','ML']\n",
    "print(d2)"
   ]
  },
  {
   "cell_type": "code",
   "execution_count": 18,
   "metadata": {
    "colab": {
     "base_uri": "https://localhost:8080/"
    },
    "executionInfo": {
     "elapsed": 345,
     "status": "ok",
     "timestamp": 1622387667570,
     "user": {
      "displayName": "sujata drall",
      "photoUrl": "",
      "userId": "07858160099359690614"
     },
     "user_tz": -330
    },
    "id": "qdEkcg4Z1uqH",
    "outputId": "ca024ba1-f051-47c3-db3b-0a4cb06183e2"
   },
   "outputs": [
    {
     "data": {
      "text/plain": [
       "['python', 'DS', 'ML']"
      ]
     },
     "execution_count": 18,
     "metadata": {
      "tags": []
     },
     "output_type": "execute_result"
    }
   ],
   "source": [
    "d2.pop('this is new') # give key name"
   ]
  },
  {
   "cell_type": "code",
   "execution_count": 27,
   "metadata": {
    "colab": {
     "base_uri": "https://localhost:8080/"
    },
    "executionInfo": {
     "elapsed": 3,
     "status": "ok",
     "timestamp": 1622388054817,
     "user": {
      "displayName": "sujata drall",
      "photoUrl": "",
      "userId": "07858160099359690614"
     },
     "user_tz": -330
    },
    "id": "J5upJIm512ch",
    "outputId": "8a0e5ab7-3303-42c2-bab4-e64306980f78"
   },
   "outputs": [
    {
     "name": "stdout",
     "output_type": "stream",
     "text": [
      "name ['sam', 'ham']\n",
      "age [23, 30, 30]\n",
      "hair ['black', 'brown', 'red']\n",
      "id [1, 2, 3]\n",
      "new entry ['May', 'June', 'July']\n",
      "month {'a': 55, 'b': 56, 'c': 57}\n"
     ]
    }
   ],
   "source": [
    "# .items()  ---> key name, values\n",
    "\n",
    "# .keys()   --> keys names\n",
    "\n",
    "# .values()  --> values w.r.t keys from the dictionary\n",
    "\n",
    "for key,value in d2.items():\n",
    "  print(key, value)"
   ]
  },
  {
   "cell_type": "code",
   "execution_count": 26,
   "metadata": {
    "colab": {
     "base_uri": "https://localhost:8080/"
    },
    "executionInfo": {
     "elapsed": 386,
     "status": "ok",
     "timestamp": 1622388043086,
     "user": {
      "displayName": "sujata drall",
      "photoUrl": "",
      "userId": "07858160099359690614"
     },
     "user_tz": -330
    },
    "id": "UsjBNIHDysrc",
    "outputId": "7109a77c-f224-479c-8dc8-cdbfdc790095"
   },
   "outputs": [
    {
     "name": "stdout",
     "output_type": "stream",
     "text": [
      "['sam', 'ham']\n",
      "[23, 30, 30]\n",
      "['black', 'brown', 'red']\n",
      "[1, 2, 3]\n",
      "['May', 'June', 'July']\n",
      "{'a': 55, 'b': 56, 'c': 57}\n"
     ]
    }
   ],
   "source": [
    "for key in d2.values():\n",
    "  print(key)"
   ]
  },
  {
   "cell_type": "code",
   "execution_count": null,
   "metadata": {
    "id": "anbOpYQWv9_S",
    "outputId": "33995d1a-ef01-4f53-d4e4-f2ebada7e93c"
   },
   "outputs": [
    {
     "data": {
      "text/plain": [
       "50"
      ]
     },
     "execution_count": 38,
     "metadata": {
      "tags": []
     },
     "output_type": "execute_result"
    }
   ],
   "source": [
    "# changing the value of a key\n",
    "d = {'name' :['sam','bam','ham'], \n",
    "     'age' : [23,30,[50,15,17],25,30] , \n",
    "     'hair' : 'black' ,\n",
    "     'id' : 1.0}\n",
    "\n",
    "# d[1] = 'rohit'  \n",
    "# print(d[1])\n",
    "d['age'][2][0]"
   ]
  },
  {
   "cell_type": "code",
   "execution_count": null,
   "metadata": {
    "id": "dTB-BUSiv9_S",
    "outputId": "7b4c3fe7-2c13-415d-d597-eeefcd872b56"
   },
   "outputs": [
    {
     "data": {
      "text/plain": [
       "{1: 'rohit',\n",
       " 'age': 23,\n",
       " 'hair': 'black',\n",
       " 'id': 1.0,\n",
       " 'place': 'Haryana',\n",
       " 2: 'two'}"
      ]
     },
     "execution_count": 8,
     "metadata": {
      "tags": []
     },
     "output_type": "execute_result"
    }
   ],
   "source": [
    "# adding a new and value\n",
    "d['place'] = 'Delhi'\n",
    "d['place'] = 'Haryana'\n",
    "d[2]= 'two'\n",
    "d"
   ]
  },
  {
   "cell_type": "code",
   "execution_count": null,
   "metadata": {
    "id": "odQ0HPUCv9_T",
    "outputId": "252be2e1-0dba-43a6-9073-2b9c09cf52bf"
   },
   "outputs": [
    {
     "data": {
      "text/plain": [
       "{1: ['sam', 'bam', 'ham'],\n",
       " 'age': [23, 30, [50, 15, 17], 25, 30],\n",
       " 'hair': 'black',\n",
       " 'id': 1.0}"
      ]
     },
     "execution_count": 9,
     "metadata": {
      "tags": []
     },
     "output_type": "execute_result"
    }
   ],
   "source": [
    "# for key,value in d.items():   # returns a view object that displays list of dictionary (key,value) in tuple pairs \n",
    "#     print(key,':',value)\n",
    "    \n",
    "    \n",
    "# for key in d.keys():\n",
    "#     print(key)\n",
    "\n",
    "\n",
    "# for value in d.values():\n",
    "#     print(value)\n",
    "\n",
    "\n",
    "\n",
    "d = { 1 :['sam','bam','ham'], \n",
    "     'age' : [23,30,[50,15,17],25,30] , \n",
    "     'hair' : 'black' ,\n",
    "     'id' : 1.0}\n",
    "{key:value for key,value in d.items()}"
   ]
  },
  {
   "cell_type": "code",
   "execution_count": null,
   "metadata": {
    "id": "MBgYcBlav9_T",
    "outputId": "01188611-9794-4b2f-edb3-0e756bb73675"
   },
   "outputs": [
    {
     "data": {
      "text/plain": [
       "{1: ['sam', 'bam', 'ham'],\n",
       " 'age': [23, 30, [50, 15, 17], 25, 30],\n",
       " 'hair': 'black',\n",
       " 'id': 1.0}"
      ]
     },
     "execution_count": 38,
     "metadata": {
      "tags": []
     },
     "output_type": "execute_result"
    }
   ],
   "source": [
    "d = { 1 : ['sam','bam','ham'], \n",
    "     'age' : [23,30,[50,15,17],25,30] , \n",
    "     'hair' : 'black' ,\n",
    "     'id' : 1.0}\n",
    "\n",
    "\n",
    "d"
   ]
  },
  {
   "cell_type": "code",
   "execution_count": null,
   "metadata": {
    "id": "gzcDUy2sv9_T",
    "outputId": "a7cc9b34-c1b0-460e-82b9-68167da80456"
   },
   "outputs": [
    {
     "data": {
      "text/plain": [
       "dict_values(['sam', 23, 'black', 1.0, 'rohit', 'Delhi', 'two'])"
      ]
     },
     "execution_count": 40,
     "metadata": {
      "tags": []
     },
     "output_type": "execute_result"
    }
   ],
   "source": [
    "d.keys()  #  returns view object  displaying a list of all keys\n",
    "d.values()"
   ]
  },
  {
   "cell_type": "code",
   "execution_count": null,
   "metadata": {
    "id": "LGQbp5_Nv9_U",
    "outputId": "59efcf6a-f1c4-4238-c4dd-d1bcd6103af7"
   },
   "outputs": [
    {
     "name": "stdout",
     "output_type": "stream",
     "text": [
      "241534654\n"
     ]
    },
    {
     "data": {
      "text/plain": [
       "True"
      ]
     },
     "execution_count": 57,
     "metadata": {
      "tags": []
     },
     "output_type": "execute_result"
    }
   ],
   "source": []
  },
  {
   "cell_type": "code",
   "execution_count": null,
   "metadata": {
    "id": "JegXsXLwv9_U",
    "outputId": "a95ebbda-e17b-43f8-81ef-fdafcd18ca35"
   },
   "outputs": [
    {
     "name": "stdout",
     "output_type": "stream",
     "text": [
      "0\n"
     ]
    },
    {
     "data": {
      "text/plain": [
       "['0']"
      ]
     },
     "execution_count": 53,
     "metadata": {
      "tags": []
     },
     "output_type": "execute_result"
    }
   ],
   "source": []
  },
  {
   "cell_type": "code",
   "execution_count": null,
   "metadata": {
    "id": "wCaid1STv9_U",
    "outputId": "52e0c15b-b4e7-45fa-c07a-21f97e27673a"
   },
   "outputs": [
    {
     "name": "stdout",
     "output_type": "stream",
     "text": [
      "{'age': 23, 'id': 1.0, 2: 'two'}\n"
     ]
    }
   ],
   "source": [
    "d.pop('hair')  \n",
    "print(d)\n"
   ]
  },
  {
   "cell_type": "code",
   "execution_count": null,
   "metadata": {
    "id": "4hTcObJ9v9_U",
    "outputId": "9666dd1f-1ba1-48be-94cc-f1b2c1446a3f"
   },
   "outputs": [
    {
     "data": {
      "text/plain": [
       "{'name': 'sam',\n",
       " 'age': 12,\n",
       " 'hair': 'black',\n",
       " 1: 'id',\n",
       " 'country': 'India',\n",
       " 'seasons': 6,\n",
       " 'month': 4}"
      ]
     },
     "execution_count": 11,
     "metadata": {
      "tags": []
     },
     "output_type": "execute_result"
    }
   ],
   "source": [
    "# d.update(iterable)  - inserts the specified items to dictionary.\n",
    "\n",
    "d = {'name':'sam', \n",
    "     'age':  23, \n",
    "     'hair':'black', \n",
    "     1:'id'}\n",
    "\n",
    "d1 = {'country':'India',\n",
    "      'seasons':6}\n",
    "\n",
    "d.update({'country':'India', \n",
    "          'seasons':6,\n",
    "          'month':4, \n",
    "          'age':12})\n",
    "\n",
    "d"
   ]
  },
  {
   "cell_type": "markdown",
   "metadata": {
    "id": "iRnr-jf6v9_V"
   },
   "source": [
    "## .popitem() removes last inserted key - value"
   ]
  },
  {
   "cell_type": "code",
   "execution_count": null,
   "metadata": {
    "id": "nZz5enK-v9_V",
    "outputId": "215ce102-36f1-459d-9de8-2e418f17aaf4"
   },
   "outputs": [
    {
     "data": {
      "text/plain": [
       "{'name': 'sam',\n",
       " 'age': 12,\n",
       " 'hair': 'black',\n",
       " 1: 'id',\n",
       " 'country': 'India',\n",
       " 'seasons': 6}"
      ]
     },
     "execution_count": 12,
     "metadata": {
      "tags": []
     },
     "output_type": "execute_result"
    }
   ],
   "source": [
    "d.popitem()\n",
    "d"
   ]
  },
  {
   "cell_type": "code",
   "execution_count": null,
   "metadata": {
    "id": "389N0InVv9_V",
    "outputId": "1452f685-84e8-4587-f7d6-4877a47d3654"
   },
   "outputs": [
    {
     "data": {
      "text/plain": [
       "{'name': 'sam', 'age': 12, 'hair': 'black', 1: 'id'}"
      ]
     },
     "execution_count": 14,
     "metadata": {
      "tags": []
     },
     "output_type": "execute_result"
    }
   ],
   "source": [
    "d.popitem()\n",
    "d"
   ]
  },
  {
   "cell_type": "code",
   "execution_count": null,
   "metadata": {
    "id": "DTY0Ojkzv9_V",
    "outputId": "7262e2ab-0de3-4bf9-989f-4a8d4c3be7a2"
   },
   "outputs": [
    {
     "name": "stdout",
     "output_type": "stream",
     "text": [
      "{(5, 4), (1, 3), (3, 3), (2, 3), (4, 2)}\n"
     ]
    }
   ],
   "source": [
    "ls_1 =[1,1,1,2,2,2,3,3,3,4,4,5,5,5,5]\n",
    "\n",
    "ls_2=[]\n",
    "\n",
    "for i in ls_1:\n",
    "    s =0\n",
    "    for j in ls_1:\n",
    "        if i ==j:\n",
    "            s +=1\n",
    "    ls_2.append((i,s))\n",
    "\n",
    "print(set(ls_2))\n"
   ]
  },
  {
   "cell_type": "code",
   "execution_count": null,
   "metadata": {
    "id": "f0bB1Uowv9_W"
   },
   "outputs": [],
   "source": []
  },
  {
   "cell_type": "code",
   "execution_count": null,
   "metadata": {
    "id": "Mpz7JR9Xv9_W"
   },
   "outputs": [],
   "source": []
  },
  {
   "cell_type": "code",
   "execution_count": null,
   "metadata": {
    "id": "OxtZEyf6v9_W",
    "outputId": "3fe82834-2e37-4a08-84da-a65ecfbc656b"
   },
   "outputs": [
    {
     "data": {
      "text/plain": [
       "{'name': 'sam', 'age': 12, 'hair': 'black', 1: 'id'}"
      ]
     },
     "execution_count": 54,
     "metadata": {
      "tags": []
     },
     "output_type": "execute_result"
    }
   ],
   "source": [
    "d.popitem()\n",
    "d"
   ]
  },
  {
   "cell_type": "code",
   "execution_count": null,
   "metadata": {
    "id": "hU8zE2p1v9_W",
    "outputId": "03fe2c6b-ea1d-466b-b166-ab498505b35d"
   },
   "outputs": [
    {
     "data": {
      "text/plain": [
       "{'name': 'abc', 'age': 55, 'hair': 'black', 1: 'id'}"
      ]
     },
     "execution_count": 1,
     "metadata": {
      "tags": []
     },
     "output_type": "execute_result"
    }
   ],
   "source": [
    "d = {'name':'sam','age':23, 'hair':'black', 1:'id'}\n",
    "\n",
    "for x,y in d.items():\n",
    "    if x == 'age':\n",
    "        d[x] = 55\n",
    "        d['name'] = 'abc'\n",
    "d"
   ]
  },
  {
   "cell_type": "code",
   "execution_count": null,
   "metadata": {
    "id": "BHlCGclcv9_W",
    "outputId": "cb72d807-c18e-4dc7-dca4-46306b088f3d"
   },
   "outputs": [
    {
     "data": {
      "text/plain": [
       "{'name': 'sam', 'age': 55, 'hair': 'black', 'id': 1, 'name2': 'value2'}"
      ]
     },
     "execution_count": 88,
     "metadata": {
      "tags": []
     },
     "output_type": "execute_result"
    }
   ],
   "source": [
    "d={'name':'sam','age':23,'hair':'black','id':1}\n",
    "\n",
    "if d['age']==23:\n",
    "    d['age'] = 55\n",
    "    d['name2']='value2'\n",
    "\n",
    "d"
   ]
  },
  {
   "cell_type": "code",
   "execution_count": null,
   "metadata": {
    "id": "9bzV5nvtv9_X",
    "outputId": "98906840-f62b-4ce0-a52f-ace387c12ed1"
   },
   "outputs": [
    {
     "name": "stdout",
     "output_type": "stream",
     "text": [
      "name\n",
      "age\n",
      "hair\n",
      "1\n"
     ]
    }
   ],
   "source": [
    "for i in d.keys():\n",
    "    print(i)"
   ]
  },
  {
   "cell_type": "code",
   "execution_count": null,
   "metadata": {
    "id": "iJ6thE0Fv9_X",
    "outputId": "137ee6f7-3bef-47c9-90f0-8a8966d8dd28"
   },
   "outputs": [
    {
     "name": "stdout",
     "output_type": "stream",
     "text": [
      "abc\n",
      "55\n",
      "black\n",
      "id\n"
     ]
    }
   ],
   "source": [
    "for i in d.values():\n",
    "    print(i)"
   ]
  },
  {
   "cell_type": "code",
   "execution_count": null,
   "metadata": {
    "id": "2VB1LBQpv9_X",
    "outputId": "36da4a6a-c879-4767-d8c1-e6f076576112"
   },
   "outputs": [
    {
     "name": "stdout",
     "output_type": "stream",
     "text": [
      "{'hair': 'black'}\n"
     ]
    }
   ],
   "source": [
    "d = {'name':'sam',  'age' :  23 , 'hair' : 'black' , 1 : 'id'}\n",
    "\n",
    "del d['name'],d[1],d['age'] # deleting a specific Key \n",
    "print(d)"
   ]
  },
  {
   "cell_type": "code",
   "execution_count": null,
   "metadata": {
    "id": "eNOkIdQrv9_X",
    "outputId": "a94dc41a-afd7-433f-989a-e08e69f94169"
   },
   "outputs": [
    {
     "data": {
      "text/plain": [
       "{}"
      ]
     },
     "execution_count": 17,
     "metadata": {
      "tags": []
     },
     "output_type": "execute_result"
    }
   ],
   "source": [
    "d = {'name':'sam'   ,  'age' :  23 , 'hair' : 'black' , 1 : 'id'}\n",
    "\n",
    "d.clear() # Clearing the dictionary - get empty dict\n",
    "# d\n",
    "# print(d)\n",
    "\n",
    "del d\n",
    "d"
   ]
  },
  {
   "cell_type": "markdown",
   "metadata": {
    "id": "jOV_rCb-v9_Y"
   },
   "source": [
    "# Tuple\n",
    "**The difference between tuples and list are that tuples are immutable (means they cannot be changed) where as list are mutable (means they can be changed)**"
   ]
  },
  {
   "cell_type": "code",
   "execution_count": 69,
   "metadata": {
    "colab": {
     "base_uri": "https://localhost:8080/"
    },
    "executionInfo": {
     "elapsed": 432,
     "status": "ok",
     "timestamp": 1622392243595,
     "user": {
      "displayName": "sujata drall",
      "photoUrl": "",
      "userId": "07858160099359690614"
     },
     "user_tz": -330
    },
    "id": "w5n1Bq1Iv9_Y",
    "outputId": "b87e8417-79f6-41ac-c7bd-92e648ce9b4c"
   },
   "outputs": [
    {
     "name": "stdout",
     "output_type": "stream",
     "text": [
      "(1, 2, 3, 1, 1, 1, 1.0)\n"
     ]
    }
   ],
   "source": [
    "tu = (1,2,3,1,1,1,1.0)\n",
    "\n",
    "tu[0]  # value at index 0\n",
    "tu[-5:-1]  # print value from -1 & go till -5    -> -5 to -2\n",
    "tu[3:-1]\n",
    "tu[::-1]\n",
    "\n",
    "tuple(sorted(tu)) #  sorted gave ans. in list form -- tuple()  -> converted back to tuple\n",
    "print(tu)"
   ]
  },
  {
   "cell_type": "code",
   "execution_count": 62,
   "metadata": {
    "colab": {
     "base_uri": "https://localhost:8080/"
    },
    "executionInfo": {
     "elapsed": 573,
     "status": "ok",
     "timestamp": 1622392006733,
     "user": {
      "displayName": "sujata drall",
      "photoUrl": "",
      "userId": "07858160099359690614"
     },
     "user_tz": -330
    },
    "id": "1yPYgYCxGOhq",
    "outputId": "93454d2e-9fc9-4292-aa22-df54a678195c"
   },
   "outputs": [
    {
     "data": {
      "text/plain": [
       "(1, 2, 3, 1, 1, 1, 1.0)"
      ]
     },
     "execution_count": 62,
     "metadata": {
      "tags": []
     },
     "output_type": "execute_result"
    }
   ],
   "source": [
    "tu"
   ]
  },
  {
   "cell_type": "code",
   "execution_count": 46,
   "metadata": {
    "colab": {
     "base_uri": "https://localhost:8080/"
    },
    "executionInfo": {
     "elapsed": 643,
     "status": "ok",
     "timestamp": 1622391338327,
     "user": {
      "displayName": "sujata drall",
      "photoUrl": "",
      "userId": "07858160099359690614"
     },
     "user_tz": -330
    },
    "id": "9UHir_wODwVI",
    "outputId": "21a1e180-daed-4a8a-ea45-0e291ddc2a94"
   },
   "outputs": [
    {
     "data": {
      "text/plain": [
       "[1, 2, 3, 1, 1, 1, 'abc', 1.0]"
      ]
     },
     "execution_count": 46,
     "metadata": {
      "tags": []
     },
     "output_type": "execute_result"
    }
   ],
   "source": [
    "l2 = list(tu)  # conversion to list\n",
    "\n",
    "set(tu)   # conversion to set\n",
    "\n",
    "tuple(l2)  # conversion to tuple"
   ]
  },
  {
   "cell_type": "code",
   "execution_count": 67,
   "metadata": {
    "colab": {
     "base_uri": "https://localhost:8080/"
    },
    "executionInfo": {
     "elapsed": 333,
     "status": "ok",
     "timestamp": 1622392176329,
     "user": {
      "displayName": "sujata drall",
      "photoUrl": "",
      "userId": "07858160099359690614"
     },
     "user_tz": -330
    },
    "id": "iLN857H6Gwfb",
    "outputId": "351d4293-4cc9-4805-d758-36edef31f4eb"
   },
   "outputs": [
    {
     "data": {
      "text/plain": [
       "['a', 'b', 'v', 'z']"
      ]
     },
     "execution_count": 67,
     "metadata": {
      "tags": []
     },
     "output_type": "execute_result"
    }
   ],
   "source": [
    "sorted(['a','z','v','b'])"
   ]
  },
  {
   "cell_type": "code",
   "execution_count": 52,
   "metadata": {
    "colab": {
     "base_uri": "https://localhost:8080/"
    },
    "executionInfo": {
     "elapsed": 310,
     "status": "ok",
     "timestamp": 1622391549345,
     "user": {
      "displayName": "sujata drall",
      "photoUrl": "",
      "userId": "07858160099359690614"
     },
     "user_tz": -330
    },
    "id": "4i8PS0r3Bv6I",
    "outputId": "2e55cd87-b4f6-4c38-9e46-ad08f2938624"
   },
   "outputs": [
    {
     "data": {
      "text/plain": [
       "['John Doe']"
      ]
     },
     "execution_count": 52,
     "metadata": {
      "tags": []
     },
     "output_type": "execute_result"
    }
   ],
   "source": [
    "tuple_1 = (1,2,{'name': ['John Doe']})\n",
    "\n",
    "\n",
    "tuple_1[2]['name']='hello'\n",
    "# tuple_1[2]['name'].appned('new value)\n",
    "# print(tuple_1)\n"
   ]
  },
  {
   "cell_type": "code",
   "execution_count": null,
   "metadata": {
    "id": "6nMAp6Tmv9_Y",
    "outputId": "a57a3712-6ccf-4dd2-c217-794fa6be41b7"
   },
   "outputs": [
    {
     "data": {
      "text/plain": [
       "tuple"
      ]
     },
     "execution_count": 19,
     "metadata": {
      "tags": []
     },
     "output_type": "execute_result"
    }
   ],
   "source": [
    "type(tu)"
   ]
  },
  {
   "cell_type": "code",
   "execution_count": null,
   "metadata": {
    "id": "YwIdEhb2v9_Y",
    "outputId": "738d19cb-6ce1-40a8-b9f9-dbeb418f141a"
   },
   "outputs": [
    {
     "data": {
      "text/plain": [
       "(3, 1, 1, 1, 'abc')"
      ]
     },
     "execution_count": 22,
     "metadata": {
      "tags": []
     },
     "output_type": "execute_result"
    }
   ],
   "source": [
    "tu[2:-1]"
   ]
  },
  {
   "cell_type": "code",
   "execution_count": null,
   "metadata": {
    "id": "0omK85-Kv9_Z",
    "outputId": "f28965b1-53f3-4fd8-be90-10a1326dab02"
   },
   "outputs": [
    {
     "data": {
      "text/plain": [
       "1.0"
      ]
     },
     "execution_count": 6,
     "metadata": {
      "tags": []
     },
     "output_type": "execute_result"
    }
   ],
   "source": [
    "tu[-1] # element at index will be printed"
   ]
  },
  {
   "cell_type": "code",
   "execution_count": null,
   "metadata": {
    "id": "rXo1FqLGv9_Z",
    "outputId": "9b162cad-c2df-4b16-bbcf-2e37a15bbf89"
   },
   "outputs": [
    {
     "ename": "TypeError",
     "evalue": "'tuple' object does not support item assignment",
     "output_type": "error",
     "traceback": [
      "\u001b[1;31m---------------------------------------------------------------------------\u001b[0m",
      "\u001b[1;31mTypeError\u001b[0m                                 Traceback (most recent call last)",
      "\u001b[1;32m<ipython-input-5-a10b59545df8>\u001b[0m in \u001b[0;36m<module>\u001b[1;34m\u001b[0m\n\u001b[1;32m----> 1\u001b[1;33m \u001b[0mtu\u001b[0m\u001b[1;33m[\u001b[0m\u001b[1;36m0\u001b[0m\u001b[1;33m]\u001b[0m \u001b[1;33m=\u001b[0m \u001b[1;34m'a'\u001b[0m \u001b[1;31m# Will throw error\u001b[0m\u001b[1;33m\u001b[0m\u001b[1;33m\u001b[0m\u001b[0m\n\u001b[0m\u001b[0;32m      2\u001b[0m \u001b[1;31m# this code can be applied on list because list are mutable\u001b[0m\u001b[1;33m\u001b[0m\u001b[1;33m\u001b[0m\u001b[1;33m\u001b[0m\u001b[0m\n",
      "\u001b[1;31mTypeError\u001b[0m: 'tuple' object does not support item assignment"
     ]
    }
   ],
   "source": [
    "tu[0] = 'a' # Will throw error\n",
    "# this code can be applied on list because list are mutable"
   ]
  },
  {
   "cell_type": "code",
   "execution_count": null,
   "metadata": {
    "id": "hn7GdUttv9_Z",
    "outputId": "4a9c504f-fba6-4a1b-f911-846af1f57956"
   },
   "outputs": [
    {
     "name": "stdout",
     "output_type": "stream",
     "text": [
      "[1, 2, 3, 1, 1, 1, 'abc', 1.0] <class 'tuple'>\n"
     ]
    }
   ],
   "source": [
    "print(list(tu), type(tu))\n"
   ]
  },
  {
   "cell_type": "code",
   "execution_count": null,
   "metadata": {
    "id": "t0r9Mqaiv9_Z",
    "outputId": "8f2a85b4-4082-4b07-b00d-92e48075a7df"
   },
   "outputs": [
    {
     "name": "stdout",
     "output_type": "stream",
     "text": [
      "<class 'list'>\n",
      "<class 'tuple'>\n"
     ]
    }
   ],
   "source": [
    "t=(1,2,3,4,'abc',1.2)\n",
    "print(type(list(t)))\n",
    "print(type(t))"
   ]
  },
  {
   "cell_type": "code",
   "execution_count": null,
   "metadata": {
    "id": "4PAB1RwFv9_a",
    "outputId": "967c7b6a-4095-4f17-fdc3-08e416967ce1"
   },
   "outputs": [
    {
     "data": {
      "text/plain": [
       "tuple"
      ]
     },
     "execution_count": 36,
     "metadata": {
      "tags": []
     },
     "output_type": "execute_result"
    }
   ],
   "source": [
    "type(t)"
   ]
  },
  {
   "cell_type": "code",
   "execution_count": null,
   "metadata": {
    "id": "AHdLkiqxv9_a",
    "outputId": "45584c8f-8f3f-44a4-cae6-e4aa00c002a0"
   },
   "outputs": [
    {
     "data": {
      "text/plain": [
       "[1, 2, 3, 1, 1, 1, 'abc', 1.0]"
      ]
     },
     "execution_count": 42,
     "metadata": {
      "tags": []
     },
     "output_type": "execute_result"
    }
   ],
   "source": [
    "tu"
   ]
  },
  {
   "cell_type": "code",
   "execution_count": null,
   "metadata": {
    "id": "KJ6kwR1av9_a",
    "outputId": "27d3b5f0-fc6e-4ff9-f60f-d04a2188f2be"
   },
   "outputs": [
    {
     "data": {
      "text/plain": [
       "5"
      ]
     },
     "execution_count": 29,
     "metadata": {
      "tags": []
     },
     "output_type": "execute_result"
    }
   ],
   "source": [
    "tu.count(1) # the count(frequncy) of value "
   ]
  },
  {
   "cell_type": "code",
   "execution_count": null,
   "metadata": {
    "id": "L9rEyZY1v9_a",
    "outputId": "f452140a-42f7-4c88-d6eb-079979395c50"
   },
   "outputs": [
    {
     "data": {
      "text/plain": [
       "0"
      ]
     },
     "execution_count": 28,
     "metadata": {
      "tags": []
     },
     "output_type": "execute_result"
    }
   ],
   "source": [
    "tu = (1,2,3,1,1,1,'abc',1.0)\n",
    "\n",
    "tu.index(1) # Feed the value for which you want to know the index"
   ]
  },
  {
   "cell_type": "markdown",
   "metadata": {
    "id": "0n_mfgudv9_a"
   },
   "source": [
    "# Nested Tuple"
   ]
  },
  {
   "cell_type": "code",
   "execution_count": null,
   "metadata": {
    "id": "nu8_Ai5qv9_b",
    "outputId": "ed84b190-fcb6-43a6-ba3d-e19cb03ecc97"
   },
   "outputs": [
    {
     "name": "stdout",
     "output_type": "stream",
     "text": [
      "<class 'tuple'>\n"
     ]
    }
   ],
   "source": [
    "tt = ( (1,2),[45,25,43],89,'ko'  )\n",
    "\n",
    "tt[1][2]\n",
    "\n",
    "print(type(tt))"
   ]
  },
  {
   "cell_type": "code",
   "execution_count": null,
   "metadata": {
    "id": "gL-jH4DLv9_b",
    "outputId": "f0134be5-b376-4643-9296-63cd135e7ea0"
   },
   "outputs": [
    {
     "data": {
      "text/plain": [
       "(1, 2, 3, 4, 5)"
      ]
     },
     "execution_count": 44,
     "metadata": {
      "tags": []
     },
     "output_type": "execute_result"
    }
   ],
   "source": [
    "li = [1,2,3,4,5]\n",
    "\n",
    "tuple(li)"
   ]
  },
  {
   "cell_type": "markdown",
   "metadata": {
    "id": "265PWGmJv9_b"
   },
   "source": [
    "# Indexing"
   ]
  },
  {
   "cell_type": "code",
   "execution_count": null,
   "metadata": {
    "id": "MdoI_CCav9_b",
    "outputId": "0e1961b9-027a-4db8-995a-de16f3262c37"
   },
   "outputs": [
    {
     "name": "stdout",
     "output_type": "stream",
     "text": [
      "(1, 2)\n",
      "2\n"
     ]
    }
   ],
   "source": [
    "nested_tuple = ((1,2),[45,25,43],89,'ko')\n",
    "print(nested_tuple[0])\n",
    "print(nested_tuple[0][1])"
   ]
  },
  {
   "cell_type": "markdown",
   "metadata": {
    "id": "1N1OD8N7v9_b"
   },
   "source": [
    "# Max and MIn - Gives maximum and minimum value of the iterable\n"
   ]
  },
  {
   "cell_type": "markdown",
   "metadata": {
    "id": "vqYEgCbov9_c"
   },
   "source": [
    "#Syntax - max( iterable ) , min( iterable )"
   ]
  },
  {
   "cell_type": "code",
   "execution_count": null,
   "metadata": {
    "id": "zuueJ0EUv9_c",
    "outputId": "a4cb7856-1fb1-46a9-c9f6-0d0bd255b0b0"
   },
   "outputs": [
    {
     "data": {
      "text/plain": [
       "(98, 56, 3, 4, 2, 6, 7)"
      ]
     },
     "execution_count": 47,
     "metadata": {
      "tags": []
     },
     "output_type": "execute_result"
    }
   ],
   "source": [
    "98,56,3,4,2,6,7"
   ]
  },
  {
   "cell_type": "code",
   "execution_count": null,
   "metadata": {
    "id": "4OvGeqvzv9_c",
    "outputId": "67fc29f2-f486-4461-b230-0ab5d98cf952"
   },
   "outputs": [
    {
     "data": {
      "text/plain": [
       "2.0"
      ]
     },
     "execution_count": 69,
     "metadata": {
      "tags": []
     },
     "output_type": "execute_result"
    }
   ],
   "source": [
    "s = {2,3,5,2,2,4,2,89}\n",
    "\n",
    "max(s) \n",
    "\n",
    "min(98,56,3,4,2,6,7)\n",
    "\n",
    "abs(-78) #ABSOLUTE VALUE\n",
    "\n",
    "round(1.8543) # ROUNDING\n",
    "\n",
    "round(1.8557 , 0)  # round( number , ndigits )  number of digits upto which we want the given number to be rounded off."
   ]
  },
  {
   "cell_type": "code",
   "execution_count": null,
   "metadata": {
    "id": "9J2xHgKzv9_c",
    "outputId": "d3ccfb1d-199a-4218-dc3a-06c153e5f274"
   },
   "outputs": [
    {
     "name": "stdout",
     "output_type": "stream",
     "text": [
      "0 1\n",
      "1 1\n",
      "1 2\n",
      "2 3\n",
      "3 5\n",
      "5 8\n",
      "8 13\n",
      "13 21\n",
      "21 34\n",
      "34 \t 55\n"
     ]
    }
   ],
   "source": [
    "x,y=0,1\n",
    "\n",
    "\n",
    "while y<50:\n",
    "    print(x, y)\n",
    "    x,y = y,x+y\n",
    "\n",
    "print(x,'\\t', y)"
   ]
  },
  {
   "cell_type": "code",
   "execution_count": null,
   "metadata": {
    "id": "zFVN_KZlv9_d"
   },
   "outputs": [],
   "source": [
    "for i in range(51):\n",
    "    "
   ]
  },
  {
   "cell_type": "code",
   "execution_count": null,
   "metadata": {
    "id": "oyhbRRYev9_d",
    "outputId": "275acbb5-5bf0-429e-d127-e98c4a784088"
   },
   "outputs": [
    {
     "name": "stdout",
     "output_type": "stream",
     "text": [
      "1 1 2 3 5 8 13 21 34 "
     ]
    },
    {
     "data": {
      "text/plain": [
       "55"
      ]
     },
     "execution_count": 2,
     "metadata": {
      "tags": []
     },
     "output_type": "execute_result"
    }
   ],
   "source": [
    "x,y =0,1\n",
    "for i in range(10):\n",
    "    x,y = y,x+y\n",
    "    if x <50:\n",
    "        print(x,end=\" \")\n",
    "x"
   ]
  },
  {
   "cell_type": "code",
   "execution_count": null,
   "metadata": {
    "id": "8kayn9D9v9_d",
    "outputId": "be840926-1d32-4b88-81af-b288a93fc633"
   },
   "outputs": [
    {
     "name": "stdout",
     "output_type": "stream",
     "text": [
      "t[i-1],\t t[i-2]\n",
      "1 \t 0\n",
      "1 \t 1\n",
      "2 \t 1\n",
      "3 \t 2\n",
      "5 \t 3\n",
      "8 \t 5\n",
      "13 \t 8\n",
      "21 \t 13\n"
     ]
    }
   ],
   "source": [
    "t=[0,1]\n",
    "print('t[i-1],''\\t','t[i-2]' )\n",
    "if 10>2:\n",
    "    for i in range(2,10):\n",
    "        j=t[i-1]+t[i-2]\n",
    "        print(t[i-1],'\\t',t[i-2] )\n",
    "        t.append(j)\n",
    "        \n",
    "# print(t)\n"
   ]
  },
  {
   "cell_type": "code",
   "execution_count": 1,
   "metadata": {
    "id": "pMsMQDCYv9_e"
   },
   "outputs": [
    {
     "name": "stdout",
     "output_type": "stream",
     "text": [
      "[0, 1, 2, 3, 5, 8, 13, 21, 34, 55, 89]\n"
     ]
    }
   ],
   "source": [
    "x,y=0,1\n",
    "c=[]\n",
    "c.append(x)\n",
    "while y<50:\n",
    "    x=x+y\n",
    "    c.append(x)\n",
    "    y=x+y\n",
    "    c.append(y)\n",
    "print (c)\n"
   ]
  },
  {
   "cell_type": "code",
   "execution_count": null,
   "metadata": {
    "id": "3YNyHljmv9_e"
   },
   "outputs": [],
   "source": [
    "(yi)"
   ]
  },
  {
   "cell_type": "code",
   "execution_count": null,
   "metadata": {
    "id": "YpwbvBZSv9_f"
   },
   "outputs": [],
   "source": [
    "a=int(input(\"enter starting number:\"))\n",
    "b=int(input(\"enter ending number:\"))\n",
    "\n",
    "fib_series=[a,a]\n",
    "\n",
    "for i in range(b):\n",
    "        x=fib_series[i]\n",
    "        y=fib_series[i+1]\n",
    "        if x+y<=50:\n",
    "            fib_series.append(x+y)\n",
    "        else:\n",
    "            break\n",
    "print(fib_series)\n"
   ]
  },
  {
   "cell_type": "code",
   "execution_count": null,
   "metadata": {
    "id": "FUXgKNgVv9_f",
    "outputId": "76616567-e1f2-4e04-a890-041000574cce"
   },
   "outputs": [
    {
     "name": "stdout",
     "output_type": "stream",
     "text": [
      "a \t b \t c\n",
      "1 \t 1 \t 2\n",
      "1 \t 2 \t 3\n",
      "2 \t 3 \t 5\n",
      "3 \t 5 \t 8\n",
      "5 \t 8 \t 13\n",
      "8 \t 13 \t 21\n",
      "13 \t 21 \t 34\n",
      "21 \t 34 \t 55\n",
      "34 \t 55 \t 89\n"
     ]
    }
   ],
   "source": [
    "a=1\n",
    "b=1\n",
    "c=0 # To store Final Fibanoci output\n",
    "print('a','\\t','b', '\\t', 'c')\n",
    "for i in range(0,9):\n",
    "        c=a+b\n",
    "        print(a,'\\t',b, '\\t', c)\n",
    "        a=b\n",
    "        b=c\n",
    "\n",
    "'''\n",
    "0\n",
    "1\n",
    "1\n",
    "2\n",
    "3\n",
    "5\n",
    "8\n",
    "13\n",
    "\n",
    "'''"
   ]
  },
  {
   "cell_type": "code",
   "execution_count": null,
   "metadata": {
    "id": "0CMgOCjgv9_f"
   },
   "outputs": [],
   "source": [
    "'''Will Resume at 13:47 '''"
   ]
  },
  {
   "cell_type": "code",
   "execution_count": null,
   "metadata": {
    "id": "YJsvJaPCv9_f",
    "outputId": "7cb7b77b-356d-4dfa-b82f-67634614955b"
   },
   "outputs": [
    {
     "name": "stdout",
     "output_type": "stream",
     "text": [
      "0 1\n",
      "1 2\n",
      "2 4\n",
      "4 8\n",
      "8 16\n",
      "16 32\n",
      "32 \t 64\n"
     ]
    }
   ],
   "source": [
    "x = 0\n",
    "y = 1\n",
    "while y<50:\n",
    "    print(x, y)\n",
    "    x=y\n",
    "    y=x+y    \n",
    "print(x,'\\t', y)"
   ]
  },
  {
   "cell_type": "code",
   "execution_count": null,
   "metadata": {
    "id": "DqkqKtRcv9_g",
    "outputId": "497e55ec-0844-4430-fb47-af3a542e7398"
   },
   "outputs": [
    {
     "name": "stdout",
     "output_type": "stream",
     "text": [
      "30 40\n"
     ]
    }
   ],
   "source": [
    "x = 10\n",
    "y = 30\n",
    "\n",
    "x,y = y,x+y \n",
    "\n",
    "print(x, y)"
   ]
  },
  {
   "cell_type": "markdown",
   "metadata": {
    "id": "CLJCcS7Xv9_g"
   },
   "source": [
    "# sum(iterable, start=0(optional))"
   ]
  },
  {
   "cell_type": "markdown",
   "metadata": {
    "id": "0byxlHxLv9_g"
   },
   "source": [
    "## sum(iterable, start=0(optional))"
   ]
  },
  {
   "cell_type": "code",
   "execution_count": null,
   "metadata": {
    "id": "0aFZbXgFv9_g",
    "outputId": "2274daf9-0663-4293-c722-51149870de0d"
   },
   "outputs": [
    {
     "data": {
      "text/plain": [
       "28"
      ]
     },
     "execution_count": 21,
     "metadata": {
      "tags": []
     },
     "output_type": "execute_result"
    }
   ],
   "source": [
    "l = {1,2,3,4,8}\n",
    "sum(l, 10) # 10 addded to the sum of set l"
   ]
  },
  {
   "cell_type": "code",
   "execution_count": null,
   "metadata": {
    "id": "-0VqMTgcv9_g"
   },
   "outputs": [],
   "source": []
  }
 ],
 "metadata": {
  "colab": {
   "collapsed_sections": [
    "0n_mfgudv9_a",
    "265PWGmJv9_b",
    "1N1OD8N7v9_b",
    "vqYEgCbov9_c",
    "CLJCcS7Xv9_g",
    "0byxlHxLv9_g"
   ],
   "name": "Dict & Tuple operations.ipynb",
   "provenance": []
  },
  "kernelspec": {
   "display_name": "Python 3",
   "language": "python",
   "name": "python3"
  },
  "language_info": {
   "codemirror_mode": {
    "name": "ipython",
    "version": 3
   },
   "file_extension": ".py",
   "mimetype": "text/x-python",
   "name": "python",
   "nbconvert_exporter": "python",
   "pygments_lexer": "ipython3",
   "version": "3.8.5"
  }
 },
 "nbformat": 4,
 "nbformat_minor": 1
}
