{
 "cells": [
  {
   "cell_type": "markdown",
   "metadata": {
    "id": "iC-h0ApNHF78"
   },
   "source": [
    "## For Loop"
   ]
  },
  {
   "cell_type": "code",
   "execution_count": null,
   "metadata": {
    "id": "cD-JEQHyHF7_",
    "outputId": "efd63bde-d350-4c65-b0f0-8696be438b62"
   },
   "outputs": [
    {
     "name": "stdout",
     "output_type": "stream",
     "text": [
      "ass\n",
      "fgg\n",
      "hhh\n",
      "ass\n",
      "ass\n",
      "ass\n"
     ]
    }
   ],
   "source": [
    "a = ['ass','fgg','hhh','abss','abss','abss']\n",
    "for i in a:\n",
    "    print(i)"
   ]
  },
  {
   "cell_type": "code",
   "execution_count": null,
   "metadata": {
    "id": "H0LrM5GZHF8B",
    "outputId": "0a401813-c00f-44c2-b434-b131c3182ef3"
   },
   "outputs": [
    {
     "name": "stdout",
     "output_type": "stream",
     "text": [
      "[50]\n",
      "[50, 60]\n",
      "[50, 60, 70]\n",
      "Final C:  [50, 60, 70]\n"
     ]
    }
   ],
   "source": [
    "a = [10,20,30]\n",
    "b = [50,60,70]\n",
    "c = [] # Empty List\n",
    "\n",
    "for i in b:\n",
    "    c.append(i)\n",
    "    print(c)\n",
    "    \n",
    "print('Final C: ',c)"
   ]
  },
  {
   "cell_type": "code",
   "execution_count": null,
   "metadata": {
    "id": "C6WnsRWqHF8C",
    "outputId": "821cc92e-9a5e-4a30-e27e-f493b83c1efb"
   },
   "outputs": [
    {
     "name": "stdout",
     "output_type": "stream",
     "text": [
      "50\n",
      "60\n",
      "70\n"
     ]
    }
   ],
   "source": [
    "for i in b:\n",
    "    print(i)"
   ]
  },
  {
   "cell_type": "code",
   "execution_count": null,
   "metadata": {
    "id": "iD5E_qguHF8D",
    "outputId": "ed4fe64a-4812-422c-dffb-dac1d7b7bcb4"
   },
   "outputs": [
    {
     "data": {
      "text/plain": [
       "[[('a', 'O'), ('p', 'n')],\n",
       " [('a', 'T'), ('p', 'w')],\n",
       " [('a', 'T'), ('p', 'h')],\n",
       " [('b', 'O'), ('a', 'n')],\n",
       " [('b', 'T'), ('a', 'w')],\n",
       " [('b', 'T'), ('a', 'h')],\n",
       " [('c', 'O'), ('h', 'n')],\n",
       " [('c', 'T'), ('h', 'w')],\n",
       " [('c', 'T'), ('h', 'h')]]"
      ]
     },
     "execution_count": 72,
     "metadata": {
      "tags": []
     },
     "output_type": "execute_result"
    }
   ],
   "source": [
    "abc = ['One','Two','Three']\n",
    "[[(i[0],k[0]), (i[1],k[1])] for i in fruits for k in abc]"
   ]
  },
  {
   "cell_type": "code",
   "execution_count": null,
   "metadata": {
    "id": "Kl3nDTboHF8D",
    "outputId": "28cf1108-1aef-443c-e302-958dd4cc279f"
   },
   "outputs": [
    {
     "data": {
      "text/plain": [
       "[('a', ' and ', 'O'),\n",
       " ('a', ' and ', 'T'),\n",
       " ('a', ' and ', 'T'),\n",
       " ('b', ' and ', 'O'),\n",
       " ('b', ' and ', 'T'),\n",
       " ('b', ' and ', 'T'),\n",
       " ('c', ' and ', 'O'),\n",
       " ('c', ' and ', 'T'),\n",
       " ('c', ' and ', 'T')]"
      ]
     },
     "execution_count": 68,
     "metadata": {
      "tags": []
     },
     "output_type": "execute_result"
    }
   ],
   "source": [
    "fruits = [\"apple\", \"banana\", \"cherry\"]\n",
    "abc = ['One','Two','Three']\n",
    "\n",
    "[(i[0],' and ' ,k[0]) for i in fruits for k in abc] # Double for loop - accessing fuits and abc list\n",
    "\n",
    "[i[0] for i in fruits] # Single for loop -- Only accessing fruits list"
   ]
  },
  {
   "cell_type": "code",
   "execution_count": null,
   "metadata": {
    "id": "hiwy5oRLHF8F",
    "outputId": "22ebe834-031e-430a-f13d-5c2dc18dd1f0"
   },
   "outputs": [
    {
     "data": {
      "text/plain": [
       "'a'"
      ]
     },
     "execution_count": 57,
     "metadata": {
      "tags": []
     },
     "output_type": "execute_result"
    }
   ],
   "source": [
    "m = 'apple'\n",
    "m[0]"
   ]
  },
  {
   "cell_type": "code",
   "execution_count": null,
   "metadata": {
    "id": "UgFMYZABHF8F",
    "outputId": "4574643a-07b1-4c61-a0c0-f2e4310ee4af"
   },
   "outputs": [
    {
     "data": {
      "text/plain": [
       "[2, 4, 6]"
      ]
     },
     "execution_count": 48,
     "metadata": {
      "tags": []
     },
     "output_type": "execute_result"
    }
   ],
   "source": [
    "# List comhrehensions/ One liners\n",
    "\n",
    "[int(value/5) for value in [10,20,30]]"
   ]
  },
  {
   "cell_type": "code",
   "execution_count": null,
   "metadata": {
    "id": "Hfab7rDXHF8G",
    "outputId": "3713341e-432d-41f1-bd99-eeda6e427c03"
   },
   "outputs": [
    {
     "name": "stdout",
     "output_type": "stream",
     "text": [
      "apple \t red\n",
      "apple \t big\n",
      "apple \t tasty\n",
      "banana \t red\n",
      "banana \t big\n",
      "banana \t tasty\n",
      "cherry \t red\n",
      "cherry \t big\n",
      "cherry \t tasty\n"
     ]
    }
   ],
   "source": [
    "adj = [\"red\", \"big\", \"tasty\"]\n",
    "fruits = [\"apple\", \"banana\", \"cherry\"]\n",
    "\n",
    "for i in fruits:\n",
    "    for k in adj:\n",
    "        print(i ,'\\t', k)"
   ]
  },
  {
   "cell_type": "code",
   "execution_count": null,
   "metadata": {
    "id": "m-2e_8nyHF8H"
   },
   "outputs": [],
   "source": [
    "\n"
   ]
  },
  {
   "cell_type": "code",
   "execution_count": 3,
   "metadata": {
    "colab": {
     "base_uri": "https://localhost:8080/"
    },
    "executionInfo": {
     "elapsed": 907,
     "status": "ok",
     "timestamp": 1622392777534,
     "user": {
      "displayName": "sujata drall",
      "photoUrl": "",
      "userId": "07858160099359690614"
     },
     "user_tz": -330
    },
    "id": "ml1w7UAIHF8I",
    "outputId": "3803b10b-e230-451a-beba-071e3bdad45a"
   },
   "outputs": [
    {
     "name": "stdout",
     "output_type": "stream",
     "text": [
      "New List h :   [3, 6, 9, 12]\n"
     ]
    }
   ],
   "source": [
    "x = [1,2,3,4]\n",
    "h = []\n",
    "for value in x:\n",
    "    h.append(value*3)  \n",
    "\n",
    "print('New List h :  ', h)"
   ]
  },
  {
   "cell_type": "code",
   "execution_count": null,
   "metadata": {
    "id": "iMxKmfQAHF8J"
   },
   "outputs": [],
   "source": []
  },
  {
   "cell_type": "code",
   "execution_count": 5,
   "metadata": {
    "colab": {
     "base_uri": "https://localhost:8080/"
    },
    "executionInfo": {
     "elapsed": 7,
     "status": "ok",
     "timestamp": 1622392900058,
     "user": {
      "displayName": "sujata drall",
      "photoUrl": "",
      "userId": "07858160099359690614"
     },
     "user_tz": -330
    },
    "id": "WrvgkRerHF8J",
    "outputId": "e50ea0b8-2d14-4c6c-82da-61814fb817ae"
   },
   "outputs": [
    {
     "name": "stdout",
     "output_type": "stream",
     "text": [
      "(3, 6, 9, 12) {9, 3, 12, 6} [3, 6, 9, 12]\n"
     ]
    }
   ],
   "source": [
    "# One Liners  aka List Cophrehension  \n",
    "# variable asignmnet can not be odne in list comprehension\n",
    "# what is to be printed will come int begining\n",
    "\n",
    "lo = [1,2,3,4]\n",
    "\n",
    "lo2 = tuple(value_1*3 for value_1 in lo)\n",
    "\n",
    "lo3 = set(value_1*3 for value_1 in lo)\n",
    "\n",
    "lo4 = [value_1*3 for value_1 in lo]\n",
    "\n",
    "print(lo2, lo3, lo4)"
   ]
  },
  {
   "cell_type": "markdown",
   "metadata": {
    "id": "OCSSRTMlHF8J"
   },
   "source": [
    "### Range\n",
    "\n",
    "* **Syntax**  - range( start = 0(optional) , stop , step = 1 (optional) )\n",
    "\n",
    "* It works only with Integers means it does not support Float.\n",
    "* (To use Float numbers we can numpy arange method or we can create a function.)\n"
   ]
  },
  {
   "cell_type": "code",
   "execution_count": 12,
   "metadata": {
    "colab": {
     "base_uri": "https://localhost:8080/"
    },
    "executionInfo": {
     "elapsed": 731,
     "status": "ok",
     "timestamp": 1622393473411,
     "user": {
      "displayName": "sujata drall",
      "photoUrl": "",
      "userId": "07858160099359690614"
     },
     "user_tz": -330
    },
    "id": "C0zM1IWeKpUV",
    "outputId": "93a807c7-4659-40bd-b301-3ac1e7899be1"
   },
   "outputs": [
    {
     "data": {
      "text/plain": [
       "{0: 100,\n",
       " 1: 102,\n",
       " 2: 104,\n",
       " 3: 106,\n",
       " 4: 108,\n",
       " 5: 110,\n",
       " 6: 112,\n",
       " 7: 114,\n",
       " 8: 116,\n",
       " 9: 118}"
      ]
     },
     "execution_count": 12,
     "metadata": {
      "tags": []
     },
     "output_type": "execute_result"
    }
   ],
   "source": [
    "{ind:value for ind, value in enumerate(range(100, 120,2))} # [what is to be printed/executed  ---> loop from where value is generated]"
   ]
  },
  {
   "cell_type": "code",
   "execution_count": 21,
   "metadata": {
    "colab": {
     "base_uri": "https://localhost:8080/"
    },
    "executionInfo": {
     "elapsed": 383,
     "status": "ok",
     "timestamp": 1622394237997,
     "user": {
      "displayName": "sujata drall",
      "photoUrl": "",
      "userId": "07858160099359690614"
     },
     "user_tz": -330
    },
    "id": "sPtMWT8mLK04",
    "outputId": "01ce0fdc-e1d2-47eb-b6f4-c0feb0d463ac"
   },
   "outputs": [
    {
     "name": "stdout",
     "output_type": "stream",
     "text": [
      "100 B\n",
      "102 equal to 102\n",
      "104 B\n",
      "106 A\n",
      "108 A\n",
      "110 A\n",
      "112 A\n",
      "114 A\n",
      "116 A\n",
      "118 A\n"
     ]
    }
   ],
   "source": [
    "for i in range(100, 120,2):\n",
    "  if i==102:\n",
    "    print(i,'equal to 102')\n",
    "  elif i>105 :\n",
    "    print(i,'A')\n",
    "  elif i==107:\n",
    "    print(i,'equal to 107')\n",
    "  elif i==108:\n",
    "    print(i,'equal to 108')\n",
    "  else:\n",
    "    print(i,'B')\n",
    "\n",
    "# = is for assignment   --> a=10\n",
    "# == is for comparison  --> 10==10\n",
    "# >=\n",
    "# <=\n",
    "# !=   -> Not equal to"
   ]
  },
  {
   "cell_type": "code",
   "execution_count": 25,
   "metadata": {
    "colab": {
     "base_uri": "https://localhost:8080/"
    },
    "executionInfo": {
     "elapsed": 645,
     "status": "ok",
     "timestamp": 1622394655029,
     "user": {
      "displayName": "sujata drall",
      "photoUrl": "",
      "userId": "07858160099359690614"
     },
     "user_tz": -330
    },
    "id": "e9iglVnHQS30",
    "outputId": "4377fbd6-055b-4dc4-da3b-fc9dbff43622"
   },
   "outputs": [
    {
     "data": {
      "text/plain": [
       "[106, 107, 108]"
      ]
     },
     "execution_count": 25,
     "metadata": {
      "tags": []
     },
     "output_type": "execute_result"
    }
   ],
   "source": [
    "[i for i in range(102,109) if i>105]"
   ]
  },
  {
   "cell_type": "code",
   "execution_count": 26,
   "metadata": {
    "colab": {
     "base_uri": "https://localhost:8080/"
    },
    "executionInfo": {
     "elapsed": 399,
     "status": "ok",
     "timestamp": 1622395123710,
     "user": {
      "displayName": "sujata drall",
      "photoUrl": "",
      "userId": "07858160099359690614"
     },
     "user_tz": -330
    },
    "id": "9D9gQB-yPRS2",
    "outputId": "9be702ef-ba3d-4a3a-a5f5-755c3f27132b"
   },
   "outputs": [
    {
     "data": {
      "text/plain": [
       "[(102, 'A'), (103, 'A'), (104, 'A'), (105, 'A'), (106, 'B'), 'D', 'E']"
      ]
     },
     "execution_count": 26,
     "metadata": {
      "tags": []
     },
     "output_type": "execute_result"
    }
   ],
   "source": [
    "[(i,'A') if i<= 105 else (i,'B') if i==106 else 'D' if i==107 else 'E' for i in range(102, 109)]"
   ]
  },
  {
   "cell_type": "code",
   "execution_count": 28,
   "metadata": {
    "colab": {
     "base_uri": "https://localhost:8080/"
    },
    "executionInfo": {
     "elapsed": 394,
     "status": "ok",
     "timestamp": 1622395409274,
     "user": {
      "displayName": "sujata drall",
      "photoUrl": "",
      "userId": "07858160099359690614"
     },
     "user_tz": -330
    },
    "id": "qO0fcqulTPow",
    "outputId": "501e91e6-32a5-4649-872d-ce4cd8a55243"
   },
   "outputs": [
    {
     "name": "stdout",
     "output_type": "stream",
     "text": [
      "b\n",
      "this is irrespective of IF BLOCK\n",
      "2nd one\n",
      "b\n",
      "this is irrespective of IF BLOCK\n",
      "2nd one\n",
      "b\n",
      "this is irrespective of IF BLOCK\n",
      "2nd one\n",
      "b\n",
      "this is irrespective of IF BLOCK\n",
      "2nd one\n",
      "b\n",
      "this is irrespective of IF BLOCK\n",
      "2nd one\n",
      "a\n",
      "this is irrespective of IF BLOCK\n",
      "2nd one\n",
      "b\n",
      "this is irrespective of IF BLOCK\n",
      "2nd one\n",
      "b\n",
      "this is irrespective of IF BLOCK\n",
      "2nd one\n",
      "b\n",
      "this is irrespective of IF BLOCK\n",
      "2nd one\n",
      "b\n",
      "this is irrespective of IF BLOCK\n",
      "2nd one\n"
     ]
    }
   ],
   "source": [
    "for i in range(100,120,2):\n",
    "    if i==110:\n",
    "        print('a')\n",
    "    else:\n",
    "        print('b')\n",
    "\n",
    "    print('this is irrespective of IF BLOCK')\n",
    "    print('2nd one')"
   ]
  },
  {
   "cell_type": "code",
   "execution_count": 27,
   "metadata": {
    "colab": {
     "base_uri": "https://localhost:8080/"
    },
    "executionInfo": {
     "elapsed": 541,
     "status": "ok",
     "timestamp": 1622395311811,
     "user": {
      "displayName": "sujata drall",
      "photoUrl": "",
      "userId": "07858160099359690614"
     },
     "user_tz": -330
    },
    "id": "WaYg6JagSy_s",
    "outputId": "0d4fcff9-694a-42a8-b682-465b6da4b795"
   },
   "outputs": [
    {
     "name": "stdout",
     "output_type": "stream",
     "text": [
      "this is irrespective of IF BLOCK\n",
      "b\n",
      "this is irrespective of IF BLOCK\n",
      "b\n",
      "this is irrespective of IF BLOCK\n",
      "b\n",
      "this is irrespective of IF BLOCK\n",
      "b\n",
      "this is irrespective of IF BLOCK\n",
      "b\n",
      "a\n",
      "this is irrespective of IF BLOCK\n",
      "b\n",
      "this is irrespective of IF BLOCK\n",
      "b\n",
      "this is irrespective of IF BLOCK\n",
      "b\n",
      "this is irrespective of IF BLOCK\n",
      "b\n",
      "this is irrespective of IF BLOCK\n",
      "b\n"
     ]
    }
   ],
   "source": [
    "for i in range(100,120,2):\n",
    "    if i==110:\n",
    "        print('a')\n",
    "    print('this is irrespective of IF BLOCK')\n",
    "    print('b')"
   ]
  },
  {
   "cell_type": "code",
   "execution_count": 16,
   "metadata": {
    "colab": {
     "base_uri": "https://localhost:8080/"
    },
    "executionInfo": {
     "elapsed": 3,
     "status": "ok",
     "timestamp": 1622393898465,
     "user": {
      "displayName": "sujata drall",
      "photoUrl": "",
      "userId": "07858160099359690614"
     },
     "user_tz": -330
    },
    "id": "HKHMKyhoHF8K",
    "outputId": "81360395-673f-4004-914c-a155fb51a8d4"
   },
   "outputs": [
    {
     "data": {
      "text/plain": [
       "[0, 1, 2, 3, 4, 5, 6, 7, 8, 9, 10]"
      ]
     },
     "execution_count": 16,
     "metadata": {
      "tags": []
     },
     "output_type": "execute_result"
    }
   ],
   "source": [
    "list(range(11))"
   ]
  },
  {
   "cell_type": "code",
   "execution_count": null,
   "metadata": {
    "id": "-tmPCHf3HF8K",
    "outputId": "6680cdc9-9898-4e9a-b4d9-633dbb88cd29"
   },
   "outputs": [
    {
     "name": "stdout",
     "output_type": "stream",
     "text": [
      "[10, 11, 12, 13, 14, 15, 16, 17, 18, 19]\n",
      "\n",
      " [10, 13, 16, 19]\n"
     ]
    }
   ],
   "source": [
    "print(list(range(10,20)))\n",
    "\n",
    "print('\\n',list(range(10,20,3)))"
   ]
  },
  {
   "cell_type": "code",
   "execution_count": null,
   "metadata": {
    "id": "6UywTwruHF8K",
    "outputId": "5f64cc96-e6cb-47a7-e613-82f4f3e494f8"
   },
   "outputs": [
    {
     "data": {
      "text/plain": [
       "[0, 1, 0, 1]"
      ]
     },
     "execution_count": 14,
     "metadata": {
      "tags": []
     },
     "output_type": "execute_result"
    }
   ],
   "source": [
    "j = []\n",
    "for i in range(0,11,2):\n",
    "    j.append(i*2)\n",
    "j\n",
    "\n"
   ]
  },
  {
   "cell_type": "code",
   "execution_count": null,
   "metadata": {
    "id": "l99FJgPqHF8L",
    "outputId": "4bfd465f-f001-4510-acb4-9be4a424d95a"
   },
   "outputs": [
    {
     "name": "stdout",
     "output_type": "stream",
     "text": [
      "2\n",
      "3\n",
      "4\n",
      "5\n"
     ]
    }
   ],
   "source": [
    "for x in range(2, 6):\n",
    "    print(x)"
   ]
  },
  {
   "cell_type": "code",
   "execution_count": null,
   "metadata": {
    "id": "vxYKwOk4HF8L"
   },
   "outputs": [],
   "source": [
    "# Finding names in list\n",
    "colors = [\"red\", \"green\", \"blue\", \"purple\",'sky']\n"
   ]
  },
  {
   "cell_type": "code",
   "execution_count": null,
   "metadata": {
    "id": "qntd9KTsHF8L",
    "outputId": "2c09b9fe-dcf7-4c76-bb1c-184b67016941"
   },
   "outputs": [
    {
     "name": "stdout",
     "output_type": "stream",
     "text": [
      "17 12 5\n",
      "14 10 4\n",
      "9\n"
     ]
    }
   ],
   "source": [
    "def fn(*a, k = 3):\n",
    "        h = max(a[:k])-min(a[:k])\n",
    "        print(max(a[:k]),min(a[:k]), h)\n",
    "        \n",
    "        h1 = max(a[k:k+k])-min(a[k:k+k])\n",
    "        print(max(a[k:k+k]),min(a[k:k+k]),h1)\n",
    "        \n",
    "        \n",
    "        print(h+h1)\n",
    "        \n",
    "      \n",
    "fn(12, 14, 17, 10, 14, 13, 12, 15)    "
   ]
  },
  {
   "cell_type": "code",
   "execution_count": null,
   "metadata": {
    "id": "QJiXGsHcHF8M",
    "outputId": "cb357906-74f7-4cf7-827e-731dcd07b1b0"
   },
   "outputs": [
    {
     "data": {
      "text/plain": [
       "'red'"
      ]
     },
     "execution_count": 17,
     "metadata": {
      "tags": []
     },
     "output_type": "execute_result"
    }
   ],
   "source": [
    "# for i in range(5):\n",
    "#     print(i)\n",
    "    \n",
    "colors[0]"
   ]
  },
  {
   "cell_type": "code",
   "execution_count": null,
   "metadata": {
    "id": "INCtsAhCHF8M",
    "outputId": "97be498b-d52f-4956-97c5-ab69acef41e5"
   },
   "outputs": [
    {
     "data": {
      "text/plain": [
       "['m3', 'm3', 'm3']"
      ]
     },
     "execution_count": 4,
     "metadata": {
      "tags": []
     },
     "output_type": "execute_result"
    }
   ],
   "source": [
    "a = ['hello','python',9999999]\n",
    "['m3' if len(str(i))>3 else 'l3' for i in a]"
   ]
  },
  {
   "cell_type": "code",
   "execution_count": null,
   "metadata": {
    "id": "_CxkYhuZHF8M",
    "outputId": "7efa3422-0a46-4b04-82c2-7c81e7be1bb2"
   },
   "outputs": [
    {
     "name": "stdout",
     "output_type": "stream",
     "text": [
      "Value at Index :  0 == red\n",
      "Value at Index :  1 == green\n",
      "Value at Index :  2 == blue\n",
      "Value at Index :  3 == purple\n",
      "Value at Index :  4 == sky\n"
     ]
    }
   ],
   "source": [
    "# Finding names in list\n",
    "colors = [\"red\", \"green\", \"blue\", \"purple\",'sky']\n",
    "\n",
    "for i in range(len(colors)): # Range(len(colors)) is  range(5) because 5 is the length of list,\n",
    "                              # So values from (0,5) are generated using Range function\n",
    "    print('Value at Index : ', i,'==', colors[i]) # Colors[i] will give value from colors list \n",
    "                                                  # at a given index"
   ]
  },
  {
   "cell_type": "code",
   "execution_count": null,
   "metadata": {
    "id": "imt20gM8HF8N"
   },
   "outputs": [],
   "source": [
    "colors = [\"red\", \"green\" , \"black\" , \" blue\"]"
   ]
  },
  {
   "cell_type": "code",
   "execution_count": null,
   "metadata": {
    "id": "bckz-yhXHF8N",
    "outputId": "c609fb49-6bc8-4d16-bd42-66a6997a38d6"
   },
   "outputs": [
    {
     "data": {
      "text/plain": [
       "3"
      ]
     },
     "execution_count": 20,
     "metadata": {
      "tags": []
     },
     "output_type": "execute_result"
    }
   ],
   "source": [
    "colors.index(' blue')"
   ]
  },
  {
   "cell_type": "code",
   "execution_count": null,
   "metadata": {
    "id": "FnyxWepQHF8O",
    "outputId": "8cb1798e-ad10-4121-8c84-04b7d8d6155c"
   },
   "outputs": [
    {
     "name": "stdout",
     "output_type": "stream",
     "text": [
      "index is:  2000 \t color is:   red\n",
      "index is:  2001 \t color is:   green\n",
      "index is:  2002 \t color is:   black\n",
      "index is:  2003 \t color is:    blue\n"
     ]
    }
   ],
   "source": [
    "# for color in colors:\n",
    "#     print(color)\n",
    "    \n",
    "    \n",
    "for index,color in enumerate(colors,2000):\n",
    "    print('index is: ',index, '\\t','color is:  ',color)"
   ]
  },
  {
   "cell_type": "code",
   "execution_count": null,
   "metadata": {
    "id": "VOpwbu9BHF8O",
    "outputId": "2fed95b0-cecd-44e0-c829-44fc2548a03f"
   },
   "outputs": [
    {
     "name": "stdout",
     "output_type": "stream",
     "text": [
      "Value at Index :  0 == red\n",
      "Value at Index :  1 == green\n",
      "Value at Index :  2 == black\n",
      "Value at Index :  3 ==  blue\n"
     ]
    }
   ],
   "source": [
    "colors = [\"red\", \"green\" , \"black\" , \" blue\"]\n",
    "\n",
    "for color in colors: \n",
    "    ind = colors.index(color) # Getting the Index value of color \n",
    "#     print(ind)\n",
    "    print('Value at Index : ', ind,'==', color)"
   ]
  },
  {
   "cell_type": "code",
   "execution_count": null,
   "metadata": {
    "id": "qxWn9GCeHF8O"
   },
   "outputs": [],
   "source": []
  },
  {
   "cell_type": "code",
   "execution_count": null,
   "metadata": {
    "id": "1JXaWM6ZHF8P",
    "outputId": "d8a09006-0501-4180-b934-0120173ac206"
   },
   "outputs": [
    {
     "data": {
      "text/plain": [
       "2"
      ]
     },
     "execution_count": 23,
     "metadata": {
      "tags": []
     },
     "output_type": "execute_result"
    }
   ],
   "source": [
    "colors.index('black')"
   ]
  },
  {
   "cell_type": "code",
   "execution_count": null,
   "metadata": {
    "id": "aBNk-HNCHF8P",
    "outputId": "ca91d9ac-f423-4b41-fe66-0ad2475f7095"
   },
   "outputs": [
    {
     "data": {
      "text/plain": [
       "[['value at index:', 0, '==', 'red'],\n",
       " ['value at index:', 1, '==', 'green'],\n",
       " ['value at index:', 2, '==', 'black'],\n",
       " ['value at index:', 3, '==', ' blue']]"
      ]
     },
     "execution_count": 24,
     "metadata": {
      "tags": []
     },
     "output_type": "execute_result"
    }
   ],
   "source": [
    "[['value at index:',colors.index(color),'==',color] for color in colors]\n"
   ]
  },
  {
   "cell_type": "code",
   "execution_count": null,
   "metadata": {
    "id": "cEi8SpWMHF8P",
    "outputId": "3b50ff0c-83eb-47cb-e9fd-3da7d3f01ab5"
   },
   "outputs": [
    {
     "data": {
      "text/plain": [
       "[['value at index:', 0, '==', 'red'],\n",
       " ['value at index:', 1, '==', 'green'],\n",
       " ['value at index:', 2, '==', 'black'],\n",
       " ['value at index:', 3, '==', ' blue']]"
      ]
     },
     "execution_count": 25,
     "metadata": {
      "tags": []
     },
     "output_type": "execute_result"
    }
   ],
   "source": [
    "[['value at index:',value,'==',colors[value]] for value in range(0,len(colors))]\n",
    "# colors[0]"
   ]
  },
  {
   "cell_type": "markdown",
   "metadata": {
    "id": "R4z8px0NHF8Q"
   },
   "source": [
    "# List Comprehension"
   ]
  },
  {
   "cell_type": "code",
   "execution_count": null,
   "metadata": {
    "id": "kWZvGoKGHF8Q",
    "outputId": "3a3fcb84-6c00-4478-c1e5-46dd6a7fcf3e"
   },
   "outputs": [
    {
     "data": {
      "text/plain": [
       "[10, 20, 30, 40]"
      ]
     },
     "execution_count": 26,
     "metadata": {
      "tags": []
     },
     "output_type": "execute_result"
    }
   ],
   "source": [
    "[i for i in range(10,50,10)]\n"
   ]
  },
  {
   "cell_type": "code",
   "execution_count": null,
   "metadata": {
    "id": "PYzSXfjFHF8Q",
    "outputId": "4b9bfac9-a0e3-43aa-c4f6-d7da9d02dae8"
   },
   "outputs": [
    {
     "data": {
      "text/plain": [
       "[-5, -7, -9, -11, -13]"
      ]
     },
     "execution_count": 6,
     "metadata": {
      "tags": []
     },
     "output_type": "execute_result"
    }
   ],
   "source": [
    "[i for i in range(-5, -15, -2)]\n"
   ]
  },
  {
   "cell_type": "code",
   "execution_count": null,
   "metadata": {
    "id": "FxPBffR2HF8Q",
    "outputId": "63774036-64a4-4ded-b735-6232aa4a2e52"
   },
   "outputs": [
    {
     "data": {
      "text/plain": [
       "[15, 13, 11, 9, 7]"
      ]
     },
     "execution_count": 28,
     "metadata": {
      "tags": []
     },
     "output_type": "execute_result"
    }
   ],
   "source": [
    "[i for i in range(15, 5, -2)]"
   ]
  },
  {
   "cell_type": "code",
   "execution_count": null,
   "metadata": {
    "id": "QA3bfTPiHF8Q",
    "outputId": "46fdadb1-2ebf-4cd1-8108-a0c20a247302"
   },
   "outputs": [
    {
     "data": {
      "text/plain": [
       "[0, 1, 2, 3, 4, 5, 6, 7, 8, 9, 10, 11, 12, 13, 14, 15, 16, 17, 18, 19]"
      ]
     },
     "execution_count": 29,
     "metadata": {
      "tags": []
     },
     "output_type": "execute_result"
    }
   ],
   "source": [
    "[i for i in range(20)]"
   ]
  },
  {
   "cell_type": "markdown",
   "metadata": {
    "id": "9P3qV5MpHF8R"
   },
   "source": [
    "# Enumerate\n",
    "(Itertable, Start (optional)) "
   ]
  },
  {
   "cell_type": "code",
   "execution_count": null,
   "metadata": {
    "id": "q0Zq1KJ0HF8R",
    "outputId": "9393b4e4-eafa-4f95-906c-101e098049a2"
   },
   "outputs": [
    {
     "name": "stdout",
     "output_type": "stream",
     "text": [
      "index is:  0 \t value is:  20\n",
      "index is:  1 \t value is:  21\n",
      "index is:  2 \t value is:  22\n",
      "index is:  3 \t value is:  23\n",
      "index is:  4 \t value is:  24\n",
      "index is:  5 \t value is:  25\n",
      "index is:  6 \t value is:  26\n",
      "index is:  7 \t value is:  27\n",
      "index is:  8 \t value is:  28\n",
      "index is:  9 \t value is:  29\n"
     ]
    }
   ],
   "source": [
    "l = [100,200,320,22022, 222,333,444,555]\n",
    "\n",
    "for index,value in enumerate(range(20,30)):\n",
    "    print('index is: ',index,'\\t','value is: ',value)\n",
    "    "
   ]
  },
  {
   "cell_type": "code",
   "execution_count": null,
   "metadata": {
    "id": "CDYjjQ6sHF8R",
    "outputId": "a81a18e9-4024-4893-bbe3-c8961d1d9633"
   },
   "outputs": [
    {
     "name": "stdout",
     "output_type": "stream",
     "text": [
      "index is:  999 \t value is:  ass\n",
      "index is:  1000 \t value is:  fgg\n",
      "index is:  1001 \t value is:  hhh\n",
      "index is:  1002 \t value is:  ass\n",
      "index is:  1003 \t value is:  ass\n",
      "index is:  1004 \t value is:  ass\n",
      "index is:  1005 \t value is:  10\n",
      "index is:  1006 \t value is:  1000.56\n",
      "index is:  1007 \t value is:  1234\n"
     ]
    }
   ],
   "source": [
    "a = ['ass','fgg','hhh','ass','ass','ass',10, 1000.56,'1234']\n",
    "\n",
    "for i,j in enumerate(a,999):\n",
    "    print('index is: ',i ,'\\t', 'value is: ', j)\n"
   ]
  },
  {
   "cell_type": "code",
   "execution_count": null,
   "metadata": {
    "id": "ONS8DeqIHF8R",
    "outputId": "ff3ace2c-0d5d-484c-daf9-50e9942f0c3b"
   },
   "outputs": [
    {
     "data": {
      "text/plain": [
       "[(2, 900), (3, 901), (5, 902)]"
      ]
     },
     "execution_count": 73,
     "metadata": {
      "tags": []
     },
     "output_type": "execute_result"
    }
   ],
   "source": [
    "t = [2,3,5]\n",
    "\n",
    "[(i,j) for i,j in enumerate(t,900)]"
   ]
  },
  {
   "cell_type": "code",
   "execution_count": null,
   "metadata": {
    "id": "CweC1_FdHF8S",
    "outputId": "99f6c2b3-b545-41d4-e3ac-8037ec574b2e"
   },
   "outputs": [
    {
     "data": {
      "text/plain": [
       "[(1, 100), (2, 101), (3, 102), (4, 103), (5, 104), (6, 105)]"
      ]
     },
     "execution_count": 33,
     "metadata": {
      "tags": []
     },
     "output_type": "execute_result"
    }
   ],
   "source": [
    "[i for i in enumerate(range(100,106),1)]"
   ]
  },
  {
   "cell_type": "code",
   "execution_count": null,
   "metadata": {
    "id": "NCbCSmJZHF8S",
    "outputId": "02bc3151-512d-4203-8125-caa2d2825ca8"
   },
   "outputs": [
    {
     "name": "stdout",
     "output_type": "stream",
     "text": [
      "100\n",
      "200\n",
      "300\n",
      "400\n",
      "a\n",
      "800.0\n"
     ]
    }
   ],
   "source": [
    "g = [100,200,300,400,'a',800.0000]\n",
    "\n",
    "h = list(enumerate(g)) # By default index started with value 0\n",
    "\n",
    "# print(list(enumerate(g ,10))) # ndex will start from 10 now\n",
    "\n",
    "\n",
    "# for i,j in enumerate(g,10):\n",
    "#     print(i,j)\n",
    "\n",
    "for i in h:\n",
    "    print(i[1])"
   ]
  },
  {
   "cell_type": "code",
   "execution_count": null,
   "metadata": {
    "id": "zZSwVHnAHF8S",
    "outputId": "e62a3784-a759-4b88-f04f-f574af6d4c5a"
   },
   "outputs": [
    {
     "data": {
      "text/plain": [
       "[(50, 'red'), (51, 'green'), (52, 'blue'), (53, 'purple')]"
      ]
     },
     "execution_count": 35,
     "metadata": {
      "tags": []
     },
     "output_type": "execute_result"
    }
   ],
   "source": [
    "colors = [\"red\", \"green\", \"blue\", \"purple\"]\n",
    "[i for i in enumerate(colors,50)]"
   ]
  },
  {
   "cell_type": "markdown",
   "metadata": {
    "id": "WCMxav30HF8S"
   },
   "source": [
    "# if else"
   ]
  },
  {
   "cell_type": "code",
   "execution_count": null,
   "metadata": {
    "id": "EkbLMJtqHF8S",
    "outputId": "6010618a-71b4-41a5-8174-fd83fdf82ed3"
   },
   "outputs": [
    {
     "name": "stdout",
     "output_type": "stream",
     "text": [
      "first\n",
      "if condn ran\n"
     ]
    }
   ],
   "source": [
    "if 10 > 2:\n",
    "    print('first')\n",
    "    print('if condn ran')\n",
    "else:\n",
    "    print('last')"
   ]
  },
  {
   "cell_type": "code",
   "execution_count": null,
   "metadata": {
    "id": "nZVv-jhLHF8T"
   },
   "outputs": [],
   "source": [
    "# l = [1,2,3,4,5,6]\n",
    "\n",
    "# ['yes' if (v ==1 or v == 2 or v == 3) else 'n3' for v in l]"
   ]
  },
  {
   "cell_type": "code",
   "execution_count": null,
   "metadata": {
    "id": "jr8yeqJcHF8T",
    "outputId": "3bffe48e-9967-40a2-fa09-7e7c0f622b47"
   },
   "outputs": [
    {
     "name": "stdout",
     "output_type": "stream",
     "text": [
      "['one', 'two', 'condition true for all ', 'condition true for all ', 'condition true for all ', 'idle']\n"
     ]
    }
   ],
   "source": [
    "l = [1,2,3,3,6,-1]\n",
    "b = []\n",
    "\n",
    "for v in l:\n",
    "    if v == 1:\n",
    "        b.append('one')\n",
    "    elif v == 2:\n",
    "        b.append('two')\n",
    "    elif v >= 3:\n",
    "        b.append(\"condition true for all \")\n",
    "    elif v == 3:\n",
    "        b.append('greator thn 3')    \n",
    "    else:\n",
    "        b.append('idle')\n",
    "\n",
    "print(b)"
   ]
  },
  {
   "cell_type": "code",
   "execution_count": null,
   "metadata": {
    "id": "85HPAIsDHF8T",
    "outputId": "5c9fd124-d795-4864-8e9b-c27dd07c6f7d"
   },
   "outputs": [
    {
     "name": "stdout",
     "output_type": "stream",
     "text": [
      "Second Else result: but not above 20.\n"
     ]
    }
   ],
   "source": [
    "x = 5\n",
    "\n",
    "if x > 10:\n",
    "    print(\"first If result : Above ten, do not have any else\")\n",
    "\n",
    "    \n",
    "if x > 20:\n",
    "    print(\"Second IF result: and also above 20!\")\n",
    "else:\n",
    "    print(\"Second Else result: but not above 20.\")\n"
   ]
  },
  {
   "cell_type": "code",
   "execution_count": null,
   "metadata": {
    "id": "h92J_3cvHF8U",
    "outputId": "a209f26e-b3cd-4376-d5ec-ec178f2159a3"
   },
   "outputs": [
    {
     "data": {
      "text/plain": [
       "[(0, 'even'),\n",
       " (1, 'odd'),\n",
       " (2, 'even'),\n",
       " (3, 'odd'),\n",
       " (4, 'even'),\n",
       " (5, 'odd'),\n",
       " (6, 'even'),\n",
       " (7, 'odd'),\n",
       " (8, 'even')]"
      ]
     },
     "execution_count": 77,
     "metadata": {
      "tags": []
     },
     "output_type": "execute_result"
    }
   ],
   "source": [
    "[(i,'even') if i%2 ==0 else (i,'odd') for i in range(0,9)]\n",
    "\n"
   ]
  },
  {
   "cell_type": "code",
   "execution_count": null,
   "metadata": {
    "id": "DMJhsTqkHF8U",
    "outputId": "63a203e0-215e-40e9-fb23-5400bb837d76"
   },
   "outputs": [
    {
     "data": {
      "text/plain": [
       "[(0, 'even'), (2, 'even'), (4, 'even'), (6, 'even'), (8, 'even'), (10, 'even')]"
      ]
     },
     "execution_count": 82,
     "metadata": {
      "tags": []
     },
     "output_type": "execute_result"
    }
   ],
   "source": [
    "[(i,'even') for i in range(0,11) if i%2 == 0]"
   ]
  },
  {
   "cell_type": "code",
   "execution_count": null,
   "metadata": {
    "id": "ntho0Qm5HF8V",
    "outputId": "18426878-9dea-411f-9e1e-7daaee2590ae"
   },
   "outputs": [
    {
     "name": "stdout",
     "output_type": "stream",
     "text": [
      "1 Odd Number\n",
      "2 Even Number\n",
      "3 Odd Number\n",
      "4 Even Number\n",
      "5 Odd Number\n",
      "6 Even Number\n",
      "7 Odd Number\n",
      "8 Even Number\n",
      "9 Odd Number\n",
      "10 Even Number\n"
     ]
    }
   ],
   "source": [
    "for i in range(1,11):\n",
    "    if i%2 == 0:\n",
    "        print(i, 'Even Number')\n",
    "    else:\n",
    "        print(i, 'Odd Number')"
   ]
  },
  {
   "cell_type": "markdown",
   "metadata": {
    "id": "Lnq3vOaLHF8V"
   },
   "source": [
    "## if ,elif and else statements\n",
    "* elif = else if\n",
    "* we use **elif** with **if** statement they can not be used independently.\n",
    "* if there is **if** and **elif** statements in the program then , if and elif statement breaks the code if they are true.\n"
   ]
  },
  {
   "cell_type": "code",
   "execution_count": null,
   "metadata": {
    "id": "JF4ALNxmHF8W",
    "outputId": "ba518211-3a16-426b-a799-feee94474128"
   },
   "outputs": [
    {
     "name": "stdout",
     "output_type": "stream",
     "text": [
      "middle\n"
     ]
    }
   ],
   "source": [
    "if 1 == 2:\n",
    "    print('first')\n",
    "elif 3 == 3:\n",
    "    print('middle')\n",
    "else:\n",
    "    print('Last')"
   ]
  },
  {
   "cell_type": "code",
   "execution_count": null,
   "metadata": {
    "id": "9hQbzkGaHF8W",
    "outputId": "2fd552ee-b8e8-4ac0-eb42-dece17331cb9"
   },
   "outputs": [
    {
     "name": "stdout",
     "output_type": "stream",
     "text": [
      "x is greater than 5\n"
     ]
    }
   ],
   "source": [
    "x,y = 6,8\n",
    "if x > y:\n",
    "    print('x is greater than y')\n",
    "elif x > 5:\n",
    "    print('x is greater than 5')\n",
    "elif x > 8:\n",
    "    print('x is greater than 8')\n",
    "else:\n",
    "    print('else ran')"
   ]
  },
  {
   "cell_type": "code",
   "execution_count": null,
   "metadata": {
    "id": "fSwLJTdgHF8W",
    "outputId": "1eef4813-295f-44b3-9fa0-1f480e7a828d"
   },
   "outputs": [
    {
     "name": "stdout",
     "output_type": "stream",
     "text": [
      "x is greater than y\n",
      "x is greater than 5\n",
      "else ran\n"
     ]
    }
   ],
   "source": [
    "# running the code by replacing elif with if\n",
    "x,y = 10,8\n",
    "if x > y:\n",
    "    print('x is greater than y')\n",
    "if x > 5:\n",
    "    print('x is greater than 5')\n",
    "if x > 80:\n",
    "    print('x is greater than 80')\n",
    "else:\n",
    "    print('else ran')"
   ]
  },
  {
   "cell_type": "markdown",
   "metadata": {
    "id": "GWLPi4IEHF8W"
   },
   "source": [
    "# While Loop"
   ]
  },
  {
   "cell_type": "code",
   "execution_count": null,
   "metadata": {
    "id": "f9p10J-tHF8W",
    "outputId": "542b2ac1-9dec-4e61-a4fa-d0c260d23088"
   },
   "outputs": [
    {
     "name": "stdout",
     "output_type": "stream",
     "text": [
      "This is a infinite loop\n"
     ]
    }
   ],
   "source": [
    "i = 2\n",
    "\n",
    "while i < 5:\n",
    "    print('This is a infinite loop')\n",
    "    break\n",
    "    \n",
    "    \n",
    "   "
   ]
  },
  {
   "cell_type": "code",
   "execution_count": null,
   "metadata": {
    "id": "qjOKD51UHF8X",
    "outputId": "daaf8734-f90b-496e-f2a1-8fc8e053a193"
   },
   "outputs": [
    {
     "name": "stdout",
     "output_type": "stream",
     "text": [
      "1\n",
      "after break 2\n",
      "2\n",
      "after break 3\n",
      "3\n"
     ]
    }
   ],
   "source": [
    "i = 1\n",
    "\n",
    "while i < 6:\n",
    "    print(i)\n",
    "    if i == 3:\n",
    "        break\n",
    "    \n",
    "    i += 1\n",
    "    print('after break',i)"
   ]
  },
  {
   "cell_type": "code",
   "execution_count": null,
   "metadata": {
    "id": "BJzYIb8xHF8X",
    "outputId": "abe7d5ea-c606-4a15-e84d-9aefd93d1504"
   },
   "outputs": [
    {
     "data": {
      "text/plain": [
       "2"
      ]
     },
     "execution_count": 1,
     "metadata": {
      "tags": []
     },
     "output_type": "execute_result"
    }
   ],
   "source": [
    "i = 1\n",
    "i+=i\n",
    "i"
   ]
  },
  {
   "cell_type": "code",
   "execution_count": null,
   "metadata": {
    "id": "LjdD7akZHF8X",
    "outputId": "08d926b8-7558-4e6a-99f0-7ca36b68f2be"
   },
   "outputs": [
    {
     "name": "stdout",
     "output_type": "stream",
     "text": [
      "In For Loop : 3\n",
      "While loop: b4 increment:  3 \n",
      "\n",
      "While loop: after increment:  4 \n",
      "\n",
      "While loop: b4 increment:  4 \n",
      "\n",
      "While loop: after increment:  5 \n",
      "\n",
      "Else Block b4 increment:  5 \n",
      "\n",
      "Else Block: after increment:  6 \n",
      "\n",
      "In For Loop : 5\n",
      "Else Block b4 increment:  5 \n",
      "\n",
      "Else Block: after increment:  6 \n",
      "\n",
      "In For Loop : 8\n",
      "Else Block b4 increment:  8 \n",
      "\n",
      "Else Block: after increment:  9 \n",
      "\n"
     ]
    }
   ],
   "source": [
    "g = [3,5,8]\n",
    "for i in g:\n",
    "    print('In For Loop :',i)    \n",
    "    while i<5:\n",
    "        print('While loop: b4 increment: ',i, '\\n')\n",
    "        i+=1\n",
    "        print('While loop: after increment: ',i,'\\n')\n",
    "    else :\n",
    "        print('Else Block b4 increment: ', i,'\\n')\n",
    "        i+=1\n",
    "        print('Else Block: after increment: ',i,'\\n')"
   ]
  },
  {
   "cell_type": "code",
   "execution_count": null,
   "metadata": {
    "id": "cmUHStEXHF8X",
    "outputId": "362a95d3-d632-47d9-dd18-bec435057b1c"
   },
   "outputs": [
    {
     "name": "stdout",
     "output_type": "stream",
     "text": [
      "1\n",
      "2\n",
      "3\n",
      "4\n",
      "5\n",
      "i is no longer less than 6\n"
     ]
    }
   ],
   "source": [
    "i = 1\n",
    "while i < 6:\n",
    "    print(i)\n",
    "    i += 1\n",
    "else:\n",
    "    print(\"i is no longer less than 6\")\n"
   ]
  },
  {
   "cell_type": "markdown",
   "metadata": {
    "id": "mi3ZjEXiHF8Y"
   },
   "source": [
    "### Continue\n",
    "Continue - The continue is preceeded by a condition . if the condition is True than continue will not run the code below and will move back starting step of the loop for processing next step.Pass- \n",
    "### Pass \n",
    "If nothing is supoosed to happen in a code block , a pass is needed for such a block to not produce error. \n",
    "### Break \n",
    "exits the loop"
   ]
  },
  {
   "cell_type": "code",
   "execution_count": null,
   "metadata": {
    "id": "qVt3DgnKHF8Y",
    "outputId": "0f05f588-8fa4-4172-9337-ed10393dc848"
   },
   "outputs": [
    {
     "data": {
      "text/plain": [
       "[1, 2, 4, 5, 6]"
      ]
     },
     "execution_count": 14,
     "metadata": {
      "tags": []
     },
     "output_type": "execute_result"
    }
   ],
   "source": [
    "h = []\n",
    "i = 0\n",
    "while i < 6:\n",
    "    i += 1\n",
    "    if i == 3:\n",
    "        continue\n",
    "        print('contiue')\n",
    "    else:\n",
    "        h.append(i)\n",
    "    \n",
    "h"
   ]
  },
  {
   "cell_type": "code",
   "execution_count": null,
   "metadata": {
    "id": "ebFJSijcHF8Y",
    "outputId": "e5f9885e-0b3b-4be5-f559-ea6da2162277"
   },
   "outputs": [
    {
     "name": "stdout",
     "output_type": "stream",
     "text": [
      "pass\n",
      "pass\n",
      "pass\n",
      "[10, 20, 30, 5, 18, 12, 4, 20]\n"
     ]
    }
   ],
   "source": [
    "yo = []\n",
    "age = [10,20,30,40,5,18,64,55,12,4,20]\n",
    "for a in age:\n",
    "    if a >=40:\n",
    "        pass\n",
    "        print('pass')\n",
    "    else:\n",
    "        yo.append(a)\n",
    "        \n",
    "print(yo)"
   ]
  },
  {
   "cell_type": "code",
   "execution_count": null,
   "metadata": {
    "id": "yRkENEZ3HF8Y",
    "outputId": "fd8a53a5-7817-4215-e9cb-071d511ebf59"
   },
   "outputs": [
    {
     "name": "stdout",
     "output_type": "stream",
     "text": [
      "\n",
      " else condition:  1\n",
      "\n",
      " else condition:  2\n",
      "\n",
      " In pass condition: Three\n",
      "\n",
      " else condition:  3\n",
      "\n",
      " else condition:  4\n",
      "\n",
      " else condition:  5\n",
      "\n",
      " else condition:  6\n"
     ]
    },
    {
     "data": {
      "text/plain": [
       "[3]"
      ]
     },
     "execution_count": 98,
     "metadata": {
      "tags": []
     },
     "output_type": "execute_result"
    }
   ],
   "source": [
    "h = []\n",
    "i = 0\n",
    "while i < 6:\n",
    "    i += 1\n",
    "    if i == 3:\n",
    "        pass\n",
    "        print('\\n In pass condition: Three')\n",
    "        h.append(i)\n",
    "    print('\\n else condition: ',i)\n",
    "    \n",
    "\n",
    "h"
   ]
  },
  {
   "cell_type": "code",
   "execution_count": null,
   "metadata": {
    "id": "w4N_gvoJHF8Z",
    "outputId": "7bf1bf35-2b9c-460e-bbb8-24012852bf5e"
   },
   "outputs": [
    {
     "name": "stdout",
     "output_type": "stream",
     "text": [
      "1\n",
      "2\n",
      "4\n",
      "5\n",
      "6\n"
     ]
    }
   ],
   "source": [
    "i = 0\n",
    "while i < 6:\n",
    "    i += 1\n",
    "    if i == 3:\n",
    "        continue\n",
    "    else:\n",
    "        print(i)\n",
    "    \n",
    "     "
   ]
  },
  {
   "cell_type": "code",
   "execution_count": null,
   "metadata": {
    "id": "NQLHSNZ8HF8Z",
    "outputId": "f9bc264d-6eae-4ac5-c93a-e580a7706f2b"
   },
   "outputs": [
    {
     "name": "stdout",
     "output_type": "stream",
     "text": [
      "P\n",
      "Y\n",
      "H\n",
      "O\n",
      "N\n"
     ]
    }
   ],
   "source": [
    "for letter in 'python':\n",
    "    if letter == 't':\n",
    "        pass\n",
    "        \n",
    "    else:\n",
    "        print(letter.upper()) "
   ]
  },
  {
   "cell_type": "code",
   "execution_count": null,
   "metadata": {
    "id": "KM95A2WzHF8Z",
    "outputId": "01b54338-1df7-47c2-bbd0-a431227186f1"
   },
   "outputs": [
    {
     "name": "stdout",
     "output_type": "stream",
     "text": [
      "P\n",
      "Y\n"
     ]
    }
   ],
   "source": [
    "for letter in 'python':\n",
    "    if letter == 't':\n",
    "        break\n",
    "    else:\n",
    "        print(letter.upper()) "
   ]
  },
  {
   "cell_type": "code",
   "execution_count": null,
   "metadata": {
    "id": "NJ3zO5umHF8Z",
    "outputId": "d9e8181d-ebe0-4c27-a5c0-ee1d9196eb2a"
   },
   "outputs": [
    {
     "name": "stdout",
     "output_type": "stream",
     "text": [
      "P\n",
      "Y\n",
      "pass\n",
      "H\n",
      "O\n",
      "N\n"
     ]
    }
   ],
   "source": [
    "for letter in 'python':\n",
    "    if letter == 't':\n",
    "        pass\n",
    "        print('pass')\n",
    "    else:\n",
    "        print(letter.upper()) "
   ]
  },
  {
   "cell_type": "code",
   "execution_count": null,
   "metadata": {
    "id": "8gRqiAWbHF8a",
    "outputId": "e77271f6-1ec0-48a8-cfbd-69ab6926ca5f"
   },
   "outputs": [
    {
     "name": "stdout",
     "output_type": "stream",
     "text": [
      "1\n",
      "2\n",
      "4\n",
      "5\n",
      "6\n"
     ]
    }
   ],
   "source": [
    "i = 0\n",
    "while i < 6:\n",
    "    i += 1\n",
    "    if i == 3:\n",
    "        pass\n",
    "    else:\n",
    "        print(i)"
   ]
  },
  {
   "cell_type": "code",
   "execution_count": null,
   "metadata": {
    "id": "Bn0oJBlfHF8a",
    "outputId": "83ddc275-fac1-413e-c8de-c6631b7c1ba0"
   },
   "outputs": [
    {
     "name": "stdout",
     "output_type": "stream",
     "text": [
      "18\n",
      "19\n",
      "29\n",
      "46\n"
     ]
    }
   ],
   "source": [
    "listA = [18, 21, 19, 29, 46]\n",
    "for val in listA:\n",
    "    if val == 21:\n",
    "        pass\n",
    "    else:\n",
    "        print(val)"
   ]
  },
  {
   "cell_type": "code",
   "execution_count": null,
   "metadata": {
    "id": "W4pBImXdHF8a",
    "outputId": "91ab8eb3-7dc5-4bd1-bb36-d1018890a76e"
   },
   "outputs": [
    {
     "name": "stdout",
     "output_type": "stream",
     "text": [
      "1\n",
      "2\n"
     ]
    }
   ],
   "source": [
    "i = 0\n",
    "while i < 6:\n",
    "    i += 1\n",
    "    if i == 3:\n",
    "        break\n",
    "    else:\n",
    "        print(i)"
   ]
  },
  {
   "cell_type": "markdown",
   "metadata": {
    "id": "QB7KE4IqHF8a"
   },
   "source": [
    "# String Operations"
   ]
  },
  {
   "cell_type": "code",
   "execution_count": null,
   "metadata": {
    "id": "0X-WVEeWHF8a",
    "outputId": "ff94411d-1e57-4623-cc63-a1b6610806ff"
   },
   "outputs": [
    {
     "data": {
      "text/plain": [
       "'bss fgg hhh bss kss kss'"
      ]
     },
     "execution_count": 39,
     "metadata": {
      "tags": []
     },
     "output_type": "execute_result"
    }
   ],
   "source": [
    "a = \"kss fgg hhh kss kss kss\"\n",
    "a1 = a.replace('kss','bss',2) # (old word, new word, replace what number of times)\n",
    "a1"
   ]
  },
  {
   "cell_type": "code",
   "execution_count": null,
   "metadata": {
    "id": "55B4l2o4HF8b",
    "outputId": "fc6283fe-2b28-4ab1-b36a-ca38c3c724d2"
   },
   "outputs": [
    {
     "name": "stdout",
     "output_type": "stream",
     "text": [
      " this class is for here going on in dec 2020 here classs going\n"
     ]
    }
   ],
   "source": [
    "a2 = ' this class is for python going on in dec 2020 python classs going'\n",
    "a3 = a2.replace('python','here')\n",
    "print(a3)\n"
   ]
  },
  {
   "cell_type": "code",
   "execution_count": null,
   "metadata": {
    "id": "8W5AxuK3HF8b",
    "outputId": "cd21d9f0-9a38-4e04-f823-f553ab7e7306"
   },
   "outputs": [
    {
     "data": {
      "text/plain": [
       "['ass', 'fgg', 'hhh', 'ass', 'ass', 'sss']"
      ]
     },
     "execution_count": 45,
     "metadata": {
      "tags": []
     },
     "output_type": "execute_result"
    }
   ],
   "source": [
    "a = ['ass','fgg','hhh','ass','ass','ass']\n",
    "\n",
    "for ind,i in enumerate(a):\n",
    "    if ind == len(a)-1 and i == 'ass':        \n",
    "            a[ind] = 'bss'\n",
    "    \n",
    "a"
   ]
  },
  {
   "cell_type": "code",
   "execution_count": null,
   "metadata": {
    "id": "H-3IPc2gHF8b"
   },
   "outputs": [],
   "source": [
    "a2_1 = a2.split(' ') # seperator\n",
    "# this, is, for, in"
   ]
  },
  {
   "cell_type": "code",
   "execution_count": null,
   "metadata": {
    "id": "nSThE7FcHF8b",
    "outputId": "55e30b29-f8bf-4003-da62-8bb93b16d1a9"
   },
   "outputs": [
    {
     "data": {
      "text/plain": [
       "' this class is for python going on in dec 2020 python classs going'"
      ]
     },
     "execution_count": 101,
     "metadata": {
      "tags": []
     },
     "output_type": "execute_result"
    }
   ],
   "source": [
    "a2_2 = ' '.join(a2_1)\n",
    "a2_2"
   ]
  },
  {
   "cell_type": "code",
   "execution_count": null,
   "metadata": {
    "id": "J714ezHMHF8b",
    "outputId": "76fc83ce-22a5-4664-a6d4-d49a8cf74acf"
   },
   "outputs": [
    {
     "data": {
      "text/plain": [
       "['class',\n",
       " 'is',\n",
       " 'for',\n",
       " 'python',\n",
       " 'going',\n",
       " 'on',\n",
       " 'in',\n",
       " 'dec',\n",
       " '2020',\n",
       " 'python',\n",
       " 'classs',\n",
       " 'going']"
      ]
     },
     "execution_count": 87,
     "metadata": {
      "tags": []
     },
     "output_type": "execute_result"
    }
   ],
   "source": [
    "a2_1[2:]"
   ]
  },
  {
   "cell_type": "code",
   "execution_count": null,
   "metadata": {
    "id": "ZgJinCqcHF8c",
    "outputId": "7b79e4e6-a8fe-463e-fd34-ccfb9ac3d800"
   },
   "outputs": [
    {
     "data": {
      "text/plain": [
       "['going', 'dec', '2020', 'python', 'classs', 'going']"
      ]
     },
     "execution_count": 99,
     "metadata": {
      "tags": []
     },
     "output_type": "execute_result"
    }
   ],
   "source": [
    "h1 = [i for i in a2.split(' ') if i not in ['this','is','in','on','for','']][2:]\n",
    "h1"
   ]
  },
  {
   "cell_type": "code",
   "execution_count": null,
   "metadata": {
    "id": "Exy2-_e8HF8c",
    "outputId": "4e341970-2ce7-4e4e-c7fc-ee6ea249d830"
   },
   "outputs": [
    {
     "data": {
      "text/plain": [
       "'going dec 2020 python classs going'"
      ]
     },
     "execution_count": 96,
     "metadata": {
      "tags": []
     },
     "output_type": "execute_result"
    }
   ],
   "source": [
    "' '.join(h1)"
   ]
  },
  {
   "cell_type": "code",
   "execution_count": null,
   "metadata": {
    "id": "aSQaWY74HF8c",
    "outputId": "adf76aa8-f23a-4bb8-ab34-d9b9727c8d37"
   },
   "outputs": [
    {
     "data": {
      "text/plain": [
       "'class python going dec 2020 python classs going'"
      ]
     },
     "execution_count": 90,
     "metadata": {
      "tags": []
     },
     "output_type": "execute_result"
    }
   ],
   "source": [
    "l = []\n",
    "for i in a2_1:\n",
    "    if i not in ['this','is','in','on','for', ''] :\n",
    "        l.append(i)\n",
    "\n",
    "l2 = ' '.join(l)\n",
    "l2"
   ]
  },
  {
   "cell_type": "code",
   "execution_count": null,
   "metadata": {
    "id": "h9vedHJTHF8c",
    "outputId": "486bd7c5-f760-4fb1-ee2f-48254e3c5273"
   },
   "outputs": [
    {
     "data": {
      "text/plain": [
       "['fgg', 'hhh', 'ass', 'ass', 'ass']"
      ]
     },
     "execution_count": 59,
     "metadata": {
      "tags": []
     },
     "output_type": "execute_result"
    }
   ],
   "source": [
    "l1 = ['ass','fgg','hhh','ass','ass','ass']\n",
    "l1.remove('ass')\n",
    "l1"
   ]
  },
  {
   "cell_type": "code",
   "execution_count": null,
   "metadata": {
    "id": "AjV6VxRcHF8d"
   },
   "outputs": [],
   "source": []
  },
  {
   "cell_type": "code",
   "execution_count": null,
   "metadata": {
    "id": "S4DOFTL7HF8d",
    "outputId": "fd4bc4b4-cfff-4223-fb6a-8c684a0c66d5"
   },
   "outputs": [
    {
     "data": {
      "text/plain": [
       "'hello'"
      ]
     },
     "execution_count": 126,
     "metadata": {
      "tags": []
     },
     "output_type": "execute_result"
    }
   ],
   "source": [
    "s = 'hello there'\n",
    "s.split(' ')[0]"
   ]
  },
  {
   "cell_type": "code",
   "execution_count": null,
   "metadata": {
    "id": "DFKq7EcaHF8d",
    "outputId": "d96f65a8-e235-4913-e016-d18b459167dc"
   },
   "outputs": [
    {
     "data": {
      "text/plain": [
       "['b', 'fgg', 'hhh', 'b', 'b', 'b']"
      ]
     },
     "execution_count": 7,
     "metadata": {
      "tags": []
     },
     "output_type": "execute_result"
    }
   ],
   "source": [
    "a = ['ass','fgg','hhh','ass','ass','ass']\n",
    "[i.replace('ass','b') if i =='ass' else i for i in a]\n"
   ]
  },
  {
   "cell_type": "code",
   "execution_count": null,
   "metadata": {
    "id": "AbC8_4JZHF8d"
   },
   "outputs": [],
   "source": [
    "['b' if i == 'ass' else i for i in a]\n"
   ]
  },
  {
   "cell_type": "code",
   "execution_count": null,
   "metadata": {
    "id": "iMqWrrcfHF8d"
   },
   "outputs": [],
   "source": [
    "for i in a:\n",
    "    if i == 'ass':\n",
    "        print(i.replace('ass','b'))\n",
    "    else:\n",
    "        print(i)\n",
    "\n",
    "        "
   ]
  },
  {
   "cell_type": "code",
   "execution_count": null,
   "metadata": {
    "id": "4ifU1sYzHF8d",
    "outputId": "7d7c5103-86d4-45aa-a7cc-0d982e66b001"
   },
   "outputs": [
    {
     "name": "stdout",
     "output_type": "stream",
     "text": [
      "abc\n",
      "abcgm.com\n",
      "abc\n",
      "abcgm.com\n",
      "abc\n",
      "abcgm.com\n",
      "abc\n",
      "abcgm.com\n",
      "abc\n",
      "abcgm.com\n"
     ]
    }
   ],
   "source": [
    "h = \"abc@gm.com abc@gm.com abc@gm.com abc@gm.com abc@gm.com\"\n",
    "\n",
    "h1 = ['Abc@gm.com','aBc@gm.com','abC@gm.com','ABc@gm.com','AbC@gm.com']\n",
    "\n",
    "for i in h1:\n",
    "    c = i.split('@')\n",
    "    print(c[0].lower())\n",
    "#     print('\\n split op ',c)\n",
    "    print(''.join(c).lower())\n",
    " "
   ]
  },
  {
   "cell_type": "markdown",
   "metadata": {
    "id": "jtV66OskHF8e"
   },
   "source": [
    "### upper,  lower, capitalize, swapcase"
   ]
  },
  {
   "cell_type": "code",
   "execution_count": null,
   "metadata": {
    "id": "Kz0nqr8AHF8e",
    "outputId": "6710de27-8704-4848-868e-939e1518baac"
   },
   "outputs": [
    {
     "name": "stdout",
     "output_type": "stream",
     "text": [
      "\n",
      " Upper:       SDFUIH AOJOEJIOAC DHBEUICHHIUCV\n",
      "\n",
      " Lower:       sdfuih aojoejioac dhbeuichhiucv\n",
      "\n",
      " Capitalize:  Sdfuih aojoejioac dhbeuichhiucv\n",
      "\n",
      " swapcase:    SDFUIH AOJOEJIOAC dhbeuichhiucv\n"
     ]
    }
   ],
   "source": [
    "s = 'sdfuih aojoejioac DHBEUICHHIUCV'\n",
    "\n",
    "print('\\n Upper:      ',s.upper())\n",
    "\n",
    "print('\\n Lower:      ',s.lower())\n",
    "\n",
    "print('\\n Capitalize: ',s.capitalize())\n",
    "\n",
    "print('\\n swapcase:   ',s.swapcase())"
   ]
  },
  {
   "cell_type": "code",
   "execution_count": null,
   "metadata": {
    "id": "g8s6KmbjHF8e",
    "outputId": "10ee8176-4b0a-4975-9f6c-1e131c2a01ba"
   },
   "outputs": [
    {
     "name": "stdout",
     "output_type": "stream",
     "text": [
      "AB\n",
      "CD\n"
     ]
    }
   ],
   "source": [
    "x = ['ab', 'cd']\n",
    "for i in x:\n",
    "    print(i.upper())\n",
    "  "
   ]
  },
  {
   "cell_type": "code",
   "execution_count": null,
   "metadata": {
    "id": "_t5HHaVCHF8f"
   },
   "outputs": [],
   "source": []
  }
 ],
 "metadata": {
  "colab": {
   "collapsed_sections": [
    "R4z8px0NHF8Q",
    "9P3qV5MpHF8R",
    "WCMxav30HF8S",
    "Lnq3vOaLHF8V",
    "GWLPi4IEHF8W",
    "mi3ZjEXiHF8Y",
    "QB7KE4IqHF8a",
    "jtV66OskHF8e"
   ],
   "name": "FOR, WHILE, IF ELSE LOOPS.ipynb",
   "provenance": []
  },
  "kernelspec": {
   "display_name": "Python 3",
   "language": "python",
   "name": "python3"
  },
  "language_info": {
   "codemirror_mode": {
    "name": "ipython",
    "version": 3
   },
   "file_extension": ".py",
   "mimetype": "text/x-python",
   "name": "python",
   "nbconvert_exporter": "python",
   "pygments_lexer": "ipython3",
   "version": "3.8.5"
  }
 },
 "nbformat": 4,
 "nbformat_minor": 1
}
