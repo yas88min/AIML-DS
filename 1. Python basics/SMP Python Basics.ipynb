{
 "cells": [
  {
   "cell_type": "markdown",
   "metadata": {},
   "source": [
    "## Advantages of Python\n",
    "\n",
    "* **The Code looks similar to how Humans think.****\n",
    "\n",
    "\n",
    "* **Python is free and open-source** - open source means that's it's source code is available to public . we can download it , change it ,use it and distribute it. This feature is called FLOSS (Free and open source software.)\n",
    "\n",
    "\n",
    "* **Portable** - we does not need to change the code that's written in windows operating system to run it on mac or any other operating system.\n",
    "\n",
    "\n",
    "* **It is well supoorted and has numerous online content.**\n",
    "\n",
    "\n",
    "* **It is Dynamically typed**  - meand the type of value is decided at runtime , this is why de don't need to specify the data type while decalaring it.\n",
    "\n",
    "\n",
    "* **It has many powerfull libraries for data manipulation and analysis , data visulatization.**\n",
    "\n",
    "\n",
    "* **Python has Machine Learning.**\n"
   ]
  },
  {
   "cell_type": "markdown",
   "metadata": {},
   "source": [
    "# Operators - \n",
    "\n",
    "**Arithmetic Operators**\n",
    "\n",
    "**Assignment  Operators**\n",
    "\n",
    "**Comparsion Operators**\n",
    "\n",
    "**Logical  Operators**\n",
    "\n",
    "**Identity Operators**\n",
    "\n",
    "**Membership Operators**\n"
   ]
  },
  {
   "cell_type": "markdown",
   "metadata": {},
   "source": [
    "# Operators\n",
    "They help us in performing operations\n",
    "\n",
    "## Arithmetic Operators\n",
    "\n",
    "- **+**  : addition\n",
    "\n",
    "- **-**  : subtraction\n",
    "\n",
    "- [ * ] : multiplication\n",
    "\n",
    "- **/**  : division\n",
    "\n",
    "- **%**  : modulus  - gives remainder\n",
    "\n",
    "-   **   : Exponentiation\n",
    "\n"
   ]
  },
  {
   "cell_type": "markdown",
   "metadata": {},
   "source": [
    "## Data types\n",
    "\n",
    "* Numbers\n",
    "\n",
    "* float\n",
    "\n",
    "* string\n",
    "\n",
    "* boolean\n",
    "\n",
    "* Lists\n",
    "\n",
    "* Dictionaries\n",
    "\n",
    "* Tuples\n",
    "\n",
    "* Sets"
   ]
  },
  {
   "cell_type": "markdown",
   "metadata": {},
   "source": [
    "### Numbers"
   ]
  },
  {
   "cell_type": "raw",
   "metadata": {},
   "source": [
    "# In Python OVERWRITNG is Allowed\n",
    "# Python is Case sensitive\n",
    "# code will be executed line by line\n",
    "# cannot define a variable - whose name starts with a number, special caharacter( _ is excluded), \n",
    "# space are not allowed in python\n",
    "\n",
    "\n",
    "# esc M\n",
    "# shift enter, ctrl enter, esc L"
   ]
  },
  {
   "cell_type": "code",
   "execution_count": 4,
   "metadata": {},
   "outputs": [
    {
     "name": "stdout",
     "output_type": "stream",
     "text": [
      "printing value of a 200\n"
     ]
    }
   ],
   "source": [
    "a = 10  # variable assignment\n",
    "a = 100\n",
    "a = 200  # , ctl /\n",
    "print('printing value of a', a)  # when you want to print more than 1 variable , have to put comma  - shift enter "
   ]
  },
  {
   "cell_type": "code",
   "execution_count": 9,
   "metadata": {},
   "outputs": [
    {
     "name": "stdout",
     "output_type": "stream",
     "text": [
      "2000\n"
     ]
    }
   ],
   "source": [
    "# 12b = 10\n",
    "_abc123 = 2000\n",
    "print(_abc)"
   ]
  },
  {
   "cell_type": "raw",
   "metadata": {},
   "source": [
    "# Integer : 10,-10,1351456465,0,78,-78   ---- int\n",
    "\n",
    "# decimal : 10.5 ,10.25555552, 10.0 --------  float\n",
    "\n",
    "# Text : \"python langaage abc name\" , ' python langaage abc name ' --- str\n",
    "\n",
    "# Boolean : True , False  ------ bool\n",
    "\n",
    "\n",
    "# perfom any kind of operarioon -- data types have to be same"
   ]
  },
  {
   "cell_type": "code",
   "execution_count": null,
   "metadata": {},
   "outputs": [],
   "source": []
  },
  {
   "cell_type": "code",
   "execution_count": 12,
   "metadata": {},
   "outputs": [
    {
     "name": "stdout",
     "output_type": "stream",
     "text": [
      "10.5 True \n",
      " False \n",
      " strings will be always enclosed in quotes - and these quotes could be single or double python \n",
      " this shouldn\\\\\\'t work 1515212 15.58 True False \t 100.784531\n"
     ]
    }
   ],
   "source": [
    "a2 = 10.5\n",
    "a3 = True\n",
    "a4 = False\n",
    "a5 = 'strings will be always enclosed in quotes - and these quotes could be single or double'\n",
    "a6 = \"python\"\n",
    "a7 = \"this shouldn\\\\\\\\\\\\\\'t work 1515212 15.58 True False\"\n",
    "a8 = '100.784531'\n",
    "print(a2, a3, '\\n', a4, '\\n',a5, a6, '\\n', a7, '\\t', a8)"
   ]
  },
  {
   "cell_type": "code",
   "execution_count": 28,
   "metadata": {},
   "outputs": [
    {
     "name": "stdout",
     "output_type": "stream",
     "text": [
      "<class 'bool'> <class 'float'> <class 'str'> <class 'float'>\n"
     ]
    }
   ],
   "source": [
    "# checking the datatype\n",
    "print( type(a4), type(a2), type(a6), type(2.45) )"
   ]
  },
  {
   "cell_type": "code",
   "execution_count": 38,
   "metadata": {},
   "outputs": [
    {
     "name": "stdout",
     "output_type": "stream",
     "text": [
      "<class 'int'> 20\n"
     ]
    }
   ],
   "source": [
    "# type Conversion or Type Casting\n",
    "\n",
    "b = 10.9\n",
    "b = int(b)\n",
    "b = str(b)  # '10'\n",
    "b = int(b)\n",
    "print( type(b), b+10)"
   ]
  },
  {
   "cell_type": "code",
   "execution_count": 42,
   "metadata": {},
   "outputs": [
    {
     "name": "stdout",
     "output_type": "stream",
     "text": [
      "10.0\n"
     ]
    }
   ],
   "source": [
    "d = int(10.9) # 'abc'\n",
    "d = float(d)\n",
    "print(d)"
   ]
  },
  {
   "cell_type": "code",
   "execution_count": null,
   "metadata": {},
   "outputs": [],
   "source": [
    "1+1"
   ]
  },
  {
   "cell_type": "code",
   "execution_count": null,
   "metadata": {},
   "outputs": [],
   "source": [
    "1 * 3"
   ]
  },
  {
   "cell_type": "code",
   "execution_count": 38,
   "metadata": {},
   "outputs": [
    {
     "data": {
      "text/plain": [
       "2.0"
      ]
     },
     "execution_count": 38,
     "metadata": {},
     "output_type": "execute_result"
    }
   ],
   "source": [
    "4/2  # division   o/p float"
   ]
  },
  {
   "cell_type": "code",
   "execution_count": 39,
   "metadata": {},
   "outputs": [
    {
     "data": {
      "text/plain": [
       "2"
      ]
     },
     "execution_count": 39,
     "metadata": {},
     "output_type": "execute_result"
    }
   ],
   "source": [
    "4//2  # floor division  - > o/p interger"
   ]
  },
  {
   "cell_type": "code",
   "execution_count": 35,
   "metadata": {},
   "outputs": [
    {
     "data": {
      "text/plain": [
       "1048576"
      ]
     },
     "execution_count": 35,
     "metadata": {},
     "output_type": "execute_result"
    }
   ],
   "source": [
    "2 ** 20  # Power"
   ]
  },
  {
   "cell_type": "code",
   "execution_count": 37,
   "metadata": {},
   "outputs": [
    {
     "data": {
      "text/plain": [
       "1"
      ]
     },
     "execution_count": 37,
     "metadata": {},
     "output_type": "execute_result"
    }
   ],
   "source": [
    "5 % 2 # Modulus - remainder"
   ]
  },
  {
   "cell_type": "code",
   "execution_count": 40,
   "metadata": {},
   "outputs": [
    {
     "data": {
      "text/plain": [
       "50"
      ]
     },
     "execution_count": 40,
     "metadata": {},
     "output_type": "execute_result"
    }
   ],
   "source": [
    "(2 + 3) * (5 + 5)   # BODMAS"
   ]
  },
  {
   "cell_type": "code",
   "execution_count": null,
   "metadata": {},
   "outputs": [],
   "source": [
    "type(10)\n",
    "#  int stands for integer"
   ]
  },
  {
   "cell_type": "markdown",
   "metadata": {},
   "source": [
    "### Float"
   ]
  },
  {
   "cell_type": "code",
   "execution_count": null,
   "metadata": {},
   "outputs": [],
   "source": [
    "a = 10 \n",
    "print(a)"
   ]
  },
  {
   "cell_type": "code",
   "execution_count": null,
   "metadata": {},
   "outputs": [],
   "source": [
    "word = 'hello'\n",
    "word = \"hello2\"\n",
    "word =  \" can't \"\n",
    "\n",
    "word"
   ]
  },
  {
   "cell_type": "code",
   "execution_count": null,
   "metadata": {},
   "outputs": [],
   "source": [
    "a = 10\n",
    "b = 20\n",
    "c = a+b\n",
    "print(a)\n",
    "\n",
    "# a = 40\n",
    "# print(a)"
   ]
  },
  {
   "cell_type": "code",
   "execution_count": null,
   "metadata": {},
   "outputs": [],
   "source": [
    "# c1 = a+10\n",
    "\n",
    "print('Value of a: ',\n",
    "      '\\n',\n",
    "      '\\t', \n",
    "      a+10,\n",
    "      '\\n',\n",
    "      'value of b: ',\n",
    "      b) # this is print command\n",
    "\n",
    "\n",
    "print(' orignal a:' ,a)\n",
    "\n",
    "\n",
    "''' Multi Line Comment\n",
    "\n",
    "Integer = 1,24,57,8\n",
    "Float = 1.25 ,0.36,1.58\n",
    "String = 'hello there'\n",
    "st = \"i can't do it\"\n",
    "\n",
    "'''"
   ]
  },
  {
   "cell_type": "code",
   "execution_count": null,
   "metadata": {},
   "outputs": [],
   "source": [
    "type(-20.5)"
   ]
  },
  {
   "cell_type": "code",
   "execution_count": null,
   "metadata": {},
   "outputs": [],
   "source": [
    "a = 20 \n",
    "print(type(1.25 ))\n",
    "\n",
    "\n",
    "print(type(a))"
   ]
  },
  {
   "cell_type": "code",
   "execution_count": null,
   "metadata": {},
   "outputs": [],
   "source": [
    "print(a)"
   ]
  },
  {
   "cell_type": "code",
   "execution_count": null,
   "metadata": {},
   "outputs": [],
   "source": [
    "1.25 + 8.0"
   ]
  },
  {
   "cell_type": "markdown",
   "metadata": {},
   "source": [
    "### Strings"
   ]
  },
  {
   "cell_type": "code",
   "execution_count": null,
   "metadata": {},
   "outputs": [],
   "source": [
    "'single quotes'"
   ]
  },
  {
   "cell_type": "code",
   "execution_count": null,
   "metadata": {},
   "outputs": [],
   "source": [
    "type('single quotes')"
   ]
  },
  {
   "cell_type": "code",
   "execution_count": null,
   "metadata": {},
   "outputs": [],
   "source": [
    "\"double quotes\""
   ]
  },
  {
   "cell_type": "code",
   "execution_count": null,
   "metadata": {},
   "outputs": [],
   "source": [
    "\" wrap lot's of other quotes\"\n",
    "# using single quotes within \"\" quotes"
   ]
  },
  {
   "cell_type": "code",
   "execution_count": null,
   "metadata": {},
   "outputs": [],
   "source": [
    "#  ' wrap lot's of other quotes'\n",
    "# gives syntax error beacuse single quotes used inside of single quotes"
   ]
  },
  {
   "cell_type": "code",
   "execution_count": null,
   "metadata": {},
   "outputs": [],
   "source": [
    "#  escape character  \\\n",
    "' wrap lot\\'s of other quotes'"
   ]
  },
  {
   "cell_type": "markdown",
   "metadata": {},
   "source": [
    "### Booleans"
   ]
  },
  {
   "cell_type": "code",
   "execution_count": null,
   "metadata": {},
   "outputs": [],
   "source": [
    "True"
   ]
  },
  {
   "cell_type": "code",
   "execution_count": null,
   "metadata": {},
   "outputs": [],
   "source": [
    "type(True)"
   ]
  },
  {
   "cell_type": "code",
   "execution_count": null,
   "metadata": {},
   "outputs": [],
   "source": [
    "False"
   ]
  },
  {
   "cell_type": "markdown",
   "metadata": {},
   "source": [
    "### Variable Assignment"
   ]
  },
  {
   "cell_type": "code",
   "execution_count": null,
   "metadata": {},
   "outputs": [],
   "source": [
    "# Can not start with number or special characters\n",
    "name_of_var = 2"
   ]
  },
  {
   "cell_type": "code",
   "execution_count": null,
   "metadata": {},
   "outputs": [],
   "source": [
    "x = 2\n",
    "y = 3\n",
    "z = 10\n",
    "z1 = 100"
   ]
  },
  {
   "cell_type": "code",
   "execution_count": 47,
   "metadata": {},
   "outputs": [
    {
     "name": "stdout",
     "output_type": "stream",
     "text": [
      "value of x:  2.34\n",
      "value of y:  3\n",
      "checking z: 10\n",
      "checking x1: 100\n"
     ]
    }
   ],
   "source": [
    "# tuple uncpacking\n",
    "x,y,z,x1 = 2.34 , 3, '10', 100    # there should be equal no. on both sides also called unpacking\n",
    "\n",
    "print('value of x: ',x)\n",
    "print('value of y: ' ,y)\n",
    "print('checking z:', z)\n",
    "print('checking x1:', x1)"
   ]
  },
  {
   "cell_type": "code",
   "execution_count": 45,
   "metadata": {},
   "outputs": [
    {
     "name": "stdout",
     "output_type": "stream",
     "text": [
      "5\n"
     ]
    }
   ],
   "source": [
    "z = x + y\n",
    "print(z)"
   ]
  },
  {
   "cell_type": "code",
   "execution_count": null,
   "metadata": {},
   "outputs": [],
   "source": [
    "# variable reassigned\n",
    "x = 10\n",
    "x"
   ]
  },
  {
   "cell_type": "code",
   "execution_count": null,
   "metadata": {},
   "outputs": [],
   "source": [
    "z"
   ]
  },
  {
   "cell_type": "markdown",
   "metadata": {},
   "source": [
    "### In-build functions\n",
    "python comes with many inbuild functions."
   ]
  },
  {
   "cell_type": "markdown",
   "metadata": {},
   "source": [
    "### Printing "
   ]
  },
  {
   "cell_type": "code",
   "execution_count": null,
   "metadata": {},
   "outputs": [],
   "source": [
    "x = 'hello'"
   ]
  },
  {
   "cell_type": "code",
   "execution_count": null,
   "metadata": {},
   "outputs": [],
   "source": [
    "print(x)\n"
   ]
  },
  {
   "cell_type": "code",
   "execution_count": null,
   "metadata": {},
   "outputs": [],
   "source": [
    "# To check current working directory\n",
    "import os  # os is operating system module\n",
    "os.getcwd()"
   ]
  },
  {
   "cell_type": "code",
   "execution_count": null,
   "metadata": {},
   "outputs": [],
   "source": [
    "print('Hi python, I am coming')"
   ]
  },
  {
   "cell_type": "markdown",
   "metadata": {},
   "source": [
    "### **Type**"
   ]
  },
  {
   "cell_type": "code",
   "execution_count": null,
   "metadata": {},
   "outputs": [],
   "source": [
    "type(x)"
   ]
  },
  {
   "cell_type": "code",
   "execution_count": null,
   "metadata": {},
   "outputs": [],
   "source": [
    "x = 8\n",
    "type(x)"
   ]
  },
  {
   "cell_type": "markdown",
   "metadata": {},
   "source": [
    "### Concatenation"
   ]
  },
  {
   "cell_type": "code",
   "execution_count": 49,
   "metadata": {},
   "outputs": [
    {
     "name": "stdout",
     "output_type": "stream",
     "text": [
      "Hi There\n"
     ]
    }
   ],
   "source": [
    "print('Hi'+' '+ 'There')"
   ]
  },
  {
   "cell_type": "code",
   "execution_count": null,
   "metadata": {},
   "outputs": [],
   "source": [
    "print('Hi','There')"
   ]
  },
  {
   "cell_type": "markdown",
   "metadata": {},
   "source": [
    "### Inter-converting string , float and int"
   ]
  },
  {
   "cell_type": "markdown",
   "metadata": {},
   "source": [
    "**Converting to int**\n",
    "\n",
    "only the values which are number can be converted to int"
   ]
  },
  {
   "cell_type": "code",
   "execution_count": null,
   "metadata": {},
   "outputs": [],
   "source": [
    "s = '100000' # Converted to float, integers\n",
    "\n",
    "s1 = 'hello' # Type conversion not possible for python\n",
    "\n",
    "f = 10.90  # Converted to Str, integers\n",
    "\n",
    "i = 20 # Converted to Str, float\n",
    "\n",
    "cs = str(f)\n",
    "print(cs, type(cs))\n",
    "\n",
    "print(float(s))\n",
    "\n",
    "print(int(s))\n",
    "\n",
    "# cs+1"
   ]
  },
  {
   "cell_type": "code",
   "execution_count": 50,
   "metadata": {},
   "outputs": [
    {
     "data": {
      "text/plain": [
       "0"
      ]
     },
     "execution_count": 50,
     "metadata": {},
     "output_type": "execute_result"
    }
   ],
   "source": [
    "int(False)"
   ]
  },
  {
   "cell_type": "code",
   "execution_count": null,
   "metadata": {},
   "outputs": [],
   "source": [
    "i = 12\n",
    "float(12)"
   ]
  },
  {
   "cell_type": "code",
   "execution_count": null,
   "metadata": {},
   "outputs": [],
   "source": [
    "v = int(s)\n",
    "fc = int(f)\n",
    "\n",
    "print(s)\n",
    "print(fc)\n",
    "\n",
    "print(v+fc)"
   ]
  },
  {
   "cell_type": "code",
   "execution_count": null,
   "metadata": {},
   "outputs": [],
   "source": [
    "print(type(v),type(fc))"
   ]
  },
  {
   "cell_type": "code",
   "execution_count": null,
   "metadata": {},
   "outputs": [],
   "source": [
    "s = int('a')"
   ]
  },
  {
   "cell_type": "markdown",
   "metadata": {},
   "source": [
    "**Converting to float**\n",
    "\n",
    "only the values which are number can be converted to float"
   ]
  },
  {
   "cell_type": "code",
   "execution_count": null,
   "metadata": {},
   "outputs": [],
   "source": [
    "print(float('1.0'))\n",
    "print(float(10))\n",
    "print(float('34'))\n"
   ]
  },
  {
   "cell_type": "markdown",
   "metadata": {},
   "source": [
    "**Converting to string**\n",
    "\n",
    "any value can be converted to float"
   ]
  },
  {
   "cell_type": "code",
   "execution_count": null,
   "metadata": {},
   "outputs": [],
   "source": [
    "print(str(1.0))\n",
    "print(str(10))"
   ]
  },
  {
   "cell_type": "code",
   "execution_count": null,
   "metadata": {},
   "outputs": [],
   "source": [
    "print(type(str(1.0)))\n",
    "print(type(str(10)))"
   ]
  },
  {
   "cell_type": "code",
   "execution_count": 47,
   "metadata": {},
   "outputs": [
    {
     "name": "stdout",
     "output_type": "stream",
     "text": [
      "10 False three 4.7155 500000\n"
     ]
    }
   ],
   "source": [
    "# Tuple Unpacking\n",
    "a, b, c, d, e = 10, False, 'three', 4.7155, '500000'\n",
    "print(a, b, c, d, e)"
   ]
  },
  {
   "cell_type": "code",
   "execution_count": null,
   "metadata": {},
   "outputs": [],
   "source": []
  },
  {
   "cell_type": "code",
   "execution_count": null,
   "metadata": {},
   "outputs": [],
   "source": []
  },
  {
   "cell_type": "markdown",
   "metadata": {},
   "source": [
    "# Operators\n",
    "\n",
    "## Assignment Operators\n",
    "**=**  : assigns a value to a variable\n",
    "\n",
    "**+=**  : c += a   is equivalent to c = c + a\n",
    "\n",
    "** - =**  : c -= a   is equivalent to c = c - a\n",
    "\n",
    "**(*=)**  : c *= a   is equivalent to c = c * a\n",
    "\n",
    "**/=**  : c /= a   is equivalent to c = c / a\n",
    "\n",
    "**%=**  : c %= a   is equivalent to c = c % a\n"
   ]
  },
  {
   "cell_type": "code",
   "execution_count": 85,
   "metadata": {},
   "outputs": [
    {
     "data": {
      "text/plain": [
       "1"
      ]
     },
     "execution_count": 85,
     "metadata": {},
     "output_type": "execute_result"
    }
   ],
   "source": [
    "10//3 # floor Division - always give Int output\n",
    "\n",
    "10%3 # modulus - will given remainder output"
   ]
  },
  {
   "cell_type": "code",
   "execution_count": 87,
   "metadata": {},
   "outputs": [
    {
     "name": "stdout",
     "output_type": "stream",
     "text": [
      "after updating 1\n"
     ]
    }
   ],
   "source": [
    "x = 1000\n",
    "y = 2\n",
    "\n",
    "x%=111  # x = x%111\n",
    "\n",
    "print('after updating', rem)  # esc L"
   ]
  },
  {
   "cell_type": "code",
   "execution_count": 58,
   "metadata": {},
   "outputs": [
    {
     "name": "stdout",
     "output_type": "stream",
     "text": [
      "10 190\n"
     ]
    }
   ],
   "source": [
    "x = 10\n",
    "\n",
    "x2 = x+200   # possible to create new variable\n",
    "\n",
    "x2-=20 # no new object/variable can be created\n",
    "\n",
    "print(x, x2)"
   ]
  },
  {
   "cell_type": "code",
   "execution_count": null,
   "metadata": {},
   "outputs": [],
   "source": [
    "# result cannnot be stored in no new variable because they update themselves\n",
    "\n",
    "x += 1\n",
    "\n",
    "x *= 10\n",
    "\n",
    "x /= 2\n",
    "\n",
    "x %= 2\n"
   ]
  },
  {
   "cell_type": "code",
   "execution_count": null,
   "metadata": {},
   "outputs": [],
   "source": [
    "x2 = x+y\n",
    "\n",
    "x2 = x*y\n",
    "\n",
    "x2 = x/y\n",
    "\n",
    "x2 = x%y\n",
    "x2"
   ]
  },
  {
   "cell_type": "code",
   "execution_count": null,
   "metadata": {},
   "outputs": [],
   "source": []
  },
  {
   "cell_type": "code",
   "execution_count": null,
   "metadata": {},
   "outputs": [],
   "source": []
  },
  {
   "cell_type": "markdown",
   "metadata": {},
   "source": [
    "# Operators\n",
    "\n",
    "## Comparison Operators - \n",
    "They compares the values and returns bool if required\n",
    "\n",
    "**==** : are equal\n",
    "\n",
    "**!=** : not equal\n",
    "\n",
    "**>** : greater than\n",
    "\n",
    "**<** : samller than\n",
    "\n",
    "**>=** : greater than or equal to\n",
    "\n",
    "**<=** : smaller than or equal to\n"
   ]
  },
  {
   "cell_type": "code",
   "execution_count": 60,
   "metadata": {},
   "outputs": [
    {
     "name": "stdout",
     "output_type": "stream",
     "text": [
      "False\n"
     ]
    }
   ],
   "source": [
    "a = 10\n",
    "b = 10\n",
    "print(a!=b)"
   ]
  },
  {
   "cell_type": "code",
   "execution_count": 63,
   "metadata": {},
   "outputs": [
    {
     "name": "stdout",
     "output_type": "stream",
     "text": [
      "False\n",
      "False\n"
     ]
    }
   ],
   "source": [
    "print(10.99 != 10.99)\n",
    "\n",
    "print('A' == 'a')"
   ]
  },
  {
   "cell_type": "code",
   "execution_count": null,
   "metadata": {},
   "outputs": [],
   "source": [
    "1 > 2"
   ]
  },
  {
   "cell_type": "code",
   "execution_count": null,
   "metadata": {},
   "outputs": [],
   "source": [
    "1 < 2"
   ]
  },
  {
   "cell_type": "code",
   "execution_count": null,
   "metadata": {},
   "outputs": [],
   "source": [
    "1 >= 1"
   ]
  },
  {
   "cell_type": "code",
   "execution_count": null,
   "metadata": {},
   "outputs": [],
   "source": [
    "1 <= 4"
   ]
  },
  {
   "cell_type": "code",
   "execution_count": null,
   "metadata": {},
   "outputs": [],
   "source": [
    "a = 10\n",
    "b = 100"
   ]
  },
  {
   "cell_type": "code",
   "execution_count": null,
   "metadata": {},
   "outputs": [],
   "source": [
    "a == b # Comparision"
   ]
  },
  {
   "cell_type": "code",
   "execution_count": 103,
   "metadata": {},
   "outputs": [
    {
     "data": {
      "text/plain": [
       "False"
      ]
     },
     "execution_count": 103,
     "metadata": {},
     "output_type": "execute_result"
    }
   ],
   "source": [
    "'hi' == 'bye'"
   ]
  },
  {
   "cell_type": "code",
   "execution_count": 104,
   "metadata": {},
   "outputs": [
    {
     "data": {
      "text/plain": [
       "True"
      ]
     },
     "execution_count": 104,
     "metadata": {},
     "output_type": "execute_result"
    }
   ],
   "source": [
    "'hi' != 'bye' # Not equal to"
   ]
  },
  {
   "cell_type": "markdown",
   "metadata": {},
   "source": [
    "## Logic Operators\n",
    "\n",
    "**and**  = requires both the statements to be true\n",
    "\n",
    "**or**   = requires any statement to be true"
   ]
  },
  {
   "cell_type": "code",
   "execution_count": 66,
   "metadata": {},
   "outputs": [
    {
     "name": "stdout",
     "output_type": "stream",
     "text": [
      "True True\n"
     ]
    }
   ],
   "source": [
    "print((1 < 2) and (2 < 3),   \n",
    "      (1 < 2) & (2 < 3))"
   ]
  },
  {
   "cell_type": "code",
   "execution_count": 108,
   "metadata": {},
   "outputs": [
    {
     "data": {
      "text/plain": [
       "False"
      ]
     },
     "execution_count": 108,
     "metadata": {},
     "output_type": "execute_result"
    }
   ],
   "source": [
    "(1 > 2) and (2 < 3)"
   ]
  },
  {
   "cell_type": "code",
   "execution_count": 68,
   "metadata": {},
   "outputs": [
    {
     "name": "stdout",
     "output_type": "stream",
     "text": [
      "True True\n"
     ]
    }
   ],
   "source": [
    "print((1 > 2) or (2 < 3),  (1 > 2) | (2 < 3))"
   ]
  },
  {
   "cell_type": "code",
   "execution_count": 110,
   "metadata": {},
   "outputs": [
    {
     "data": {
      "text/plain": [
       "False"
      ]
     },
     "execution_count": 110,
     "metadata": {},
     "output_type": "execute_result"
    }
   ],
   "source": [
    "(1 == 2) or (2 == 3)"
   ]
  },
  {
   "cell_type": "markdown",
   "metadata": {},
   "source": [
    "### Comments\n",
    "They are used for giving a information about anything . They come in action when # i put before a line code\n",
    "\n",
    "when the program runs seeing the # character the program skips that line."
   ]
  },
  {
   "cell_type": "code",
   "execution_count": null,
   "metadata": {},
   "outputs": [],
   "source": [
    "# hi i want to tell you something"
   ]
  },
  {
   "cell_type": "code",
   "execution_count": 117,
   "metadata": {},
   "outputs": [
    {
     "data": {
      "text/plain": [
       "'\\nmulti line comment also called doc string 52\\n2 %88       multi line comment also called doc string\\nused for multi line comment also called doc string\\nused for multi line comment also called doc stri\\nused for multi line comment also called doc string\\nused for multi line comment also called doc stringng\\nused for multi line comment also called doc string\\n'"
      ]
     },
     "execution_count": 117,
     "metadata": {},
     "output_type": "execute_result"
    }
   ],
   "source": [
    "'''\n",
    "multi line comment also called doc string 52\n",
    "2 %88       multi line comment also called doc string\n",
    "used for multi line comment also called doc string\n",
    "used for multi line comment also called doc stri\n",
    "used for multi line comment also called doc string\n",
    "used for multi line comment also called doc stringng\n",
    "used for multi line comment also called doc string\n",
    "\n",
    "crl / -- commenting/uncomment multiple lines\n",
    "\n",
    "'''\n"
   ]
  },
  {
   "cell_type": "markdown",
   "metadata": {},
   "source": [
    "## Python identity operators\n",
    "They are used to compare objects , not if they are equal , but if they are actually the same object , eith same memory location.\n",
    "\n",
    "* **is**  - returns true if both objects are same object.\n",
    "\n",
    "* **is not**  - returns true if both objects are not he same"
   ]
  },
  {
   "cell_type": "code",
   "execution_count": 72,
   "metadata": {},
   "outputs": [],
   "source": [
    "'q' is 'q' # 'a' == 'a'"
   ]
  },
  {
   "cell_type": "code",
   "execution_count": 124,
   "metadata": {},
   "outputs": [
    {
     "data": {
      "text/plain": [
       "True"
      ]
     },
     "execution_count": 124,
     "metadata": {},
     "output_type": "execute_result"
    }
   ],
   "source": [
    "'a'=='a'"
   ]
  },
  {
   "cell_type": "code",
   "execution_count": null,
   "metadata": {},
   "outputs": [],
   "source": [
    "'a' is 'A'"
   ]
  },
  {
   "cell_type": "code",
   "execution_count": 75,
   "metadata": {},
   "outputs": [],
   "source": [
    "'A' is not 'A' # 'a' != 'A'"
   ]
  },
  {
   "cell_type": "markdown",
   "metadata": {},
   "source": [
    "## Python membership operators\n",
    "They are used to test if the sequence is present in an obeject.\n",
    "\n",
    "* **in**  - returns true if a sequence with specified value is present in the object.\n",
    "\n",
    "* **not in**  - returns true if a sequence with specified value is not present in the object."
   ]
  },
  {
   "cell_type": "code",
   "execution_count": 76,
   "metadata": {},
   "outputs": [],
   "source": [
    "s = 'Hello World 2000'"
   ]
  },
  {
   "cell_type": "code",
   "execution_count": 162,
   "metadata": {},
   "outputs": [
    {
     "data": {
      "text/plain": [
       "False"
      ]
     },
     "execution_count": 162,
     "metadata": {},
     "output_type": "execute_result"
    }
   ],
   "source": [
    "'9' in s # allow you to search a value in existing variable"
   ]
  },
  {
   "cell_type": "code",
   "execution_count": 78,
   "metadata": {},
   "outputs": [
    {
     "data": {
      "text/plain": [
       "True"
      ]
     },
     "execution_count": 78,
     "metadata": {},
     "output_type": "execute_result"
    }
   ],
   "source": [
    "'He' in s"
   ]
  },
  {
   "cell_type": "code",
   "execution_count": 79,
   "metadata": {},
   "outputs": [
    {
     "data": {
      "text/plain": [
       "True"
      ]
     },
     "execution_count": 79,
     "metadata": {},
     "output_type": "execute_result"
    }
   ],
   "source": [
    "'5000' not in s"
   ]
  },
  {
   "cell_type": "code",
   "execution_count": null,
   "metadata": {},
   "outputs": [],
   "source": []
  }
 ],
 "metadata": {
  "kernelspec": {
   "display_name": "Python 3",
   "language": "python",
   "name": "python3"
  },
  "language_info": {
   "codemirror_mode": {
    "name": "ipython",
    "version": 3
   },
   "file_extension": ".py",
   "mimetype": "text/x-python",
   "name": "python",
   "nbconvert_exporter": "python",
   "pygments_lexer": "ipython3",
   "version": "3.8.5"
  }
 },
 "nbformat": 4,
 "nbformat_minor": 1
}
