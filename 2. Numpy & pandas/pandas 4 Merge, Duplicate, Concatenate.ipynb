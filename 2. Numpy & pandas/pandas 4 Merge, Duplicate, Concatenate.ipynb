{
 "cells": [
  {
   "cell_type": "code",
   "execution_count": 2,
   "metadata": {
    "collapsed": true,
    "executionInfo": {
     "elapsed": 363,
     "status": "ok",
     "timestamp": 1623516244145,
     "user": {
      "displayName": "sujata drall",
      "photoUrl": "",
      "userId": "07858160099359690614"
     },
     "user_tz": -330
    },
    "id": "W5f8-E9nE78j"
   },
   "outputs": [],
   "source": [
    "import numpy as np\n",
    "import pandas as pd"
   ]
  },
  {
   "cell_type": "markdown",
   "metadata": {
    "id": "WNZ9mAioFav1"
   },
   "source": [
    "![image.png](data:image/png;base64,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)"
   ]
  },
  {
   "cell_type": "code",
   "execution_count": 9,
   "metadata": {
    "executionInfo": {
     "elapsed": 351,
     "status": "ok",
     "timestamp": 1623516617341,
     "user": {
      "displayName": "sujata drall",
      "photoUrl": "",
      "userId": "07858160099359690614"
     },
     "user_tz": -330
    },
    "id": "yW-ErfvEE78q"
   },
   "outputs": [],
   "source": [
    "df_student_test_math_data = pd.DataFrame({'student':['Tom','Jack','Dan','Ram','Jeff','David'],\n",
    "                                         'ID':[10,56,31,85,9,22]\n",
    "                                         })"
   ]
  },
  {
   "cell_type": "markdown",
   "metadata": {
    "id": "KTSLrkdWFaPR"
   },
   "source": []
  },
  {
   "cell_type": "code",
   "execution_count": 10,
   "metadata": {
    "executionInfo": {
     "elapsed": 6,
     "status": "ok",
     "timestamp": 1623516620118,
     "user": {
      "displayName": "sujata drall",
      "photoUrl": "",
      "userId": "07858160099359690614"
     },
     "user_tz": -330
    },
    "id": "1kVvrpdXE78r"
   },
   "outputs": [],
   "source": [
    "df_student_test_science_data = pd.DataFrame({'student':['Tom','Ram','David'],\n",
    "                                            'ID':[100,850,202]\n",
    "                                            })"
   ]
  },
  {
   "cell_type": "code",
   "execution_count": 6,
   "metadata": {
    "colab": {
     "base_uri": "https://localhost:8080/",
     "height": 49
    },
    "executionInfo": {
     "elapsed": 26,
     "status": "ok",
     "timestamp": 1623516351982,
     "user": {
      "displayName": "sujata drall",
      "photoUrl": "",
      "userId": "07858160099359690614"
     },
     "user_tz": -330
    },
    "id": "oa_7Ef32E78s",
    "outputId": "c3a90016-2a81-47d4-d40b-d0176d6eb651"
   },
   "outputs": [
    {
     "data": {
      "text/html": [
       "<div>\n",
       "<style scoped>\n",
       "    .dataframe tbody tr th:only-of-type {\n",
       "        vertical-align: middle;\n",
       "    }\n",
       "\n",
       "    .dataframe tbody tr th {\n",
       "        vertical-align: top;\n",
       "    }\n",
       "\n",
       "    .dataframe thead th {\n",
       "        text-align: right;\n",
       "    }\n",
       "</style>\n",
       "<table border=\"1\" class=\"dataframe\">\n",
       "  <thead>\n",
       "    <tr style=\"text-align: right;\">\n",
       "      <th></th>\n",
       "      <th>student</th>\n",
       "      <th>ID</th>\n",
       "    </tr>\n",
       "  </thead>\n",
       "  <tbody>\n",
       "  </tbody>\n",
       "</table>\n",
       "</div>"
      ],
      "text/plain": [
       "Empty DataFrame\n",
       "Columns: [student, ID]\n",
       "Index: []"
      ]
     },
     "execution_count": 6,
     "metadata": {
      "tags": []
     },
     "output_type": "execute_result"
    }
   ],
   "source": [
    "pd.merge(left=df_student_test_math_data,\n",
    "         right=df_student_test_science_data)  #  INNER merge"
   ]
  },
  {
   "cell_type": "code",
   "execution_count": 7,
   "metadata": {
    "colab": {
     "base_uri": "https://localhost:8080/",
     "height": 143
    },
    "executionInfo": {
     "elapsed": 372,
     "status": "ok",
     "timestamp": 1623516433060,
     "user": {
      "displayName": "sujata drall",
      "photoUrl": "",
      "userId": "07858160099359690614"
     },
     "user_tz": -330
    },
    "id": "dlVgPvKqE78u",
    "outputId": "9d11498b-c76e-4f93-bceb-60714da8411d"
   },
   "outputs": [
    {
     "data": {
      "text/html": [
       "<div>\n",
       "<style scoped>\n",
       "    .dataframe tbody tr th:only-of-type {\n",
       "        vertical-align: middle;\n",
       "    }\n",
       "\n",
       "    .dataframe tbody tr th {\n",
       "        vertical-align: top;\n",
       "    }\n",
       "\n",
       "    .dataframe thead th {\n",
       "        text-align: right;\n",
       "    }\n",
       "</style>\n",
       "<table border=\"1\" class=\"dataframe\">\n",
       "  <thead>\n",
       "    <tr style=\"text-align: right;\">\n",
       "      <th></th>\n",
       "      <th>student</th>\n",
       "      <th>ID_x</th>\n",
       "      <th>ID_y</th>\n",
       "    </tr>\n",
       "  </thead>\n",
       "  <tbody>\n",
       "    <tr>\n",
       "      <th>0</th>\n",
       "      <td>Tom</td>\n",
       "      <td>10</td>\n",
       "      <td>100</td>\n",
       "    </tr>\n",
       "    <tr>\n",
       "      <th>1</th>\n",
       "      <td>Ram</td>\n",
       "      <td>85</td>\n",
       "      <td>850</td>\n",
       "    </tr>\n",
       "    <tr>\n",
       "      <th>2</th>\n",
       "      <td>David</td>\n",
       "      <td>22</td>\n",
       "      <td>202</td>\n",
       "    </tr>\n",
       "  </tbody>\n",
       "</table>\n",
       "</div>"
      ],
      "text/plain": [
       "  student  ID_x  ID_y\n",
       "0     Tom    10   100\n",
       "1     Ram    85   850\n",
       "2   David    22   202"
      ]
     },
     "execution_count": 7,
     "metadata": {
      "tags": []
     },
     "output_type": "execute_result"
    }
   ],
   "source": [
    "pd.merge(left=df_student_test_math_data,\n",
    "         right=df_student_test_science_data,\n",
    "         on='student') # inner"
   ]
  },
  {
   "cell_type": "code",
   "execution_count": 19,
   "metadata": {
    "executionInfo": {
     "elapsed": 378,
     "status": "ok",
     "timestamp": 1623516854090,
     "user": {
      "displayName": "sujata drall",
      "photoUrl": "",
      "userId": "07858160099359690614"
     },
     "user_tz": -330
    },
    "id": "2l2RSYQwIgHB"
   },
   "outputs": [],
   "source": [
    "math= pd.DataFrame({'learners':['Tom','Jack','Dan','Ram','Jeff','David'],\n",
    "                                         'number':[10,56,31,85,9,22]})\n",
    "\n",
    "scien= pd.DataFrame({'student':['Tom','Ram','David','python'],\n",
    "                                            'ID':[10,85,22,999999]})"
   ]
  },
  {
   "cell_type": "code",
   "execution_count": 35,
   "metadata": {
    "executionInfo": {
     "elapsed": 353,
     "status": "ok",
     "timestamp": 1623517570819,
     "user": {
      "displayName": "sujata drall",
      "photoUrl": "",
      "userId": "07858160099359690614"
     },
     "user_tz": -330
    },
    "id": "b4WjSkfQLbp1"
   },
   "outputs": [],
   "source": [
    "def fn2():\n",
    "  return 'cake'"
   ]
  },
  {
   "cell_type": "code",
   "execution_count": 36,
   "metadata": {
    "colab": {
     "base_uri": "https://localhost:8080/",
     "height": 269
    },
    "executionInfo": {
     "elapsed": 475,
     "status": "ok",
     "timestamp": 1623517574290,
     "user": {
      "displayName": "sujata drall",
      "photoUrl": "",
      "userId": "07858160099359690614"
     },
     "user_tz": -330
    },
    "id": "29BCEnZ_JY2x",
    "outputId": "8b271be8-fc5d-4671-a6dd-f6d3d2ead5e5"
   },
   "outputs": [
    {
     "data": {
      "text/html": [
       "<div>\n",
       "<style scoped>\n",
       "    .dataframe tbody tr th:only-of-type {\n",
       "        vertical-align: middle;\n",
       "    }\n",
       "\n",
       "    .dataframe tbody tr th {\n",
       "        vertical-align: top;\n",
       "    }\n",
       "\n",
       "    .dataframe thead th {\n",
       "        text-align: right;\n",
       "    }\n",
       "</style>\n",
       "<table border=\"1\" class=\"dataframe\">\n",
       "  <thead>\n",
       "    <tr style=\"text-align: right;\">\n",
       "      <th></th>\n",
       "      <th>learners</th>\n",
       "      <th>number</th>\n",
       "      <th>student</th>\n",
       "      <th>ID</th>\n",
       "    </tr>\n",
       "  </thead>\n",
       "  <tbody>\n",
       "    <tr>\n",
       "      <th>0</th>\n",
       "      <td>Tom</td>\n",
       "      <td>10</td>\n",
       "      <td>Tom</td>\n",
       "      <td>10</td>\n",
       "    </tr>\n",
       "    <tr>\n",
       "      <th>1</th>\n",
       "      <td>Jack</td>\n",
       "      <td>56</td>\n",
       "      <td>cake</td>\n",
       "      <td>cake</td>\n",
       "    </tr>\n",
       "    <tr>\n",
       "      <th>2</th>\n",
       "      <td>Dan</td>\n",
       "      <td>31</td>\n",
       "      <td>cake</td>\n",
       "      <td>cake</td>\n",
       "    </tr>\n",
       "    <tr>\n",
       "      <th>3</th>\n",
       "      <td>Ram</td>\n",
       "      <td>85</td>\n",
       "      <td>Ram</td>\n",
       "      <td>85</td>\n",
       "    </tr>\n",
       "    <tr>\n",
       "      <th>4</th>\n",
       "      <td>Jeff</td>\n",
       "      <td>9</td>\n",
       "      <td>cake</td>\n",
       "      <td>cake</td>\n",
       "    </tr>\n",
       "    <tr>\n",
       "      <th>5</th>\n",
       "      <td>David</td>\n",
       "      <td>22</td>\n",
       "      <td>David</td>\n",
       "      <td>22</td>\n",
       "    </tr>\n",
       "    <tr>\n",
       "      <th>6</th>\n",
       "      <td>cake</td>\n",
       "      <td>cake</td>\n",
       "      <td>python</td>\n",
       "      <td>999999</td>\n",
       "    </tr>\n",
       "  </tbody>\n",
       "</table>\n",
       "</div>"
      ],
      "text/plain": [
       "  learners number student      ID\n",
       "0      Tom     10     Tom      10\n",
       "1     Jack     56    cake    cake\n",
       "2      Dan     31    cake    cake\n",
       "3      Ram     85     Ram      85\n",
       "4     Jeff      9    cake    cake\n",
       "5    David     22   David      22\n",
       "6     cake   cake  python  999999"
      ]
     },
     "execution_count": 36,
     "metadata": {
      "tags": []
     },
     "output_type": "execute_result"
    }
   ],
   "source": [
    "pd.merge(left=math,\n",
    "         right=scien,\n",
    "         left_on='learners', right_on='student',how='outer').fillna(fn2())"
   ]
  },
  {
   "cell_type": "code",
   "execution_count": 29,
   "metadata": {
    "colab": {
     "base_uri": "https://localhost:8080/",
     "height": 237
    },
    "executionInfo": {
     "elapsed": 355,
     "status": "ok",
     "timestamp": 1623517491726,
     "user": {
      "displayName": "sujata drall",
      "photoUrl": "",
      "userId": "07858160099359690614"
     },
     "user_tz": -330
    },
    "id": "b9Z0pixPJ3OH",
    "outputId": "470ccfcf-8b25-4012-d9ef-b5ffdaec5bef"
   },
   "outputs": [
    {
     "data": {
      "text/html": [
       "<div>\n",
       "<style scoped>\n",
       "    .dataframe tbody tr th:only-of-type {\n",
       "        vertical-align: middle;\n",
       "    }\n",
       "\n",
       "    .dataframe tbody tr th {\n",
       "        vertical-align: top;\n",
       "    }\n",
       "\n",
       "    .dataframe thead th {\n",
       "        text-align: right;\n",
       "    }\n",
       "</style>\n",
       "<table border=\"1\" class=\"dataframe\">\n",
       "  <thead>\n",
       "    <tr style=\"text-align: right;\">\n",
       "      <th></th>\n",
       "      <th>learners</th>\n",
       "      <th>number</th>\n",
       "      <th>student</th>\n",
       "      <th>ID</th>\n",
       "    </tr>\n",
       "  </thead>\n",
       "  <tbody>\n",
       "    <tr>\n",
       "      <th>0</th>\n",
       "      <td>Tom</td>\n",
       "      <td>10</td>\n",
       "      <td>Tom</td>\n",
       "      <td>10.0</td>\n",
       "    </tr>\n",
       "    <tr>\n",
       "      <th>1</th>\n",
       "      <td>Jack</td>\n",
       "      <td>56</td>\n",
       "      <td>NaN</td>\n",
       "      <td>NaN</td>\n",
       "    </tr>\n",
       "    <tr>\n",
       "      <th>2</th>\n",
       "      <td>Dan</td>\n",
       "      <td>31</td>\n",
       "      <td>NaN</td>\n",
       "      <td>NaN</td>\n",
       "    </tr>\n",
       "    <tr>\n",
       "      <th>3</th>\n",
       "      <td>Ram</td>\n",
       "      <td>85</td>\n",
       "      <td>Ram</td>\n",
       "      <td>85.0</td>\n",
       "    </tr>\n",
       "    <tr>\n",
       "      <th>4</th>\n",
       "      <td>Jeff</td>\n",
       "      <td>9</td>\n",
       "      <td>NaN</td>\n",
       "      <td>NaN</td>\n",
       "    </tr>\n",
       "    <tr>\n",
       "      <th>5</th>\n",
       "      <td>David</td>\n",
       "      <td>22</td>\n",
       "      <td>David</td>\n",
       "      <td>22.0</td>\n",
       "    </tr>\n",
       "  </tbody>\n",
       "</table>\n",
       "</div>"
      ],
      "text/plain": [
       "  learners  number student    ID\n",
       "0      Tom      10     Tom  10.0\n",
       "1     Jack      56     NaN   NaN\n",
       "2      Dan      31     NaN   NaN\n",
       "3      Ram      85     Ram  85.0\n",
       "4     Jeff       9     NaN   NaN\n",
       "5    David      22   David  22.0"
      ]
     },
     "execution_count": 29,
     "metadata": {
      "tags": []
     },
     "output_type": "execute_result"
    }
   ],
   "source": [
    "pd.merge(left=math,\n",
    "         right=scien,\n",
    "         left_on='learners', right_on='student',how='left')"
   ]
  },
  {
   "cell_type": "code",
   "execution_count": 20,
   "metadata": {
    "colab": {
     "base_uri": "https://localhost:8080/",
     "height": 175
    },
    "executionInfo": {
     "elapsed": 20,
     "status": "ok",
     "timestamp": 1623516854093,
     "user": {
      "displayName": "sujata drall",
      "photoUrl": "",
      "userId": "07858160099359690614"
     },
     "user_tz": -330
    },
    "id": "2qR0VWg1E78v",
    "outputId": "518414e9-752a-4113-a2da-92ca40a7c750"
   },
   "outputs": [
    {
     "data": {
      "text/html": [
       "<div>\n",
       "<style scoped>\n",
       "    .dataframe tbody tr th:only-of-type {\n",
       "        vertical-align: middle;\n",
       "    }\n",
       "\n",
       "    .dataframe tbody tr th {\n",
       "        vertical-align: top;\n",
       "    }\n",
       "\n",
       "    .dataframe thead th {\n",
       "        text-align: right;\n",
       "    }\n",
       "</style>\n",
       "<table border=\"1\" class=\"dataframe\">\n",
       "  <thead>\n",
       "    <tr style=\"text-align: right;\">\n",
       "      <th></th>\n",
       "      <th>learners</th>\n",
       "      <th>number</th>\n",
       "      <th>student</th>\n",
       "      <th>ID</th>\n",
       "    </tr>\n",
       "  </thead>\n",
       "  <tbody>\n",
       "    <tr>\n",
       "      <th>0</th>\n",
       "      <td>Tom</td>\n",
       "      <td>10.0</td>\n",
       "      <td>Tom</td>\n",
       "      <td>10</td>\n",
       "    </tr>\n",
       "    <tr>\n",
       "      <th>1</th>\n",
       "      <td>Ram</td>\n",
       "      <td>85.0</td>\n",
       "      <td>Ram</td>\n",
       "      <td>85</td>\n",
       "    </tr>\n",
       "    <tr>\n",
       "      <th>2</th>\n",
       "      <td>David</td>\n",
       "      <td>22.0</td>\n",
       "      <td>David</td>\n",
       "      <td>22</td>\n",
       "    </tr>\n",
       "    <tr>\n",
       "      <th>3</th>\n",
       "      <td>NaN</td>\n",
       "      <td>NaN</td>\n",
       "      <td>python</td>\n",
       "      <td>999999</td>\n",
       "    </tr>\n",
       "  </tbody>\n",
       "</table>\n",
       "</div>"
      ],
      "text/plain": [
       "  learners  number student      ID\n",
       "0      Tom    10.0     Tom      10\n",
       "1      Ram    85.0     Ram      85\n",
       "2    David    22.0   David      22\n",
       "3      NaN     NaN  python  999999"
      ]
     },
     "execution_count": 20,
     "metadata": {
      "tags": []
     },
     "output_type": "execute_result"
    }
   ],
   "source": [
    "pd.merge(left=math,\n",
    "         right=scien,\n",
    "         left_on='learners', right_on='student',how='right')"
   ]
  },
  {
   "cell_type": "code",
   "execution_count": null,
   "metadata": {
    "id": "ste0EDeUE78x",
    "outputId": "6e75875b-97c4-4f92-da63-2139a798e830"
   },
   "outputs": [
    {
     "data": {
      "text/html": [
       "<div>\n",
       "<table border=\"1\" class=\"dataframe\">\n",
       "  <thead>\n",
       "    <tr style=\"text-align: right;\">\n",
       "      <th></th>\n",
       "      <th>ID</th>\n",
       "      <th>student_x</th>\n",
       "      <th>student_y</th>\n",
       "    </tr>\n",
       "  </thead>\n",
       "  <tbody>\n",
       "    <tr>\n",
       "      <th>0</th>\n",
       "      <td>10</td>\n",
       "      <td>Tom</td>\n",
       "      <td>Tom</td>\n",
       "    </tr>\n",
       "    <tr>\n",
       "      <th>1</th>\n",
       "      <td>56</td>\n",
       "      <td>Jack</td>\n",
       "      <td>X</td>\n",
       "    </tr>\n",
       "    <tr>\n",
       "      <th>2</th>\n",
       "      <td>31</td>\n",
       "      <td>Dan</td>\n",
       "      <td>X</td>\n",
       "    </tr>\n",
       "    <tr>\n",
       "      <th>3</th>\n",
       "      <td>85</td>\n",
       "      <td>Ram</td>\n",
       "      <td>Ram</td>\n",
       "    </tr>\n",
       "    <tr>\n",
       "      <th>4</th>\n",
       "      <td>9</td>\n",
       "      <td>Jeff</td>\n",
       "      <td>X</td>\n",
       "    </tr>\n",
       "    <tr>\n",
       "      <th>5</th>\n",
       "      <td>22</td>\n",
       "      <td>David</td>\n",
       "      <td>David</td>\n",
       "    </tr>\n",
       "  </tbody>\n",
       "</table>\n",
       "</div>"
      ],
      "text/plain": [
       "   ID student_x student_y\n",
       "0  10       Tom       Tom\n",
       "1  56      Jack         X\n",
       "2  31       Dan         X\n",
       "3  85       Ram       Ram\n",
       "4   9      Jeff         X\n",
       "5  22     David     David"
      ]
     },
     "execution_count": 45,
     "metadata": {
      "tags": []
     },
     "output_type": "execute_result"
    }
   ],
   "source": [
    "(pd.merge(df_student_test_math_data,df_student_test_science_data,on='ID',how='left')).fillna('X')"
   ]
  },
  {
   "cell_type": "code",
   "execution_count": null,
   "metadata": {
    "id": "FScl0-ESE78y",
    "outputId": "defbeb24-3be7-4884-ed75-899c14b7a5b8"
   },
   "outputs": [
    {
     "data": {
      "text/html": [
       "<div>\n",
       "<table border=\"1\" class=\"dataframe\">\n",
       "  <thead>\n",
       "    <tr style=\"text-align: right;\">\n",
       "      <th></th>\n",
       "      <th>ID</th>\n",
       "      <th>student_x</th>\n",
       "      <th>student_y</th>\n",
       "    </tr>\n",
       "  </thead>\n",
       "  <tbody>\n",
       "    <tr>\n",
       "      <th>0</th>\n",
       "      <td>10</td>\n",
       "      <td>Tom</td>\n",
       "      <td>Tom</td>\n",
       "    </tr>\n",
       "    <tr>\n",
       "      <th>1</th>\n",
       "      <td>56</td>\n",
       "      <td>Jack</td>\n",
       "      <td>NaN</td>\n",
       "    </tr>\n",
       "    <tr>\n",
       "      <th>2</th>\n",
       "      <td>31</td>\n",
       "      <td>Dan</td>\n",
       "      <td>NaN</td>\n",
       "    </tr>\n",
       "    <tr>\n",
       "      <th>3</th>\n",
       "      <td>85</td>\n",
       "      <td>Ram</td>\n",
       "      <td>Ram</td>\n",
       "    </tr>\n",
       "    <tr>\n",
       "      <th>4</th>\n",
       "      <td>9</td>\n",
       "      <td>Jeff</td>\n",
       "      <td>NaN</td>\n",
       "    </tr>\n",
       "    <tr>\n",
       "      <th>5</th>\n",
       "      <td>22</td>\n",
       "      <td>David</td>\n",
       "      <td>David</td>\n",
       "    </tr>\n",
       "  </tbody>\n",
       "</table>\n",
       "</div>"
      ],
      "text/plain": [
       "   ID student_x student_y\n",
       "0  10       Tom       Tom\n",
       "1  56      Jack       NaN\n",
       "2  31       Dan       NaN\n",
       "3  85       Ram       Ram\n",
       "4   9      Jeff       NaN\n",
       "5  22     David     David"
      ]
     },
     "execution_count": 42,
     "metadata": {
      "tags": []
     },
     "output_type": "execute_result"
    }
   ],
   "source": [
    "pd.merge(df_student_test_math_data,df_student_test_science_data,on='ID',how='outer')"
   ]
  },
  {
   "cell_type": "code",
   "execution_count": null,
   "metadata": {
    "id": "o2CjSe_sN_T0"
   },
   "outputs": [],
   "source": []
  },
  {
   "cell_type": "code",
   "execution_count": 54,
   "metadata": {
    "executionInfo": {
     "elapsed": 427,
     "status": "ok",
     "timestamp": 1623518513041,
     "user": {
      "displayName": "sujata drall",
      "photoUrl": "",
      "userId": "07858160099359690614"
     },
     "user_tz": -330
    },
    "id": "UdtBTnoLN_lu"
   },
   "outputs": [],
   "source": [
    "math= pd.DataFrame({'student':['Tom','Jack','Dan','Ram','Jeff','David'],\n",
    "                                         'ID':[10,56,31,85,9,22]\n",
    "                    })\n",
    "\n",
    "scien= pd.DataFrame({'student':['Tom','Ram','David','python'],\n",
    "                                            'number':[10,85,22,999999],\n",
    "                     'city':['abc','pqr','xyz','lmn']})"
   ]
  },
  {
   "cell_type": "code",
   "execution_count": 55,
   "metadata": {
    "colab": {
     "base_uri": "https://localhost:8080/",
     "height": 363
    },
    "executionInfo": {
     "elapsed": 6,
     "status": "ok",
     "timestamp": 1623518515813,
     "user": {
      "displayName": "sujata drall",
      "photoUrl": "",
      "userId": "07858160099359690614"
     },
     "user_tz": -330
    },
    "id": "xfqBgsj3Mjp3",
    "outputId": "58e3e693-3145-41bc-d3eb-3fd6150237c4"
   },
   "outputs": [
    {
     "data": {
      "text/html": [
       "<div>\n",
       "<style scoped>\n",
       "    .dataframe tbody tr th:only-of-type {\n",
       "        vertical-align: middle;\n",
       "    }\n",
       "\n",
       "    .dataframe tbody tr th {\n",
       "        vertical-align: top;\n",
       "    }\n",
       "\n",
       "    .dataframe thead th {\n",
       "        text-align: right;\n",
       "    }\n",
       "</style>\n",
       "<table border=\"1\" class=\"dataframe\">\n",
       "  <thead>\n",
       "    <tr style=\"text-align: right;\">\n",
       "      <th></th>\n",
       "      <th>student</th>\n",
       "      <th>number</th>\n",
       "      <th>city</th>\n",
       "      <th>ID</th>\n",
       "    </tr>\n",
       "  </thead>\n",
       "  <tbody>\n",
       "    <tr>\n",
       "      <th>0</th>\n",
       "      <td>Tom</td>\n",
       "      <td>10.0</td>\n",
       "      <td>abc</td>\n",
       "      <td>NaN</td>\n",
       "    </tr>\n",
       "    <tr>\n",
       "      <th>1</th>\n",
       "      <td>Ram</td>\n",
       "      <td>85.0</td>\n",
       "      <td>pqr</td>\n",
       "      <td>NaN</td>\n",
       "    </tr>\n",
       "    <tr>\n",
       "      <th>2</th>\n",
       "      <td>David</td>\n",
       "      <td>22.0</td>\n",
       "      <td>xyz</td>\n",
       "      <td>NaN</td>\n",
       "    </tr>\n",
       "    <tr>\n",
       "      <th>3</th>\n",
       "      <td>python</td>\n",
       "      <td>999999.0</td>\n",
       "      <td>lmn</td>\n",
       "      <td>NaN</td>\n",
       "    </tr>\n",
       "    <tr>\n",
       "      <th>0</th>\n",
       "      <td>Tom</td>\n",
       "      <td>NaN</td>\n",
       "      <td>NaN</td>\n",
       "      <td>10.0</td>\n",
       "    </tr>\n",
       "    <tr>\n",
       "      <th>1</th>\n",
       "      <td>Jack</td>\n",
       "      <td>NaN</td>\n",
       "      <td>NaN</td>\n",
       "      <td>56.0</td>\n",
       "    </tr>\n",
       "    <tr>\n",
       "      <th>2</th>\n",
       "      <td>Dan</td>\n",
       "      <td>NaN</td>\n",
       "      <td>NaN</td>\n",
       "      <td>31.0</td>\n",
       "    </tr>\n",
       "    <tr>\n",
       "      <th>3</th>\n",
       "      <td>Ram</td>\n",
       "      <td>NaN</td>\n",
       "      <td>NaN</td>\n",
       "      <td>85.0</td>\n",
       "    </tr>\n",
       "    <tr>\n",
       "      <th>4</th>\n",
       "      <td>Jeff</td>\n",
       "      <td>NaN</td>\n",
       "      <td>NaN</td>\n",
       "      <td>9.0</td>\n",
       "    </tr>\n",
       "    <tr>\n",
       "      <th>5</th>\n",
       "      <td>David</td>\n",
       "      <td>NaN</td>\n",
       "      <td>NaN</td>\n",
       "      <td>22.0</td>\n",
       "    </tr>\n",
       "  </tbody>\n",
       "</table>\n",
       "</div>"
      ],
      "text/plain": [
       "  student    number city    ID\n",
       "0     Tom      10.0  abc   NaN\n",
       "1     Ram      85.0  pqr   NaN\n",
       "2   David      22.0  xyz   NaN\n",
       "3  python  999999.0  lmn   NaN\n",
       "0     Tom       NaN  NaN  10.0\n",
       "1    Jack       NaN  NaN  56.0\n",
       "2     Dan       NaN  NaN  31.0\n",
       "3     Ram       NaN  NaN  85.0\n",
       "4    Jeff       NaN  NaN   9.0\n",
       "5   David       NaN  NaN  22.0"
      ]
     },
     "execution_count": 55,
     "metadata": {
      "tags": []
     },
     "output_type": "execute_result"
    }
   ],
   "source": [
    "pd.concat([scien, math], axis=0) # Row wise cocatination -- row wise of stacking  -- look for column names"
   ]
  },
  {
   "cell_type": "code",
   "execution_count": 50,
   "metadata": {
    "colab": {
     "base_uri": "https://localhost:8080/",
     "height": 175
    },
    "executionInfo": {
     "elapsed": 379,
     "status": "ok",
     "timestamp": 1623518170977,
     "user": {
      "displayName": "sujata drall",
      "photoUrl": "",
      "userId": "07858160099359690614"
     },
     "user_tz": -330
    },
    "id": "TkUoCRRXNIPk",
    "outputId": "42bb2535-8298-4e24-f8b0-68e1183b6948"
   },
   "outputs": [
    {
     "data": {
      "text/html": [
       "<div>\n",
       "<style scoped>\n",
       "    .dataframe tbody tr th:only-of-type {\n",
       "        vertical-align: middle;\n",
       "    }\n",
       "\n",
       "    .dataframe tbody tr th {\n",
       "        vertical-align: top;\n",
       "    }\n",
       "\n",
       "    .dataframe thead th {\n",
       "        text-align: right;\n",
       "    }\n",
       "</style>\n",
       "<table border=\"1\" class=\"dataframe\">\n",
       "  <thead>\n",
       "    <tr style=\"text-align: right;\">\n",
       "      <th></th>\n",
       "      <th>student</th>\n",
       "      <th>ID</th>\n",
       "      <th>student</th>\n",
       "      <th>ID</th>\n",
       "    </tr>\n",
       "  </thead>\n",
       "  <tbody>\n",
       "    <tr>\n",
       "      <th>0</th>\n",
       "      <td>Tom</td>\n",
       "      <td>10</td>\n",
       "      <td>Tom</td>\n",
       "      <td>10</td>\n",
       "    </tr>\n",
       "    <tr>\n",
       "      <th>1</th>\n",
       "      <td>Ram</td>\n",
       "      <td>85</td>\n",
       "      <td>Jack</td>\n",
       "      <td>56</td>\n",
       "    </tr>\n",
       "    <tr>\n",
       "      <th>2</th>\n",
       "      <td>David</td>\n",
       "      <td>22</td>\n",
       "      <td>Dan</td>\n",
       "      <td>31</td>\n",
       "    </tr>\n",
       "    <tr>\n",
       "      <th>3</th>\n",
       "      <td>python</td>\n",
       "      <td>999999</td>\n",
       "      <td>Ram</td>\n",
       "      <td>85</td>\n",
       "    </tr>\n",
       "  </tbody>\n",
       "</table>\n",
       "</div>"
      ],
      "text/plain": [
       "  student      ID student  ID\n",
       "0     Tom      10     Tom  10\n",
       "1     Ram      85    Jack  56\n",
       "2   David      22     Dan  31\n",
       "3  python  999999     Ram  85"
      ]
     },
     "execution_count": 50,
     "metadata": {
      "tags": []
     },
     "output_type": "execute_result"
    }
   ],
   "source": [
    "pd.concat([scien, math], axis = 1,join='inner')  # pasted parallely  -- inner -- Looked for index values"
   ]
  },
  {
   "cell_type": "code",
   "execution_count": 56,
   "metadata": {
    "colab": {
     "base_uri": "https://localhost:8080/",
     "height": 363
    },
    "executionInfo": {
     "elapsed": 385,
     "status": "ok",
     "timestamp": 1623518653183,
     "user": {
      "displayName": "sujata drall",
      "photoUrl": "",
      "userId": "07858160099359690614"
     },
     "user_tz": -330
    },
    "id": "zKVwdsXkE78z",
    "outputId": "7059bd1c-e26e-4709-8045-e39ae69aa40f"
   },
   "outputs": [
    {
     "data": {
      "text/html": [
       "<div>\n",
       "<style scoped>\n",
       "    .dataframe tbody tr th:only-of-type {\n",
       "        vertical-align: middle;\n",
       "    }\n",
       "\n",
       "    .dataframe tbody tr th {\n",
       "        vertical-align: top;\n",
       "    }\n",
       "\n",
       "    .dataframe thead th {\n",
       "        text-align: right;\n",
       "    }\n",
       "</style>\n",
       "<table border=\"1\" class=\"dataframe\">\n",
       "  <thead>\n",
       "    <tr style=\"text-align: right;\">\n",
       "      <th></th>\n",
       "      <th>student</th>\n",
       "      <th>ID</th>\n",
       "      <th>number</th>\n",
       "      <th>city</th>\n",
       "    </tr>\n",
       "  </thead>\n",
       "  <tbody>\n",
       "    <tr>\n",
       "      <th>0</th>\n",
       "      <td>Tom</td>\n",
       "      <td>10.0</td>\n",
       "      <td>NaN</td>\n",
       "      <td>NaN</td>\n",
       "    </tr>\n",
       "    <tr>\n",
       "      <th>1</th>\n",
       "      <td>Jack</td>\n",
       "      <td>56.0</td>\n",
       "      <td>NaN</td>\n",
       "      <td>NaN</td>\n",
       "    </tr>\n",
       "    <tr>\n",
       "      <th>2</th>\n",
       "      <td>Dan</td>\n",
       "      <td>31.0</td>\n",
       "      <td>NaN</td>\n",
       "      <td>NaN</td>\n",
       "    </tr>\n",
       "    <tr>\n",
       "      <th>3</th>\n",
       "      <td>Ram</td>\n",
       "      <td>85.0</td>\n",
       "      <td>NaN</td>\n",
       "      <td>NaN</td>\n",
       "    </tr>\n",
       "    <tr>\n",
       "      <th>4</th>\n",
       "      <td>Jeff</td>\n",
       "      <td>9.0</td>\n",
       "      <td>NaN</td>\n",
       "      <td>NaN</td>\n",
       "    </tr>\n",
       "    <tr>\n",
       "      <th>5</th>\n",
       "      <td>David</td>\n",
       "      <td>22.0</td>\n",
       "      <td>NaN</td>\n",
       "      <td>NaN</td>\n",
       "    </tr>\n",
       "    <tr>\n",
       "      <th>6</th>\n",
       "      <td>Tom</td>\n",
       "      <td>NaN</td>\n",
       "      <td>10.0</td>\n",
       "      <td>abc</td>\n",
       "    </tr>\n",
       "    <tr>\n",
       "      <th>7</th>\n",
       "      <td>Ram</td>\n",
       "      <td>NaN</td>\n",
       "      <td>85.0</td>\n",
       "      <td>pqr</td>\n",
       "    </tr>\n",
       "    <tr>\n",
       "      <th>8</th>\n",
       "      <td>David</td>\n",
       "      <td>NaN</td>\n",
       "      <td>22.0</td>\n",
       "      <td>xyz</td>\n",
       "    </tr>\n",
       "    <tr>\n",
       "      <th>9</th>\n",
       "      <td>python</td>\n",
       "      <td>NaN</td>\n",
       "      <td>999999.0</td>\n",
       "      <td>lmn</td>\n",
       "    </tr>\n",
       "  </tbody>\n",
       "</table>\n",
       "</div>"
      ],
      "text/plain": [
       "  student    ID    number city\n",
       "0     Tom  10.0       NaN  NaN\n",
       "1    Jack  56.0       NaN  NaN\n",
       "2     Dan  31.0       NaN  NaN\n",
       "3     Ram  85.0       NaN  NaN\n",
       "4    Jeff   9.0       NaN  NaN\n",
       "5   David  22.0       NaN  NaN\n",
       "6     Tom   NaN      10.0  abc\n",
       "7     Ram   NaN      85.0  pqr\n",
       "8   David   NaN      22.0  xyz\n",
       "9  python   NaN  999999.0  lmn"
      ]
     },
     "execution_count": 56,
     "metadata": {
      "tags": []
     },
     "output_type": "execute_result"
    }
   ],
   "source": [
    "pd.concat([math, scien],ignore_index=True)"
   ]
  },
  {
   "cell_type": "code",
   "execution_count": null,
   "metadata": {
    "id": "dPZMjL5GE780"
   },
   "outputs": [],
   "source": [
    "df_student_survey_data = pd.DataFrame({'student':['Tom','Jack','Tom','Ram','Jeff','Jack'],\n",
    "                                         'ID':[10,56,10,85,9,56]\n",
    "                                         })"
   ]
  },
  {
   "cell_type": "code",
   "execution_count": null,
   "metadata": {
    "id": "cEpER5AQE781",
    "outputId": "9edd2935-9d13-44c1-d319-5ef74c71b620"
   },
   "outputs": [
    {
     "data": {
      "text/html": [
       "<div>\n",
       "<table border=\"1\" class=\"dataframe\">\n",
       "  <thead>\n",
       "    <tr style=\"text-align: right;\">\n",
       "      <th></th>\n",
       "      <th>ID</th>\n",
       "      <th>student</th>\n",
       "    </tr>\n",
       "  </thead>\n",
       "  <tbody>\n",
       "    <tr>\n",
       "      <th>0</th>\n",
       "      <td>10</td>\n",
       "      <td>Tom</td>\n",
       "    </tr>\n",
       "    <tr>\n",
       "      <th>1</th>\n",
       "      <td>56</td>\n",
       "      <td>Jack</td>\n",
       "    </tr>\n",
       "    <tr>\n",
       "      <th>2</th>\n",
       "      <td>10</td>\n",
       "      <td>Tom</td>\n",
       "    </tr>\n",
       "    <tr>\n",
       "      <th>3</th>\n",
       "      <td>85</td>\n",
       "      <td>Ram</td>\n",
       "    </tr>\n",
       "    <tr>\n",
       "      <th>4</th>\n",
       "      <td>9</td>\n",
       "      <td>Jeff</td>\n",
       "    </tr>\n",
       "    <tr>\n",
       "      <th>5</th>\n",
       "      <td>56</td>\n",
       "      <td>Jack</td>\n",
       "    </tr>\n",
       "  </tbody>\n",
       "</table>\n",
       "</div>"
      ],
      "text/plain": [
       "   ID student\n",
       "0  10     Tom\n",
       "1  56    Jack\n",
       "2  10     Tom\n",
       "3  85     Ram\n",
       "4   9    Jeff\n",
       "5  56    Jack"
      ]
     },
     "execution_count": 64,
     "metadata": {
      "tags": []
     },
     "output_type": "execute_result"
    }
   ],
   "source": [
    "df_student_survey_data"
   ]
  },
  {
   "cell_type": "code",
   "execution_count": null,
   "metadata": {
    "id": "PRaNL9K0E783",
    "outputId": "94f21f52-d881-46b1-befa-c107044d61c6"
   },
   "outputs": [
    {
     "data": {
      "text/plain": [
       "0    False\n",
       "1    False\n",
       "2     True\n",
       "3    False\n",
       "4    False\n",
       "5     True\n",
       "dtype: bool"
      ]
     },
     "execution_count": 65,
     "metadata": {
      "tags": []
     },
     "output_type": "execute_result"
    }
   ],
   "source": [
    "df_student_survey_data.duplicated()"
   ]
  },
  {
   "cell_type": "code",
   "execution_count": null,
   "metadata": {
    "id": "m2pWbMwJE783",
    "outputId": "d0e6ab3d-05e5-4540-ffe0-3080e281e0b5"
   },
   "outputs": [
    {
     "data": {
      "text/html": [
       "<div>\n",
       "<table border=\"1\" class=\"dataframe\">\n",
       "  <thead>\n",
       "    <tr style=\"text-align: right;\">\n",
       "      <th></th>\n",
       "      <th>ID</th>\n",
       "      <th>student</th>\n",
       "    </tr>\n",
       "  </thead>\n",
       "  <tbody>\n",
       "    <tr>\n",
       "      <th>0</th>\n",
       "      <td>10</td>\n",
       "      <td>Tom</td>\n",
       "    </tr>\n",
       "    <tr>\n",
       "      <th>1</th>\n",
       "      <td>56</td>\n",
       "      <td>Jack</td>\n",
       "    </tr>\n",
       "    <tr>\n",
       "      <th>3</th>\n",
       "      <td>85</td>\n",
       "      <td>Ram</td>\n",
       "    </tr>\n",
       "    <tr>\n",
       "      <th>4</th>\n",
       "      <td>9</td>\n",
       "      <td>Jeff</td>\n",
       "    </tr>\n",
       "  </tbody>\n",
       "</table>\n",
       "</div>"
      ],
      "text/plain": [
       "   ID student\n",
       "0  10     Tom\n",
       "1  56    Jack\n",
       "3  85     Ram\n",
       "4   9    Jeff"
      ]
     },
     "execution_count": 66,
     "metadata": {
      "tags": []
     },
     "output_type": "execute_result"
    }
   ],
   "source": [
    "df_student_survey_data.drop_duplicates()"
   ]
  },
  {
   "cell_type": "code",
   "execution_count": null,
   "metadata": {
    "id": "rB_F9yJnE784",
    "outputId": "a25713ac-dfdf-4895-b471-367f5b5c0088"
   },
   "outputs": [
    {
     "data": {
      "text/html": [
       "<div>\n",
       "<table border=\"1\" class=\"dataframe\">\n",
       "  <thead>\n",
       "    <tr style=\"text-align: right;\">\n",
       "      <th></th>\n",
       "      <th>ID</th>\n",
       "      <th>student</th>\n",
       "    </tr>\n",
       "  </thead>\n",
       "  <tbody>\n",
       "    <tr>\n",
       "      <th>0</th>\n",
       "      <td>10</td>\n",
       "      <td>Tom</td>\n",
       "    </tr>\n",
       "    <tr>\n",
       "      <th>1</th>\n",
       "      <td>56</td>\n",
       "      <td>Jack</td>\n",
       "    </tr>\n",
       "    <tr>\n",
       "      <th>3</th>\n",
       "      <td>85</td>\n",
       "      <td>Ram</td>\n",
       "    </tr>\n",
       "    <tr>\n",
       "      <th>4</th>\n",
       "      <td>9</td>\n",
       "      <td>Jeff</td>\n",
       "    </tr>\n",
       "  </tbody>\n",
       "</table>\n",
       "</div>"
      ],
      "text/plain": [
       "   ID student\n",
       "0  10     Tom\n",
       "1  56    Jack\n",
       "3  85     Ram\n",
       "4   9    Jeff"
      ]
     },
     "execution_count": 73,
     "metadata": {
      "tags": []
     },
     "output_type": "execute_result"
    }
   ],
   "source": [
    "df_student_survey_data.drop_duplicates(['student'])"
   ]
  },
  {
   "cell_type": "code",
   "execution_count": null,
   "metadata": {
    "id": "9S_10b1ZE785",
    "outputId": "1838d2ff-ac49-4c77-d703-f96ac0038f91"
   },
   "outputs": [
    {
     "data": {
      "text/html": [
       "<div>\n",
       "<table border=\"1\" class=\"dataframe\">\n",
       "  <thead>\n",
       "    <tr style=\"text-align: right;\">\n",
       "      <th></th>\n",
       "      <th>ID</th>\n",
       "      <th>student</th>\n",
       "    </tr>\n",
       "  </thead>\n",
       "  <tbody>\n",
       "    <tr>\n",
       "      <th>0</th>\n",
       "      <td>10</td>\n",
       "      <td>Tom</td>\n",
       "    </tr>\n",
       "    <tr>\n",
       "      <th>1</th>\n",
       "      <td>56</td>\n",
       "      <td>Jack</td>\n",
       "    </tr>\n",
       "    <tr>\n",
       "      <th>3</th>\n",
       "      <td>85</td>\n",
       "      <td>Ram</td>\n",
       "    </tr>\n",
       "    <tr>\n",
       "      <th>4</th>\n",
       "      <td>9</td>\n",
       "      <td>Jeff</td>\n",
       "    </tr>\n",
       "  </tbody>\n",
       "</table>\n",
       "</div>"
      ],
      "text/plain": [
       "   ID student\n",
       "0  10     Tom\n",
       "1  56    Jack\n",
       "3  85     Ram\n",
       "4   9    Jeff"
      ]
     },
     "execution_count": 74,
     "metadata": {
      "tags": []
     },
     "output_type": "execute_result"
    }
   ],
   "source": [
    "df_student_survey_data.drop_duplicates('ID')"
   ]
  },
  {
   "cell_type": "code",
   "execution_count": null,
   "metadata": {
    "collapsed": true,
    "id": "r-GDTEeAE785"
   },
   "outputs": [],
   "source": []
  }
 ],
 "metadata": {
  "colab": {
   "collapsed_sections": [],
   "name": "pandas 4 Merge, Duplicate, Concatenate.ipynb",
   "provenance": []
  },
  "kernelspec": {
   "display_name": "Python 3",
   "language": "python",
   "name": "python3"
  },
  "language_info": {
   "codemirror_mode": {
    "name": "ipython",
    "version": 3
   },
   "file_extension": ".py",
   "mimetype": "text/x-python",
   "name": "python",
   "nbconvert_exporter": "python",
   "pygments_lexer": "ipython3",
   "version": "3.8.5"
  }
 },
 "nbformat": 4,
 "nbformat_minor": 1
}
