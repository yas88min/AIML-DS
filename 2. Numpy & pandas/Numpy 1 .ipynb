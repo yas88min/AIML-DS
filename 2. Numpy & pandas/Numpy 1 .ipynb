{
 "cells": [
  {
   "cell_type": "markdown",
   "metadata": {
    "id": "jPzvKOkXXKoN"
   },
   "source": [
    "## Numpy - Numerical Python -- deals with numerical data in form of arrays"
   ]
  },
  {
   "cell_type": "code",
   "execution_count": 153,
   "metadata": {
    "executionInfo": {
     "elapsed": 2,
     "status": "ok",
     "timestamp": 1622911337031,
     "user": {
      "displayName": "sujata drall",
      "photoUrl": "",
      "userId": "07858160099359690614"
     },
     "user_tz": -330
    },
    "id": "oJzbD5t_XKoQ"
   },
   "outputs": [],
   "source": [
    "import numpy as np "
   ]
  },
  {
   "cell_type": "markdown",
   "metadata": {
    "id": "TlKZuAZZXKoR"
   },
   "source": [
    "### creating Array "
   ]
  },
  {
   "cell_type": "code",
   "execution_count": null,
   "metadata": {
    "colab": {
     "base_uri": "https://localhost:8080/"
    },
    "executionInfo": {
     "elapsed": 621,
     "status": "ok",
     "timestamp": 1622901602963,
     "user": {
      "displayName": "sujata drall",
      "photoUrl": "",
      "userId": "07858160099359690614"
     },
     "user_tz": -330
    },
    "id": "TF_lwD72XKoR",
    "outputId": "287bc8a1-e680-41fa-f066-b0e18c29389d"
   },
   "outputs": [
    {
     "name": "stdout",
     "output_type": "stream",
     "text": [
      "<class 'numpy.ndarray'> [20  6  4]\n"
     ]
    }
   ],
   "source": [
    "# array can be created using a pre defined List, set, tuple by the given syntax\n",
    "l_1 = [20, 6, 4]\n",
    "\n",
    "# String, float, int, bool  --> String\n",
    "# float, int  --> Float\n",
    "\n",
    "l_2 = np.array(l_1)\n",
    "print(type(l_2), l_2)"
   ]
  },
  {
   "cell_type": "code",
   "execution_count": null,
   "metadata": {
    "colab": {
     "base_uri": "https://localhost:8080/"
    },
    "executionInfo": {
     "elapsed": 352,
     "status": "ok",
     "timestamp": 1622902930424,
     "user": {
      "displayName": "sujata drall",
      "photoUrl": "",
      "userId": "07858160099359690614"
     },
     "user_tz": -330
    },
    "id": "ueAbhcwVesMN",
    "outputId": "3b3a92d2-c385-4db0-c1e6-374b509f4041"
   },
   "outputs": [
    {
     "name": "stdout",
     "output_type": "stream",
     "text": [
      "[12.9 34.  55.   1. ] 1\n"
     ]
    }
   ],
   "source": [
    "l3 = [12.9, 34 ,'55', True]  #   1. string  , 2. float  , 3. integer\n",
    "\n",
    "l4_arr=np.array(l3, dtype=float)\n",
    "print(l4_arr, l4_arr.ndim)"
   ]
  },
  {
   "cell_type": "markdown",
   "metadata": {
    "id": "ziErtzL_XKoT"
   },
   "source": [
    "### creating a 2D array"
   ]
  },
  {
   "cell_type": "code",
   "execution_count": null,
   "metadata": {
    "colab": {
     "base_uri": "https://localhost:8080/"
    },
    "executionInfo": {
     "elapsed": 5,
     "status": "ok",
     "timestamp": 1622901022156,
     "user": {
      "displayName": "sujata drall",
      "photoUrl": "",
      "userId": "07858160099359690614"
     },
     "user_tz": -330
    },
    "id": "SHy6AfrkXKoU",
    "outputId": "3c7be176-4dbd-4d0a-c99f-42f8bd461245"
   },
   "outputs": [
    {
     "data": {
      "text/plain": [
       "array([10., 20., 30.])"
      ]
     },
     "execution_count": 3,
     "metadata": {
      "tags": []
     },
     "output_type": "execute_result"
    }
   ],
   "source": [
    "np.array([100,200,300]) # 1D"
   ]
  },
  {
   "cell_type": "code",
   "execution_count": null,
   "metadata": {
    "colab": {
     "base_uri": "https://localhost:8080/"
    },
    "executionInfo": {
     "elapsed": 439,
     "status": "ok",
     "timestamp": 1622904655224,
     "user": {
      "displayName": "sujata drall",
      "photoUrl": "",
      "userId": "07858160099359690614"
     },
     "user_tz": -330
    },
    "id": "EO9CJPsVXKoU",
    "outputId": "3649e531-d0d2-4670-9908-c6ef16b054fe"
   },
   "outputs": [
    {
     "name": "stdout",
     "output_type": "stream",
     "text": [
      "[[  1   2  34]\n",
      " [  4   5  67]\n",
      " [  7   9 890]\n",
      " [  1   1 128]]\n"
     ]
    }
   ],
   "source": [
    "b = np.array([[1.8,2,34],\n",
    "             [4,5,67],\n",
    "             [7,9,890],\n",
    "             [1,1,128]])\n",
    "\n",
    "b= b.astype(int) # typecasting\n",
    "print(b) \n",
    "# all values in the column should be of same lenght\n",
    "# string -Numpy - <U\n",
    "\n",
    "# b/10"
   ]
  },
  {
   "cell_type": "code",
   "execution_count": null,
   "metadata": {
    "colab": {
     "base_uri": "https://localhost:8080/"
    },
    "executionInfo": {
     "elapsed": 349,
     "status": "ok",
     "timestamp": 1622904661842,
     "user": {
      "displayName": "sujata drall",
      "photoUrl": "",
      "userId": "07858160099359690614"
     },
     "user_tz": -330
    },
    "id": "Ny7gwJh9XKoV",
    "outputId": "bb430c73-aca7-46e5-fb9b-c29a8d2adb51"
   },
   "outputs": [
    {
     "data": {
      "text/plain": [
       "(4, 3)"
      ]
     },
     "execution_count": 57,
     "metadata": {
      "tags": []
     },
     "output_type": "execute_result"
    }
   ],
   "source": [
    "b.ndim # checking dimension\n",
    "\n",
    "b.dtype # data type check\n",
    "\n",
    "b.shape # shape ( rows, columns)\n",
    "\n",
    "# b.size # total number of elements in array (rows*columns)"
   ]
  },
  {
   "cell_type": "markdown",
   "metadata": {
    "id": "_ZMGTpyPXKoW"
   },
   "source": [
    "### type conversion of a predefined array\n"
   ]
  },
  {
   "cell_type": "code",
   "execution_count": null,
   "metadata": {
    "id": "im8E0FZkXKoW",
    "outputId": "a9073011-6741-48bb-9c2f-45850b9505f8"
   },
   "outputs": [
    {
     "data": {
      "text/plain": [
       "array([[ 1.,  2.,  3.],\n",
       "       [ 4.,  5.,  6.],\n",
       "       [ 7.,  8.,  9.],\n",
       "       [ 1.,  1., 12.]])"
      ]
     },
     "execution_count": 32,
     "metadata": {
      "tags": []
     },
     "output_type": "execute_result"
    }
   ],
   "source": [
    "b = b.astype(float)\n",
    "b"
   ]
  },
  {
   "cell_type": "markdown",
   "metadata": {
    "id": "lL6WBIQ5XKoX"
   },
   "source": [
    "### operations on array\n"
   ]
  },
  {
   "cell_type": "code",
   "execution_count": null,
   "metadata": {
    "colab": {
     "base_uri": "https://localhost:8080/",
     "height": 433
    },
    "executionInfo": {
     "elapsed": 477,
     "status": "ok",
     "timestamp": 1622905094830,
     "user": {
      "displayName": "sujata drall",
      "photoUrl": "",
      "userId": "07858160099359690614"
     },
     "user_tz": -330
    },
    "id": "uQJMF6QqXKoX",
    "outputId": "8d0e972e-cbb5-485f-ddfa-de86f6b4c2b9"
   },
   "outputs": [
    {
     "data": {
      "text/plain": [
       "array([[ 30. ,   0. ,  50. ],\n",
       "       [120. , 220. , 320. ],\n",
       "       [ 21. ,  22.5,  23. ],\n",
       "       [ 25. ,  26. ,  27. ]])"
      ]
     },
     "metadata": {
      "tags": []
     },
     "output_type": "display_data"
    },
    {
     "data": {
      "text/plain": [
       "array([[  20.  ,   -8.  ,   60.  ],\n",
       "       [ 200.  , 1000.  ,  600.  ],\n",
       "       [  13.55,    4.5 ,   38.55],\n",
       "       [  10.  ,   12.  ,   14.  ]])"
      ]
     },
     "metadata": {
      "tags": []
     },
     "output_type": "display_data"
    },
    {
     "data": {
      "text/plain": [
       "array([[ 0.000e+00, -3.200e+01,  0.000e+00],\n",
       "       [ 0.000e+00, -6.000e+02,  0.000e+00],\n",
       "       [-1.155e+01,  5.000e-01, -3.255e+01],\n",
       "       [ 0.000e+00,  0.000e+00,  0.000e+00]])"
      ]
     },
     "metadata": {
      "tags": []
     },
     "output_type": "display_data"
    },
    {
     "data": {
      "text/plain": [
       "array([[  2.,   2.,   6.],\n",
       "       [ 20., 160.,  60.],\n",
       "       [  2.,   0.,   7.],\n",
       "       [  1.,   1.,   1.]])"
      ]
     },
     "metadata": {
      "tags": []
     },
     "output_type": "display_data"
    },
    {
     "data": {
      "text/plain": [
       "array([[0.  , 0.  , 0.  ],\n",
       "       [0.  , 0.  , 0.  ],\n",
       "       [0.55, 0.  , 1.55],\n",
       "       [1.  , 0.  , 1.  ]])"
      ]
     },
     "metadata": {
      "tags": []
     },
     "output_type": "display_data"
    },
    {
     "data": {
      "text/plain": [
       "array([[1.0000e+03, 4.8000e+03, 2.7000e+04],\n",
       "       [1.0000e+06, 3.2000e+07, 2.7000e+07],\n",
       "       [1.2550e+01, 1.2500e+01, 3.1995e+02],\n",
       "       [1.2500e+02, 2.1600e+02, 3.4300e+02]])"
      ]
     },
     "metadata": {
      "tags": []
     },
     "output_type": "display_data"
    }
   ],
   "source": [
    "arr_3 = np.array([[10,-20,30],\n",
    "                [100,200,300],\n",
    "                [1,2.5,3],\n",
    "                [5,6,7]])\n",
    "\n",
    "arr_4 = np.array([[10,12.0,30],\n",
    "                    [100,800,300],\n",
    "                    [12.55,2,35.55],\n",
    "                    [5,6,7]])\n",
    "\n",
    "display(arr_3 + 20, arr_3 + arr_4,  arr_3 - arr_4, \n",
    "        arr_4//5, arr_4 % 2, arr_3 * arr_4*arr_3 )"
   ]
  },
  {
   "cell_type": "markdown",
   "metadata": {
    "id": "WNNVgaxCXKoX"
   },
   "source": [
    "### np.where(condn, x, y)"
   ]
  },
  {
   "cell_type": "code",
   "execution_count": null,
   "metadata": {
    "colab": {
     "base_uri": "https://localhost:8080/"
    },
    "executionInfo": {
     "elapsed": 343,
     "status": "ok",
     "timestamp": 1622905538242,
     "user": {
      "displayName": "sujata drall",
      "photoUrl": "",
      "userId": "07858160099359690614"
     },
     "user_tz": -330
    },
    "id": "8uEZzITMXKoY",
    "outputId": "afd85476-e0ad-459a-c7db-10b69dd9974d"
   },
   "outputs": [
    {
     "data": {
      "text/plain": [
       "(array([1, 1, 2, 2]), array([0, 1, 0, 1]))"
      ]
     },
     "execution_count": 76,
     "metadata": {
      "tags": []
     },
     "output_type": "execute_result"
    }
   ],
   "source": [
    "a = np.array([[10,20],\n",
    "              [30,40],\n",
    "              [50,60]])\n",
    "\n",
    "np.where(a >= 30)"
   ]
  },
  {
   "cell_type": "code",
   "execution_count": null,
   "metadata": {
    "colab": {
     "base_uri": "https://localhost:8080/"
    },
    "executionInfo": {
     "elapsed": 371,
     "status": "ok",
     "timestamp": 1622905517199,
     "user": {
      "displayName": "sujata drall",
      "photoUrl": "",
      "userId": "07858160099359690614"
     },
     "user_tz": -330
    },
    "id": "F9rMUv7wtMbv",
    "outputId": "4e65d95b-0863-45b0-fa1d-376ecf91643f"
   },
   "outputs": [
    {
     "data": {
      "text/plain": [
       "array([[ 0,  0],\n",
       "       [-1, -1],\n",
       "       [-1, -1]])"
      ]
     },
     "execution_count": 74,
     "metadata": {
      "tags": []
     },
     "output_type": "execute_result"
    }
   ],
   "source": [
    "np.where(a >= 30 , -1 , 0)"
   ]
  },
  {
   "cell_type": "code",
   "execution_count": null,
   "metadata": {
    "colab": {
     "base_uri": "https://localhost:8080/"
    },
    "executionInfo": {
     "elapsed": 370,
     "status": "ok",
     "timestamp": 1622905745407,
     "user": {
      "displayName": "sujata drall",
      "photoUrl": "",
      "userId": "07858160099359690614"
     },
     "user_tz": -330
    },
    "id": "So32QLhUtMuZ",
    "outputId": "f5fc9d07-f2b5-4135-f19a-8be254e71a46"
   },
   "outputs": [
    {
     "data": {
      "text/plain": [
       "array([[    10,     20],\n",
       "       [304060,     40],\n",
       "       [304060, 304060]])"
      ]
     },
     "execution_count": 79,
     "metadata": {
      "tags": []
     },
     "output_type": "execute_result"
    }
   ],
   "source": [
    "np.where(((a == 30) | (a== 50) | (a==60)), 304060, a) # (condition, o/p when condn True, o/p when condn False)"
   ]
  },
  {
   "cell_type": "code",
   "execution_count": null,
   "metadata": {
    "colab": {
     "base_uri": "https://localhost:8080/"
    },
    "executionInfo": {
     "elapsed": 341,
     "status": "ok",
     "timestamp": 1622906033061,
     "user": {
      "displayName": "sujata drall",
      "photoUrl": "",
      "userId": "07858160099359690614"
     },
     "user_tz": -330
    },
    "id": "bWzuQKPqtG80",
    "outputId": "79ae9348-13f4-4733-dd08-4a7ea1e05ce5"
   },
   "outputs": [
    {
     "name": "stdout",
     "output_type": "stream",
     "text": [
      "[[      10       20]\n",
      " [30406000       40]\n",
      " [30406000       60]]\n"
     ]
    }
   ],
   "source": [
    "a[:,0]= np.where(((a[:, 0] == 30) | (a[:, 0]== 50) | (a[:, 0]==40)), 30406000, a[:, 0])\n",
    "\n",
    "print(a)"
   ]
  },
  {
   "cell_type": "code",
   "execution_count": null,
   "metadata": {
    "id": "BdwpUc0TXKoY",
    "outputId": "94a32434-a64c-46d4-b3e8-59e640e8ab12"
   },
   "outputs": [
    {
     "data": {
      "text/plain": [
       "array([[ 0, 20],\n",
       "       [30,  0],\n",
       "       [ 0,  0]])"
      ]
     },
     "execution_count": 51,
     "metadata": {
      "tags": []
     },
     "output_type": "execute_result"
    }
   ],
   "source": [
    "np.where((a == 30)|(a==20) , a , 0)"
   ]
  },
  {
   "cell_type": "code",
   "execution_count": null,
   "metadata": {
    "id": "FaUpxzlXXKoY",
    "outputId": "7f5bb52a-bf46-438a-bb28-dfea3dfd6967"
   },
   "outputs": [
    {
     "data": {
      "text/plain": [
       "(3, 2)"
      ]
     },
     "execution_count": 55,
     "metadata": {
      "tags": []
     },
     "output_type": "execute_result"
    }
   ],
   "source": [
    "a.shape"
   ]
  },
  {
   "cell_type": "code",
   "execution_count": null,
   "metadata": {
    "id": "r2E2U23DXKoZ",
    "outputId": "47af0a67-210b-4039-912a-63bd8c910bdf"
   },
   "outputs": [
    {
     "name": "stdout",
     "output_type": "stream",
     "text": [
      "[0 1 2 3 4 5 6 7]\n"
     ]
    },
    {
     "data": {
      "text/plain": [
       "array(['even', 'odd', 'even', 'odd', 'even', 'odd', 'even', 'odd'],\n",
       "      dtype='<U4')"
      ]
     },
     "execution_count": 54,
     "metadata": {
      "tags": []
     },
     "output_type": "execute_result"
    }
   ],
   "source": [
    "a2 = np.array(range(8))\n",
    "print(a2)\n",
    "np.where(a2%2==0, 'even' , 'odd')"
   ]
  },
  {
   "cell_type": "code",
   "execution_count": null,
   "metadata": {
    "id": "sImxygg7XKoZ",
    "outputId": "59b7a3be-e5a7-4fa6-f1e1-22de15294ff2"
   },
   "outputs": [
    {
     "data": {
      "text/plain": [
       "array([[0.60597828, 0.73336936],\n",
       "       [0.13894716, 0.31267308],\n",
       "       [0.99724328, 0.12816238]])"
      ]
     },
     "execution_count": 71,
     "metadata": {
      "tags": []
     },
     "output_type": "execute_result"
    }
   ],
   "source": [
    "np.random.seed(2021)  # this will freeze the randomness , so everytim - when seed 55 is given , u get same values\n",
    "rm_arr= np.random.random((3,2)) # this will generate Random array -- decimal random values\n",
    "rm_arr"
   ]
  },
  {
   "cell_type": "code",
   "execution_count": null,
   "metadata": {
    "colab": {
     "base_uri": "https://localhost:8080/"
    },
    "executionInfo": {
     "elapsed": 362,
     "status": "ok",
     "timestamp": 1622906413676,
     "user": {
      "displayName": "sujata drall",
      "photoUrl": "",
      "userId": "07858160099359690614"
     },
     "user_tz": -330
    },
    "id": "CTaVKhckXKoZ",
    "outputId": "14585230-35f3-4af2-cf5b-a176545a1bd0"
   },
   "outputs": [
    {
     "data": {
      "text/plain": [
       "array([[      10,       20],\n",
       "       [30406000,       40],\n",
       "       [30406000,       60]])"
      ]
     },
     "execution_count": 89,
     "metadata": {
      "tags": []
     },
     "output_type": "execute_result"
    }
   ],
   "source": [
    "a"
   ]
  },
  {
   "cell_type": "code",
   "execution_count": null,
   "metadata": {
    "id": "u-xybJdbXKoZ",
    "outputId": "01a9592f-0acb-40fd-a0d6-a7baf42c6837"
   },
   "outputs": [
    {
     "data": {
      "text/plain": [
       "array([[0.        , 0.        ],\n",
       "       [0.        , 0.31267308],\n",
       "       [0.99724328, 0.12816238]])"
      ]
     },
     "execution_count": 77,
     "metadata": {
      "tags": []
     },
     "output_type": "execute_result"
    }
   ],
   "source": [
    "np.where(a>=40, rm_arr, 0)"
   ]
  },
  {
   "cell_type": "code",
   "execution_count": null,
   "metadata": {
    "id": "1MqO5HtUXKoa",
    "outputId": "310b03e0-7fcf-4163-c28e-d5853f89ebf2"
   },
   "outputs": [
    {
     "data": {
      "text/plain": [
       "array([[20, 30],\n",
       "       [40, 50],\n",
       "       [60, 70]])"
      ]
     },
     "metadata": {
      "tags": []
     },
     "output_type": "display_data"
    },
    {
     "data": {
      "text/plain": [
       "array([[10, 20],\n",
       "       [30, 40],\n",
       "       [50, 60]])"
      ]
     },
     "metadata": {
      "tags": []
     },
     "output_type": "display_data"
    },
    {
     "data": {
      "text/plain": [
       "array([[10, 20],\n",
       "       [30, 50],\n",
       "       [60, 70]])"
      ]
     },
     "execution_count": 68,
     "metadata": {
      "tags": []
     },
     "output_type": "execute_result"
    }
   ],
   "source": [
    "a2 = a+10\n",
    "\n",
    "display(a2, a)\n",
    "\n",
    "np.where(a>=40 , a2, a)"
   ]
  },
  {
   "cell_type": "markdown",
   "metadata": {
    "id": "8ujLgydmXKoa"
   },
   "source": [
    "### reshaping arrays"
   ]
  },
  {
   "cell_type": "code",
   "execution_count": null,
   "metadata": {
    "colab": {
     "base_uri": "https://localhost:8080/"
    },
    "executionInfo": {
     "elapsed": 348,
     "status": "ok",
     "timestamp": 1622907189504,
     "user": {
      "displayName": "sujata drall",
      "photoUrl": "",
      "userId": "07858160099359690614"
     },
     "user_tz": -330
    },
    "id": "mYL3j2M5xrPa",
    "outputId": "ff50ab28-e504-49a7-e4b7-3a632be3c028"
   },
   "outputs": [
    {
     "data": {
      "text/plain": [
       "array([  4.84  ,   8.8804,  14.1376,  20.6116,  28.3024,  37.21  ,\n",
       "        47.3344,  58.6756,  71.2336,  85.0084, 100.    , 116.2084,\n",
       "       133.6336, 152.2756, 172.1344])"
      ]
     },
     "execution_count": 113,
     "metadata": {
      "tags": []
     },
     "output_type": "execute_result"
    }
   ],
   "source": [
    "a=np.arange(2.2, 13.6, .78)**2\n",
    "a.size\n",
    "a"
   ]
  },
  {
   "cell_type": "code",
   "execution_count": null,
   "metadata": {
    "colab": {
     "base_uri": "https://localhost:8080/"
    },
    "executionInfo": {
     "elapsed": 418,
     "status": "ok",
     "timestamp": 1622909074604,
     "user": {
      "displayName": "sujata drall",
      "photoUrl": "",
      "userId": "07858160099359690614"
     },
     "user_tz": -330
    },
    "id": "4__YzrB8XKoa",
    "outputId": "5ffc8632-1183-44c7-e822-6c4b8799a4d8"
   },
   "outputs": [
    {
     "data": {
      "text/plain": [
       "array([[  4.84  ,   8.8804,  14.1376,  20.6116,  28.3024],\n",
       "       [ 37.21  ,  47.3344,  58.6756,  71.2336,  85.0084],\n",
       "       [100.    , 116.2084, 133.6336, 152.2756, 172.1344]])"
      ]
     },
     "execution_count": 125,
     "metadata": {
      "tags": []
     },
     "output_type": "execute_result"
    }
   ],
   "source": [
    "a3= a.reshape(-1,5) # Reshape Will create 2D arrray from 1 d array , (rows, columns)\n",
    "# a3= a3.reshape(15,)  \n",
    "# a3.shape\n",
    "a3"
   ]
  },
  {
   "cell_type": "markdown",
   "metadata": {
    "id": "2Ai1MEFXXKoa"
   },
   "source": [
    "### flatten an array"
   ]
  },
  {
   "cell_type": "code",
   "execution_count": null,
   "metadata": {
    "colab": {
     "base_uri": "https://localhost:8080/"
    },
    "executionInfo": {
     "elapsed": 365,
     "status": "ok",
     "timestamp": 1622907364026,
     "user": {
      "displayName": "sujata drall",
      "photoUrl": "",
      "userId": "07858160099359690614"
     },
     "user_tz": -330
    },
    "id": "pjy6pMWNXKoa",
    "outputId": "fec8ed94-e8e8-424b-9ed1-0d78e6275623"
   },
   "outputs": [
    {
     "data": {
      "text/plain": [
       "(15,)"
      ]
     },
     "execution_count": 116,
     "metadata": {
      "tags": []
     },
     "output_type": "execute_result"
    }
   ],
   "source": [
    "a3=a3.flatten() #always for creating 1D array\n",
    "a3.shape"
   ]
  },
  {
   "cell_type": "markdown",
   "metadata": {
    "id": "K0cfCELQXKob"
   },
   "source": [
    "### checking unique elements"
   ]
  },
  {
   "cell_type": "code",
   "execution_count": null,
   "metadata": {
    "colab": {
     "base_uri": "https://localhost:8080/"
    },
    "executionInfo": {
     "elapsed": 362,
     "status": "ok",
     "timestamp": 1622909369907,
     "user": {
      "displayName": "sujata drall",
      "photoUrl": "",
      "userId": "07858160099359690614"
     },
     "user_tz": -330
    },
    "id": "X-2pFYV775PL",
    "outputId": "1d44b60c-5239-4c2b-f374-542efbeced2b"
   },
   "outputs": [
    {
     "name": "stdout",
     "output_type": "stream",
     "text": [
      "10 12\n"
     ]
    }
   ],
   "source": [
    "# Tuple Unpacking example\n",
    "a, b = 10,12\n",
    "print(a,b)"
   ]
  },
  {
   "cell_type": "code",
   "execution_count": null,
   "metadata": {
    "colab": {
     "base_uri": "https://localhost:8080/"
    },
    "executionInfo": {
     "elapsed": 348,
     "status": "ok",
     "timestamp": 1622909382044,
     "user": {
      "displayName": "sujata drall",
      "photoUrl": "",
      "userId": "07858160099359690614"
     },
     "user_tz": -330
    },
    "id": "7vGP0_8VXKob",
    "outputId": "956e6e83-f8e0-49dc-d735-a86d3960e251"
   },
   "outputs": [
    {
     "name": "stdout",
     "output_type": "stream",
     "text": [
      "unique_values [1 2 4 5 8 9] value_count [1 2 2 2 1 1]\n"
     ]
    }
   ],
   "source": [
    "arr1 = np.array([[1,2,2],\n",
    "                 [4,5,5],\n",
    "                 [4,8,9]])\n",
    "np.unique(arr1) # only unique values given form the array\n",
    "unique_values, value_count = np.unique(arr1, return_counts=True)\n",
    "\n",
    "print('unique_values',unique_values,\n",
    "      'value_count', value_count)"
   ]
  },
  {
   "cell_type": "markdown",
   "metadata": {
    "id": "QOoHv_fIXKob"
   },
   "source": [
    "### np.arange(start,stop,step)\n",
    "\n",
    "Return evenly spaced values within a given interval.\n",
    "\n",
    "numpy.arange( start(default = 0) , stop , step(default = 1) )\n"
   ]
  },
  {
   "cell_type": "code",
   "execution_count": null,
   "metadata": {
    "id": "pKH7Q9evXKob",
    "outputId": "cf60847a-0072-43ec-8ed3-3032138223af"
   },
   "outputs": [
    {
     "data": {
      "text/plain": [
       "array([2.1, 3.1, 4.1, 5.1, 6.1, 7.1, 8.1])"
      ]
     },
     "execution_count": 121,
     "metadata": {
      "tags": []
     },
     "output_type": "execute_result"
    }
   ],
   "source": [
    "np.arange(2.1, 8.5, 0.255)"
   ]
  },
  {
   "cell_type": "code",
   "execution_count": null,
   "metadata": {
    "id": "HGq2YyIxXKoc",
    "outputId": "190741ea-96f0-4da2-b0d1-8cf064f1bdbe"
   },
   "outputs": [
    {
     "data": {
      "text/plain": [
       "array([ 2. ,  2.5,  3. ,  3.5,  4. ,  4.5,  5. ,  5.5,  6. ,  6.5,  7. ,\n",
       "        7.5,  8. ,  8.5,  9. ,  9.5, 10. , 10.5, 11. , 11.5, 12. , 12.5,\n",
       "       13. , 13.5, 14. , 14.5, 15. , 15.5, 16. , 16.5, 17. , 17.5, 18. ,\n",
       "       18.5, 19. , 19.5, 20. , 20.5, 21. , 21.5])"
      ]
     },
     "execution_count": 133,
     "metadata": {
      "tags": []
     },
     "output_type": "execute_result"
    }
   ],
   "source": [
    "np.arange(2, 21.88, 0.5)"
   ]
  },
  {
   "cell_type": "markdown",
   "metadata": {
    "id": "bTLmBUYsXKoc"
   },
   "source": [
    "### linspace(start,  stop,   num = 50)\n",
    "Return evenly spaced numbers over a specified interval. - BOTH LOW & HIGH are Inclusive\n",
    "\n",
    "\n",
    "#### np.linspace  (start , stop , num=50) By Default 50  occurances\n"
   ]
  },
  {
   "cell_type": "code",
   "execution_count": null,
   "metadata": {
    "colab": {
     "base_uri": "https://localhost:8080/"
    },
    "executionInfo": {
     "elapsed": 343,
     "status": "ok",
     "timestamp": 1622909626325,
     "user": {
      "displayName": "sujata drall",
      "photoUrl": "",
      "userId": "07858160099359690614"
     },
     "user_tz": -330
    },
    "id": "jmN8gYRhXKoc",
    "outputId": "93522547-6a0a-4511-934c-ce288651f0bb"
   },
   "outputs": [
    {
     "data": {
      "text/plain": [
       "(array([ 1.        ,  1.18367347,  1.36734694,  1.55102041,  1.73469388,\n",
       "         1.91836735,  2.10204082,  2.28571429,  2.46938776,  2.65306122,\n",
       "         2.83673469,  3.02040816,  3.20408163,  3.3877551 ,  3.57142857,\n",
       "         3.75510204,  3.93877551,  4.12244898,  4.30612245,  4.48979592,\n",
       "         4.67346939,  4.85714286,  5.04081633,  5.2244898 ,  5.40816327,\n",
       "         5.59183673,  5.7755102 ,  5.95918367,  6.14285714,  6.32653061,\n",
       "         6.51020408,  6.69387755,  6.87755102,  7.06122449,  7.24489796,\n",
       "         7.42857143,  7.6122449 ,  7.79591837,  7.97959184,  8.16326531,\n",
       "         8.34693878,  8.53061224,  8.71428571,  8.89795918,  9.08163265,\n",
       "         9.26530612,  9.44897959,  9.63265306,  9.81632653, 10.        ]),\n",
       " 0.1836734693877551)"
      ]
     },
     "execution_count": 135,
     "metadata": {
      "tags": []
     },
     "output_type": "execute_result"
    }
   ],
   "source": [
    "np.linspace(1,10,50, retstep=True)  # retstep - return step - differnec b/w 2 value"
   ]
  },
  {
   "cell_type": "markdown",
   "metadata": {
    "id": "UlQq5VOzXKoc"
   },
   "source": [
    "### np.random\n",
    "\n",
    "It is used to create random number arrays:"
   ]
  },
  {
   "cell_type": "code",
   "execution_count": 6,
   "metadata": {
    "id": "w9CJwYu4DgyS"
   },
   "outputs": [],
   "source": [
    "import numpy as np"
   ]
  },
  {
   "cell_type": "code",
   "execution_count": 7,
   "metadata": {
    "colab": {
     "base_uri": "https://localhost:8080/"
    },
    "executionInfo": {
     "elapsed": 343,
     "status": "ok",
     "timestamp": 1622909861375,
     "user": {
      "displayName": "sujata drall",
      "photoUrl": "",
      "userId": "07858160099359690614"
     },
     "user_tz": -330
    },
    "id": "7kdt8WXfXKoc",
    "outputId": "df6ccf39-4c93-41e2-ad97-71a900ddd2e5"
   },
   "outputs": [
    {
     "data": {
      "text/plain": [
       "array([[0.22904787, 0.36066976],\n",
       "       [0.727653  , 0.1126678 ],\n",
       "       [0.60777065, 0.81574946],\n",
       "       [0.98126938, 0.06374484],\n",
       "       [0.79995975, 0.09694856]])"
      ]
     },
     "execution_count": 7,
     "metadata": {},
     "output_type": "execute_result"
    }
   ],
   "source": [
    "np.random.seed(5000)  # any positive integer number - >0\n",
    "np.random.random((5,2))# (rows, cols)"
   ]
  },
  {
   "cell_type": "code",
   "execution_count": 8,
   "metadata": {
    "id": "A45ZOm9tXKod",
    "outputId": "ec26bf54-5e23-4368-fbd5-f75ad4aaaa2b"
   },
   "outputs": [
    {
     "data": {
      "text/plain": [
       "array([[ 1.67824248, -1.02596417],\n",
       "       [-0.02176213,  0.53048021]])"
      ]
     },
     "execution_count": 8,
     "metadata": {},
     "output_type": "execute_result"
    }
   ],
   "source": [
    "np.random.randn(2,2) #positive & negative numbers"
   ]
  },
  {
   "cell_type": "code",
   "execution_count": 9,
   "metadata": {
    "colab": {
     "base_uri": "https://localhost:8080/"
    },
    "executionInfo": {
     "elapsed": 343,
     "status": "ok",
     "timestamp": 1622910026006,
     "user": {
      "displayName": "sujata drall",
      "photoUrl": "",
      "userId": "07858160099359690614"
     },
     "user_tz": -330
    },
    "id": "wKdtHpx7XKod",
    "outputId": "fc38a0ea-06c5-4e14-bd7f-23fbe6603697"
   },
   "outputs": [
    {
     "data": {
      "text/plain": [
       "array([[2, 0, 3, 0],\n",
       "       [0, 7, 3, 8],\n",
       "       [7, 4, 4, 0],\n",
       "       [0, 3, 3, 1]])"
      ]
     },
     "execution_count": 9,
     "metadata": {},
     "output_type": "execute_result"
    }
   ],
   "source": [
    "np.random.seed(50)\n",
    "\n",
    "np.random.randint(0,100,40) # will generate 1D output\n",
    "\n",
    "np.random.randint(0,10, (4,4))# (rows, cols) - will generate 2D output"
   ]
  },
  {
   "cell_type": "code",
   "execution_count": null,
   "metadata": {
    "colab": {
     "base_uri": "https://localhost:8080/",
     "height": 243
    },
    "executionInfo": {
     "elapsed": 832,
     "status": "ok",
     "timestamp": 1622910183432,
     "user": {
      "displayName": "sujata drall",
      "photoUrl": "",
      "userId": "07858160099359690614"
     },
     "user_tz": -330
    },
    "id": "bQvZrsX7XKod",
    "outputId": "0b773dc5-f352-4ed2-b9a5-7e5cab90ca93"
   },
   "outputs": [
    {
     "data": {
      "text/plain": [
       "8.186312635066972"
      ]
     },
     "metadata": {
      "tags": []
     },
     "output_type": "display_data"
    },
    {
     "data": {
      "text/plain": [
       "2.003391826740795"
      ]
     },
     "metadata": {
      "tags": []
     },
     "output_type": "display_data"
    },
    {
     "data": {
      "text/plain": [
       "50"
      ]
     },
     "metadata": {
      "tags": []
     },
     "output_type": "display_data"
    },
    {
     "data": {
      "text/plain": [
       "array([ 4.87929578,  7.93804479,  6.75814315,  5.07083903, 10.82389224,\n",
       "        7.04653571,  6.43906157, 10.14053547,  5.43541481,  5.3450422 ,\n",
       "        8.25267528,  9.72438743,  9.39347393,  7.33086963,  6.00494787,\n",
       "       11.19781659, 14.62815069,  9.97554092,  8.24773251,  9.48557079,\n",
       "        7.2120883 ,  8.29623164,  7.17553109,  7.67856988,  8.27906295,\n",
       "        8.57093874,  7.43747601, 11.42181463,  7.70046672,  9.38061344,\n",
       "       10.19041902, 10.67681741,  5.26203666,  8.97285526,  9.50704336,\n",
       "        8.72692919,  7.37057904, 10.74656234,  6.75116567,  8.75150799,\n",
       "        7.59916737,  9.48607612,  9.71472391,  4.98762143,  4.66729566,\n",
       "        7.56201039,  7.28228314,  8.75705539,  9.36843073,  5.66428787])"
      ]
     },
     "metadata": {
      "tags": []
     },
     "output_type": "display_data"
    }
   ],
   "source": [
    "np.random.seed(50)\n",
    "\n",
    "a = np.random.normal(8,2,50) # np.random.normal(mean, std, number of observations)\n",
    "\n",
    "display(np.mean(a), np.std(a), a.size, a)\n",
    "\n",
    "# normaly distributed data - mean around 0 and std around 1"
   ]
  },
  {
   "cell_type": "markdown",
   "metadata": {
    "id": "TIcSEyaoDjR8"
   },
   "source": []
  },
  {
   "cell_type": "markdown",
   "metadata": {
    "id": "3URsGg2ADozt"
   },
   "source": [
    "Variance & std"
   ]
  },
  {
   "cell_type": "code",
   "execution_count": null,
   "metadata": {
    "id": "vQr8m69QDh3P"
   },
   "outputs": [],
   "source": [
    "v2 = np.array( [1,3,5,2,4]  )\n",
    "print(np.var(v2))\n",
    "print(np.std(v2))\n",
    "np.mean(v2)"
   ]
  },
  {
   "cell_type": "code",
   "execution_count": null,
   "metadata": {
    "id": "Fi3mmf_DDh5w"
   },
   "outputs": [],
   "source": [
    "v1 = np.array( [ 1,10,16,22,27,31,50,60,100,101, 300, 500, 330 ]  )\n",
    "np.var(v1)\n",
    "np.std(v1)\n",
    "np.mean(v1)"
   ]
  },
  {
   "cell_type": "code",
   "execution_count": null,
   "metadata": {
    "id": "Y8aTCiESDh9O"
   },
   "outputs": [],
   "source": []
  },
  {
   "cell_type": "markdown",
   "metadata": {
    "id": "vxa3qxNuXKod"
   },
   "source": [
    "### Transpose"
   ]
  },
  {
   "cell_type": "code",
   "execution_count": null,
   "metadata": {
    "id": "rX0W2NsWXKoe",
    "outputId": "11dc1c5a-c455-46f7-8249-547e47770805"
   },
   "outputs": [
    {
     "data": {
      "text/plain": [
       "array([[0, 1],\n",
       "       [2, 3],\n",
       "       [4, 5],\n",
       "       [6, 7],\n",
       "       [8, 9]])"
      ]
     },
     "execution_count": 182,
     "metadata": {
      "tags": []
     },
     "output_type": "execute_result"
    }
   ],
   "source": [
    "arr = np.arange(10).reshape(5,2)\n",
    "arr"
   ]
  },
  {
   "cell_type": "code",
   "execution_count": null,
   "metadata": {
    "id": "JCk8cmx4XKoe",
    "outputId": "db66aae2-55ae-47f3-a0b6-cb8aa3aed6de"
   },
   "outputs": [
    {
     "data": {
      "text/plain": [
       "array([[0, 2, 4, 6, 8],\n",
       "       [1, 3, 5, 7, 9]])"
      ]
     },
     "execution_count": 184,
     "metadata": {
      "tags": []
     },
     "output_type": "execute_result"
    }
   ],
   "source": [
    "arr.T\n",
    "np.transpose(arr)"
   ]
  },
  {
   "cell_type": "markdown",
   "metadata": {
    "id": "Trve-O5uXKoe"
   },
   "source": [
    "### np.zeros\n",
    "\n",
    "### np.full\n",
    "\n",
    "### np.eye\n",
    "\n",
    "### np.ones\n"
   ]
  },
  {
   "cell_type": "code",
   "execution_count": null,
   "metadata": {
    "id": "LdGzGbRtXKoe",
    "outputId": "d3a4d5e4-a377-4d53-e331-ea927f6600e3"
   },
   "outputs": [
    {
     "data": {
      "text/plain": [
       "array([[0., 0., 0.],\n",
       "       [0., 0., 0.],\n",
       "       [0., 0., 0.]])"
      ]
     },
     "execution_count": 23,
     "metadata": {
      "tags": []
     },
     "output_type": "execute_result"
    }
   ],
   "source": [
    "np.zeros((3,3))"
   ]
  },
  {
   "cell_type": "code",
   "execution_count": null,
   "metadata": {
    "id": "uL27AgFiXKoe",
    "outputId": "2c147364-5061-426f-b00e-52a2085031ce"
   },
   "outputs": [
    {
     "data": {
      "text/plain": [
       "array([[16, 16, 16],\n",
       "       [16, 16, 16],\n",
       "       [16, 16, 16]])"
      ]
     },
     "execution_count": 41,
     "metadata": {
      "tags": []
     },
     "output_type": "execute_result"
    }
   ],
   "source": [
    "np.full((3,3), 16)# np.full(shape, value)"
   ]
  },
  {
   "cell_type": "code",
   "execution_count": null,
   "metadata": {
    "id": "2NFu5lM3XKof",
    "outputId": "2dd6bd82-b529-46c5-8c5a-1575c601e5a4"
   },
   "outputs": [
    {
     "data": {
      "text/plain": [
       "array([[0., 1., 0.],\n",
       "       [0., 0., 1.],\n",
       "       [0., 0., 0.]])"
      ]
     },
     "execution_count": 191,
     "metadata": {
      "tags": []
     },
     "output_type": "execute_result"
    }
   ],
   "source": [
    "np.eye(3,3) # print 1 on the diagonal\n",
    "\n",
    "np.eye(3,3,-1) # print 1 below the diagonal\n",
    "\n",
    "np.eye(3,3,1) # print 1 above the diagonal"
   ]
  },
  {
   "cell_type": "code",
   "execution_count": null,
   "metadata": {
    "id": "XKhrjbTmXKof",
    "outputId": "5d6fdb5d-44c5-403e-f276-f21bf7aab8de"
   },
   "outputs": [
    {
     "data": {
      "text/plain": [
       "array([[1., 1.],\n",
       "       [1., 1.]])"
      ]
     },
     "execution_count": 193,
     "metadata": {
      "tags": []
     },
     "output_type": "execute_result"
    }
   ],
   "source": [
    "np.ones(5) # 1D array of size 5 - having all 1's\n",
    "\n",
    "np.ones((2,2)) # 2D array of size 5 - having all 1's"
   ]
  },
  {
   "cell_type": "markdown",
   "metadata": {
    "id": "myBqS78hXKof"
   },
   "source": [
    "### indexing "
   ]
  },
  {
   "cell_type": "code",
   "execution_count": 156,
   "metadata": {
    "colab": {
     "base_uri": "https://localhost:8080/"
    },
    "executionInfo": {
     "elapsed": 394,
     "status": "ok",
     "timestamp": 1622911912909,
     "user": {
      "displayName": "sujata drall",
      "photoUrl": "",
      "userId": "07858160099359690614"
     },
     "user_tz": -330
    },
    "id": "de7FZXQeXKof",
    "outputId": "1f8d221c-03e0-4bd6-bfba-58e76f67611c"
   },
   "outputs": [
    {
     "data": {
      "text/plain": [
       "array([[36, 15, 39, 17, 10],\n",
       "       [ 9, 37, 28, 31, 17],\n",
       "       [ 8, 13, 16, 17, 28],\n",
       "       [14, 12,  2, 31, 21]])"
      ]
     },
     "execution_count": 156,
     "metadata": {
      "tags": []
     },
     "output_type": "execute_result"
    }
   ],
   "source": [
    "np.random.seed(5)\n",
    "f = np.random.randint(1,40,(4,5))\n",
    "f"
   ]
  },
  {
   "cell_type": "code",
   "execution_count": 157,
   "metadata": {
    "colab": {
     "base_uri": "https://localhost:8080/"
    },
    "executionInfo": {
     "elapsed": 4,
     "status": "ok",
     "timestamp": 1622911914399,
     "user": {
      "displayName": "sujata drall",
      "photoUrl": "",
      "userId": "07858160099359690614"
     },
     "user_tz": -330
    },
    "id": "_TZH5CKTXKof",
    "outputId": "19c8cd18-7b0a-437e-ca24-9481cf0cfdc1"
   },
   "outputs": [
    {
     "data": {
      "text/plain": [
       "array([[100, 100, 100,  17,  10],\n",
       "       [100, 100, 100,  31,  17],\n",
       "       [100, 100, 100,  17,  28],\n",
       "       [100, 100, 100,  31,  29]])"
      ]
     },
     "execution_count": 157,
     "metadata": {
      "tags": []
     },
     "output_type": "execute_result"
    }
   ],
   "source": [
    "f[-1,-1]\n",
    "\n",
    "f[:,0]\n",
    "\n",
    "f[0:2, 1:3]\n",
    "\n",
    "f[:, :3]=100\n",
    "\n",
    "f[-1,-1]=29\n",
    "\n",
    "f"
   ]
  },
  {
   "cell_type": "code",
   "execution_count": 159,
   "metadata": {
    "colab": {
     "base_uri": "https://localhost:8080/"
    },
    "executionInfo": {
     "elapsed": 615,
     "status": "ok",
     "timestamp": 1622911935076,
     "user": {
      "displayName": "sujata drall",
      "photoUrl": "",
      "userId": "07858160099359690614"
     },
     "user_tz": -330
    },
    "id": "fS3ZQ4ueFfW2",
    "outputId": "01e00ee9-0616-4ae7-fc1f-1275c18080b4"
   },
   "outputs": [
    {
     "data": {
      "text/plain": [
       "array([31, 17, 31])"
      ]
     },
     "execution_count": 159,
     "metadata": {
      "tags": []
     },
     "output_type": "execute_result"
    }
   ],
   "source": [
    "f[ [1, 2,3 ], [3,3,3]]"
   ]
  },
  {
   "cell_type": "code",
   "execution_count": null,
   "metadata": {
    "id": "ZVd8aOIaXKog",
    "outputId": "6f560012-8980-4c04-ddf1-2464edb3ba12"
   },
   "outputs": [
    {
     "data": {
      "text/plain": [
       "array([[ 10, 100,  17],\n",
       "       [ 17, 100,  31]])"
      ]
     },
     "execution_count": 205,
     "metadata": {
      "tags": []
     },
     "output_type": "execute_result"
    }
   ],
   "source": [
    "#Get values in a range\n",
    "f[ [2,0,3] ,  [-1,0,-2]  ]\n",
    "\n",
    "f[ 0:2 ,  [-1,0,-2]  ]"
   ]
  },
  {
   "cell_type": "code",
   "execution_count": null,
   "metadata": {
    "id": "EDObPtQbXKog",
    "outputId": "21372ebf-5e36-4c6c-d7f8-d5928254b5f2"
   },
   "outputs": [
    {
     "data": {
      "text/plain": [
       "array([[100, 100, 100,  17,  28],\n",
       "       [100, 100, 100,  31,  29]])"
      ]
     },
     "execution_count": 56,
     "metadata": {
      "tags": []
     },
     "output_type": "execute_result"
    }
   ],
   "source": [
    "f[-2:] # will pick rows and all cols"
   ]
  },
  {
   "cell_type": "code",
   "execution_count": null,
   "metadata": {
    "id": "4BB-w7C4XKog",
    "outputId": "170d1dc7-34f8-4a59-efb3-7171c6fef9ac"
   },
   "outputs": [
    {
     "data": {
      "text/plain": [
       "array([[100,  31,  29],\n",
       "       [100,  31,  17],\n",
       "       [100,  31,  29]])"
      ]
     },
     "execution_count": 60,
     "metadata": {
      "tags": []
     },
     "output_type": "execute_result"
    }
   ],
   "source": [
    "f[  [3,1,-1],   -3:   ] # [rows, columns]"
   ]
  },
  {
   "cell_type": "code",
   "execution_count": null,
   "metadata": {
    "id": "Tyb5zoEeXKog"
   },
   "outputs": [],
   "source": [
    "f[-1,2] = 700"
   ]
  },
  {
   "cell_type": "code",
   "execution_count": null,
   "metadata": {
    "id": "jQsMrAF7XKog"
   },
   "outputs": [],
   "source": [
    "f[0:4] = 10"
   ]
  },
  {
   "cell_type": "code",
   "execution_count": 163,
   "metadata": {
    "colab": {
     "base_uri": "https://localhost:8080/"
    },
    "executionInfo": {
     "elapsed": 3,
     "status": "ok",
     "timestamp": 1622912204527,
     "user": {
      "displayName": "sujata drall",
      "photoUrl": "",
      "userId": "07858160099359690614"
     },
     "user_tz": -330
    },
    "id": "gcnCw0ZEXKoh",
    "outputId": "8d68ed2c-0764-46b4-ac78-fe291618aa5c"
   },
   "outputs": [
    {
     "data": {
      "text/plain": [
       "array([[1, 1, 1, 1, 1],\n",
       "       [1, 1, 1, 1, 1],\n",
       "       [1, 1, 1, 1, 1],\n",
       "       [1, 1, 1, 1, 1]])"
      ]
     },
     "execution_count": 163,
     "metadata": {
      "tags": []
     },
     "output_type": "execute_result"
    }
   ],
   "source": [
    "f[:] = 1 # include everthing\n",
    "f"
   ]
  },
  {
   "cell_type": "code",
   "execution_count": null,
   "metadata": {
    "id": "VfO4R0slXKoh",
    "outputId": "9470168e-bfc5-434d-8ad1-00ecf28b97e7"
   },
   "outputs": [
    {
     "data": {
      "text/plain": [
       "array([1, 1])"
      ]
     },
     "execution_count": 35,
     "metadata": {
      "tags": []
     },
     "output_type": "execute_result"
    }
   ],
   "source": [
    "f[[0,1],[2,2]]"
   ]
  },
  {
   "cell_type": "code",
   "execution_count": 164,
   "metadata": {
    "colab": {
     "base_uri": "https://localhost:8080/"
    },
    "executionInfo": {
     "elapsed": 336,
     "status": "ok",
     "timestamp": 1622912314285,
     "user": {
      "displayName": "sujata drall",
      "photoUrl": "",
      "userId": "07858160099359690614"
     },
     "user_tz": -330
    },
    "id": "LgkuNDHNXKoh",
    "outputId": "4cf45702-d44b-438e-e08f-7438c5a0969b"
   },
   "outputs": [
    {
     "data": {
      "text/plain": [
       "array([[1, 1],\n",
       "       [1, 1],\n",
       "       [1, 1]])"
      ]
     },
     "execution_count": 164,
     "metadata": {
      "tags": []
     },
     "output_type": "execute_result"
    }
   ],
   "source": [
    "f[[3,2,0],2:4]"
   ]
  },
  {
   "cell_type": "markdown",
   "metadata": {
    "id": "DUWRDNAjXKoh"
   },
   "source": [
    "### min, max\n",
    "### argmax, argmin, argwhere"
   ]
  },
  {
   "cell_type": "code",
   "execution_count": 165,
   "metadata": {
    "colab": {
     "base_uri": "https://localhost:8080/"
    },
    "executionInfo": {
     "elapsed": 411,
     "status": "ok",
     "timestamp": 1622912346078,
     "user": {
      "displayName": "sujata drall",
      "photoUrl": "",
      "userId": "07858160099359690614"
     },
     "user_tz": -330
    },
    "id": "UZ3QkzZ-XKoh",
    "outputId": "7bbcd80a-b1c2-49d4-d88f-8552d5edfdf7"
   },
   "outputs": [
    {
     "data": {
      "text/plain": [
       "999"
      ]
     },
     "execution_count": 165,
     "metadata": {
      "tags": []
     },
     "output_type": "execute_result"
    }
   ],
   "source": [
    "arr2 = np.array([[1,2],\n",
    "                [8,19],\n",
    "                [90,5],\n",
    "                [999,0]])\n",
    "arr2.max()"
   ]
  },
  {
   "cell_type": "code",
   "execution_count": 173,
   "metadata": {
    "colab": {
     "base_uri": "https://localhost:8080/"
    },
    "executionInfo": {
     "elapsed": 546,
     "status": "ok",
     "timestamp": 1622912683500,
     "user": {
      "displayName": "sujata drall",
      "photoUrl": "",
      "userId": "07858160099359690614"
     },
     "user_tz": -330
    },
    "id": "bKCyC-08XKoh",
    "outputId": "2b00cc7a-be6c-42f1-a427-efe39fd23261"
   },
   "outputs": [
    {
     "data": {
      "text/plain": [
       "array([1, 1, 0, 0])"
      ]
     },
     "execution_count": 173,
     "metadata": {
      "tags": []
     },
     "output_type": "execute_result"
    }
   ],
   "source": [
    "#gives the maximum value\n",
    "arr2.max(axis=0) #   axis=1 ---> rows,     axis=0 ---> cols\n",
    "\n",
    "# # # gives the index of maximum value  - by coverting array in 1D\n",
    "arr2.argmax()   #  [1,2,8,19,90,5,999,0]\n",
    "arr2.argmax(axis=0)   #  [1,8,90,999], [2,19,5,0]\n",
    "arr2.argmax(axis=1)   #  [1,2], [8,9],[90,5], [999,0]]\n",
    "\n",
    "# # # # # # gives the minimum value\n",
    "# arr2.min()\n",
    "\n",
    "# # # # # # # # gives the index of minimum value  - by firstly coverting array in 1D in the backend\n",
    "arr2.argmin()"
   ]
  },
  {
   "cell_type": "code",
   "execution_count": 174,
   "metadata": {
    "colab": {
     "base_uri": "https://localhost:8080/"
    },
    "executionInfo": {
     "elapsed": 9,
     "status": "ok",
     "timestamp": 1622912892042,
     "user": {
      "displayName": "sujata drall",
      "photoUrl": "",
      "userId": "07858160099359690614"
     },
     "user_tz": -330
    },
    "id": "jTlljMEYXKoi",
    "outputId": "367cbaac-1505-4ef1-a0ab-1eeca56ec462"
   },
   "outputs": [
    {
     "data": {
      "text/plain": [
       "array([[3, 0]])"
      ]
     },
     "execution_count": 174,
     "metadata": {
      "tags": []
     },
     "output_type": "execute_result"
    }
   ],
   "source": [
    "np.argwhere(arr2 == arr2.max()) # 2D index  where the condition satisfies"
   ]
  },
  {
   "cell_type": "markdown",
   "metadata": {
    "id": "z5ZJTvgJXKoi"
   },
   "source": [
    "### filtering values"
   ]
  },
  {
   "cell_type": "code",
   "execution_count": 176,
   "metadata": {
    "colab": {
     "base_uri": "https://localhost:8080/"
    },
    "executionInfo": {
     "elapsed": 9,
     "status": "ok",
     "timestamp": 1622913098042,
     "user": {
      "displayName": "sujata drall",
      "photoUrl": "",
      "userId": "07858160099359690614"
     },
     "user_tz": -330
    },
    "id": "m1QprEgtXKoj",
    "outputId": "876862e3-2c80-4232-f584-831ddda626ed"
   },
   "outputs": [
    {
     "data": {
      "text/plain": [
       "array([[ 1,  2,  3,  4],\n",
       "       [ 5,  6,  7,  8],\n",
       "       [ 9, 10, 11, 12],\n",
       "       [13, 14, 15, 16],\n",
       "       [17, 18, 19, 17]])"
      ]
     },
     "execution_count": 176,
     "metadata": {
      "tags": []
     },
     "output_type": "execute_result"
    }
   ],
   "source": [
    "arr = np.arange(1,21).reshape(5,4)\n",
    "arr[-1,-1]=17\n",
    "arr"
   ]
  },
  {
   "cell_type": "code",
   "execution_count": 177,
   "metadata": {
    "colab": {
     "base_uri": "https://localhost:8080/"
    },
    "executionInfo": {
     "elapsed": 338,
     "status": "ok",
     "timestamp": 1622913109813,
     "user": {
      "displayName": "sujata drall",
      "photoUrl": "",
      "userId": "07858160099359690614"
     },
     "user_tz": -330
    },
    "id": "T7vbODXgXKoj",
    "outputId": "843d0a8a-f0a1-4252-83a1-7c18fb59d011"
   },
   "outputs": [
    {
     "data": {
      "text/plain": [
       "array([15, 16, 17, 18, 19, 17])"
      ]
     },
     "execution_count": 177,
     "metadata": {
      "tags": []
     },
     "output_type": "execute_result"
    }
   ],
   "source": [
    "arr[arr >= 15] # gives values"
   ]
  },
  {
   "cell_type": "markdown",
   "metadata": {
    "id": "zuWvs997XKoj"
   },
   "source": [
    "### np.sum()"
   ]
  },
  {
   "cell_type": "code",
   "execution_count": null,
   "metadata": {
    "id": "qHhwDypZXKok",
    "outputId": "160364a3-9a89-4d85-f139-316b155299cb"
   },
   "outputs": [
    {
     "data": {
      "text/plain": [
       "207"
      ]
     },
     "execution_count": 222,
     "metadata": {
      "tags": []
     },
     "output_type": "execute_result"
    }
   ],
   "source": [
    "np.sum(arr) # no axis specified -- all values are added up "
   ]
  },
  {
   "cell_type": "code",
   "execution_count": null,
   "metadata": {
    "id": "JnJ09ZbqXKok",
    "outputId": "cb00a7f6-df23-4ce5-8b12-d71950cfcb84"
   },
   "outputs": [
    {
     "data": {
      "text/plain": [
       "array([45, 50, 55, 57])"
      ]
     },
     "execution_count": 223,
     "metadata": {
      "tags": []
     },
     "output_type": "execute_result"
    }
   ],
   "source": [
    "np.sum(arr, axis  = 0) # adding column value"
   ]
  },
  {
   "cell_type": "code",
   "execution_count": null,
   "metadata": {
    "id": "jB01dayHXKok",
    "outputId": "d0f61e97-bb5b-41ae-cbe4-f25cd2986b7b"
   },
   "outputs": [
    {
     "data": {
      "text/plain": [
       "array([10, 26, 42, 58, 71])"
      ]
     },
     "execution_count": 224,
     "metadata": {
      "tags": []
     },
     "output_type": "execute_result"
    }
   ],
   "source": [
    "np.sum(arr, axis = 1) # adding every single row value"
   ]
  },
  {
   "cell_type": "code",
   "execution_count": 178,
   "metadata": {
    "colab": {
     "base_uri": "https://localhost:8080/"
    },
    "executionInfo": {
     "elapsed": 353,
     "status": "ok",
     "timestamp": 1622913187285,
     "user": {
      "displayName": "sujata drall",
      "photoUrl": "",
      "userId": "07858160099359690614"
     },
     "user_tz": -330
    },
    "id": "2CpQkvUcXKok",
    "outputId": "2002c7ea-9cb3-4b18-c9f4-596af5a3f89b"
   },
   "outputs": [
    {
     "data": {
      "text/plain": [
       "array([ 0, 18, 19,  0])"
      ]
     },
     "execution_count": 178,
     "metadata": {
      "tags": []
     },
     "output_type": "execute_result"
    }
   ],
   "source": [
    "np.sum(arr, axis=0 , where = arr>17) "
   ]
  },
  {
   "cell_type": "markdown",
   "metadata": {
    "id": "aDOqe37CXKok"
   },
   "source": [
    "### some more functions"
   ]
  },
  {
   "cell_type": "code",
   "execution_count": null,
   "metadata": {
    "id": "qLbizl7FXKol",
    "outputId": "2d802463-d3e1-4deb-9494-6ce7440607c6"
   },
   "outputs": [
    {
     "data": {
      "text/plain": [
       "array([[ 1,  2,  3,  4],\n",
       "       [ 5,  6,  7,  8],\n",
       "       [ 9, 10, 11, 12],\n",
       "       [13, 14, 15, 16],\n",
       "       [17, 18, 19, 17]])"
      ]
     },
     "execution_count": 225,
     "metadata": {
      "tags": []
     },
     "output_type": "execute_result"
    }
   ],
   "source": [
    "arr"
   ]
  },
  {
   "cell_type": "code",
   "execution_count": null,
   "metadata": {
    "id": "bCEwaXO2XKol",
    "outputId": "f75e6648-45f9-4f74-ae4b-2c93d1241b67"
   },
   "outputs": [
    {
     "data": {
      "text/plain": [
       "10.35"
      ]
     },
     "execution_count": 226,
     "metadata": {
      "tags": []
     },
     "output_type": "execute_result"
    }
   ],
   "source": [
    "np.mean(arr)"
   ]
  },
  {
   "cell_type": "code",
   "execution_count": null,
   "metadata": {
    "id": "cuu6A2CiXKol",
    "outputId": "4198191b-6786-426f-909c-7ccf054f8cd7"
   },
   "outputs": [
    {
     "data": {
      "text/plain": [
       "array([         1,          2,          6,         24,        120,\n",
       "              720,       5040,      40320,     362880,    3628800,\n",
       "         39916800,  479001600, 1932053504, 1278945280, 2004310016,\n",
       "       2004189184, -288522240, -898433024,  109641728, 1863909376],\n",
       "      dtype=int32)"
      ]
     },
     "execution_count": 229,
     "metadata": {
      "tags": []
     },
     "output_type": "execute_result"
    }
   ],
   "source": [
    "np.cumprod(arr) # cumlative product\n",
    "np.cumsum(arr) # cumlative sum"
   ]
  },
  {
   "cell_type": "code",
   "execution_count": 179,
   "metadata": {
    "colab": {
     "base_uri": "https://localhost:8080/"
    },
    "executionInfo": {
     "elapsed": 358,
     "status": "ok",
     "timestamp": 1622913398235,
     "user": {
      "displayName": "sujata drall",
      "photoUrl": "",
      "userId": "07858160099359690614"
     },
     "user_tz": -330
    },
    "id": "GRc1YgIOXKol",
    "outputId": "8b7fbf5f-0e21-4f93-9435-45a2db32b475"
   },
   "outputs": [
    {
     "data": {
      "text/plain": [
       "array([[10.89451  , 20.7121258],\n",
       "       [55.545121 , 66.5458415]])"
      ]
     },
     "execution_count": 179,
     "metadata": {
      "tags": []
     },
     "output_type": "execute_result"
    }
   ],
   "source": [
    "a = np.array([[10.89451,20.7121258],\n",
    "             [55.545121,66.54584150]])\n",
    "a"
   ]
  },
  {
   "cell_type": "code",
   "execution_count": 181,
   "metadata": {
    "colab": {
     "base_uri": "https://localhost:8080/",
     "height": 87
    },
    "executionInfo": {
     "elapsed": 406,
     "status": "ok",
     "timestamp": 1622913442865,
     "user": {
      "displayName": "sujata drall",
      "photoUrl": "",
      "userId": "07858160099359690614"
     },
     "user_tz": -330
    },
    "id": "EkT8t-SWXKom",
    "outputId": "1b0b2285-dbc5-4675-f9a4-6ef5b14c53d2"
   },
   "outputs": [
    {
     "data": {
      "text/plain": [
       "array([[11., 21.],\n",
       "       [56., 67.]])"
      ]
     },
     "metadata": {
      "tags": []
     },
     "output_type": "display_data"
    },
    {
     "data": {
      "text/plain": [
       "array([[10.89, 20.71],\n",
       "       [55.55, 66.55]])"
      ]
     },
     "metadata": {
      "tags": []
     },
     "output_type": "display_data"
    }
   ],
   "source": [
    "display(np.round(a), \n",
    "        np.around(a,2))"
   ]
  },
  {
   "cell_type": "code",
   "execution_count": null,
   "metadata": {
    "id": "cv609P6iXKom",
    "outputId": "004de4dd-92bd-42fb-a278-d52784d58cfc"
   },
   "outputs": [
    {
     "data": {
      "text/plain": [
       "10.35"
      ]
     },
     "execution_count": 237,
     "metadata": {
      "tags": []
     },
     "output_type": "execute_result"
    }
   ],
   "source": [
    "#Calcualting mean\n",
    "np.mean(arr)"
   ]
  },
  {
   "cell_type": "code",
   "execution_count": null,
   "metadata": {
    "id": "TrYpzlZgXKom",
    "outputId": "91d4004a-6f3e-46eb-cb73-8f7aa9c571ea"
   },
   "outputs": [
    {
     "data": {
      "text/plain": [
       "55"
      ]
     },
     "execution_count": 234,
     "metadata": {
      "tags": []
     },
     "output_type": "execute_result"
    }
   ],
   "source": [
    "np.absolute(-55) # convert negative values to positive \n",
    "np.abs(-55)"
   ]
  },
  {
   "cell_type": "code",
   "execution_count": null,
   "metadata": {
    "id": "MguACpERXKom",
    "outputId": "20abc2fe-753c-4317-945d-95311c2ec735"
   },
   "outputs": [
    {
     "data": {
      "text/plain": [
       "23.213972410737075"
      ]
     },
     "execution_count": 235,
     "metadata": {
      "tags": []
     },
     "output_type": "execute_result"
    }
   ],
   "source": [
    "#Calcualting Standard Deviation\n",
    "np.std(a)"
   ]
  },
  {
   "cell_type": "code",
   "execution_count": null,
   "metadata": {
    "id": "saVXptnnXKon",
    "outputId": "8e19c26d-bad0-4836-872e-b8a305da32b9"
   },
   "outputs": [
    {
     "data": {
      "text/plain": [
       "6.999999999999999"
      ]
     },
     "execution_count": 236,
     "metadata": {
      "tags": []
     },
     "output_type": "execute_result"
    }
   ],
   "source": [
    "np.log2(a) # log base 2\n",
    "np.log10(a) # log base 10\n",
    "np.log(7) # natural log\n",
    "\n",
    "np.exp(np.log(7)) # getting logged value back to scale"
   ]
  },
  {
   "cell_type": "code",
   "execution_count": 183,
   "metadata": {
    "colab": {
     "base_uri": "https://localhost:8080/"
    },
    "executionInfo": {
     "elapsed": 362,
     "status": "ok",
     "timestamp": 1622913553966,
     "user": {
      "displayName": "sujata drall",
      "photoUrl": "",
      "userId": "07858160099359690614"
     },
     "user_tz": -330
    },
    "id": "N-1dOsJGXKon",
    "outputId": "f278bec8-2f5f-4a75-831e-4c44414925a1"
   },
   "outputs": [
    {
     "data": {
      "text/plain": [
       "6.999999999999999"
      ]
     },
     "execution_count": 183,
     "metadata": {
      "tags": []
     },
     "output_type": "execute_result"
    }
   ],
   "source": [
    "np.exp(np.log(7))"
   ]
  },
  {
   "cell_type": "code",
   "execution_count": 188,
   "metadata": {
    "colab": {
     "base_uri": "https://localhost:8080/"
    },
    "executionInfo": {
     "elapsed": 439,
     "status": "ok",
     "timestamp": 1622914048740,
     "user": {
      "displayName": "sujata drall",
      "photoUrl": "",
      "userId": "07858160099359690614"
     },
     "user_tz": -330
    },
    "id": "jmybEdeTNxaY",
    "outputId": "75f52ff2-10f1-4614-ca8a-55d501eccdba"
   },
   "outputs": [
    {
     "data": {
      "text/plain": [
       "1.9459101490553132"
      ]
     },
     "execution_count": 188,
     "metadata": {
      "tags": []
     },
     "output_type": "execute_result"
    }
   ],
   "source": [
    "np.log(7)"
   ]
  },
  {
   "cell_type": "code",
   "execution_count": 184,
   "metadata": {
    "colab": {
     "base_uri": "https://localhost:8080/"
    },
    "executionInfo": {
     "elapsed": 425,
     "status": "ok",
     "timestamp": 1622913574138,
     "user": {
      "displayName": "sujata drall",
      "photoUrl": "",
      "userId": "07858160099359690614"
     },
     "user_tz": -330
    },
    "id": "Pvg8QK_5L2M2",
    "outputId": "35681311-e8fc-4a6b-e2dc-c4bcf2d14700"
   },
   "outputs": [
    {
     "data": {
      "text/plain": [
       "0.8509035245341184"
      ]
     },
     "execution_count": 184,
     "metadata": {
      "tags": []
     },
     "output_type": "execute_result"
    }
   ],
   "source": [
    "np.sin(45)"
   ]
  },
  {
   "cell_type": "code",
   "execution_count": 187,
   "metadata": {
    "colab": {
     "base_uri": "https://localhost:8080/"
    },
    "executionInfo": {
     "elapsed": 380,
     "status": "ok",
     "timestamp": 1622913830360,
     "user": {
      "displayName": "sujata drall",
      "photoUrl": "",
      "userId": "07858160099359690614"
     },
     "user_tz": -330
    },
    "id": "MP4sOl4wL-Bz",
    "outputId": "4b92ecaf-5c28-4b67-d715-cdd16fe138e1"
   },
   "outputs": [
    {
     "data": {
      "text/plain": [
       "array([10.3, 11.3, 12.3, 13.3, 14.3, 15.3])"
      ]
     },
     "execution_count": 187,
     "metadata": {
      "tags": []
     },
     "output_type": "execute_result"
    }
   ],
   "source": [
    "np.arange(10.3, 15.5)"
   ]
  }
 ],
 "metadata": {
  "colab": {
   "collapsed_sections": [
    "vxa3qxNuXKod",
    "Trve-O5uXKoe"
   ],
   "name": "Numpy 1 .ipynb",
   "provenance": []
  },
  "kernelspec": {
   "display_name": "Python 3",
   "language": "python",
   "name": "python3"
  },
  "language_info": {
   "codemirror_mode": {
    "name": "ipython",
    "version": 3
   },
   "file_extension": ".py",
   "mimetype": "text/x-python",
   "name": "python",
   "nbconvert_exporter": "python",
   "pygments_lexer": "ipython3",
   "version": "3.8.8"
  }
 },
 "nbformat": 4,
 "nbformat_minor": 1
}
