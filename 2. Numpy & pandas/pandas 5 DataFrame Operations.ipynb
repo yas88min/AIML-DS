{
 "cells": [
  {
   "cell_type": "code",
   "execution_count": 1,
   "metadata": {},
   "outputs": [],
   "source": [
    "import pandas as pd\n",
    "import numpy as np"
   ]
  },
  {
   "cell_type": "code",
   "execution_count": 2,
   "metadata": {},
   "outputs": [],
   "source": [
    "data_1  = np.array([\n",
    "    ['New York','Mar',12714],\n",
    "    ['Michigan ','Apr',89238],\n",
    "    ['Atlanta','Jan',8161],\n",
    "    ['Boston','Sep',5885],\n",
    "    ['Birmingham','Mar',10000],\n",
    "    ['Clanton','Feb',1714],\n",
    "    ['Marion ','Dec',9238],\n",
    "    ['Atlantis','Nov',58161],\n",
    "    ['Alaska','Feb',585],\n",
    "    ['Arozona','Mar',10000],\n",
    "    ['Pacfic','Aug',2714],\n",
    "    ['Ontario ','June',189238],\n",
    "    ['Toronto','Jan',81651],\n",
    "    ['Delhi','Oct',58855],\n",
    "    ['London','Apr',1080],\n",
    "    ['Texas','Sep',1714],\n",
    "    ['Washington ','Jul',2038],\n",
    "    ['Florida','Jan',8161],\n",
    "    ['Michigan','Oct',58185],\n",
    "    ['New_Jersy','Apr',10015],\n",
    "  ])"
   ]
  },
  {
   "cell_type": "code",
   "execution_count": 3,
   "metadata": {},
   "outputs": [
    {
     "name": "stdout",
     "output_type": "stream",
     "text": [
      "<class 'pandas.core.frame.DataFrame'>\n",
      "RangeIndex: 20 entries, 0 to 19\n",
      "Data columns (total 3 columns):\n",
      " #   Column    Non-Null Count  Dtype \n",
      "---  ------    --------------  ----- \n",
      " 0   location  20 non-null     object\n",
      " 1   month     20 non-null     object\n",
      " 2   sales     20 non-null     object\n",
      "dtypes: object(3)\n",
      "memory usage: 608.0+ bytes\n"
     ]
    }
   ],
   "source": [
    "df2 = pd.DataFrame(data_1, columns=['location','month','sales'])\n",
    "\n",
    "df2.info()\n",
    "df2['sales'] = df2['sales'].astype(int)"
   ]
  },
  {
   "cell_type": "code",
   "execution_count": null,
   "metadata": {},
   "outputs": [],
   "source": []
  },
  {
   "cell_type": "code",
   "execution_count": null,
   "metadata": {},
   "outputs": [],
   "source": []
  },
  {
   "cell_type": "code",
   "execution_count": null,
   "metadata": {},
   "outputs": [],
   "source": []
  },
  {
   "cell_type": "code",
   "execution_count": null,
   "metadata": {},
   "outputs": [],
   "source": []
  },
  {
   "cell_type": "code",
   "execution_count": null,
   "metadata": {},
   "outputs": [],
   "source": []
  },
  {
   "cell_type": "code",
   "execution_count": 90,
   "metadata": {},
   "outputs": [
    {
     "data": {
      "text/plain": [
       "array(['Mar', 'Apr', 'Jan', 'Sep', 'Mar', 'Feb', 'Dec', 'Nov', 'Feb',\n",
       "       'Mar', 'Aug', 'June', 'Jan', 'Oct', 'Apr', 'Sep', 'Jul', 'Jan',\n",
       "       'Oct', 'Apr'], dtype=object)"
      ]
     },
     "execution_count": 90,
     "metadata": {},
     "output_type": "execute_result"
    }
   ],
   "source": [
    "df2.month.values"
   ]
  },
  {
   "cell_type": "code",
   "execution_count": 11,
   "metadata": {},
   "outputs": [
    {
     "data": {
      "text/html": [
       "<div>\n",
       "<style scoped>\n",
       "    .dataframe tbody tr th:only-of-type {\n",
       "        vertical-align: middle;\n",
       "    }\n",
       "\n",
       "    .dataframe tbody tr th {\n",
       "        vertical-align: top;\n",
       "    }\n",
       "\n",
       "    .dataframe thead th {\n",
       "        text-align: right;\n",
       "    }\n",
       "</style>\n",
       "<table border=\"1\" class=\"dataframe\">\n",
       "  <thead>\n",
       "    <tr style=\"text-align: right;\">\n",
       "      <th></th>\n",
       "      <th>location</th>\n",
       "      <th>month</th>\n",
       "      <th>sales</th>\n",
       "    </tr>\n",
       "  </thead>\n",
       "  <tbody>\n",
       "    <tr>\n",
       "      <th>0</th>\n",
       "      <td>New York</td>\n",
       "      <td>Mar</td>\n",
       "      <td>12714</td>\n",
       "    </tr>\n",
       "    <tr>\n",
       "      <th>1</th>\n",
       "      <td>Michigan</td>\n",
       "      <td>Apr</td>\n",
       "      <td>89238</td>\n",
       "    </tr>\n",
       "  </tbody>\n",
       "</table>\n",
       "</div>"
      ],
      "text/plain": [
       "    location month  sales\n",
       "0   New York   Mar  12714\n",
       "1  Michigan    Apr  89238"
      ]
     },
     "execution_count": 11,
     "metadata": {},
     "output_type": "execute_result"
    }
   ],
   "source": [
    "df2.head(2) # by default 5 rows initial"
   ]
  },
  {
   "cell_type": "code",
   "execution_count": 12,
   "metadata": {},
   "outputs": [
    {
     "data": {
      "text/html": [
       "<div>\n",
       "<style scoped>\n",
       "    .dataframe tbody tr th:only-of-type {\n",
       "        vertical-align: middle;\n",
       "    }\n",
       "\n",
       "    .dataframe tbody tr th {\n",
       "        vertical-align: top;\n",
       "    }\n",
       "\n",
       "    .dataframe thead th {\n",
       "        text-align: right;\n",
       "    }\n",
       "</style>\n",
       "<table border=\"1\" class=\"dataframe\">\n",
       "  <thead>\n",
       "    <tr style=\"text-align: right;\">\n",
       "      <th></th>\n",
       "      <th>location</th>\n",
       "      <th>month</th>\n",
       "      <th>sales</th>\n",
       "    </tr>\n",
       "  </thead>\n",
       "  <tbody>\n",
       "    <tr>\n",
       "      <th>18</th>\n",
       "      <td>Michigan</td>\n",
       "      <td>Oct</td>\n",
       "      <td>58185</td>\n",
       "    </tr>\n",
       "    <tr>\n",
       "      <th>19</th>\n",
       "      <td>New_Jersy</td>\n",
       "      <td>Apr</td>\n",
       "      <td>10015</td>\n",
       "    </tr>\n",
       "  </tbody>\n",
       "</table>\n",
       "</div>"
      ],
      "text/plain": [
       "     location month  sales\n",
       "18   Michigan   Oct  58185\n",
       "19  New_Jersy   Apr  10015"
      ]
     },
     "execution_count": 12,
     "metadata": {},
     "output_type": "execute_result"
    }
   ],
   "source": [
    "df2.tail(2)"
   ]
  },
  {
   "cell_type": "code",
   "execution_count": 20,
   "metadata": {},
   "outputs": [
    {
     "data": {
      "text/plain": [
       "0      12714\n",
       "1      89238\n",
       "7      58161\n",
       "11    189238\n",
       "12     81651\n",
       "13     58855\n",
       "18     58185\n",
       "19     10015\n",
       "Name: sales, dtype: int32"
      ]
     },
     "execution_count": 20,
     "metadata": {},
     "output_type": "execute_result"
    }
   ],
   "source": [
    "df2.loc[  df2['sales']>10000, 'sales']"
   ]
  },
  {
   "cell_type": "code",
   "execution_count": 68,
   "metadata": {},
   "outputs": [
    {
     "data": {
      "text/plain": [
       "(array([ 0,  1,  7, 11, 12, 13, 18, 19], dtype=int64),)"
      ]
     },
     "execution_count": 68,
     "metadata": {},
     "output_type": "execute_result"
    }
   ],
   "source": [
    "ind = np.where(df2['sales']>10000)\n",
    "ind"
   ]
  },
  {
   "cell_type": "code",
   "execution_count": null,
   "metadata": {},
   "outputs": [],
   "source": []
  },
  {
   "cell_type": "code",
   "execution_count": 78,
   "metadata": {},
   "outputs": [
    {
     "name": "stderr",
     "output_type": "stream",
     "text": [
      "C:\\Users\\Dralls\\anaconda3\\lib\\site-packages\\pandas\\core\\indexing.py:670: SettingWithCopyWarning: \n",
      "A value is trying to be set on a copy of a slice from a DataFrame\n",
      "\n",
      "See the caveats in the documentation: https://pandas.pydata.org/pandas-docs/stable/user_guide/indexing.html#returning-a-view-versus-a-copy\n",
      "  self._setitem_with_indexer(indexer, value)\n"
     ]
    },
    {
     "data": {
      "text/html": [
       "<div>\n",
       "<style scoped>\n",
       "    .dataframe tbody tr th:only-of-type {\n",
       "        vertical-align: middle;\n",
       "    }\n",
       "\n",
       "    .dataframe tbody tr th {\n",
       "        vertical-align: top;\n",
       "    }\n",
       "\n",
       "    .dataframe thead th {\n",
       "        text-align: right;\n",
       "    }\n",
       "</style>\n",
       "<table border=\"1\" class=\"dataframe\">\n",
       "  <thead>\n",
       "    <tr style=\"text-align: right;\">\n",
       "      <th></th>\n",
       "      <th>location</th>\n",
       "      <th>month</th>\n",
       "      <th>sales</th>\n",
       "      <th>new_3</th>\n",
       "      <th>new</th>\n",
       "    </tr>\n",
       "  </thead>\n",
       "  <tbody>\n",
       "    <tr>\n",
       "      <th>0</th>\n",
       "      <td>New York</td>\n",
       "      <td>Mar</td>\n",
       "      <td>12714</td>\n",
       "      <td>more</td>\n",
       "      <td>more</td>\n",
       "    </tr>\n",
       "    <tr>\n",
       "      <th>1</th>\n",
       "      <td>Michigan</td>\n",
       "      <td>Apr</td>\n",
       "      <td>89238</td>\n",
       "      <td>more</td>\n",
       "      <td>more</td>\n",
       "    </tr>\n",
       "  </tbody>\n",
       "</table>\n",
       "</div>"
      ],
      "text/plain": [
       "    location month  sales new_3   new\n",
       "0   New York   Mar  12714  more  more\n",
       "1  Michigan    Apr  89238  more  more"
      ]
     },
     "execution_count": 78,
     "metadata": {},
     "output_type": "execute_result"
    }
   ],
   "source": [
    "df2['new_3'] = df2['sales'].copy()\n",
    "\n",
    "df2['new_3'].iloc[ind] = 'more'\n",
    "\n",
    "df2.head(2)"
   ]
  },
  {
   "cell_type": "code",
   "execution_count": 5,
   "metadata": {},
   "outputs": [
    {
     "data": {
      "text/html": [
       "<div>\n",
       "<style scoped>\n",
       "    .dataframe tbody tr th:only-of-type {\n",
       "        vertical-align: middle;\n",
       "    }\n",
       "\n",
       "    .dataframe tbody tr th {\n",
       "        vertical-align: top;\n",
       "    }\n",
       "\n",
       "    .dataframe thead th {\n",
       "        text-align: right;\n",
       "    }\n",
       "</style>\n",
       "<table border=\"1\" class=\"dataframe\">\n",
       "  <thead>\n",
       "    <tr style=\"text-align: right;\">\n",
       "      <th></th>\n",
       "      <th>location</th>\n",
       "      <th>month</th>\n",
       "      <th>sales</th>\n",
       "      <th>new</th>\n",
       "    </tr>\n",
       "  </thead>\n",
       "  <tbody>\n",
       "    <tr>\n",
       "      <th>0</th>\n",
       "      <td>New York</td>\n",
       "      <td>Mar</td>\n",
       "      <td>12714</td>\n",
       "      <td>more</td>\n",
       "    </tr>\n",
       "    <tr>\n",
       "      <th>1</th>\n",
       "      <td>Michigan</td>\n",
       "      <td>Apr</td>\n",
       "      <td>89238</td>\n",
       "      <td>more</td>\n",
       "    </tr>\n",
       "    <tr>\n",
       "      <th>2</th>\n",
       "      <td>Atlanta</td>\n",
       "      <td>Jan</td>\n",
       "      <td>8161</td>\n",
       "      <td>8161</td>\n",
       "    </tr>\n",
       "    <tr>\n",
       "      <th>3</th>\n",
       "      <td>Boston</td>\n",
       "      <td>Sep</td>\n",
       "      <td>5885</td>\n",
       "      <td>5885</td>\n",
       "    </tr>\n",
       "    <tr>\n",
       "      <th>4</th>\n",
       "      <td>Birmingham</td>\n",
       "      <td>Mar</td>\n",
       "      <td>10000</td>\n",
       "      <td>10000</td>\n",
       "    </tr>\n",
       "  </tbody>\n",
       "</table>\n",
       "</div>"
      ],
      "text/plain": [
       "     location month  sales    new\n",
       "0    New York   Mar  12714   more\n",
       "1   Michigan    Apr  89238   more\n",
       "2     Atlanta   Jan   8161   8161\n",
       "3      Boston   Sep   5885   5885\n",
       "4  Birmingham   Mar  10000  10000"
      ]
     },
     "execution_count": 5,
     "metadata": {},
     "output_type": "execute_result"
    }
   ],
   "source": [
    "df2['new'] = np.where( df2['sales']>10000, 'more', df2.sales)\n",
    "df2.head()\n"
   ]
  },
  {
   "cell_type": "code",
   "execution_count": 22,
   "metadata": {},
   "outputs": [
    {
     "data": {
      "text/plain": [
       "0      12714\n",
       "1      89238\n",
       "7      58161\n",
       "11    189238\n",
       "12     81651\n",
       "13     58855\n",
       "18     58185\n",
       "19     10015\n",
       "Name: sales, dtype: int32"
      ]
     },
     "execution_count": 22,
     "metadata": {},
     "output_type": "execute_result"
    }
   ],
   "source": [
    "df2.sales[df2['sales']>10000]"
   ]
  },
  {
   "cell_type": "code",
   "execution_count": 6,
   "metadata": {},
   "outputs": [
    {
     "data": {
      "text/html": [
       "<div>\n",
       "<style scoped>\n",
       "    .dataframe tbody tr th:only-of-type {\n",
       "        vertical-align: middle;\n",
       "    }\n",
       "\n",
       "    .dataframe tbody tr th {\n",
       "        vertical-align: top;\n",
       "    }\n",
       "\n",
       "    .dataframe thead th {\n",
       "        text-align: right;\n",
       "    }\n",
       "</style>\n",
       "<table border=\"1\" class=\"dataframe\">\n",
       "  <thead>\n",
       "    <tr style=\"text-align: right;\">\n",
       "      <th></th>\n",
       "      <th>sales</th>\n",
       "      <th>new</th>\n",
       "    </tr>\n",
       "  </thead>\n",
       "  <tbody>\n",
       "    <tr>\n",
       "      <th>0</th>\n",
       "      <td>12714</td>\n",
       "      <td>more</td>\n",
       "    </tr>\n",
       "    <tr>\n",
       "      <th>1</th>\n",
       "      <td>89238</td>\n",
       "      <td>more</td>\n",
       "    </tr>\n",
       "    <tr>\n",
       "      <th>7</th>\n",
       "      <td>58161</td>\n",
       "      <td>more</td>\n",
       "    </tr>\n",
       "    <tr>\n",
       "      <th>11</th>\n",
       "      <td>189238</td>\n",
       "      <td>more</td>\n",
       "    </tr>\n",
       "    <tr>\n",
       "      <th>12</th>\n",
       "      <td>81651</td>\n",
       "      <td>more</td>\n",
       "    </tr>\n",
       "    <tr>\n",
       "      <th>13</th>\n",
       "      <td>58855</td>\n",
       "      <td>more</td>\n",
       "    </tr>\n",
       "    <tr>\n",
       "      <th>18</th>\n",
       "      <td>58185</td>\n",
       "      <td>more</td>\n",
       "    </tr>\n",
       "    <tr>\n",
       "      <th>19</th>\n",
       "      <td>10015</td>\n",
       "      <td>more</td>\n",
       "    </tr>\n",
       "  </tbody>\n",
       "</table>\n",
       "</div>"
      ],
      "text/plain": [
       "     sales   new\n",
       "0    12714  more\n",
       "1    89238  more\n",
       "7    58161  more\n",
       "11  189238  more\n",
       "12   81651  more\n",
       "13   58855  more\n",
       "18   58185  more\n",
       "19   10015  more"
      ]
     },
     "execution_count": 6,
     "metadata": {},
     "output_type": "execute_result"
    }
   ],
   "source": [
    "df2[ df2['sales']>10000 ][['sales','new']]"
   ]
  },
  {
   "cell_type": "code",
   "execution_count": 89,
   "metadata": {
    "scrolled": true
   },
   "outputs": [
    {
     "name": "stderr",
     "output_type": "stream",
     "text": [
      "C:\\Users\\Dralls\\anaconda3\\lib\\site-packages\\ipykernel_launcher.py:1: UserWarning: Boolean Series key will be reindexed to match DataFrame index.\n",
      "  \"\"\"Entry point for launching an IPython kernel.\n"
     ]
    },
    {
     "data": {
      "text/html": [
       "<div>\n",
       "<style scoped>\n",
       "    .dataframe tbody tr th:only-of-type {\n",
       "        vertical-align: middle;\n",
       "    }\n",
       "\n",
       "    .dataframe tbody tr th {\n",
       "        vertical-align: top;\n",
       "    }\n",
       "\n",
       "    .dataframe thead th {\n",
       "        text-align: right;\n",
       "    }\n",
       "</style>\n",
       "<table border=\"1\" class=\"dataframe\">\n",
       "  <thead>\n",
       "    <tr style=\"text-align: right;\">\n",
       "      <th></th>\n",
       "      <th>location</th>\n",
       "      <th>month</th>\n",
       "      <th>sales</th>\n",
       "      <th>new_3</th>\n",
       "      <th>new</th>\n",
       "    </tr>\n",
       "  </thead>\n",
       "  <tbody>\n",
       "    <tr>\n",
       "      <th>2</th>\n",
       "      <td>Atlanta</td>\n",
       "      <td>Jan</td>\n",
       "      <td>8161</td>\n",
       "      <td>8161</td>\n",
       "      <td>8161</td>\n",
       "    </tr>\n",
       "    <tr>\n",
       "      <th>3</th>\n",
       "      <td>Boston</td>\n",
       "      <td>Sep</td>\n",
       "      <td>5885</td>\n",
       "      <td>5885</td>\n",
       "      <td>5885</td>\n",
       "    </tr>\n",
       "    <tr>\n",
       "      <th>6</th>\n",
       "      <td>Marion</td>\n",
       "      <td>Dec</td>\n",
       "      <td>9238</td>\n",
       "      <td>9238</td>\n",
       "      <td>9238</td>\n",
       "    </tr>\n",
       "    <tr>\n",
       "      <th>17</th>\n",
       "      <td>Florida</td>\n",
       "      <td>Jan</td>\n",
       "      <td>8161</td>\n",
       "      <td>8161</td>\n",
       "      <td>8161</td>\n",
       "    </tr>\n",
       "  </tbody>\n",
       "</table>\n",
       "</div>"
      ],
      "text/plain": [
       "   location month  sales new_3   new\n",
       "2   Atlanta   Jan   8161  8161  8161\n",
       "3    Boston   Sep   5885  5885  5885\n",
       "6   Marion    Dec   9238  9238  9238\n",
       "17  Florida   Jan   8161  8161  8161"
      ]
     },
     "execution_count": 89,
     "metadata": {},
     "output_type": "execute_result"
    }
   ],
   "source": [
    "df2[df2['sales']>5000][df2['sales']<10000].head()"
   ]
  },
  {
   "cell_type": "code",
   "execution_count": 7,
   "metadata": {},
   "outputs": [
    {
     "data": {
      "text/plain": [
       "array(['New York', 'Michigan ', 'Atlanta', 'Boston', 'Birmingham',\n",
       "       'Clanton', 'Marion ', 'Atlantis', 'Alaska', 'Arozona', 'Pacfic',\n",
       "       'Ontario ', 'Toronto', 'Delhi', 'London', 'Texas', 'Washington ',\n",
       "       'Florida', 'Michigan', 'New_Jersy'], dtype=object)"
      ]
     },
     "execution_count": 7,
     "metadata": {},
     "output_type": "execute_result"
    }
   ],
   "source": [
    "df2.location.unique()"
   ]
  },
  {
   "cell_type": "code",
   "execution_count": 12,
   "metadata": {},
   "outputs": [
    {
     "data": {
      "text/plain": [
       "9"
      ]
     },
     "execution_count": 12,
     "metadata": {},
     "output_type": "execute_result"
    }
   ],
   "source": [
    "df2.month.duplicated().sum()"
   ]
  },
  {
   "cell_type": "code",
   "execution_count": 35,
   "metadata": {},
   "outputs": [
    {
     "data": {
      "text/html": [
       "<div>\n",
       "<style scoped>\n",
       "    .dataframe tbody tr th:only-of-type {\n",
       "        vertical-align: middle;\n",
       "    }\n",
       "\n",
       "    .dataframe tbody tr th {\n",
       "        vertical-align: top;\n",
       "    }\n",
       "\n",
       "    .dataframe thead th {\n",
       "        text-align: right;\n",
       "    }\n",
       "</style>\n",
       "<table border=\"1\" class=\"dataframe\">\n",
       "  <thead>\n",
       "    <tr style=\"text-align: right;\">\n",
       "      <th></th>\n",
       "      <th>location</th>\n",
       "      <th>month</th>\n",
       "      <th>sales</th>\n",
       "      <th>new</th>\n",
       "    </tr>\n",
       "  </thead>\n",
       "  <tbody>\n",
       "  </tbody>\n",
       "</table>\n",
       "</div>"
      ],
      "text/plain": [
       "Empty DataFrame\n",
       "Columns: [location, month, sales, new]\n",
       "Index: []"
      ]
     },
     "execution_count": 35,
     "metadata": {},
     "output_type": "execute_result"
    }
   ],
   "source": [
    "df2[df2.duplicated()]"
   ]
  },
  {
   "cell_type": "code",
   "execution_count": 36,
   "metadata": {},
   "outputs": [
    {
     "data": {
      "text/plain": [
       "Int64Index([4, 8, 9, 12, 14, 15, 17, 18, 19], dtype='int64')"
      ]
     },
     "execution_count": 36,
     "metadata": {},
     "output_type": "execute_result"
    }
   ],
   "source": [
    "df2[df2['month'].duplicated()].index"
   ]
  },
  {
   "cell_type": "code",
   "execution_count": 42,
   "metadata": {},
   "outputs": [
    {
     "data": {
      "text/html": [
       "<div>\n",
       "<style scoped>\n",
       "    .dataframe tbody tr th:only-of-type {\n",
       "        vertical-align: middle;\n",
       "    }\n",
       "\n",
       "    .dataframe tbody tr th {\n",
       "        vertical-align: top;\n",
       "    }\n",
       "\n",
       "    .dataframe thead th {\n",
       "        text-align: right;\n",
       "    }\n",
       "</style>\n",
       "<table border=\"1\" class=\"dataframe\">\n",
       "  <thead>\n",
       "    <tr style=\"text-align: right;\">\n",
       "      <th></th>\n",
       "      <th>location</th>\n",
       "      <th>month</th>\n",
       "      <th>sales</th>\n",
       "      <th>new</th>\n",
       "    </tr>\n",
       "  </thead>\n",
       "  <tbody>\n",
       "    <tr>\n",
       "      <th>0</th>\n",
       "      <td>New York</td>\n",
       "      <td>Mar</td>\n",
       "      <td>12714</td>\n",
       "      <td>more</td>\n",
       "    </tr>\n",
       "    <tr>\n",
       "      <th>1</th>\n",
       "      <td>Michigan</td>\n",
       "      <td>Apr</td>\n",
       "      <td>89238</td>\n",
       "      <td>more</td>\n",
       "    </tr>\n",
       "    <tr>\n",
       "      <th>2</th>\n",
       "      <td>Atlanta</td>\n",
       "      <td>Jan</td>\n",
       "      <td>8161</td>\n",
       "      <td>8161</td>\n",
       "    </tr>\n",
       "    <tr>\n",
       "      <th>3</th>\n",
       "      <td>Boston</td>\n",
       "      <td>Sep</td>\n",
       "      <td>5885</td>\n",
       "      <td>5885</td>\n",
       "    </tr>\n",
       "    <tr>\n",
       "      <th>5</th>\n",
       "      <td>Clanton</td>\n",
       "      <td>Feb</td>\n",
       "      <td>1714</td>\n",
       "      <td>1714</td>\n",
       "    </tr>\n",
       "    <tr>\n",
       "      <th>6</th>\n",
       "      <td>Marion</td>\n",
       "      <td>Dec</td>\n",
       "      <td>9238</td>\n",
       "      <td>9238</td>\n",
       "    </tr>\n",
       "    <tr>\n",
       "      <th>7</th>\n",
       "      <td>Atlantis</td>\n",
       "      <td>Nov</td>\n",
       "      <td>58161</td>\n",
       "      <td>more</td>\n",
       "    </tr>\n",
       "    <tr>\n",
       "      <th>10</th>\n",
       "      <td>Pacfic</td>\n",
       "      <td>Aug</td>\n",
       "      <td>2714</td>\n",
       "      <td>2714</td>\n",
       "    </tr>\n",
       "    <tr>\n",
       "      <th>11</th>\n",
       "      <td>Ontario</td>\n",
       "      <td>June</td>\n",
       "      <td>189238</td>\n",
       "      <td>more</td>\n",
       "    </tr>\n",
       "    <tr>\n",
       "      <th>13</th>\n",
       "      <td>Delhi</td>\n",
       "      <td>Oct</td>\n",
       "      <td>58855</td>\n",
       "      <td>more</td>\n",
       "    </tr>\n",
       "    <tr>\n",
       "      <th>16</th>\n",
       "      <td>Washington</td>\n",
       "      <td>Jul</td>\n",
       "      <td>2038</td>\n",
       "      <td>2038</td>\n",
       "    </tr>\n",
       "  </tbody>\n",
       "</table>\n",
       "</div>"
      ],
      "text/plain": [
       "       location month   sales   new\n",
       "0      New York   Mar   12714  more\n",
       "1     Michigan    Apr   89238  more\n",
       "2       Atlanta   Jan    8161  8161\n",
       "3        Boston   Sep    5885  5885\n",
       "5       Clanton   Feb    1714  1714\n",
       "6       Marion    Dec    9238  9238\n",
       "7      Atlantis   Nov   58161  more\n",
       "10       Pacfic   Aug    2714  2714\n",
       "11     Ontario   June  189238  more\n",
       "13        Delhi   Oct   58855  more\n",
       "16  Washington    Jul    2038  2038"
      ]
     },
     "execution_count": 42,
     "metadata": {},
     "output_type": "execute_result"
    }
   ],
   "source": [
    "df2.drop(df2[df2['month'].duplicated()].index) # droping duplicated recored from MOnth column"
   ]
  },
  {
   "cell_type": "code",
   "execution_count": 44,
   "metadata": {},
   "outputs": [
    {
     "data": {
      "text/html": [
       "<div>\n",
       "<style scoped>\n",
       "    .dataframe tbody tr th:only-of-type {\n",
       "        vertical-align: middle;\n",
       "    }\n",
       "\n",
       "    .dataframe tbody tr th {\n",
       "        vertical-align: top;\n",
       "    }\n",
       "\n",
       "    .dataframe thead th {\n",
       "        text-align: right;\n",
       "    }\n",
       "</style>\n",
       "<table border=\"1\" class=\"dataframe\">\n",
       "  <thead>\n",
       "    <tr style=\"text-align: right;\">\n",
       "      <th></th>\n",
       "      <th>location</th>\n",
       "      <th>month</th>\n",
       "      <th>sales</th>\n",
       "      <th>new</th>\n",
       "    </tr>\n",
       "  </thead>\n",
       "  <tbody>\n",
       "    <tr>\n",
       "      <th>0</th>\n",
       "      <td>New York</td>\n",
       "      <td>Mar</td>\n",
       "      <td>12714</td>\n",
       "      <td>more</td>\n",
       "    </tr>\n",
       "    <tr>\n",
       "      <th>1</th>\n",
       "      <td>Michigan</td>\n",
       "      <td>Apr</td>\n",
       "      <td>89238</td>\n",
       "      <td>more</td>\n",
       "    </tr>\n",
       "    <tr>\n",
       "      <th>2</th>\n",
       "      <td>Atlanta</td>\n",
       "      <td>Jan</td>\n",
       "      <td>8161</td>\n",
       "      <td>8161</td>\n",
       "    </tr>\n",
       "    <tr>\n",
       "      <th>3</th>\n",
       "      <td>Boston</td>\n",
       "      <td>Sep</td>\n",
       "      <td>5885</td>\n",
       "      <td>5885</td>\n",
       "    </tr>\n",
       "    <tr>\n",
       "      <th>4</th>\n",
       "      <td>Birmingham</td>\n",
       "      <td>Mar</td>\n",
       "      <td>10000</td>\n",
       "      <td>10000</td>\n",
       "    </tr>\n",
       "  </tbody>\n",
       "</table>\n",
       "</div>"
      ],
      "text/plain": [
       "     location month  sales    new\n",
       "0    New York   Mar  12714   more\n",
       "1   Michigan    Apr  89238   more\n",
       "2     Atlanta   Jan   8161   8161\n",
       "3      Boston   Sep   5885   5885\n",
       "4  Birmingham   Mar  10000  10000"
      ]
     },
     "execution_count": 44,
     "metadata": {},
     "output_type": "execute_result"
    }
   ],
   "source": [
    "df2.drop_duplicates().head() # row wise duplicates removed"
   ]
  },
  {
   "cell_type": "code",
   "execution_count": 41,
   "metadata": {},
   "outputs": [
    {
     "data": {
      "text/plain": [
       "array(['Mar', 'Apr', 'Jan', 'Sep', 'Feb', 'Dec', 'Nov', 'Aug', 'June',\n",
       "       'Oct', 'Jul'], dtype=object)"
      ]
     },
     "execution_count": 41,
     "metadata": {},
     "output_type": "execute_result"
    }
   ],
   "source": [
    "df2['month'].unique()"
   ]
  },
  {
   "cell_type": "code",
   "execution_count": 115,
   "metadata": {},
   "outputs": [
    {
     "data": {
      "text/html": [
       "<div>\n",
       "<style scoped>\n",
       "    .dataframe tbody tr th:only-of-type {\n",
       "        vertical-align: middle;\n",
       "    }\n",
       "\n",
       "    .dataframe tbody tr th {\n",
       "        vertical-align: top;\n",
       "    }\n",
       "\n",
       "    .dataframe thead th {\n",
       "        text-align: right;\n",
       "    }\n",
       "</style>\n",
       "<table border=\"1\" class=\"dataframe\">\n",
       "  <thead>\n",
       "    <tr style=\"text-align: right;\">\n",
       "      <th></th>\n",
       "      <th>location</th>\n",
       "      <th>month</th>\n",
       "      <th>sales</th>\n",
       "      <th>new_3</th>\n",
       "      <th>new</th>\n",
       "    </tr>\n",
       "  </thead>\n",
       "  <tbody>\n",
       "    <tr>\n",
       "      <th>6</th>\n",
       "      <td>Marion</td>\n",
       "      <td>Dec</td>\n",
       "      <td>9238</td>\n",
       "      <td>9238</td>\n",
       "      <td>9238</td>\n",
       "    </tr>\n",
       "  </tbody>\n",
       "</table>\n",
       "</div>"
      ],
      "text/plain": [
       "  location month  sales new_3   new\n",
       "6  Marion    Dec   9238  9238  9238"
      ]
     },
     "execution_count": 115,
     "metadata": {},
     "output_type": "execute_result"
    }
   ],
   "source": [
    "df2[  (df2['sales']>5000) | (df2['month']=='Dec')  & (df2['location'] == 'Marion ')  ]"
   ]
  },
  {
   "cell_type": "code",
   "execution_count": 30,
   "metadata": {},
   "outputs": [
    {
     "data": {
      "text/plain": [
       "Index(['location', 'month', 'sales'], dtype='object')"
      ]
     },
     "metadata": {},
     "output_type": "display_data"
    },
    {
     "data": {
      "text/plain": [
       "Index(['location', 'month', 'sales'], dtype='object')"
      ]
     },
     "metadata": {},
     "output_type": "display_data"
    }
   ],
   "source": [
    "display(df2.columns, df2.keys())"
   ]
  },
  {
   "cell_type": "code",
   "execution_count": 4,
   "metadata": {},
   "outputs": [],
   "source": [
    "df2.rename(columns = {'location' : 'State',\n",
    "                     'month' : 'Sales_Month'},inplace = True)\n"
   ]
  },
  {
   "cell_type": "code",
   "execution_count": 51,
   "metadata": {},
   "outputs": [],
   "source": [
    "df2['month_new'] = df2['Sales_Month']+' '+df2['new']"
   ]
  },
  {
   "cell_type": "code",
   "execution_count": 53,
   "metadata": {},
   "outputs": [],
   "source": [
    "df2['updated'] = (df2['sales']/1000)-20"
   ]
  },
  {
   "cell_type": "code",
   "execution_count": 64,
   "metadata": {},
   "outputs": [],
   "source": [
    "df2.sort_values('updated', inplace = True)\n",
    "\n",
    "# df2.head()"
   ]
  },
  {
   "cell_type": "code",
   "execution_count": 77,
   "metadata": {},
   "outputs": [
    {
     "data": {
      "text/html": [
       "<div>\n",
       "<style scoped>\n",
       "    .dataframe tbody tr th:only-of-type {\n",
       "        vertical-align: middle;\n",
       "    }\n",
       "\n",
       "    .dataframe tbody tr th {\n",
       "        vertical-align: top;\n",
       "    }\n",
       "\n",
       "    .dataframe thead th {\n",
       "        text-align: right;\n",
       "    }\n",
       "</style>\n",
       "<table border=\"1\" class=\"dataframe\">\n",
       "  <thead>\n",
       "    <tr style=\"text-align: right;\">\n",
       "      <th></th>\n",
       "      <th>State</th>\n",
       "      <th>Sales_Month</th>\n",
       "      <th>sales</th>\n",
       "      <th>new</th>\n",
       "      <th>month_new</th>\n",
       "      <th>updated</th>\n",
       "    </tr>\n",
       "  </thead>\n",
       "  <tbody>\n",
       "    <tr>\n",
       "      <th>0</th>\n",
       "      <td>Alaska</td>\n",
       "      <td>Feb</td>\n",
       "      <td>585</td>\n",
       "      <td>585</td>\n",
       "      <td>Feb 585</td>\n",
       "      <td>-19.415</td>\n",
       "    </tr>\n",
       "    <tr>\n",
       "      <th>1</th>\n",
       "      <td>London</td>\n",
       "      <td>Apr</td>\n",
       "      <td>1080</td>\n",
       "      <td>1080</td>\n",
       "      <td>Apr 1080</td>\n",
       "      <td>-18.920</td>\n",
       "    </tr>\n",
       "    <tr>\n",
       "      <th>2</th>\n",
       "      <td>Texas</td>\n",
       "      <td>Sep</td>\n",
       "      <td>1714</td>\n",
       "      <td>1714</td>\n",
       "      <td>Sep 1714</td>\n",
       "      <td>-18.286</td>\n",
       "    </tr>\n",
       "    <tr>\n",
       "      <th>3</th>\n",
       "      <td>Clanton</td>\n",
       "      <td>Feb</td>\n",
       "      <td>1714</td>\n",
       "      <td>1714</td>\n",
       "      <td>Feb 1714</td>\n",
       "      <td>-18.286</td>\n",
       "    </tr>\n",
       "    <tr>\n",
       "      <th>4</th>\n",
       "      <td>Washington</td>\n",
       "      <td>Jul</td>\n",
       "      <td>2038</td>\n",
       "      <td>2038</td>\n",
       "      <td>Jul 2038</td>\n",
       "      <td>-17.962</td>\n",
       "    </tr>\n",
       "  </tbody>\n",
       "</table>\n",
       "</div>"
      ],
      "text/plain": [
       "         State Sales_Month  sales   new month_new  updated\n",
       "0       Alaska         Feb    585   585   Feb 585  -19.415\n",
       "1       London         Apr   1080  1080  Apr 1080  -18.920\n",
       "2        Texas         Sep   1714  1714  Sep 1714  -18.286\n",
       "3      Clanton         Feb   1714  1714  Feb 1714  -18.286\n",
       "4  Washington          Jul   2038  2038  Jul 2038  -17.962"
      ]
     },
     "execution_count": 77,
     "metadata": {},
     "output_type": "execute_result"
    }
   ],
   "source": [
    "df2.sort_values(['sales','updated'], ascending = [True,True], ignore_index=True).head()\n",
    "# df2"
   ]
  },
  {
   "cell_type": "code",
   "execution_count": 69,
   "metadata": {},
   "outputs": [
    {
     "data": {
      "text/html": [
       "<div>\n",
       "<style scoped>\n",
       "    .dataframe tbody tr th:only-of-type {\n",
       "        vertical-align: middle;\n",
       "    }\n",
       "\n",
       "    .dataframe tbody tr th {\n",
       "        vertical-align: top;\n",
       "    }\n",
       "\n",
       "    .dataframe thead th {\n",
       "        text-align: right;\n",
       "    }\n",
       "</style>\n",
       "<table border=\"1\" class=\"dataframe\">\n",
       "  <thead>\n",
       "    <tr style=\"text-align: right;\">\n",
       "      <th></th>\n",
       "      <th>State</th>\n",
       "      <th>Sales_Month</th>\n",
       "      <th>sales</th>\n",
       "      <th>new</th>\n",
       "      <th>month_new</th>\n",
       "      <th>updated</th>\n",
       "    </tr>\n",
       "  </thead>\n",
       "  <tbody>\n",
       "    <tr>\n",
       "      <th>0</th>\n",
       "      <td>Alaska</td>\n",
       "      <td>Feb</td>\n",
       "      <td>585</td>\n",
       "      <td>585</td>\n",
       "      <td>Feb 585</td>\n",
       "      <td>-19.415</td>\n",
       "    </tr>\n",
       "    <tr>\n",
       "      <th>1</th>\n",
       "      <td>London</td>\n",
       "      <td>Apr</td>\n",
       "      <td>1080</td>\n",
       "      <td>1080</td>\n",
       "      <td>Apr 1080</td>\n",
       "      <td>-18.920</td>\n",
       "    </tr>\n",
       "    <tr>\n",
       "      <th>2</th>\n",
       "      <td>Texas</td>\n",
       "      <td>Sep</td>\n",
       "      <td>1714</td>\n",
       "      <td>1714</td>\n",
       "      <td>Sep 1714</td>\n",
       "      <td>-18.286</td>\n",
       "    </tr>\n",
       "    <tr>\n",
       "      <th>3</th>\n",
       "      <td>Clanton</td>\n",
       "      <td>Feb</td>\n",
       "      <td>1714</td>\n",
       "      <td>1714</td>\n",
       "      <td>Feb 1714</td>\n",
       "      <td>-18.286</td>\n",
       "    </tr>\n",
       "    <tr>\n",
       "      <th>4</th>\n",
       "      <td>Washington</td>\n",
       "      <td>Jul</td>\n",
       "      <td>2038</td>\n",
       "      <td>2038</td>\n",
       "      <td>Jul 2038</td>\n",
       "      <td>-17.962</td>\n",
       "    </tr>\n",
       "    <tr>\n",
       "      <th>5</th>\n",
       "      <td>Pacfic</td>\n",
       "      <td>Aug</td>\n",
       "      <td>2714</td>\n",
       "      <td>2714</td>\n",
       "      <td>Aug 2714</td>\n",
       "      <td>-17.286</td>\n",
       "    </tr>\n",
       "    <tr>\n",
       "      <th>6</th>\n",
       "      <td>Boston</td>\n",
       "      <td>Sep</td>\n",
       "      <td>5885</td>\n",
       "      <td>5885</td>\n",
       "      <td>Sep 5885</td>\n",
       "      <td>-14.115</td>\n",
       "    </tr>\n",
       "    <tr>\n",
       "      <th>7</th>\n",
       "      <td>Florida</td>\n",
       "      <td>Jan</td>\n",
       "      <td>8161</td>\n",
       "      <td>8161</td>\n",
       "      <td>Jan 8161</td>\n",
       "      <td>-11.839</td>\n",
       "    </tr>\n",
       "    <tr>\n",
       "      <th>8</th>\n",
       "      <td>Atlanta</td>\n",
       "      <td>Jan</td>\n",
       "      <td>8161</td>\n",
       "      <td>8161</td>\n",
       "      <td>Jan 8161</td>\n",
       "      <td>-11.839</td>\n",
       "    </tr>\n",
       "    <tr>\n",
       "      <th>9</th>\n",
       "      <td>Marion</td>\n",
       "      <td>Dec</td>\n",
       "      <td>9238</td>\n",
       "      <td>9238</td>\n",
       "      <td>Dec 9238</td>\n",
       "      <td>-10.762</td>\n",
       "    </tr>\n",
       "    <tr>\n",
       "      <th>10</th>\n",
       "      <td>Arozona</td>\n",
       "      <td>Mar</td>\n",
       "      <td>10000</td>\n",
       "      <td>10000</td>\n",
       "      <td>Mar 10000</td>\n",
       "      <td>-10.000</td>\n",
       "    </tr>\n",
       "    <tr>\n",
       "      <th>11</th>\n",
       "      <td>Birmingham</td>\n",
       "      <td>Mar</td>\n",
       "      <td>10000</td>\n",
       "      <td>10000</td>\n",
       "      <td>Mar 10000</td>\n",
       "      <td>-10.000</td>\n",
       "    </tr>\n",
       "    <tr>\n",
       "      <th>12</th>\n",
       "      <td>New_Jersy</td>\n",
       "      <td>Apr</td>\n",
       "      <td>10015</td>\n",
       "      <td>more</td>\n",
       "      <td>Apr more</td>\n",
       "      <td>-9.985</td>\n",
       "    </tr>\n",
       "    <tr>\n",
       "      <th>13</th>\n",
       "      <td>New York</td>\n",
       "      <td>Mar</td>\n",
       "      <td>12714</td>\n",
       "      <td>more</td>\n",
       "      <td>Mar more</td>\n",
       "      <td>-7.286</td>\n",
       "    </tr>\n",
       "    <tr>\n",
       "      <th>14</th>\n",
       "      <td>Atlantis</td>\n",
       "      <td>Nov</td>\n",
       "      <td>58161</td>\n",
       "      <td>more</td>\n",
       "      <td>Nov more</td>\n",
       "      <td>38.161</td>\n",
       "    </tr>\n",
       "    <tr>\n",
       "      <th>15</th>\n",
       "      <td>Michigan</td>\n",
       "      <td>Oct</td>\n",
       "      <td>58185</td>\n",
       "      <td>more</td>\n",
       "      <td>Oct more</td>\n",
       "      <td>38.185</td>\n",
       "    </tr>\n",
       "    <tr>\n",
       "      <th>16</th>\n",
       "      <td>Delhi</td>\n",
       "      <td>Oct</td>\n",
       "      <td>58855</td>\n",
       "      <td>more</td>\n",
       "      <td>Oct more</td>\n",
       "      <td>38.855</td>\n",
       "    </tr>\n",
       "    <tr>\n",
       "      <th>17</th>\n",
       "      <td>Toronto</td>\n",
       "      <td>Jan</td>\n",
       "      <td>81651</td>\n",
       "      <td>more</td>\n",
       "      <td>Jan more</td>\n",
       "      <td>61.651</td>\n",
       "    </tr>\n",
       "    <tr>\n",
       "      <th>18</th>\n",
       "      <td>Michigan</td>\n",
       "      <td>Apr</td>\n",
       "      <td>89238</td>\n",
       "      <td>more</td>\n",
       "      <td>Apr more</td>\n",
       "      <td>69.238</td>\n",
       "    </tr>\n",
       "    <tr>\n",
       "      <th>19</th>\n",
       "      <td>Ontario</td>\n",
       "      <td>June</td>\n",
       "      <td>189238</td>\n",
       "      <td>more</td>\n",
       "      <td>June more</td>\n",
       "      <td>169.238</td>\n",
       "    </tr>\n",
       "  </tbody>\n",
       "</table>\n",
       "</div>"
      ],
      "text/plain": [
       "          State Sales_Month   sales    new  month_new  updated\n",
       "0        Alaska         Feb     585    585    Feb 585  -19.415\n",
       "1        London         Apr    1080   1080   Apr 1080  -18.920\n",
       "2         Texas         Sep    1714   1714   Sep 1714  -18.286\n",
       "3       Clanton         Feb    1714   1714   Feb 1714  -18.286\n",
       "4   Washington          Jul    2038   2038   Jul 2038  -17.962\n",
       "5        Pacfic         Aug    2714   2714   Aug 2714  -17.286\n",
       "6        Boston         Sep    5885   5885   Sep 5885  -14.115\n",
       "7       Florida         Jan    8161   8161   Jan 8161  -11.839\n",
       "8       Atlanta         Jan    8161   8161   Jan 8161  -11.839\n",
       "9       Marion          Dec    9238   9238   Dec 9238  -10.762\n",
       "10      Arozona         Mar   10000  10000  Mar 10000  -10.000\n",
       "11   Birmingham         Mar   10000  10000  Mar 10000  -10.000\n",
       "12    New_Jersy         Apr   10015   more   Apr more   -9.985\n",
       "13     New York         Mar   12714   more   Mar more   -7.286\n",
       "14     Atlantis         Nov   58161   more   Nov more   38.161\n",
       "15     Michigan         Oct   58185   more   Oct more   38.185\n",
       "16        Delhi         Oct   58855   more   Oct more   38.855\n",
       "17      Toronto         Jan   81651   more   Jan more   61.651\n",
       "18    Michigan          Apr   89238   more   Apr more   69.238\n",
       "19     Ontario         June  189238   more  June more  169.238"
      ]
     },
     "execution_count": 69,
     "metadata": {},
     "output_type": "execute_result"
    }
   ],
   "source": [
    "df2.reset_index(drop = True, inplace = True)"
   ]
  },
  {
   "cell_type": "code",
   "execution_count": 170,
   "metadata": {},
   "outputs": [
    {
     "data": {
      "text/html": [
       "<div>\n",
       "<style scoped>\n",
       "    .dataframe tbody tr th:only-of-type {\n",
       "        vertical-align: middle;\n",
       "    }\n",
       "\n",
       "    .dataframe tbody tr th {\n",
       "        vertical-align: top;\n",
       "    }\n",
       "\n",
       "    .dataframe thead th {\n",
       "        text-align: right;\n",
       "    }\n",
       "</style>\n",
       "<table border=\"1\" class=\"dataframe\">\n",
       "  <thead>\n",
       "    <tr style=\"text-align: right;\">\n",
       "      <th></th>\n",
       "      <th>State</th>\n",
       "      <th>Sales_Month</th>\n",
       "      <th>sales</th>\n",
       "      <th>new_3</th>\n",
       "      <th>new</th>\n",
       "      <th>updated</th>\n",
       "    </tr>\n",
       "  </thead>\n",
       "  <tbody>\n",
       "    <tr>\n",
       "      <th>0</th>\n",
       "      <td>ontario</td>\n",
       "      <td>June</td>\n",
       "      <td>189238</td>\n",
       "      <td>more</td>\n",
       "      <td>more</td>\n",
       "      <td>169.238</td>\n",
       "    </tr>\n",
       "    <tr>\n",
       "      <th>1</th>\n",
       "      <td>michigan</td>\n",
       "      <td>Apr</td>\n",
       "      <td>89238</td>\n",
       "      <td>more</td>\n",
       "      <td>more</td>\n",
       "      <td>69.238</td>\n",
       "    </tr>\n",
       "    <tr>\n",
       "      <th>2</th>\n",
       "      <td>toronto</td>\n",
       "      <td>Jan</td>\n",
       "      <td>81651</td>\n",
       "      <td>more</td>\n",
       "      <td>more</td>\n",
       "      <td>61.651</td>\n",
       "    </tr>\n",
       "    <tr>\n",
       "      <th>3</th>\n",
       "      <td>delhi</td>\n",
       "      <td>Oct</td>\n",
       "      <td>58855</td>\n",
       "      <td>more</td>\n",
       "      <td>more</td>\n",
       "      <td>38.855</td>\n",
       "    </tr>\n",
       "    <tr>\n",
       "      <th>4</th>\n",
       "      <td>michigan</td>\n",
       "      <td>Oct</td>\n",
       "      <td>58185</td>\n",
       "      <td>more</td>\n",
       "      <td>more</td>\n",
       "      <td>38.185</td>\n",
       "    </tr>\n",
       "  </tbody>\n",
       "</table>\n",
       "</div>"
      ],
      "text/plain": [
       "       State Sales_Month   sales new_3   new  updated\n",
       "0   ontario         June  189238  more  more  169.238\n",
       "1  michigan          Apr   89238  more  more   69.238\n",
       "2    toronto         Jan   81651  more  more   61.651\n",
       "3      delhi         Oct   58855  more  more   38.855\n",
       "4   michigan         Oct   58185  more  more   38.185"
      ]
     },
     "execution_count": 170,
     "metadata": {},
     "output_type": "execute_result"
    }
   ],
   "source": [
    "df2['State'] = df2['State'].apply(lambda x: x.lower())\n",
    "df2.head()"
   ]
  },
  {
   "cell_type": "code",
   "execution_count": 178,
   "metadata": {},
   "outputs": [
    {
     "data": {
      "text/plain": [
       "0         yippee\n",
       "1      michigan \n",
       "2         yippee\n",
       "3          delhi\n",
       "4       michigan\n",
       "5       atlantis\n",
       "6       new york\n",
       "7      new_jersy\n",
       "9     birmingham\n",
       "8         yippee\n",
       "10        yippee\n",
       "11       florida\n",
       "12       atlanta\n",
       "13        yippee\n",
       "14        pacfic\n",
       "15        yippee\n",
       "16         texas\n",
       "17        yippee\n",
       "18        yippee\n",
       "19        alaska\n",
       "Name: State, dtype: object"
      ]
     },
     "execution_count": 178,
     "metadata": {},
     "output_type": "execute_result"
    }
   ],
   "source": [
    "df2.State.apply(lambda x:'yippee' if 'on' in x else x)"
   ]
  },
  {
   "cell_type": "code",
   "execution_count": null,
   "metadata": {},
   "outputs": [],
   "source": [
    "df2.drop('sales',axis=1)\n",
    "\n",
    "df.drop(['sales','state'],axis=1)"
   ]
  },
  {
   "cell_type": "code",
   "execution_count": 39,
   "metadata": {
    "scrolled": true
   },
   "outputs": [
    {
     "data": {
      "text/plain": [
       "pandas.core.series.Series"
      ]
     },
     "execution_count": 39,
     "metadata": {},
     "output_type": "execute_result"
    }
   ],
   "source": [
    "type(df2.State)"
   ]
  },
  {
   "cell_type": "markdown",
   "metadata": {},
   "source": [
    "## String Operation CONTAINS"
   ]
  },
  {
   "cell_type": "code",
   "execution_count": 155,
   "metadata": {},
   "outputs": [
    {
     "data": {
      "text/html": [
       "<div>\n",
       "<style scoped>\n",
       "    .dataframe tbody tr th:only-of-type {\n",
       "        vertical-align: middle;\n",
       "    }\n",
       "\n",
       "    .dataframe tbody tr th {\n",
       "        vertical-align: top;\n",
       "    }\n",
       "\n",
       "    .dataframe thead th {\n",
       "        text-align: right;\n",
       "    }\n",
       "</style>\n",
       "<table border=\"1\" class=\"dataframe\">\n",
       "  <thead>\n",
       "    <tr style=\"text-align: right;\">\n",
       "      <th></th>\n",
       "      <th>State</th>\n",
       "      <th>Sales_Month</th>\n",
       "      <th>sales</th>\n",
       "      <th>new_3</th>\n",
       "      <th>new</th>\n",
       "      <th>updated</th>\n",
       "    </tr>\n",
       "  </thead>\n",
       "  <tbody>\n",
       "    <tr>\n",
       "      <th>0</th>\n",
       "      <td>Toronto</td>\n",
       "      <td>Jan</td>\n",
       "      <td>81651</td>\n",
       "      <td>more</td>\n",
       "      <td>more</td>\n",
       "      <td>61.651</td>\n",
       "    </tr>\n",
       "    <tr>\n",
       "      <th>1</th>\n",
       "      <td>Arozona</td>\n",
       "      <td>Mar</td>\n",
       "      <td>10000</td>\n",
       "      <td>10000</td>\n",
       "      <td>10000</td>\n",
       "      <td>-10.000</td>\n",
       "    </tr>\n",
       "    <tr>\n",
       "      <th>2</th>\n",
       "      <td>Marion</td>\n",
       "      <td>Dec</td>\n",
       "      <td>9238</td>\n",
       "      <td>9238</td>\n",
       "      <td>9238</td>\n",
       "      <td>-10.762</td>\n",
       "    </tr>\n",
       "    <tr>\n",
       "      <th>3</th>\n",
       "      <td>Boston</td>\n",
       "      <td>Sep</td>\n",
       "      <td>5885</td>\n",
       "      <td>5885</td>\n",
       "      <td>5885</td>\n",
       "      <td>-14.115</td>\n",
       "    </tr>\n",
       "    <tr>\n",
       "      <th>4</th>\n",
       "      <td>Washington</td>\n",
       "      <td>Jul</td>\n",
       "      <td>2038</td>\n",
       "      <td>2038</td>\n",
       "      <td>2038</td>\n",
       "      <td>-17.962</td>\n",
       "    </tr>\n",
       "    <tr>\n",
       "      <th>5</th>\n",
       "      <td>Clanton</td>\n",
       "      <td>Feb</td>\n",
       "      <td>1714</td>\n",
       "      <td>1714</td>\n",
       "      <td>1714</td>\n",
       "      <td>-18.286</td>\n",
       "    </tr>\n",
       "    <tr>\n",
       "      <th>6</th>\n",
       "      <td>London</td>\n",
       "      <td>Apr</td>\n",
       "      <td>1080</td>\n",
       "      <td>1080</td>\n",
       "      <td>1080</td>\n",
       "      <td>-18.920</td>\n",
       "    </tr>\n",
       "  </tbody>\n",
       "</table>\n",
       "</div>"
      ],
      "text/plain": [
       "         State Sales_Month  sales  new_3    new  updated\n",
       "0      Toronto         Jan  81651   more   more   61.651\n",
       "1      Arozona         Mar  10000  10000  10000  -10.000\n",
       "2      Marion          Dec   9238   9238   9238  -10.762\n",
       "3       Boston         Sep   5885   5885   5885  -14.115\n",
       "4  Washington          Jul   2038   2038   2038  -17.962\n",
       "5      Clanton         Feb   1714   1714   1714  -18.286\n",
       "6       London         Apr   1080   1080   1080  -18.920"
      ]
     },
     "execution_count": 155,
     "metadata": {},
     "output_type": "execute_result"
    }
   ],
   "source": [
    "df2[df2['State'].str.contains('on')]. reset_index(drop = True)"
   ]
  },
  {
   "cell_type": "code",
   "execution_count": 91,
   "metadata": {},
   "outputs": [
    {
     "data": {
      "text/html": [
       "<div>\n",
       "<style scoped>\n",
       "    .dataframe tbody tr th:only-of-type {\n",
       "        vertical-align: middle;\n",
       "    }\n",
       "\n",
       "    .dataframe tbody tr th {\n",
       "        vertical-align: top;\n",
       "    }\n",
       "\n",
       "    .dataframe thead th {\n",
       "        text-align: right;\n",
       "    }\n",
       "</style>\n",
       "<table border=\"1\" class=\"dataframe\">\n",
       "  <thead>\n",
       "    <tr style=\"text-align: right;\">\n",
       "      <th></th>\n",
       "      <th>State</th>\n",
       "      <th>Sales_Month</th>\n",
       "      <th>sales</th>\n",
       "      <th>new</th>\n",
       "      <th>month_new</th>\n",
       "      <th>updated</th>\n",
       "      <th>month_sales</th>\n",
       "      <th>decoded</th>\n",
       "      <th>decoded_2</th>\n",
       "    </tr>\n",
       "  </thead>\n",
       "  <tbody>\n",
       "    <tr>\n",
       "      <th>9</th>\n",
       "      <td>Arozona</td>\n",
       "      <td>Mar</td>\n",
       "      <td>10000</td>\n",
       "      <td>10000</td>\n",
       "      <td>Mar 10000</td>\n",
       "      <td>-10.0</td>\n",
       "      <td>833.333333</td>\n",
       "      <td>A</td>\n",
       "      <td>A</td>\n",
       "    </tr>\n",
       "  </tbody>\n",
       "</table>\n",
       "</div>"
      ],
      "text/plain": [
       "     State Sales_Month  sales    new  month_new  updated  month_sales decoded  \\\n",
       "9  Arozona         Mar  10000  10000  Mar 10000    -10.0   833.333333       A   \n",
       "\n",
       "  decoded_2  \n",
       "9         A  "
      ]
     },
     "execution_count": 91,
     "metadata": {},
     "output_type": "execute_result"
    }
   ],
   "source": [
    "df2[df2['State'].str.startswith('Ar')]"
   ]
  },
  {
   "cell_type": "code",
   "execution_count": 92,
   "metadata": {},
   "outputs": [
    {
     "data": {
      "text/html": [
       "<div>\n",
       "<style scoped>\n",
       "    .dataframe tbody tr th:only-of-type {\n",
       "        vertical-align: middle;\n",
       "    }\n",
       "\n",
       "    .dataframe tbody tr th {\n",
       "        vertical-align: top;\n",
       "    }\n",
       "\n",
       "    .dataframe thead th {\n",
       "        text-align: right;\n",
       "    }\n",
       "</style>\n",
       "<table border=\"1\" class=\"dataframe\">\n",
       "  <thead>\n",
       "    <tr style=\"text-align: right;\">\n",
       "      <th></th>\n",
       "      <th>State</th>\n",
       "      <th>Sales_Month</th>\n",
       "      <th>sales</th>\n",
       "      <th>new</th>\n",
       "      <th>month_new</th>\n",
       "      <th>updated</th>\n",
       "      <th>month_sales</th>\n",
       "      <th>decoded</th>\n",
       "      <th>decoded_2</th>\n",
       "    </tr>\n",
       "  </thead>\n",
       "  <tbody>\n",
       "    <tr>\n",
       "      <th>14</th>\n",
       "      <td>London</td>\n",
       "      <td>Apr</td>\n",
       "      <td>1080</td>\n",
       "      <td>1080</td>\n",
       "      <td>Apr 1080</td>\n",
       "      <td>-18.920</td>\n",
       "      <td>90.000000</td>\n",
       "      <td>B</td>\n",
       "      <td>B</td>\n",
       "    </tr>\n",
       "    <tr>\n",
       "      <th>5</th>\n",
       "      <td>Clanton</td>\n",
       "      <td>Feb</td>\n",
       "      <td>1714</td>\n",
       "      <td>1714</td>\n",
       "      <td>Feb 1714</td>\n",
       "      <td>-18.286</td>\n",
       "      <td>142.833333</td>\n",
       "      <td>A</td>\n",
       "      <td>A</td>\n",
       "    </tr>\n",
       "    <tr>\n",
       "      <th>3</th>\n",
       "      <td>Boston</td>\n",
       "      <td>Sep</td>\n",
       "      <td>5885</td>\n",
       "      <td>5885</td>\n",
       "      <td>Sep 5885</td>\n",
       "      <td>-14.115</td>\n",
       "      <td>490.416667</td>\n",
       "      <td>A</td>\n",
       "      <td>A</td>\n",
       "    </tr>\n",
       "  </tbody>\n",
       "</table>\n",
       "</div>"
      ],
      "text/plain": [
       "      State Sales_Month  sales   new month_new  updated  month_sales decoded  \\\n",
       "14   London         Apr   1080  1080  Apr 1080  -18.920    90.000000       B   \n",
       "5   Clanton         Feb   1714  1714  Feb 1714  -18.286   142.833333       A   \n",
       "3    Boston         Sep   5885  5885  Sep 5885  -14.115   490.416667       A   \n",
       "\n",
       "   decoded_2  \n",
       "14         B  \n",
       "5          A  \n",
       "3          A  "
      ]
     },
     "execution_count": 92,
     "metadata": {},
     "output_type": "execute_result"
    }
   ],
   "source": [
    "df2[df2['State'].str.endswith('on')]"
   ]
  },
  {
   "cell_type": "code",
   "execution_count": 95,
   "metadata": {},
   "outputs": [
    {
     "data": {
      "text/html": [
       "<div>\n",
       "<style scoped>\n",
       "    .dataframe tbody tr th:only-of-type {\n",
       "        vertical-align: middle;\n",
       "    }\n",
       "\n",
       "    .dataframe tbody tr th {\n",
       "        vertical-align: top;\n",
       "    }\n",
       "\n",
       "    .dataframe thead th {\n",
       "        text-align: right;\n",
       "    }\n",
       "</style>\n",
       "<table border=\"1\" class=\"dataframe\">\n",
       "  <thead>\n",
       "    <tr style=\"text-align: right;\">\n",
       "      <th></th>\n",
       "      <th>Sales_Month</th>\n",
       "      <th>sales</th>\n",
       "      <th>new</th>\n",
       "      <th>month_new</th>\n",
       "      <th>updated</th>\n",
       "      <th>month_sales</th>\n",
       "      <th>decoded</th>\n",
       "      <th>decoded_2</th>\n",
       "    </tr>\n",
       "    <tr>\n",
       "      <th>State</th>\n",
       "      <th></th>\n",
       "      <th></th>\n",
       "      <th></th>\n",
       "      <th></th>\n",
       "      <th></th>\n",
       "      <th></th>\n",
       "      <th></th>\n",
       "      <th></th>\n",
       "    </tr>\n",
       "  </thead>\n",
       "  <tbody>\n",
       "    <tr>\n",
       "      <th>London</th>\n",
       "      <td>Apr</td>\n",
       "      <td>1080</td>\n",
       "      <td>1080</td>\n",
       "      <td>Apr 1080</td>\n",
       "      <td>-18.920</td>\n",
       "      <td>90.000000</td>\n",
       "      <td>B</td>\n",
       "      <td>B</td>\n",
       "    </tr>\n",
       "    <tr>\n",
       "      <th>Clanton</th>\n",
       "      <td>Feb</td>\n",
       "      <td>1714</td>\n",
       "      <td>1714</td>\n",
       "      <td>Feb 1714</td>\n",
       "      <td>-18.286</td>\n",
       "      <td>142.833333</td>\n",
       "      <td>A</td>\n",
       "      <td>A</td>\n",
       "    </tr>\n",
       "    <tr>\n",
       "      <th>Washington</th>\n",
       "      <td>Jul</td>\n",
       "      <td>2038</td>\n",
       "      <td>2038</td>\n",
       "      <td>Jul 2038</td>\n",
       "      <td>-17.962</td>\n",
       "      <td>169.833333</td>\n",
       "      <td>A</td>\n",
       "      <td>A</td>\n",
       "    </tr>\n",
       "    <tr>\n",
       "      <th>Boston</th>\n",
       "      <td>Sep</td>\n",
       "      <td>5885</td>\n",
       "      <td>5885</td>\n",
       "      <td>Sep 5885</td>\n",
       "      <td>-14.115</td>\n",
       "      <td>490.416667</td>\n",
       "      <td>A</td>\n",
       "      <td>A</td>\n",
       "    </tr>\n",
       "    <tr>\n",
       "      <th>Marion</th>\n",
       "      <td>Dec</td>\n",
       "      <td>9238</td>\n",
       "      <td>9238</td>\n",
       "      <td>Dec 9238</td>\n",
       "      <td>-10.762</td>\n",
       "      <td>769.833333</td>\n",
       "      <td>A</td>\n",
       "      <td>A</td>\n",
       "    </tr>\n",
       "    <tr>\n",
       "      <th>Arozona</th>\n",
       "      <td>Mar</td>\n",
       "      <td>10000</td>\n",
       "      <td>10000</td>\n",
       "      <td>Mar 10000</td>\n",
       "      <td>-10.000</td>\n",
       "      <td>833.333333</td>\n",
       "      <td>A</td>\n",
       "      <td>A</td>\n",
       "    </tr>\n",
       "    <tr>\n",
       "      <th>Toronto</th>\n",
       "      <td>Jan</td>\n",
       "      <td>81651</td>\n",
       "      <td>more</td>\n",
       "      <td>Jan more</td>\n",
       "      <td>61.651</td>\n",
       "      <td>6804.250000</td>\n",
       "      <td>A</td>\n",
       "      <td>A</td>\n",
       "    </tr>\n",
       "  </tbody>\n",
       "</table>\n",
       "</div>"
      ],
      "text/plain": [
       "            Sales_Month  sales    new  month_new  updated  month_sales  \\\n",
       "State                                                                    \n",
       "London              Apr   1080   1080   Apr 1080  -18.920    90.000000   \n",
       "Clanton             Feb   1714   1714   Feb 1714  -18.286   142.833333   \n",
       "Washington          Jul   2038   2038   Jul 2038  -17.962   169.833333   \n",
       "Boston              Sep   5885   5885   Sep 5885  -14.115   490.416667   \n",
       "Marion              Dec   9238   9238   Dec 9238  -10.762   769.833333   \n",
       "Arozona             Mar  10000  10000  Mar 10000  -10.000   833.333333   \n",
       "Toronto             Jan  81651   more   Jan more   61.651  6804.250000   \n",
       "\n",
       "            decoded decoded_2  \n",
       "State                          \n",
       "London            B         B  \n",
       "Clanton           A         A  \n",
       "Washington        A         A  \n",
       "Boston            A         A  \n",
       "Marion            A         A  \n",
       "Arozona           A         A  \n",
       "Toronto           A         A  "
      ]
     },
     "execution_count": 95,
     "metadata": {},
     "output_type": "execute_result"
    }
   ],
   "source": [
    "df2[df2['State'].str.contains('on')]. set_index('State')"
   ]
  },
  {
   "cell_type": "code",
   "execution_count": 112,
   "metadata": {},
   "outputs": [
    {
     "data": {
      "text/html": [
       "<div>\n",
       "<style scoped>\n",
       "    .dataframe tbody tr th:only-of-type {\n",
       "        vertical-align: middle;\n",
       "    }\n",
       "\n",
       "    .dataframe tbody tr th {\n",
       "        vertical-align: top;\n",
       "    }\n",
       "\n",
       "    .dataframe thead th {\n",
       "        text-align: right;\n",
       "    }\n",
       "</style>\n",
       "<table border=\"1\" class=\"dataframe\">\n",
       "  <thead>\n",
       "    <tr style=\"text-align: right;\">\n",
       "      <th></th>\n",
       "      <th>location</th>\n",
       "      <th>month</th>\n",
       "      <th>sales</th>\n",
       "      <th>sales_2</th>\n",
       "    </tr>\n",
       "  </thead>\n",
       "  <tbody>\n",
       "    <tr>\n",
       "      <th>0</th>\n",
       "      <td>New York</td>\n",
       "      <td>Mar</td>\n",
       "      <td>12714</td>\n",
       "      <td>1059.500000</td>\n",
       "    </tr>\n",
       "    <tr>\n",
       "      <th>1</th>\n",
       "      <td>Michigan</td>\n",
       "      <td>Apr</td>\n",
       "      <td>89238</td>\n",
       "      <td>7436.500000</td>\n",
       "    </tr>\n",
       "    <tr>\n",
       "      <th>2</th>\n",
       "      <td>Atlanta</td>\n",
       "      <td>Jan</td>\n",
       "      <td>8161</td>\n",
       "      <td>680.083333</td>\n",
       "    </tr>\n",
       "    <tr>\n",
       "      <th>7</th>\n",
       "      <td>Atlantis</td>\n",
       "      <td>Nov</td>\n",
       "      <td>58161</td>\n",
       "      <td>4846.750000</td>\n",
       "    </tr>\n",
       "    <tr>\n",
       "      <th>8</th>\n",
       "      <td>Alaska</td>\n",
       "      <td>Feb</td>\n",
       "      <td>585</td>\n",
       "      <td>48.750000</td>\n",
       "    </tr>\n",
       "  </tbody>\n",
       "</table>\n",
       "</div>"
      ],
      "text/plain": [
       "    location month  sales      sales_2\n",
       "0   New York   Mar  12714  1059.500000\n",
       "1  Michigan    Apr  89238  7436.500000\n",
       "2    Atlanta   Jan   8161   680.083333\n",
       "7   Atlantis   Nov  58161  4846.750000\n",
       "8     Alaska   Feb    585    48.750000"
      ]
     },
     "execution_count": 112,
     "metadata": {},
     "output_type": "execute_result"
    }
   ],
   "source": [
    "df2['sales_2'] = df2.sales/12\n",
    "\n",
    "\n",
    "df2.drop(['sales_2','sales'],axis=1).head()   # Removing Column\n",
    "\n",
    "df2.drop([3,4,5,6]).head()                      # Removing Row\n"
   ]
  },
  {
   "cell_type": "code",
   "execution_count": 97,
   "metadata": {},
   "outputs": [
    {
     "data": {
      "text/html": [
       "<div>\n",
       "<style scoped>\n",
       "    .dataframe tbody tr th:only-of-type {\n",
       "        vertical-align: middle;\n",
       "    }\n",
       "\n",
       "    .dataframe tbody tr th {\n",
       "        vertical-align: top;\n",
       "    }\n",
       "\n",
       "    .dataframe thead th {\n",
       "        text-align: right;\n",
       "    }\n",
       "</style>\n",
       "<table border=\"1\" class=\"dataframe\">\n",
       "  <thead>\n",
       "    <tr style=\"text-align: right;\">\n",
       "      <th></th>\n",
       "      <th>Sales_Month</th>\n",
       "      <th>sales</th>\n",
       "      <th>new</th>\n",
       "      <th>month_new</th>\n",
       "      <th>updated</th>\n",
       "      <th>month_sales</th>\n",
       "      <th>decoded</th>\n",
       "      <th>decoded_2</th>\n",
       "    </tr>\n",
       "    <tr>\n",
       "      <th>State</th>\n",
       "      <th></th>\n",
       "      <th></th>\n",
       "      <th></th>\n",
       "      <th></th>\n",
       "      <th></th>\n",
       "      <th></th>\n",
       "      <th></th>\n",
       "      <th></th>\n",
       "    </tr>\n",
       "  </thead>\n",
       "  <tbody>\n",
       "    <tr>\n",
       "      <th>Alaska</th>\n",
       "      <td>Feb</td>\n",
       "      <td>585</td>\n",
       "      <td>585</td>\n",
       "      <td>Feb 585</td>\n",
       "      <td>-19.415</td>\n",
       "      <td>48.750000</td>\n",
       "      <td>C</td>\n",
       "      <td>C</td>\n",
       "    </tr>\n",
       "    <tr>\n",
       "      <th>London</th>\n",
       "      <td>Apr</td>\n",
       "      <td>1080</td>\n",
       "      <td>1080</td>\n",
       "      <td>Apr 1080</td>\n",
       "      <td>-18.920</td>\n",
       "      <td>90.000000</td>\n",
       "      <td>B</td>\n",
       "      <td>B</td>\n",
       "    </tr>\n",
       "    <tr>\n",
       "      <th>Texas</th>\n",
       "      <td>Sep</td>\n",
       "      <td>1714</td>\n",
       "      <td>1714</td>\n",
       "      <td>Sep 1714</td>\n",
       "      <td>-18.286</td>\n",
       "      <td>142.833333</td>\n",
       "      <td>A</td>\n",
       "      <td>A</td>\n",
       "    </tr>\n",
       "    <tr>\n",
       "      <th>Clanton</th>\n",
       "      <td>Feb</td>\n",
       "      <td>1714</td>\n",
       "      <td>1714</td>\n",
       "      <td>Feb 1714</td>\n",
       "      <td>-18.286</td>\n",
       "      <td>142.833333</td>\n",
       "      <td>A</td>\n",
       "      <td>A</td>\n",
       "    </tr>\n",
       "    <tr>\n",
       "      <th>Washington</th>\n",
       "      <td>Jul</td>\n",
       "      <td>2038</td>\n",
       "      <td>2038</td>\n",
       "      <td>Jul 2038</td>\n",
       "      <td>-17.962</td>\n",
       "      <td>169.833333</td>\n",
       "      <td>A</td>\n",
       "      <td>A</td>\n",
       "    </tr>\n",
       "  </tbody>\n",
       "</table>\n",
       "</div>"
      ],
      "text/plain": [
       "            Sales_Month  sales   new month_new  updated  month_sales decoded  \\\n",
       "State                                                                          \n",
       "Alaska              Feb    585   585   Feb 585  -19.415    48.750000       C   \n",
       "London              Apr   1080  1080  Apr 1080  -18.920    90.000000       B   \n",
       "Texas               Sep   1714  1714  Sep 1714  -18.286   142.833333       A   \n",
       "Clanton             Feb   1714  1714  Feb 1714  -18.286   142.833333       A   \n",
       "Washington          Jul   2038  2038  Jul 2038  -17.962   169.833333       A   \n",
       "\n",
       "            decoded_2  \n",
       "State                  \n",
       "Alaska              C  \n",
       "London              B  \n",
       "Texas               A  \n",
       "Clanton             A  \n",
       "Washington          A  "
      ]
     },
     "execution_count": 97,
     "metadata": {},
     "output_type": "execute_result"
    }
   ],
   "source": [
    "df2.set_index('State', inplace = True)\n",
    "df2.head()"
   ]
  },
  {
   "cell_type": "code",
   "execution_count": 99,
   "metadata": {},
   "outputs": [],
   "source": [
    "df2.reset_index(inplace = True)"
   ]
  },
  {
   "cell_type": "code",
   "execution_count": 100,
   "metadata": {},
   "outputs": [
    {
     "data": {
      "text/html": [
       "<div>\n",
       "<style scoped>\n",
       "    .dataframe tbody tr th:only-of-type {\n",
       "        vertical-align: middle;\n",
       "    }\n",
       "\n",
       "    .dataframe tbody tr th {\n",
       "        vertical-align: top;\n",
       "    }\n",
       "\n",
       "    .dataframe thead th {\n",
       "        text-align: right;\n",
       "    }\n",
       "</style>\n",
       "<table border=\"1\" class=\"dataframe\">\n",
       "  <thead>\n",
       "    <tr style=\"text-align: right;\">\n",
       "      <th></th>\n",
       "      <th>State</th>\n",
       "      <th>Sales_Month</th>\n",
       "      <th>sales</th>\n",
       "      <th>new</th>\n",
       "      <th>month_new</th>\n",
       "      <th>updated</th>\n",
       "      <th>month_sales</th>\n",
       "      <th>decoded</th>\n",
       "      <th>decoded_2</th>\n",
       "    </tr>\n",
       "  </thead>\n",
       "  <tbody>\n",
       "    <tr>\n",
       "      <th>0</th>\n",
       "      <td>Alaska</td>\n",
       "      <td>Feb</td>\n",
       "      <td>585</td>\n",
       "      <td>585</td>\n",
       "      <td>Feb 585</td>\n",
       "      <td>-19.415</td>\n",
       "      <td>48.750000</td>\n",
       "      <td>C</td>\n",
       "      <td>C</td>\n",
       "    </tr>\n",
       "    <tr>\n",
       "      <th>1</th>\n",
       "      <td>London</td>\n",
       "      <td>Apr</td>\n",
       "      <td>1080</td>\n",
       "      <td>1080</td>\n",
       "      <td>Apr 1080</td>\n",
       "      <td>-18.920</td>\n",
       "      <td>90.000000</td>\n",
       "      <td>B</td>\n",
       "      <td>B</td>\n",
       "    </tr>\n",
       "    <tr>\n",
       "      <th>2</th>\n",
       "      <td>Texas</td>\n",
       "      <td>Sep</td>\n",
       "      <td>1714</td>\n",
       "      <td>1714</td>\n",
       "      <td>Sep 1714</td>\n",
       "      <td>-18.286</td>\n",
       "      <td>142.833333</td>\n",
       "      <td>A</td>\n",
       "      <td>A</td>\n",
       "    </tr>\n",
       "    <tr>\n",
       "      <th>3</th>\n",
       "      <td>Clanton</td>\n",
       "      <td>Feb</td>\n",
       "      <td>1714</td>\n",
       "      <td>1714</td>\n",
       "      <td>Feb 1714</td>\n",
       "      <td>-18.286</td>\n",
       "      <td>142.833333</td>\n",
       "      <td>A</td>\n",
       "      <td>A</td>\n",
       "    </tr>\n",
       "    <tr>\n",
       "      <th>4</th>\n",
       "      <td>Washington</td>\n",
       "      <td>Jul</td>\n",
       "      <td>2038</td>\n",
       "      <td>2038</td>\n",
       "      <td>Jul 2038</td>\n",
       "      <td>-17.962</td>\n",
       "      <td>169.833333</td>\n",
       "      <td>A</td>\n",
       "      <td>A</td>\n",
       "    </tr>\n",
       "  </tbody>\n",
       "</table>\n",
       "</div>"
      ],
      "text/plain": [
       "         State Sales_Month  sales   new month_new  updated  month_sales  \\\n",
       "0       Alaska         Feb    585   585   Feb 585  -19.415    48.750000   \n",
       "1       London         Apr   1080  1080  Apr 1080  -18.920    90.000000   \n",
       "2        Texas         Sep   1714  1714  Sep 1714  -18.286   142.833333   \n",
       "3      Clanton         Feb   1714  1714  Feb 1714  -18.286   142.833333   \n",
       "4  Washington          Jul   2038  2038  Jul 2038  -17.962   169.833333   \n",
       "\n",
       "  decoded decoded_2  \n",
       "0       C         C  \n",
       "1       B         B  \n",
       "2       A         A  \n",
       "3       A         A  \n",
       "4       A         A  "
      ]
     },
     "execution_count": 100,
     "metadata": {},
     "output_type": "execute_result"
    }
   ],
   "source": [
    "df2.head()"
   ]
  },
  {
   "cell_type": "code",
   "execution_count": 61,
   "metadata": {},
   "outputs": [
    {
     "data": {
      "text/html": [
       "<div>\n",
       "<style scoped>\n",
       "    .dataframe tbody tr th:only-of-type {\n",
       "        vertical-align: middle;\n",
       "    }\n",
       "\n",
       "    .dataframe tbody tr th {\n",
       "        vertical-align: top;\n",
       "    }\n",
       "\n",
       "    .dataframe thead th {\n",
       "        text-align: right;\n",
       "    }\n",
       "</style>\n",
       "<table border=\"1\" class=\"dataframe\">\n",
       "  <thead>\n",
       "    <tr style=\"text-align: right;\">\n",
       "      <th></th>\n",
       "      <th>State</th>\n",
       "      <th>Sales_Month</th>\n",
       "      <th>sales</th>\n",
       "    </tr>\n",
       "  </thead>\n",
       "  <tbody>\n",
       "    <tr>\n",
       "      <th>4</th>\n",
       "      <td>Birmingham</td>\n",
       "      <td>Mar</td>\n",
       "      <td>10000</td>\n",
       "    </tr>\n",
       "  </tbody>\n",
       "</table>\n",
       "</div>"
      ],
      "text/plain": [
       "        State Sales_Month  sales\n",
       "4  Birmingham         Mar  10000"
      ]
     },
     "execution_count": 61,
     "metadata": {},
     "output_type": "execute_result"
    }
   ],
   "source": [
    "df2[ df2['State'].str.contains('Bir') ]"
   ]
  },
  {
   "cell_type": "code",
   "execution_count": 64,
   "metadata": {},
   "outputs": [
    {
     "data": {
      "text/html": [
       "<div>\n",
       "<style scoped>\n",
       "    .dataframe tbody tr th:only-of-type {\n",
       "        vertical-align: middle;\n",
       "    }\n",
       "\n",
       "    .dataframe tbody tr th {\n",
       "        vertical-align: top;\n",
       "    }\n",
       "\n",
       "    .dataframe thead th {\n",
       "        text-align: right;\n",
       "    }\n",
       "</style>\n",
       "<table border=\"1\" class=\"dataframe\">\n",
       "  <thead>\n",
       "    <tr style=\"text-align: right;\">\n",
       "      <th></th>\n",
       "      <th>State</th>\n",
       "      <th>Sales_Month</th>\n",
       "      <th>sales</th>\n",
       "    </tr>\n",
       "  </thead>\n",
       "  <tbody>\n",
       "    <tr>\n",
       "      <th>0</th>\n",
       "      <td>Boston</td>\n",
       "      <td>Sep</td>\n",
       "      <td>5885</td>\n",
       "    </tr>\n",
       "    <tr>\n",
       "      <th>1</th>\n",
       "      <td>Texas</td>\n",
       "      <td>Sep</td>\n",
       "      <td>1714</td>\n",
       "    </tr>\n",
       "  </tbody>\n",
       "</table>\n",
       "</div>"
      ],
      "text/plain": [
       "    State Sales_Month  sales\n",
       "0  Boston         Sep   5885\n",
       "1   Texas         Sep   1714"
      ]
     },
     "execution_count": 64,
     "metadata": {},
     "output_type": "execute_result"
    }
   ],
   "source": [
    "df2[df2['Sales_Month'].str.contains('ep')].reset_index(drop = True)"
   ]
  },
  {
   "cell_type": "code",
   "execution_count": 101,
   "metadata": {},
   "outputs": [
    {
     "data": {
      "text/html": [
       "<div>\n",
       "<style scoped>\n",
       "    .dataframe tbody tr th:only-of-type {\n",
       "        vertical-align: middle;\n",
       "    }\n",
       "\n",
       "    .dataframe tbody tr th {\n",
       "        vertical-align: top;\n",
       "    }\n",
       "\n",
       "    .dataframe thead th {\n",
       "        text-align: right;\n",
       "    }\n",
       "</style>\n",
       "<table border=\"1\" class=\"dataframe\">\n",
       "  <thead>\n",
       "    <tr style=\"text-align: right;\">\n",
       "      <th></th>\n",
       "      <th>sales</th>\n",
       "      <th>updated</th>\n",
       "      <th>month_sales</th>\n",
       "    </tr>\n",
       "  </thead>\n",
       "  <tbody>\n",
       "    <tr>\n",
       "      <th>count</th>\n",
       "      <td>20.000000</td>\n",
       "      <td>20.000000</td>\n",
       "      <td>20.000000</td>\n",
       "    </tr>\n",
       "    <tr>\n",
       "      <th>mean</th>\n",
       "      <td>30967.350000</td>\n",
       "      <td>10.967350</td>\n",
       "      <td>2580.612500</td>\n",
       "    </tr>\n",
       "    <tr>\n",
       "      <th>std</th>\n",
       "      <td>47143.636133</td>\n",
       "      <td>47.143636</td>\n",
       "      <td>3928.636344</td>\n",
       "    </tr>\n",
       "    <tr>\n",
       "      <th>min</th>\n",
       "      <td>585.000000</td>\n",
       "      <td>-19.415000</td>\n",
       "      <td>48.750000</td>\n",
       "    </tr>\n",
       "    <tr>\n",
       "      <th>25%</th>\n",
       "      <td>2545.000000</td>\n",
       "      <td>-17.455000</td>\n",
       "      <td>212.083333</td>\n",
       "    </tr>\n",
       "    <tr>\n",
       "      <th>50%</th>\n",
       "      <td>9619.000000</td>\n",
       "      <td>-10.381000</td>\n",
       "      <td>801.583333</td>\n",
       "    </tr>\n",
       "    <tr>\n",
       "      <th>75%</th>\n",
       "      <td>58167.000000</td>\n",
       "      <td>38.167000</td>\n",
       "      <td>4847.250000</td>\n",
       "    </tr>\n",
       "    <tr>\n",
       "      <th>max</th>\n",
       "      <td>189238.000000</td>\n",
       "      <td>169.238000</td>\n",
       "      <td>15769.833333</td>\n",
       "    </tr>\n",
       "  </tbody>\n",
       "</table>\n",
       "</div>"
      ],
      "text/plain": [
       "               sales     updated   month_sales\n",
       "count      20.000000   20.000000     20.000000\n",
       "mean    30967.350000   10.967350   2580.612500\n",
       "std     47143.636133   47.143636   3928.636344\n",
       "min       585.000000  -19.415000     48.750000\n",
       "25%      2545.000000  -17.455000    212.083333\n",
       "50%      9619.000000  -10.381000    801.583333\n",
       "75%     58167.000000   38.167000   4847.250000\n",
       "max    189238.000000  169.238000  15769.833333"
      ]
     },
     "execution_count": 101,
     "metadata": {},
     "output_type": "execute_result"
    }
   ],
   "source": [
    "df2.describe() # Integer"
   ]
  },
  {
   "cell_type": "code",
   "execution_count": 110,
   "metadata": {},
   "outputs": [
    {
     "data": {
      "text/plain": [
       "30967.35"
      ]
     },
     "execution_count": 110,
     "metadata": {},
     "output_type": "execute_result"
    }
   ],
   "source": [
    "df2.sales.describe()\n",
    "df2.sales.describe()['mean']"
   ]
  },
  {
   "cell_type": "code",
   "execution_count": 102,
   "metadata": {},
   "outputs": [
    {
     "data": {
      "text/html": [
       "<div>\n",
       "<style scoped>\n",
       "    .dataframe tbody tr th:only-of-type {\n",
       "        vertical-align: middle;\n",
       "    }\n",
       "\n",
       "    .dataframe tbody tr th {\n",
       "        vertical-align: top;\n",
       "    }\n",
       "\n",
       "    .dataframe thead th {\n",
       "        text-align: right;\n",
       "    }\n",
       "</style>\n",
       "<table border=\"1\" class=\"dataframe\">\n",
       "  <thead>\n",
       "    <tr style=\"text-align: right;\">\n",
       "      <th></th>\n",
       "      <th>State</th>\n",
       "      <th>Sales_Month</th>\n",
       "      <th>sales</th>\n",
       "      <th>new</th>\n",
       "      <th>month_new</th>\n",
       "      <th>updated</th>\n",
       "      <th>month_sales</th>\n",
       "      <th>decoded</th>\n",
       "      <th>decoded_2</th>\n",
       "    </tr>\n",
       "  </thead>\n",
       "  <tbody>\n",
       "    <tr>\n",
       "      <th>count</th>\n",
       "      <td>20</td>\n",
       "      <td>20</td>\n",
       "      <td>20.000000</td>\n",
       "      <td>20</td>\n",
       "      <td>20</td>\n",
       "      <td>20.000000</td>\n",
       "      <td>20.000000</td>\n",
       "      <td>20</td>\n",
       "      <td>20</td>\n",
       "    </tr>\n",
       "    <tr>\n",
       "      <th>unique</th>\n",
       "      <td>20</td>\n",
       "      <td>11</td>\n",
       "      <td>NaN</td>\n",
       "      <td>10</td>\n",
       "      <td>16</td>\n",
       "      <td>NaN</td>\n",
       "      <td>NaN</td>\n",
       "      <td>3</td>\n",
       "      <td>3</td>\n",
       "    </tr>\n",
       "    <tr>\n",
       "      <th>top</th>\n",
       "      <td>Ontario</td>\n",
       "      <td>Jan</td>\n",
       "      <td>NaN</td>\n",
       "      <td>more</td>\n",
       "      <td>Oct more</td>\n",
       "      <td>NaN</td>\n",
       "      <td>NaN</td>\n",
       "      <td>A</td>\n",
       "      <td>A</td>\n",
       "    </tr>\n",
       "    <tr>\n",
       "      <th>freq</th>\n",
       "      <td>1</td>\n",
       "      <td>3</td>\n",
       "      <td>NaN</td>\n",
       "      <td>8</td>\n",
       "      <td>2</td>\n",
       "      <td>NaN</td>\n",
       "      <td>NaN</td>\n",
       "      <td>18</td>\n",
       "      <td>18</td>\n",
       "    </tr>\n",
       "    <tr>\n",
       "      <th>mean</th>\n",
       "      <td>NaN</td>\n",
       "      <td>NaN</td>\n",
       "      <td>30967.350000</td>\n",
       "      <td>NaN</td>\n",
       "      <td>NaN</td>\n",
       "      <td>10.967350</td>\n",
       "      <td>2580.612500</td>\n",
       "      <td>NaN</td>\n",
       "      <td>NaN</td>\n",
       "    </tr>\n",
       "    <tr>\n",
       "      <th>std</th>\n",
       "      <td>NaN</td>\n",
       "      <td>NaN</td>\n",
       "      <td>47143.636133</td>\n",
       "      <td>NaN</td>\n",
       "      <td>NaN</td>\n",
       "      <td>47.143636</td>\n",
       "      <td>3928.636344</td>\n",
       "      <td>NaN</td>\n",
       "      <td>NaN</td>\n",
       "    </tr>\n",
       "    <tr>\n",
       "      <th>min</th>\n",
       "      <td>NaN</td>\n",
       "      <td>NaN</td>\n",
       "      <td>585.000000</td>\n",
       "      <td>NaN</td>\n",
       "      <td>NaN</td>\n",
       "      <td>-19.415000</td>\n",
       "      <td>48.750000</td>\n",
       "      <td>NaN</td>\n",
       "      <td>NaN</td>\n",
       "    </tr>\n",
       "    <tr>\n",
       "      <th>25%</th>\n",
       "      <td>NaN</td>\n",
       "      <td>NaN</td>\n",
       "      <td>2545.000000</td>\n",
       "      <td>NaN</td>\n",
       "      <td>NaN</td>\n",
       "      <td>-17.455000</td>\n",
       "      <td>212.083333</td>\n",
       "      <td>NaN</td>\n",
       "      <td>NaN</td>\n",
       "    </tr>\n",
       "    <tr>\n",
       "      <th>50%</th>\n",
       "      <td>NaN</td>\n",
       "      <td>NaN</td>\n",
       "      <td>9619.000000</td>\n",
       "      <td>NaN</td>\n",
       "      <td>NaN</td>\n",
       "      <td>-10.381000</td>\n",
       "      <td>801.583333</td>\n",
       "      <td>NaN</td>\n",
       "      <td>NaN</td>\n",
       "    </tr>\n",
       "    <tr>\n",
       "      <th>75%</th>\n",
       "      <td>NaN</td>\n",
       "      <td>NaN</td>\n",
       "      <td>58167.000000</td>\n",
       "      <td>NaN</td>\n",
       "      <td>NaN</td>\n",
       "      <td>38.167000</td>\n",
       "      <td>4847.250000</td>\n",
       "      <td>NaN</td>\n",
       "      <td>NaN</td>\n",
       "    </tr>\n",
       "    <tr>\n",
       "      <th>max</th>\n",
       "      <td>NaN</td>\n",
       "      <td>NaN</td>\n",
       "      <td>189238.000000</td>\n",
       "      <td>NaN</td>\n",
       "      <td>NaN</td>\n",
       "      <td>169.238000</td>\n",
       "      <td>15769.833333</td>\n",
       "      <td>NaN</td>\n",
       "      <td>NaN</td>\n",
       "    </tr>\n",
       "  </tbody>\n",
       "</table>\n",
       "</div>"
      ],
      "text/plain": [
       "           State Sales_Month          sales   new month_new     updated  \\\n",
       "count         20          20      20.000000    20        20   20.000000   \n",
       "unique        20          11            NaN    10        16         NaN   \n",
       "top     Ontario          Jan            NaN  more  Oct more         NaN   \n",
       "freq           1           3            NaN     8         2         NaN   \n",
       "mean         NaN         NaN   30967.350000   NaN       NaN   10.967350   \n",
       "std          NaN         NaN   47143.636133   NaN       NaN   47.143636   \n",
       "min          NaN         NaN     585.000000   NaN       NaN  -19.415000   \n",
       "25%          NaN         NaN    2545.000000   NaN       NaN  -17.455000   \n",
       "50%          NaN         NaN    9619.000000   NaN       NaN  -10.381000   \n",
       "75%          NaN         NaN   58167.000000   NaN       NaN   38.167000   \n",
       "max          NaN         NaN  189238.000000   NaN       NaN  169.238000   \n",
       "\n",
       "         month_sales decoded decoded_2  \n",
       "count      20.000000      20        20  \n",
       "unique           NaN       3         3  \n",
       "top              NaN       A         A  \n",
       "freq             NaN      18        18  \n",
       "mean     2580.612500     NaN       NaN  \n",
       "std      3928.636344     NaN       NaN  \n",
       "min        48.750000     NaN       NaN  \n",
       "25%       212.083333     NaN       NaN  \n",
       "50%       801.583333     NaN       NaN  \n",
       "75%      4847.250000     NaN       NaN  \n",
       "max     15769.833333     NaN       NaN  "
      ]
     },
     "execution_count": 102,
     "metadata": {},
     "output_type": "execute_result"
    }
   ],
   "source": [
    "df2.describe(include='all')"
   ]
  },
  {
   "cell_type": "code",
   "execution_count": 103,
   "metadata": {},
   "outputs": [
    {
     "data": {
      "text/html": [
       "<div>\n",
       "<style scoped>\n",
       "    .dataframe tbody tr th:only-of-type {\n",
       "        vertical-align: middle;\n",
       "    }\n",
       "\n",
       "    .dataframe tbody tr th {\n",
       "        vertical-align: top;\n",
       "    }\n",
       "\n",
       "    .dataframe thead th {\n",
       "        text-align: right;\n",
       "    }\n",
       "</style>\n",
       "<table border=\"1\" class=\"dataframe\">\n",
       "  <thead>\n",
       "    <tr style=\"text-align: right;\">\n",
       "      <th></th>\n",
       "      <th>State</th>\n",
       "      <th>Sales_Month</th>\n",
       "      <th>new</th>\n",
       "      <th>month_new</th>\n",
       "      <th>decoded</th>\n",
       "      <th>decoded_2</th>\n",
       "    </tr>\n",
       "  </thead>\n",
       "  <tbody>\n",
       "    <tr>\n",
       "      <th>count</th>\n",
       "      <td>20</td>\n",
       "      <td>20</td>\n",
       "      <td>20</td>\n",
       "      <td>20</td>\n",
       "      <td>20</td>\n",
       "      <td>20</td>\n",
       "    </tr>\n",
       "    <tr>\n",
       "      <th>unique</th>\n",
       "      <td>20</td>\n",
       "      <td>11</td>\n",
       "      <td>10</td>\n",
       "      <td>16</td>\n",
       "      <td>3</td>\n",
       "      <td>3</td>\n",
       "    </tr>\n",
       "    <tr>\n",
       "      <th>top</th>\n",
       "      <td>Ontario</td>\n",
       "      <td>Jan</td>\n",
       "      <td>more</td>\n",
       "      <td>Oct more</td>\n",
       "      <td>A</td>\n",
       "      <td>A</td>\n",
       "    </tr>\n",
       "    <tr>\n",
       "      <th>freq</th>\n",
       "      <td>1</td>\n",
       "      <td>3</td>\n",
       "      <td>8</td>\n",
       "      <td>2</td>\n",
       "      <td>18</td>\n",
       "      <td>18</td>\n",
       "    </tr>\n",
       "  </tbody>\n",
       "</table>\n",
       "</div>"
      ],
      "text/plain": [
       "           State Sales_Month   new month_new decoded decoded_2\n",
       "count         20          20    20        20      20        20\n",
       "unique        20          11    10        16       3         3\n",
       "top     Ontario          Jan  more  Oct more       A         A\n",
       "freq           1           3     8         2      18        18"
      ]
     },
     "execution_count": 103,
     "metadata": {},
     "output_type": "execute_result"
    }
   ],
   "source": [
    "df2.describe(include=['object'])"
   ]
  },
  {
   "cell_type": "code",
   "execution_count": 8,
   "metadata": {},
   "outputs": [
    {
     "data": {
      "text/html": [
       "<div>\n",
       "<style scoped>\n",
       "    .dataframe tbody tr th:only-of-type {\n",
       "        vertical-align: middle;\n",
       "    }\n",
       "\n",
       "    .dataframe tbody tr th {\n",
       "        vertical-align: top;\n",
       "    }\n",
       "\n",
       "    .dataframe thead th {\n",
       "        text-align: right;\n",
       "    }\n",
       "</style>\n",
       "<table border=\"1\" class=\"dataframe\">\n",
       "  <thead>\n",
       "    <tr style=\"text-align: right;\">\n",
       "      <th></th>\n",
       "      <th>location</th>\n",
       "      <th>month</th>\n",
       "      <th>sales</th>\n",
       "    </tr>\n",
       "  </thead>\n",
       "  <tbody>\n",
       "    <tr>\n",
       "      <th>8</th>\n",
       "      <td>Alaska</td>\n",
       "      <td>Feb</td>\n",
       "      <td>585</td>\n",
       "    </tr>\n",
       "  </tbody>\n",
       "</table>\n",
       "</div>"
      ],
      "text/plain": [
       "  location month  sales\n",
       "8   Alaska   Feb    585"
      ]
     },
     "execution_count": 8,
     "metadata": {},
     "output_type": "execute_result"
    }
   ],
   "source": [
    "df2[(df2['location']=='Alaska') & (df2['month']=='Feb') & (df2['sales']==585)]"
   ]
  },
  {
   "cell_type": "code",
   "execution_count": 17,
   "metadata": {},
   "outputs": [
    {
     "name": "stderr",
     "output_type": "stream",
     "text": [
      "C:\\ProgramData\\Anaconda3\\lib\\site-packages\\ipykernel_launcher.py:1: UserWarning: Boolean Series key will be reindexed to match DataFrame index.\n",
      "  \"\"\"Entry point for launching an IPython kernel.\n"
     ]
    },
    {
     "data": {
      "text/html": [
       "<div>\n",
       "<style scoped>\n",
       "    .dataframe tbody tr th:only-of-type {\n",
       "        vertical-align: middle;\n",
       "    }\n",
       "\n",
       "    .dataframe tbody tr th {\n",
       "        vertical-align: top;\n",
       "    }\n",
       "\n",
       "    .dataframe thead th {\n",
       "        text-align: right;\n",
       "    }\n",
       "</style>\n",
       "<table border=\"1\" class=\"dataframe\">\n",
       "  <thead>\n",
       "    <tr style=\"text-align: right;\">\n",
       "      <th></th>\n",
       "      <th>location</th>\n",
       "      <th>month</th>\n",
       "      <th>sales</th>\n",
       "    </tr>\n",
       "  </thead>\n",
       "  <tbody>\n",
       "    <tr>\n",
       "      <th>1</th>\n",
       "      <td>Michigan</td>\n",
       "      <td>Apr</td>\n",
       "      <td>89238</td>\n",
       "    </tr>\n",
       "  </tbody>\n",
       "</table>\n",
       "</div>"
      ],
      "text/plain": [
       "    location month  sales\n",
       "1  Michigan    Apr  89238"
      ]
     },
     "execution_count": 17,
     "metadata": {},
     "output_type": "execute_result"
    }
   ],
   "source": [
    "df2[df2['location'].str.contains('Michigan')][df2['month'].str.contains('Apr')][df2['sales'] == 89238]"
   ]
  },
  {
   "cell_type": "code",
   "execution_count": null,
   "metadata": {},
   "outputs": [],
   "source": [
    "# new col ----> Location --> Swap case & similar for month column\n",
    "# new col --> Locatin_month ..... ex - oNATRIO_jAN"
   ]
  },
  {
   "cell_type": "code",
   "execution_count": null,
   "metadata": {},
   "outputs": [],
   "source": []
  },
  {
   "cell_type": "code",
   "execution_count": 12,
   "metadata": {},
   "outputs": [
    {
     "data": {
      "text/html": [
       "<div>\n",
       "<style scoped>\n",
       "    .dataframe tbody tr th:only-of-type {\n",
       "        vertical-align: middle;\n",
       "    }\n",
       "\n",
       "    .dataframe tbody tr th {\n",
       "        vertical-align: top;\n",
       "    }\n",
       "\n",
       "    .dataframe thead th {\n",
       "        text-align: right;\n",
       "    }\n",
       "</style>\n",
       "<table border=\"1\" class=\"dataframe\">\n",
       "  <thead>\n",
       "    <tr style=\"text-align: right;\">\n",
       "      <th></th>\n",
       "      <th>location</th>\n",
       "      <th>month</th>\n",
       "      <th>sales</th>\n",
       "    </tr>\n",
       "  </thead>\n",
       "  <tbody>\n",
       "    <tr>\n",
       "      <th>0</th>\n",
       "      <td>New York</td>\n",
       "      <td>Mar</td>\n",
       "      <td>12714</td>\n",
       "    </tr>\n",
       "    <tr>\n",
       "      <th>1</th>\n",
       "      <td>Michigan</td>\n",
       "      <td>Apr</td>\n",
       "      <td>89238</td>\n",
       "    </tr>\n",
       "    <tr>\n",
       "      <th>2</th>\n",
       "      <td>Atlanta</td>\n",
       "      <td>Jan</td>\n",
       "      <td>8161</td>\n",
       "    </tr>\n",
       "    <tr>\n",
       "      <th>3</th>\n",
       "      <td>Boston</td>\n",
       "      <td>Sep</td>\n",
       "      <td>5885</td>\n",
       "    </tr>\n",
       "    <tr>\n",
       "      <th>4</th>\n",
       "      <td>Birmingham</td>\n",
       "      <td>Mar</td>\n",
       "      <td>10000</td>\n",
       "    </tr>\n",
       "  </tbody>\n",
       "</table>\n",
       "</div>"
      ],
      "text/plain": [
       "     location month  sales\n",
       "0    New York   Mar  12714\n",
       "1   Michigan    Apr  89238\n",
       "2     Atlanta   Jan   8161\n",
       "3      Boston   Sep   5885\n",
       "4  Birmingham   Mar  10000"
      ]
     },
     "execution_count": 12,
     "metadata": {},
     "output_type": "execute_result"
    }
   ],
   "source": [
    "df2.head()"
   ]
  },
  {
   "cell_type": "code",
   "execution_count": 15,
   "metadata": {},
   "outputs": [
    {
     "data": {
      "text/plain": [
       "'a_b'"
      ]
     },
     "execution_count": 15,
     "metadata": {},
     "output_type": "execute_result"
    }
   ],
   "source": [
    "'_'.join(['a','b'])"
   ]
  },
  {
   "cell_type": "code",
   "execution_count": 26,
   "metadata": {},
   "outputs": [
    {
     "data": {
      "text/plain": [
       "0       New York   Mar    12714\n",
       "1      Michigan    Apr    89238\n",
       "2         Atlanta   Jan    8161\n",
       "3          Boston   Sep    5885\n",
       "4     Birmingham   Mar    10000\n",
       "5         Clanton   Feb    1714\n",
       "6         Marion    Dec    9238\n",
       "7       Atlantis   Nov    58161\n",
       "8           Alaska   Feb    585\n",
       "9        Arozona   Mar    10000\n",
       "10         Pacfic   Aug    2714\n",
       "11    Ontario    June    189238\n",
       "12       Toronto   Jan    81651\n",
       "13         Delhi   Oct    58855\n",
       "14         London   Apr    1080\n",
       "15          Texas   Sep    1714\n",
       "16    Washington    Jul    2038\n",
       "17        Florida   Jan    8161\n",
       "18      Michigan   Oct    58185\n",
       "19     New_Jersy   Apr    10015\n",
       "dtype: object"
      ]
     },
     "execution_count": 26,
     "metadata": {},
     "output_type": "execute_result"
    }
   ],
   "source": [
    "df2.location +'_'+ df2.month\n",
    "\n",
    "df2[['location','month']].apply(lambda x: '_'.join(x), axis = 1)\n",
    "\n",
    "df2[['location','month']].apply(lambda x: '_'.join([x[0],x[1]]) ,axis = 1)\n",
    "                                                     \n",
    "df2[['location','month','sales']].apply( lambda x: x[0]+'   '+x[1]+'    '+ str(x[2]), axis = 1 )                                \n"
   ]
  },
  {
   "cell_type": "code",
   "execution_count": null,
   "metadata": {},
   "outputs": [],
   "source": []
  },
  {
   "cell_type": "code",
   "execution_count": null,
   "metadata": {},
   "outputs": [],
   "source": []
  },
  {
   "cell_type": "code",
   "execution_count": null,
   "metadata": {},
   "outputs": [],
   "source": []
  },
  {
   "cell_type": "code",
   "execution_count": null,
   "metadata": {},
   "outputs": [],
   "source": []
  },
  {
   "cell_type": "code",
   "execution_count": null,
   "metadata": {},
   "outputs": [],
   "source": []
  },
  {
   "cell_type": "code",
   "execution_count": 27,
   "metadata": {},
   "outputs": [],
   "source": [
    "df2['loc_2'] = df2.location.apply(lambda x: x.swapcase())\n",
    "\n",
    "df2['month_2'] = df2.month.apply(lambda x: x.lower())\n",
    "\n",
    "df2['locn_month_1'] = df2.location +'_'+ df2.month\n",
    "\n",
    "df2['l_m'] = df2[['location','month']].apply(lambda x: '__'.join(x),axis=1)\n",
    "\n",
    "df2['new'] = df2[['location','month', 'sales']].apply(lambda x: x[0]+'____' +x[1]+ '__'+ str(x[2]), axis = 1)\n",
    "\n",
    "# a = 'location'\n",
    "# b = 'month'\n",
    "# c = 'sales'\n",
    "\n",
    "# '_'.join([a,b,c])\n",
    "\n",
    "# df2.head()\n",
    "\n"
   ]
  },
  {
   "cell_type": "code",
   "execution_count": 28,
   "metadata": {},
   "outputs": [],
   "source": [
    "df2['l_m1'] = df2[['location','month']].apply(lambda x: x[0]+'_'+x[1],axis = 1)\n"
   ]
  },
  {
   "cell_type": "code",
   "execution_count": 29,
   "metadata": {},
   "outputs": [
    {
     "data": {
      "text/html": [
       "<div>\n",
       "<style scoped>\n",
       "    .dataframe tbody tr th:only-of-type {\n",
       "        vertical-align: middle;\n",
       "    }\n",
       "\n",
       "    .dataframe tbody tr th {\n",
       "        vertical-align: top;\n",
       "    }\n",
       "\n",
       "    .dataframe thead th {\n",
       "        text-align: right;\n",
       "    }\n",
       "</style>\n",
       "<table border=\"1\" class=\"dataframe\">\n",
       "  <thead>\n",
       "    <tr style=\"text-align: right;\">\n",
       "      <th></th>\n",
       "      <th>location</th>\n",
       "      <th>month</th>\n",
       "      <th>sales</th>\n",
       "      <th>loc_2</th>\n",
       "      <th>month_2</th>\n",
       "      <th>locn_month_1</th>\n",
       "      <th>l_m</th>\n",
       "      <th>new</th>\n",
       "      <th>l_m1</th>\n",
       "    </tr>\n",
       "  </thead>\n",
       "  <tbody>\n",
       "    <tr>\n",
       "      <th>0</th>\n",
       "      <td>New York</td>\n",
       "      <td>Mar</td>\n",
       "      <td>12714</td>\n",
       "      <td>nEW yORK</td>\n",
       "      <td>mar</td>\n",
       "      <td>New York_Mar</td>\n",
       "      <td>New York__Mar</td>\n",
       "      <td>New York____Mar__12714</td>\n",
       "      <td>New York_Mar</td>\n",
       "    </tr>\n",
       "    <tr>\n",
       "      <th>1</th>\n",
       "      <td>Michigan</td>\n",
       "      <td>Apr</td>\n",
       "      <td>89238</td>\n",
       "      <td>mICHIGAN</td>\n",
       "      <td>apr</td>\n",
       "      <td>Michigan _Apr</td>\n",
       "      <td>Michigan __Apr</td>\n",
       "      <td>Michigan ____Apr__89238</td>\n",
       "      <td>Michigan _Apr</td>\n",
       "    </tr>\n",
       "    <tr>\n",
       "      <th>2</th>\n",
       "      <td>Atlanta</td>\n",
       "      <td>Jan</td>\n",
       "      <td>8161</td>\n",
       "      <td>aTLANTA</td>\n",
       "      <td>jan</td>\n",
       "      <td>Atlanta_Jan</td>\n",
       "      <td>Atlanta__Jan</td>\n",
       "      <td>Atlanta____Jan__8161</td>\n",
       "      <td>Atlanta_Jan</td>\n",
       "    </tr>\n",
       "    <tr>\n",
       "      <th>3</th>\n",
       "      <td>Boston</td>\n",
       "      <td>Sep</td>\n",
       "      <td>5885</td>\n",
       "      <td>bOSTON</td>\n",
       "      <td>sep</td>\n",
       "      <td>Boston_Sep</td>\n",
       "      <td>Boston__Sep</td>\n",
       "      <td>Boston____Sep__5885</td>\n",
       "      <td>Boston_Sep</td>\n",
       "    </tr>\n",
       "    <tr>\n",
       "      <th>4</th>\n",
       "      <td>Birmingham</td>\n",
       "      <td>Mar</td>\n",
       "      <td>10000</td>\n",
       "      <td>bIRMINGHAM</td>\n",
       "      <td>mar</td>\n",
       "      <td>Birmingham_Mar</td>\n",
       "      <td>Birmingham__Mar</td>\n",
       "      <td>Birmingham____Mar__10000</td>\n",
       "      <td>Birmingham_Mar</td>\n",
       "    </tr>\n",
       "  </tbody>\n",
       "</table>\n",
       "</div>"
      ],
      "text/plain": [
       "     location month  sales       loc_2 month_2    locn_month_1  \\\n",
       "0    New York   Mar  12714    nEW yORK     mar    New York_Mar   \n",
       "1   Michigan    Apr  89238   mICHIGAN      apr   Michigan _Apr   \n",
       "2     Atlanta   Jan   8161     aTLANTA     jan     Atlanta_Jan   \n",
       "3      Boston   Sep   5885      bOSTON     sep      Boston_Sep   \n",
       "4  Birmingham   Mar  10000  bIRMINGHAM     mar  Birmingham_Mar   \n",
       "\n",
       "               l_m                       new            l_m1  \n",
       "0    New York__Mar    New York____Mar__12714    New York_Mar  \n",
       "1   Michigan __Apr   Michigan ____Apr__89238   Michigan _Apr  \n",
       "2     Atlanta__Jan      Atlanta____Jan__8161     Atlanta_Jan  \n",
       "3      Boston__Sep       Boston____Sep__5885      Boston_Sep  \n",
       "4  Birmingham__Mar  Birmingham____Mar__10000  Birmingham_Mar  "
      ]
     },
     "execution_count": 29,
     "metadata": {},
     "output_type": "execute_result"
    }
   ],
   "source": [
    "df2.head()"
   ]
  },
  {
   "cell_type": "code",
   "execution_count": null,
   "metadata": {},
   "outputs": [],
   "source": []
  },
  {
   "cell_type": "code",
   "execution_count": null,
   "metadata": {},
   "outputs": [],
   "source": []
  },
  {
   "cell_type": "code",
   "execution_count": null,
   "metadata": {},
   "outputs": [],
   "source": []
  },
  {
   "cell_type": "code",
   "execution_count": null,
   "metadata": {},
   "outputs": [],
   "source": []
  },
  {
   "cell_type": "code",
   "execution_count": 131,
   "metadata": {},
   "outputs": [
    {
     "data": {
      "text/plain": [
       "0       New York\n",
       "1      Michigan \n",
       "2        Atlanta\n",
       "3             ON\n",
       "4     Birmingham\n",
       "5             ON\n",
       "6             ON\n",
       "7       Atlantis\n",
       "8         Alaska\n",
       "9             ON\n",
       "10        Pacfic\n",
       "11      Ontario \n",
       "12            ON\n",
       "13         Delhi\n",
       "14            ON\n",
       "15         Texas\n",
       "16            ON\n",
       "17       Florida\n",
       "18      Michigan\n",
       "19     New_Jersy\n",
       "Name: location, dtype: object"
      ]
     },
     "execution_count": 131,
     "metadata": {},
     "output_type": "execute_result"
    }
   ],
   "source": [
    "a = ['Michigan','Atlantis','Atlantis','Atlanta']\n",
    "\n",
    "# O/P ----  ['Michigan','ABC','ABC','Atlanta']\n",
    "\n",
    "# ['ABC' if 'tis' in i else i for i in a ]\n",
    "\n",
    "df2['location'].apply(lambda x: 'ON' if 'on' in x else x)"
   ]
  },
  {
   "cell_type": "code",
   "execution_count": 35,
   "metadata": {},
   "outputs": [
    {
     "data": {
      "text/html": [
       "<div>\n",
       "<style scoped>\n",
       "    .dataframe tbody tr th:only-of-type {\n",
       "        vertical-align: middle;\n",
       "    }\n",
       "\n",
       "    .dataframe tbody tr th {\n",
       "        vertical-align: top;\n",
       "    }\n",
       "\n",
       "    .dataframe thead th {\n",
       "        text-align: right;\n",
       "    }\n",
       "</style>\n",
       "<table border=\"1\" class=\"dataframe\">\n",
       "  <thead>\n",
       "    <tr style=\"text-align: right;\">\n",
       "      <th></th>\n",
       "      <th>location</th>\n",
       "      <th>month</th>\n",
       "      <th>sales</th>\n",
       "      <th>loc_2</th>\n",
       "      <th>month_2</th>\n",
       "      <th>locn_month_1</th>\n",
       "      <th>l_m</th>\n",
       "      <th>new</th>\n",
       "      <th>l_m1</th>\n",
       "      <th>sales_categ</th>\n",
       "    </tr>\n",
       "  </thead>\n",
       "  <tbody>\n",
       "    <tr>\n",
       "      <th>0</th>\n",
       "      <td>New York</td>\n",
       "      <td>Mar</td>\n",
       "      <td>12714</td>\n",
       "      <td>nEW yORK</td>\n",
       "      <td>mar</td>\n",
       "      <td>New York_Mar</td>\n",
       "      <td>New York__Mar</td>\n",
       "      <td>New York____Mar__12714</td>\n",
       "      <td>New York_Mar</td>\n",
       "      <td>A</td>\n",
       "    </tr>\n",
       "    <tr>\n",
       "      <th>1</th>\n",
       "      <td>Michigan</td>\n",
       "      <td>Apr</td>\n",
       "      <td>89238</td>\n",
       "      <td>mICHIGAN</td>\n",
       "      <td>apr</td>\n",
       "      <td>Michigan _Apr</td>\n",
       "      <td>Michigan __Apr</td>\n",
       "      <td>Michigan ____Apr__89238</td>\n",
       "      <td>Michigan _Apr</td>\n",
       "      <td>A</td>\n",
       "    </tr>\n",
       "    <tr>\n",
       "      <th>2</th>\n",
       "      <td>Atlanta</td>\n",
       "      <td>Jan</td>\n",
       "      <td>8161</td>\n",
       "      <td>aTLANTA</td>\n",
       "      <td>jan</td>\n",
       "      <td>Atlanta_Jan</td>\n",
       "      <td>Atlanta__Jan</td>\n",
       "      <td>Atlanta____Jan__8161</td>\n",
       "      <td>Atlanta_Jan</td>\n",
       "      <td>B</td>\n",
       "    </tr>\n",
       "    <tr>\n",
       "      <th>3</th>\n",
       "      <td>Boston</td>\n",
       "      <td>Sep</td>\n",
       "      <td>5885</td>\n",
       "      <td>bOSTON</td>\n",
       "      <td>sep</td>\n",
       "      <td>Boston_Sep</td>\n",
       "      <td>Boston__Sep</td>\n",
       "      <td>Boston____Sep__5885</td>\n",
       "      <td>Boston_Sep</td>\n",
       "      <td>B</td>\n",
       "    </tr>\n",
       "    <tr>\n",
       "      <th>4</th>\n",
       "      <td>Birmingham</td>\n",
       "      <td>Mar</td>\n",
       "      <td>10000</td>\n",
       "      <td>bIRMINGHAM</td>\n",
       "      <td>mar</td>\n",
       "      <td>Birmingham_Mar</td>\n",
       "      <td>Birmingham__Mar</td>\n",
       "      <td>Birmingham____Mar__10000</td>\n",
       "      <td>Birmingham_Mar</td>\n",
       "      <td>A</td>\n",
       "    </tr>\n",
       "  </tbody>\n",
       "</table>\n",
       "</div>"
      ],
      "text/plain": [
       "     location month  sales       loc_2 month_2    locn_month_1  \\\n",
       "0    New York   Mar  12714    nEW yORK     mar    New York_Mar   \n",
       "1   Michigan    Apr  89238   mICHIGAN      apr   Michigan _Apr   \n",
       "2     Atlanta   Jan   8161     aTLANTA     jan     Atlanta_Jan   \n",
       "3      Boston   Sep   5885      bOSTON     sep      Boston_Sep   \n",
       "4  Birmingham   Mar  10000  bIRMINGHAM     mar  Birmingham_Mar   \n",
       "\n",
       "               l_m                       new            l_m1 sales_categ  \n",
       "0    New York__Mar    New York____Mar__12714    New York_Mar           A  \n",
       "1   Michigan __Apr   Michigan ____Apr__89238   Michigan _Apr           A  \n",
       "2     Atlanta__Jan      Atlanta____Jan__8161     Atlanta_Jan           B  \n",
       "3      Boston__Sep       Boston____Sep__5885      Boston_Sep           B  \n",
       "4  Birmingham__Mar  Birmingham____Mar__10000  Birmingham_Mar           A  "
      ]
     },
     "execution_count": 35,
     "metadata": {},
     "output_type": "execute_result"
    }
   ],
   "source": [
    "\n",
    "# Create a new column from your sales column where\n",
    "\n",
    "# [sales < 5000 ] ------> belongs to category C\n",
    "\n",
    "# sales value in [5000 - 10000] -------> belongs to category B\n",
    "\n",
    "# [sales value >100000] -------> belings to category A\n",
    "\n",
    "\n",
    "df2['sales_categ'] = df2.sales.apply(lambda x: 'A' if x>=10000 else 'B' if 5000<=x<10000 else 'C')\n",
    "df2.head()"
   ]
  },
  {
   "cell_type": "code",
   "execution_count": 114,
   "metadata": {},
   "outputs": [
    {
     "data": {
      "text/plain": [
       "Index(['State', 'Sales_Month', 'sales', 'new', 'month_new', 'updated',\n",
       "       'month_sales', 'decoded', 'decoded_2'],\n",
       "      dtype='object')"
      ]
     },
     "execution_count": 114,
     "metadata": {},
     "output_type": "execute_result"
    }
   ],
   "source": [
    "df2.columns"
   ]
  },
  {
   "cell_type": "code",
   "execution_count": 112,
   "metadata": {},
   "outputs": [
    {
     "data": {
      "text/plain": [
       "'UNIQUE'"
      ]
     },
     "metadata": {},
     "output_type": "display_data"
    },
    {
     "data": {
      "text/plain": [
       "array(['C', 'B', 'A'], dtype=object)"
      ]
     },
     "metadata": {},
     "output_type": "display_data"
    },
    {
     "data": {
      "text/plain": [
       "'NUNIQUE'"
      ]
     },
     "metadata": {},
     "output_type": "display_data"
    },
    {
     "data": {
      "text/plain": [
       "3"
      ]
     },
     "metadata": {},
     "output_type": "display_data"
    },
    {
     "data": {
      "text/plain": [
       "A    18\n",
       "B     1\n",
       "C     1\n",
       "Name: decoded, dtype: int64"
      ]
     },
     "metadata": {},
     "output_type": "display_data"
    }
   ],
   "source": [
    "display('UNIQUE',df2.decoded.unique(), \n",
    "        'NUNIQUE',df2.decoded.nunique(), \n",
    "        df2.decoded.value_counts())"
   ]
  },
  {
   "cell_type": "code",
   "execution_count": 121,
   "metadata": {},
   "outputs": [
    {
     "data": {
      "text/plain": [
       "Jan     15.0\n",
       "Mar     15.0\n",
       "Apr     15.0\n",
       "Sep     10.0\n",
       "Feb     10.0\n",
       "Oct     10.0\n",
       "Nov      5.0\n",
       "Aug      5.0\n",
       "Dec      5.0\n",
       "June     5.0\n",
       "Jul      5.0\n",
       "Name: Sales_Month, dtype: float64"
      ]
     },
     "execution_count": 121,
     "metadata": {},
     "output_type": "execute_result"
    }
   ],
   "source": [
    "df2.Sales_Month.value_counts(normalize =True)*100"
   ]
  },
  {
   "cell_type": "code",
   "execution_count": 122,
   "metadata": {},
   "outputs": [
    {
     "data": {
      "text/plain": [
       "State          20\n",
       "Sales_Month    11\n",
       "sales          17\n",
       "new            10\n",
       "month_new      16\n",
       "updated        17\n",
       "month_sales    17\n",
       "decoded         3\n",
       "decoded_2       3\n",
       "dtype: int64"
      ]
     },
     "execution_count": 122,
     "metadata": {},
     "output_type": "execute_result"
    }
   ],
   "source": [
    "df2.nunique()"
   ]
  },
  {
   "cell_type": "code",
   "execution_count": 78,
   "metadata": {
    "scrolled": false
   },
   "outputs": [
    {
     "data": {
      "text/plain": [
       "{'location': 20,\n",
       " 'month': 11,\n",
       " 'sales': 17,\n",
       " 'loc_2': 20,\n",
       " 'month_2': 11,\n",
       " 'locn_month_1': 20,\n",
       " 'l_m': 20,\n",
       " 'new': 20,\n",
       " 'l_m1': 20,\n",
       " 'sales_categ': 3}"
      ]
     },
     "metadata": {},
     "output_type": "display_data"
    },
    {
     "data": {
      "text/plain": [
       "[20, 11, 17, 20, 11, 20, 20, 20, 20, 3]"
      ]
     },
     "metadata": {},
     "output_type": "display_data"
    }
   ],
   "source": [
    "df2.columns\n",
    "\n",
    "# number of unique categories from each columns\n",
    "\n",
    "display({i : df2[i].nunique() for i in df2.columns},\n",
    "        \n",
    "        [i for i in df2.nunique()])"
   ]
  },
  {
   "cell_type": "code",
   "execution_count": null,
   "metadata": {},
   "outputs": [],
   "source": []
  },
  {
   "cell_type": "code",
   "execution_count": 74,
   "metadata": {},
   "outputs": [
    {
     "data": {
      "text/plain": [
       "['location',\n",
       " 'month',\n",
       " 'sales',\n",
       " 'loc_2',\n",
       " 'month_2',\n",
       " 'locn_month_1',\n",
       " 'l_m',\n",
       " 'new',\n",
       " 'l_m1',\n",
       " 'sales_categ']"
      ]
     },
     "execution_count": 74,
     "metadata": {},
     "output_type": "execute_result"
    }
   ],
   "source": [
    "[x for x in df2.columns]"
   ]
  },
  {
   "cell_type": "code",
   "execution_count": 47,
   "metadata": {},
   "outputs": [
    {
     "data": {
      "text/plain": [
       "A    0.5\n",
       "C    0.3\n",
       "B    0.2\n",
       "Name: sales_categ, dtype: float64"
      ]
     },
     "execution_count": 47,
     "metadata": {},
     "output_type": "execute_result"
    }
   ],
   "source": [
    "df2.sales_categ.value_counts(normalize = True) # Bring to scale of 100 , 2 decimal places - 50.00, 30.00,20.00"
   ]
  },
  {
   "cell_type": "code",
   "execution_count": null,
   "metadata": {},
   "outputs": [],
   "source": [
    "df2['sales'].apply(lambda x : 'A' if x >10000 else 'B' if 5000<x<10000 else 'C')"
   ]
  },
  {
   "cell_type": "code",
   "execution_count": null,
   "metadata": {},
   "outputs": [],
   "source": []
  },
  {
   "cell_type": "code",
   "execution_count": null,
   "metadata": {},
   "outputs": [],
   "source": []
  },
  {
   "cell_type": "code",
   "execution_count": 137,
   "metadata": {},
   "outputs": [
    {
     "data": {
      "text/html": [
       "<div>\n",
       "<style scoped>\n",
       "    .dataframe tbody tr th:only-of-type {\n",
       "        vertical-align: middle;\n",
       "    }\n",
       "\n",
       "    .dataframe tbody tr th {\n",
       "        vertical-align: top;\n",
       "    }\n",
       "\n",
       "    .dataframe thead th {\n",
       "        text-align: right;\n",
       "    }\n",
       "</style>\n",
       "<table border=\"1\" class=\"dataframe\">\n",
       "  <thead>\n",
       "    <tr style=\"text-align: right;\">\n",
       "      <th></th>\n",
       "      <th>location</th>\n",
       "      <th>month</th>\n",
       "      <th>sales</th>\n",
       "      <th>sales_2</th>\n",
       "      <th>sales_categ</th>\n",
       "    </tr>\n",
       "  </thead>\n",
       "  <tbody>\n",
       "    <tr>\n",
       "      <th>2</th>\n",
       "      <td>Atlanta</td>\n",
       "      <td>Jan</td>\n",
       "      <td>8161</td>\n",
       "      <td>680.083333</td>\n",
       "      <td>B</td>\n",
       "    </tr>\n",
       "    <tr>\n",
       "      <th>3</th>\n",
       "      <td>Boston</td>\n",
       "      <td>Sep</td>\n",
       "      <td>5885</td>\n",
       "      <td>490.416667</td>\n",
       "      <td>B</td>\n",
       "    </tr>\n",
       "    <tr>\n",
       "      <th>6</th>\n",
       "      <td>Marion</td>\n",
       "      <td>Dec</td>\n",
       "      <td>9238</td>\n",
       "      <td>769.833333</td>\n",
       "      <td>B</td>\n",
       "    </tr>\n",
       "    <tr>\n",
       "      <th>17</th>\n",
       "      <td>Florida</td>\n",
       "      <td>Jan</td>\n",
       "      <td>8161</td>\n",
       "      <td>680.083333</td>\n",
       "      <td>B</td>\n",
       "    </tr>\n",
       "  </tbody>\n",
       "</table>\n",
       "</div>"
      ],
      "text/plain": [
       "   location month  sales     sales_2 sales_categ\n",
       "2   Atlanta   Jan   8161  680.083333           B\n",
       "3    Boston   Sep   5885  490.416667           B\n",
       "6   Marion    Dec   9238  769.833333           B\n",
       "17  Florida   Jan   8161  680.083333           B"
      ]
     },
     "execution_count": 137,
     "metadata": {},
     "output_type": "execute_result"
    }
   ],
   "source": [
    "df2 [ (df2.sales>5000) & (df2.sales<10000)]"
   ]
  },
  {
   "cell_type": "code",
   "execution_count": null,
   "metadata": {},
   "outputs": [],
   "source": []
  },
  {
   "cell_type": "code",
   "execution_count": 6,
   "metadata": {},
   "outputs": [
    {
     "data": {
      "text/html": [
       "<div>\n",
       "<style scoped>\n",
       "    .dataframe tbody tr th:only-of-type {\n",
       "        vertical-align: middle;\n",
       "    }\n",
       "\n",
       "    .dataframe tbody tr th {\n",
       "        vertical-align: top;\n",
       "    }\n",
       "\n",
       "    .dataframe thead th {\n",
       "        text-align: right;\n",
       "    }\n",
       "</style>\n",
       "<table border=\"1\" class=\"dataframe\">\n",
       "  <thead>\n",
       "    <tr style=\"text-align: right;\">\n",
       "      <th></th>\n",
       "      <th>Sales_Month</th>\n",
       "      <th>sales</th>\n",
       "    </tr>\n",
       "    <tr>\n",
       "      <th>State</th>\n",
       "      <th></th>\n",
       "      <th></th>\n",
       "    </tr>\n",
       "  </thead>\n",
       "  <tbody>\n",
       "    <tr>\n",
       "      <th>New York</th>\n",
       "      <td>Mar</td>\n",
       "      <td>12714</td>\n",
       "    </tr>\n",
       "    <tr>\n",
       "      <th>Michigan</th>\n",
       "      <td>Apr</td>\n",
       "      <td>89238</td>\n",
       "    </tr>\n",
       "    <tr>\n",
       "      <th>Atlanta</th>\n",
       "      <td>Jan</td>\n",
       "      <td>8161</td>\n",
       "    </tr>\n",
       "    <tr>\n",
       "      <th>Boston</th>\n",
       "      <td>Sep</td>\n",
       "      <td>5885</td>\n",
       "    </tr>\n",
       "    <tr>\n",
       "      <th>Birmingham</th>\n",
       "      <td>Mar</td>\n",
       "      <td>10000</td>\n",
       "    </tr>\n",
       "    <tr>\n",
       "      <th>Clanton</th>\n",
       "      <td>Feb</td>\n",
       "      <td>1714</td>\n",
       "    </tr>\n",
       "    <tr>\n",
       "      <th>Marion</th>\n",
       "      <td>Dec</td>\n",
       "      <td>9238</td>\n",
       "    </tr>\n",
       "    <tr>\n",
       "      <th>Atlantis</th>\n",
       "      <td>Nov</td>\n",
       "      <td>58161</td>\n",
       "    </tr>\n",
       "    <tr>\n",
       "      <th>Alaska</th>\n",
       "      <td>Feb</td>\n",
       "      <td>585</td>\n",
       "    </tr>\n",
       "    <tr>\n",
       "      <th>Arozona</th>\n",
       "      <td>Mar</td>\n",
       "      <td>10000</td>\n",
       "    </tr>\n",
       "    <tr>\n",
       "      <th>Pacfic</th>\n",
       "      <td>Aug</td>\n",
       "      <td>2714</td>\n",
       "    </tr>\n",
       "    <tr>\n",
       "      <th>Ontario</th>\n",
       "      <td>June</td>\n",
       "      <td>189238</td>\n",
       "    </tr>\n",
       "    <tr>\n",
       "      <th>Toronto</th>\n",
       "      <td>Jan</td>\n",
       "      <td>81651</td>\n",
       "    </tr>\n",
       "    <tr>\n",
       "      <th>Delhi</th>\n",
       "      <td>Oct</td>\n",
       "      <td>58855</td>\n",
       "    </tr>\n",
       "    <tr>\n",
       "      <th>London</th>\n",
       "      <td>Apr</td>\n",
       "      <td>1080</td>\n",
       "    </tr>\n",
       "    <tr>\n",
       "      <th>Texas</th>\n",
       "      <td>Sep</td>\n",
       "      <td>1714</td>\n",
       "    </tr>\n",
       "    <tr>\n",
       "      <th>Washington</th>\n",
       "      <td>Jul</td>\n",
       "      <td>2038</td>\n",
       "    </tr>\n",
       "    <tr>\n",
       "      <th>Florida</th>\n",
       "      <td>Jan</td>\n",
       "      <td>8161</td>\n",
       "    </tr>\n",
       "    <tr>\n",
       "      <th>Michigan</th>\n",
       "      <td>Oct</td>\n",
       "      <td>58185</td>\n",
       "    </tr>\n",
       "    <tr>\n",
       "      <th>New_Jersy</th>\n",
       "      <td>Apr</td>\n",
       "      <td>10015</td>\n",
       "    </tr>\n",
       "  </tbody>\n",
       "</table>\n",
       "</div>"
      ],
      "text/plain": [
       "            Sales_Month   sales\n",
       "State                          \n",
       "New York            Mar   12714\n",
       "Michigan            Apr   89238\n",
       "Atlanta             Jan    8161\n",
       "Boston              Sep    5885\n",
       "Birmingham          Mar   10000\n",
       "Clanton             Feb    1714\n",
       "Marion              Dec    9238\n",
       "Atlantis            Nov   58161\n",
       "Alaska              Feb     585\n",
       "Arozona             Mar   10000\n",
       "Pacfic              Aug    2714\n",
       "Ontario            June  189238\n",
       "Toronto             Jan   81651\n",
       "Delhi               Oct   58855\n",
       "London              Apr    1080\n",
       "Texas               Sep    1714\n",
       "Washington          Jul    2038\n",
       "Florida             Jan    8161\n",
       "Michigan            Oct   58185\n",
       "New_Jersy           Apr   10015"
      ]
     },
     "execution_count": 6,
     "metadata": {},
     "output_type": "execute_result"
    }
   ],
   "source": [
    "df3 = df2.copy()\n",
    "df3.set_index('State', inplace = True)\n",
    "df3"
   ]
  },
  {
   "cell_type": "code",
   "execution_count": 11,
   "metadata": {},
   "outputs": [
    {
     "data": {
      "text/plain": [
       "Sales_Month      Oct\n",
       "sales          58855\n",
       "Name: Delhi, dtype: object"
      ]
     },
     "execution_count": 11,
     "metadata": {},
     "output_type": "execute_result"
    }
   ],
   "source": [
    "df3.loc['Delhi']"
   ]
  },
  {
   "cell_type": "code",
   "execution_count": 23,
   "metadata": {},
   "outputs": [],
   "source": [
    "df2.head()"
   ]
  },
  {
   "cell_type": "code",
   "execution_count": 19,
   "metadata": {},
   "outputs": [
    {
     "data": {
      "text/plain": [
       "'Mar'"
      ]
     },
     "execution_count": 19,
     "metadata": {},
     "output_type": "execute_result"
    }
   ],
   "source": [
    "df2.loc[0,'Sales_Month']"
   ]
  },
  {
   "cell_type": "code",
   "execution_count": 21,
   "metadata": {},
   "outputs": [],
   "source": [
    "df3.loc[['Alaska','Clanton','Washington ']"
   ]
  },
  {
   "cell_type": "code",
   "execution_count": 22,
   "metadata": {},
   "outputs": [],
   "source": [
    "df3.loc[:,['sales','Sales_Month']]"
   ]
  },
  {
   "cell_type": "code",
   "execution_count": 140,
   "metadata": {},
   "outputs": [
    {
     "data": {
      "text/plain": [
       "State\n",
       "Alaska         Feb\n",
       "Clanton        Feb\n",
       "Washington     Jul\n",
       "Name: Sales_Month, dtype: object"
      ]
     },
     "execution_count": 140,
     "metadata": {},
     "output_type": "execute_result"
    }
   ],
   "source": [
    "df3.loc[['Alaska','Clanton','Washington '],'Sales_Month']"
   ]
  },
  {
   "cell_type": "code",
   "execution_count": 143,
   "metadata": {},
   "outputs": [
    {
     "data": {
      "text/plain": [
       "'new value'"
      ]
     },
     "execution_count": 143,
     "metadata": {},
     "output_type": "execute_result"
    }
   ],
   "source": [
    "df3.loc['Washington ','month_new']='new value'\n",
    "df3.loc['Washington ','month_new']"
   ]
  },
  {
   "cell_type": "code",
   "execution_count": 98,
   "metadata": {},
   "outputs": [
    {
     "data": {
      "text/html": [
       "<div>\n",
       "<style scoped>\n",
       "    .dataframe tbody tr th:only-of-type {\n",
       "        vertical-align: middle;\n",
       "    }\n",
       "\n",
       "    .dataframe tbody tr th {\n",
       "        vertical-align: top;\n",
       "    }\n",
       "\n",
       "    .dataframe thead th {\n",
       "        text-align: right;\n",
       "    }\n",
       "</style>\n",
       "<table border=\"1\" class=\"dataframe\">\n",
       "  <thead>\n",
       "    <tr style=\"text-align: right;\">\n",
       "      <th></th>\n",
       "      <th>location</th>\n",
       "      <th>month</th>\n",
       "      <th>sales</th>\n",
       "      <th>loc_2</th>\n",
       "      <th>month_2</th>\n",
       "      <th>locn_month_1</th>\n",
       "      <th>l_m1</th>\n",
       "      <th>l_m</th>\n",
       "      <th>month1</th>\n",
       "      <th>new</th>\n",
       "    </tr>\n",
       "  </thead>\n",
       "  <tbody>\n",
       "    <tr>\n",
       "      <th>0</th>\n",
       "      <td>New York</td>\n",
       "      <td>Mar</td>\n",
       "      <td>12714</td>\n",
       "      <td>nEW yORK</td>\n",
       "      <td>mar</td>\n",
       "      <td>New York_Mar</td>\n",
       "      <td>New York_Mar</td>\n",
       "      <td>New York__Mar</td>\n",
       "      <td>mAR</td>\n",
       "      <td>New York____Mar__12714</td>\n",
       "    </tr>\n",
       "    <tr>\n",
       "      <th>1</th>\n",
       "      <td>Michigan</td>\n",
       "      <td>Apr</td>\n",
       "      <td>89238</td>\n",
       "      <td>mICHIGAN</td>\n",
       "      <td>apr</td>\n",
       "      <td>Michigan _Apr</td>\n",
       "      <td>Michigan _Apr</td>\n",
       "      <td>Michigan __Apr</td>\n",
       "      <td>aPR</td>\n",
       "      <td>Michigan ____Apr__89238</td>\n",
       "    </tr>\n",
       "    <tr>\n",
       "      <th>2</th>\n",
       "      <td>Atlanta</td>\n",
       "      <td>Jan</td>\n",
       "      <td>8161</td>\n",
       "      <td>aTLANTA</td>\n",
       "      <td>jan</td>\n",
       "      <td>Atlanta_Jan</td>\n",
       "      <td>Atlanta_Jan</td>\n",
       "      <td>Atlanta__Jan</td>\n",
       "      <td>jAN</td>\n",
       "      <td>Atlanta____Jan__8161</td>\n",
       "    </tr>\n",
       "    <tr>\n",
       "      <th>3</th>\n",
       "      <td>Boston</td>\n",
       "      <td>Sep</td>\n",
       "      <td>5885</td>\n",
       "      <td>bOSTON</td>\n",
       "      <td>sep</td>\n",
       "      <td>Boston_Sep</td>\n",
       "      <td>Boston_Sep</td>\n",
       "      <td>Boston__Sep</td>\n",
       "      <td>sEP</td>\n",
       "      <td>Boston____Sep__5885</td>\n",
       "    </tr>\n",
       "    <tr>\n",
       "      <th>4</th>\n",
       "      <td>Birmingham</td>\n",
       "      <td>Mar</td>\n",
       "      <td>10000</td>\n",
       "      <td>bIRMINGHAM</td>\n",
       "      <td>mar</td>\n",
       "      <td>Birmingham_Mar</td>\n",
       "      <td>Birmingham_Mar</td>\n",
       "      <td>Birmingham__Mar</td>\n",
       "      <td>mAR</td>\n",
       "      <td>Birmingham____Mar__10000</td>\n",
       "    </tr>\n",
       "  </tbody>\n",
       "</table>\n",
       "</div>"
      ],
      "text/plain": [
       "     location month  sales       loc_2 month_2    locn_month_1  \\\n",
       "0    New York   Mar  12714    nEW yORK     mar    New York_Mar   \n",
       "1   Michigan    Apr  89238   mICHIGAN      apr   Michigan _Apr   \n",
       "2     Atlanta   Jan   8161     aTLANTA     jan     Atlanta_Jan   \n",
       "3      Boston   Sep   5885      bOSTON     sep      Boston_Sep   \n",
       "4  Birmingham   Mar  10000  bIRMINGHAM     mar  Birmingham_Mar   \n",
       "\n",
       "             l_m1              l_m month1                       new  \n",
       "0    New York_Mar    New York__Mar    mAR    New York____Mar__12714  \n",
       "1   Michigan _Apr   Michigan __Apr    aPR   Michigan ____Apr__89238  \n",
       "2     Atlanta_Jan     Atlanta__Jan    jAN      Atlanta____Jan__8161  \n",
       "3      Boston_Sep      Boston__Sep    sEP       Boston____Sep__5885  \n",
       "4  Birmingham_Mar  Birmingham__Mar    mAR  Birmingham____Mar__10000  "
      ]
     },
     "execution_count": 98,
     "metadata": {},
     "output_type": "execute_result"
    }
   ],
   "source": [
    "df2.loc[0:6] # by default rows only\n",
    "\n",
    "df2.loc[6, 'month']\n",
    "        \n",
    "df2.locn_month_1.loc[0:6]\n",
    "df2.head()"
   ]
  },
  {
   "cell_type": "code",
   "execution_count": 50,
   "metadata": {},
   "outputs": [],
   "source": [
    "df3 = df2.set_index('location')\n"
   ]
  },
  {
   "cell_type": "code",
   "execution_count": 97,
   "metadata": {},
   "outputs": [
    {
     "data": {
      "text/plain": [
       "8161"
      ]
     },
     "execution_count": 97,
     "metadata": {},
     "output_type": "execute_result"
    }
   ],
   "source": [
    "df3.loc['Atlanta', 'sales'] # accept names be it row name or columns name\n",
    "\n",
    "# wont accept the index values\n",
    "\n",
    "df3.sales.loc[[ 'Birmingham','New York', 'Ontario ', 'Delhi'] ]  # only given list of Index names thus will consider all columns\n",
    "\n",
    "df3.loc[[ 'Birmingham','New York', 'Ontario ', 'Delhi'], ['sales', 'loc_2','month_2'] ] # .loc[ [row names] , [column names] ] \n",
    "\n",
    "df3.loc[['Birmingham','New York', 'Ontario ', 'Delhi']] # by default -- rows taken with all columns in o/p"
   ]
  },
  {
   "cell_type": "code",
   "execution_count": 118,
   "metadata": {},
   "outputs": [
    {
     "data": {
      "text/plain": [
       "0        [New York, Mar]\n",
       "1       [Michigan , Apr]\n",
       "2         [Atlanta, Jan]\n",
       "3          [Boston, Sep]\n",
       "4      [Birmingham, Mar]\n",
       "5         [Clanton, Feb]\n",
       "6         [Marion , Dec]\n",
       "7        [Atlantis, Nov]\n",
       "8          [Alaska, Feb]\n",
       "9         [Arozona, Mar]\n",
       "10         [Pacfic, Aug]\n",
       "11      [Ontario , June]\n",
       "12        [Toronto, Jan]\n",
       "13          [Delhi, Oct]\n",
       "14         [London, Apr]\n",
       "15          [Texas, Sep]\n",
       "16    [Washington , Jul]\n",
       "17        [Florida, Jan]\n",
       "18       [Michigan, Oct]\n",
       "19      [New_Jersy, Apr]\n",
       "dtype: object"
      ]
     },
     "execution_count": 118,
     "metadata": {},
     "output_type": "execute_result"
    }
   ],
   "source": [
    "df[['location', 'month']].apply(lambda x: [x[0],x[1]], axis = 1)"
   ]
  },
  {
   "cell_type": "code",
   "execution_count": 5,
   "metadata": {},
   "outputs": [
    {
     "data": {
      "text/html": [
       "<div>\n",
       "<style scoped>\n",
       "    .dataframe tbody tr th:only-of-type {\n",
       "        vertical-align: middle;\n",
       "    }\n",
       "\n",
       "    .dataframe tbody tr th {\n",
       "        vertical-align: top;\n",
       "    }\n",
       "\n",
       "    .dataframe thead th {\n",
       "        text-align: right;\n",
       "    }\n",
       "</style>\n",
       "<table border=\"1\" class=\"dataframe\">\n",
       "  <thead>\n",
       "    <tr style=\"text-align: right;\">\n",
       "      <th></th>\n",
       "      <th>location</th>\n",
       "      <th>month</th>\n",
       "      <th>sales</th>\n",
       "    </tr>\n",
       "  </thead>\n",
       "  <tbody>\n",
       "    <tr>\n",
       "      <th>0</th>\n",
       "      <td>New York</td>\n",
       "      <td>Mar</td>\n",
       "      <td>12714</td>\n",
       "    </tr>\n",
       "    <tr>\n",
       "      <th>1</th>\n",
       "      <td>Michigan</td>\n",
       "      <td>Apr</td>\n",
       "      <td>89238</td>\n",
       "    </tr>\n",
       "    <tr>\n",
       "      <th>2</th>\n",
       "      <td>Atlanta</td>\n",
       "      <td>Jan</td>\n",
       "      <td>8161</td>\n",
       "    </tr>\n",
       "    <tr>\n",
       "      <th>3</th>\n",
       "      <td>Boston</td>\n",
       "      <td>Sep</td>\n",
       "      <td>5885</td>\n",
       "    </tr>\n",
       "    <tr>\n",
       "      <th>4</th>\n",
       "      <td>Birmingham</td>\n",
       "      <td>Mar</td>\n",
       "      <td>10000</td>\n",
       "    </tr>\n",
       "  </tbody>\n",
       "</table>\n",
       "</div>"
      ],
      "text/plain": [
       "     location month  sales\n",
       "0    New York   Mar  12714\n",
       "1   Michigan    Apr  89238\n",
       "2     Atlanta   Jan   8161\n",
       "3      Boston   Sep   5885\n",
       "4  Birmingham   Mar  10000"
      ]
     },
     "execution_count": 5,
     "metadata": {},
     "output_type": "execute_result"
    }
   ],
   "source": [
    "df2.head()"
   ]
  },
  {
   "cell_type": "code",
   "execution_count": 6,
   "metadata": {},
   "outputs": [
    {
     "data": {
      "text/plain": [
       "10000"
      ]
     },
     "execution_count": 6,
     "metadata": {},
     "output_type": "execute_result"
    }
   ],
   "source": [
    "df2.loc[4,'sales']\n",
    "\n",
    "df2.sales.loc[4]"
   ]
  },
  {
   "cell_type": "code",
   "execution_count": 18,
   "metadata": {},
   "outputs": [
    {
     "data": {
      "text/plain": [
       "sales    10000\n",
       "month      Mar\n",
       "Name: 4, dtype: object"
      ]
     },
     "execution_count": 18,
     "metadata": {},
     "output_type": "execute_result"
    }
   ],
   "source": [
    "df2[['sales','month']].loc[4]\n",
    "\n",
    "df2.loc[4,['sales','month']]\n",
    "\n",
    "df2.loc[   [4,3,10] ,   ['sales','month']    ]\n",
    "\n",
    "df2.loc[ 2:9 , 'month']\n",
    "\n",
    "df2.loc[ 2:9 , ['month','location']]\n",
    "\n",
    "df2.loc[ 2:9 , 'sales':'l_m1' ].head()\n",
    "\n",
    "df3.loc['Michigan ':'Boston' , 'l_m1']\n",
    "\n",
    "df3.loc[:, 'month'].head()"
   ]
  },
  {
   "cell_type": "code",
   "execution_count": 100,
   "metadata": {},
   "outputs": [
    {
     "data": {
      "text/html": [
       "<div>\n",
       "<style scoped>\n",
       "    .dataframe tbody tr th:only-of-type {\n",
       "        vertical-align: middle;\n",
       "    }\n",
       "\n",
       "    .dataframe tbody tr th {\n",
       "        vertical-align: top;\n",
       "    }\n",
       "\n",
       "    .dataframe thead th {\n",
       "        text-align: right;\n",
       "    }\n",
       "</style>\n",
       "<table border=\"1\" class=\"dataframe\">\n",
       "  <thead>\n",
       "    <tr style=\"text-align: right;\">\n",
       "      <th></th>\n",
       "      <th>location</th>\n",
       "      <th>month</th>\n",
       "      <th>sales</th>\n",
       "    </tr>\n",
       "  </thead>\n",
       "  <tbody>\n",
       "    <tr>\n",
       "      <th>0</th>\n",
       "      <td>New York</td>\n",
       "      <td>Mar</td>\n",
       "      <td>12714</td>\n",
       "    </tr>\n",
       "    <tr>\n",
       "      <th>1</th>\n",
       "      <td>Michigan</td>\n",
       "      <td>Apr</td>\n",
       "      <td>89238</td>\n",
       "    </tr>\n",
       "    <tr>\n",
       "      <th>2</th>\n",
       "      <td>Atlanta</td>\n",
       "      <td>Jan</td>\n",
       "      <td>8161</td>\n",
       "    </tr>\n",
       "    <tr>\n",
       "      <th>3</th>\n",
       "      <td>Boston</td>\n",
       "      <td>Sep</td>\n",
       "      <td>5885</td>\n",
       "    </tr>\n",
       "    <tr>\n",
       "      <th>4</th>\n",
       "      <td>Birmingham</td>\n",
       "      <td>Mar</td>\n",
       "      <td>10000</td>\n",
       "    </tr>\n",
       "  </tbody>\n",
       "</table>\n",
       "</div>"
      ],
      "text/plain": [
       "     location month  sales\n",
       "0    New York   Mar  12714\n",
       "1   Michigan    Apr  89238\n",
       "2     Atlanta   Jan   8161\n",
       "3      Boston   Sep   5885\n",
       "4  Birmingham   Mar  10000"
      ]
     },
     "execution_count": 100,
     "metadata": {},
     "output_type": "execute_result"
    }
   ],
   "source": [
    "df2.head()"
   ]
  },
  {
   "cell_type": "code",
   "execution_count": 78,
   "metadata": {},
   "outputs": [
    {
     "data": {
      "text/html": [
       "<div>\n",
       "<style scoped>\n",
       "    .dataframe tbody tr th:only-of-type {\n",
       "        vertical-align: middle;\n",
       "    }\n",
       "\n",
       "    .dataframe tbody tr th {\n",
       "        vertical-align: top;\n",
       "    }\n",
       "\n",
       "    .dataframe thead th {\n",
       "        text-align: right;\n",
       "    }\n",
       "</style>\n",
       "<table border=\"1\" class=\"dataframe\">\n",
       "  <thead>\n",
       "    <tr style=\"text-align: right;\">\n",
       "      <th></th>\n",
       "      <th>State</th>\n",
       "      <th>Sales_Month</th>\n",
       "      <th>sales</th>\n",
       "    </tr>\n",
       "  </thead>\n",
       "  <tbody>\n",
       "    <tr>\n",
       "      <th>0</th>\n",
       "      <td>New York</td>\n",
       "      <td>Mar</td>\n",
       "      <td>12714</td>\n",
       "    </tr>\n",
       "    <tr>\n",
       "      <th>1</th>\n",
       "      <td>Michigan</td>\n",
       "      <td>Apr</td>\n",
       "      <td>89238</td>\n",
       "    </tr>\n",
       "    <tr>\n",
       "      <th>2</th>\n",
       "      <td>Atlanta</td>\n",
       "      <td>Jan</td>\n",
       "      <td>8161</td>\n",
       "    </tr>\n",
       "    <tr>\n",
       "      <th>3</th>\n",
       "      <td>Boston</td>\n",
       "      <td>Sep</td>\n",
       "      <td>5885</td>\n",
       "    </tr>\n",
       "    <tr>\n",
       "      <th>4</th>\n",
       "      <td>Birmingham</td>\n",
       "      <td>Mar</td>\n",
       "      <td>10000</td>\n",
       "    </tr>\n",
       "  </tbody>\n",
       "</table>\n",
       "</div>"
      ],
      "text/plain": [
       "        State Sales_Month  sales\n",
       "0    New York         Mar  12714\n",
       "1   Michigan          Apr  89238\n",
       "2     Atlanta         Jan   8161\n",
       "3      Boston         Sep   5885\n",
       "4  Birmingham         Mar  10000"
      ]
     },
     "execution_count": 78,
     "metadata": {},
     "output_type": "execute_result"
    }
   ],
   "source": [
    "df2.head()"
   ]
  },
  {
   "cell_type": "code",
   "execution_count": 81,
   "metadata": {},
   "outputs": [
    {
     "data": {
      "text/html": [
       "<div>\n",
       "<style scoped>\n",
       "    .dataframe tbody tr th:only-of-type {\n",
       "        vertical-align: middle;\n",
       "    }\n",
       "\n",
       "    .dataframe tbody tr th {\n",
       "        vertical-align: top;\n",
       "    }\n",
       "\n",
       "    .dataframe thead th {\n",
       "        text-align: right;\n",
       "    }\n",
       "</style>\n",
       "<table border=\"1\" class=\"dataframe\">\n",
       "  <thead>\n",
       "    <tr style=\"text-align: right;\">\n",
       "      <th></th>\n",
       "      <th>State</th>\n",
       "    </tr>\n",
       "  </thead>\n",
       "  <tbody>\n",
       "    <tr>\n",
       "      <th>0</th>\n",
       "      <td>New York</td>\n",
       "    </tr>\n",
       "    <tr>\n",
       "      <th>3</th>\n",
       "      <td>Boston</td>\n",
       "    </tr>\n",
       "    <tr>\n",
       "      <th>4</th>\n",
       "      <td>Birmingham</td>\n",
       "    </tr>\n",
       "  </tbody>\n",
       "</table>\n",
       "</div>"
      ],
      "text/plain": [
       "        State\n",
       "0    New York\n",
       "3      Boston\n",
       "4  Birmingham"
      ]
     },
     "execution_count": 81,
     "metadata": {},
     "output_type": "execute_result"
    }
   ],
   "source": [
    "df2.iloc[[0,3,4],0:1]"
   ]
  },
  {
   "cell_type": "code",
   "execution_count": 155,
   "metadata": {},
   "outputs": [
    {
     "data": {
      "text/html": [
       "<div>\n",
       "<style scoped>\n",
       "    .dataframe tbody tr th:only-of-type {\n",
       "        vertical-align: middle;\n",
       "    }\n",
       "\n",
       "    .dataframe tbody tr th {\n",
       "        vertical-align: top;\n",
       "    }\n",
       "\n",
       "    .dataframe thead th {\n",
       "        text-align: right;\n",
       "    }\n",
       "</style>\n",
       "<table border=\"1\" class=\"dataframe\">\n",
       "  <thead>\n",
       "    <tr style=\"text-align: right;\">\n",
       "      <th></th>\n",
       "      <th>State</th>\n",
       "    </tr>\n",
       "  </thead>\n",
       "  <tbody>\n",
       "    <tr>\n",
       "      <th>2</th>\n",
       "      <td>Texas</td>\n",
       "    </tr>\n",
       "    <tr>\n",
       "      <th>3</th>\n",
       "      <td>Clanton</td>\n",
       "    </tr>\n",
       "    <tr>\n",
       "      <th>4</th>\n",
       "      <td>Washington</td>\n",
       "    </tr>\n",
       "    <tr>\n",
       "      <th>5</th>\n",
       "      <td>Pacfic</td>\n",
       "    </tr>\n",
       "    <tr>\n",
       "      <th>6</th>\n",
       "      <td>Boston</td>\n",
       "    </tr>\n",
       "    <tr>\n",
       "      <th>7</th>\n",
       "      <td>Florida</td>\n",
       "    </tr>\n",
       "    <tr>\n",
       "      <th>8</th>\n",
       "      <td>Atlanta</td>\n",
       "    </tr>\n",
       "  </tbody>\n",
       "</table>\n",
       "</div>"
      ],
      "text/plain": [
       "         State\n",
       "2        Texas\n",
       "3      Clanton\n",
       "4  Washington \n",
       "5       Pacfic\n",
       "6       Boston\n",
       "7      Florida\n",
       "8      Atlanta"
      ]
     },
     "execution_count": 155,
     "metadata": {},
     "output_type": "execute_result"
    }
   ],
   "source": [
    "# Loc - upperbound INcluded\n",
    "\n",
    "# ILOC - same as regular python\n",
    "\n",
    "df2.iloc[0:7 ,  3:5]\n",
    "\n",
    "df3.iloc[3, :]\n",
    "\n",
    "df3.iloc[3:9 , 0:2]\n",
    "\n",
    "df2.iloc[2:9, 0:1]\n",
    "\n",
    "df2.iloc[[2,6,8,9],[0,4,2]]"
   ]
  },
  {
   "cell_type": "code",
   "execution_count": 66,
   "metadata": {},
   "outputs": [
    {
     "data": {
      "text/plain": [
       "0"
      ]
     },
     "execution_count": 66,
     "metadata": {},
     "output_type": "execute_result"
    }
   ],
   "source": [
    "df2.Sales_Month.unique()\n",
    "\n",
    "df2.Sales_Month.nunique()\n",
    "\n",
    "df2.Sales_Month.duplicated().sum()\n",
    "\n",
    "df2.duplicated().sum() # \n",
    "\n",
    "df2[df2.Sales_Month.duplicated()]"
   ]
  },
  {
   "cell_type": "code",
   "execution_count": 70,
   "metadata": {},
   "outputs": [
    {
     "data": {
      "text/plain": [
       "Apr     0.15\n",
       "Mar     0.15\n",
       "Jan     0.15\n",
       "Feb     0.10\n",
       "Oct     0.10\n",
       "Sep     0.10\n",
       "June    0.05\n",
       "Jul     0.05\n",
       "Aug     0.05\n",
       "Nov     0.05\n",
       "Dec     0.05\n",
       "Name: Sales_Month, dtype: float64"
      ]
     },
     "execution_count": 70,
     "metadata": {},
     "output_type": "execute_result"
    }
   ],
   "source": [
    "df2.Sales_Month.value_counts(normalize = True)"
   ]
  },
  {
   "cell_type": "code",
   "execution_count": 133,
   "metadata": {},
   "outputs": [
    {
     "data": {
      "text/plain": [
       "619347"
      ]
     },
     "execution_count": 133,
     "metadata": {},
     "output_type": "execute_result"
    }
   ],
   "source": [
    "df2.sales.sum()\n",
    "\n",
    "df2.sales.std()\n",
    "\n",
    "df2.sales.median()\n",
    "\n",
    "df2.sales.min()"
   ]
  },
  {
   "cell_type": "code",
   "execution_count": 123,
   "metadata": {},
   "outputs": [
    {
     "data": {
      "text/plain": [
       "array(['New York', 'Michigan ', 'Atlanta', 'Boston', 'Birmingham',\n",
       "       'Clanton', 'Marion ', 'Atlantis', 'Alaska', 'Arozona', 'Pacfic',\n",
       "       'Ontario ', 'Toronto', 'Delhi', 'London', 'Texas', 'Washington ',\n",
       "       'Florida', 'Michigan', 'New_Jersy'], dtype=object)"
      ]
     },
     "execution_count": 123,
     "metadata": {},
     "output_type": "execute_result"
    }
   ],
   "source": [
    "df2.location.unique()\n",
    "\n",
    "df2.month.unique()\n",
    "\n",
    "df2.sales.unique()"
   ]
  },
  {
   "cell_type": "code",
   "execution_count": 145,
   "metadata": {},
   "outputs": [
    {
     "data": {
      "text/plain": [
       "[array(['New York', 'Michigan ', 'Atlanta', 'Boston', 'Birmingham',\n",
       "        'Clanton', 'Marion ', 'Atlantis', 'Alaska', 'Arozona', 'Pacfic',\n",
       "        'Ontario ', 'Toronto', 'Delhi', 'London', 'Texas', 'Washington ',\n",
       "        'Florida', 'Michigan', 'New_Jersy'], dtype=object),\n",
       " array(['Mar', 'Apr', 'Jan', 'Sep', 'Feb', 'Dec', 'Nov', 'Aug', 'June',\n",
       "        'Oct', 'Jul'], dtype=object),\n",
       " array([ 12714,  89238,   8161,   5885,  10000,   1714,   9238,  58161,\n",
       "           585,   2714, 189238,  81651,  58855,   1080,   2038,  58185,\n",
       "         10015])]"
      ]
     },
     "execution_count": 145,
     "metadata": {},
     "output_type": "execute_result"
    }
   ],
   "source": [
    "[df2[i].unique() for i in df2.columns]"
   ]
  },
  {
   "cell_type": "code",
   "execution_count": 124,
   "metadata": {},
   "outputs": [
    {
     "data": {
      "text/plain": [
       "20"
      ]
     },
     "execution_count": 124,
     "metadata": {},
     "output_type": "execute_result"
    }
   ],
   "source": [
    "df2.location.nunique()"
   ]
  },
  {
   "cell_type": "code",
   "execution_count": 161,
   "metadata": {},
   "outputs": [
    {
     "data": {
      "text/plain": [
       "[20, 11, 17]"
      ]
     },
     "execution_count": 161,
     "metadata": {},
     "output_type": "execute_result"
    }
   ],
   "source": [
    "[ df2[i].nunique() for i in df2.columns]"
   ]
  },
  {
   "cell_type": "code",
   "execution_count": 165,
   "metadata": {},
   "outputs": [
    {
     "data": {
      "text/plain": [
       "Index(['location', 'month', 'sales'], dtype='object')"
      ]
     },
     "execution_count": 165,
     "metadata": {},
     "output_type": "execute_result"
    }
   ],
   "source": [
    "df2.iloc[:,:]"
   ]
  },
  {
   "cell_type": "code",
   "execution_count": 166,
   "metadata": {},
   "outputs": [
    {
     "name": "stdout",
     "output_type": "stream",
     "text": [
      "location\n",
      "month\n",
      "sales\n"
     ]
    }
   ],
   "source": [
    "for i in df2:\n",
    "    print(i)"
   ]
  },
  {
   "cell_type": "code",
   "execution_count": null,
   "metadata": {},
   "outputs": [],
   "source": []
  }
 ],
 "metadata": {
  "kernelspec": {
   "display_name": "Python 3",
   "language": "python",
   "name": "python3"
  },
  "language_info": {
   "codemirror_mode": {
    "name": "ipython",
    "version": 3
   },
   "file_extension": ".py",
   "mimetype": "text/x-python",
   "name": "python",
   "nbconvert_exporter": "python",
   "pygments_lexer": "ipython3",
   "version": "3.7.3"
  }
 },
 "nbformat": 4,
 "nbformat_minor": 4
}
